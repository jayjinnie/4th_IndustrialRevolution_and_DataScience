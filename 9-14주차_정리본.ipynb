{
 "cells": [
  {
   "cell_type": "markdown",
   "metadata": {},
   "source": [
    "# 이론 여덟번째: 딕셔너리"
   ]
  },
  {
   "cell_type": "code",
   "execution_count": 1,
   "metadata": {},
   "outputs": [
    {
     "data": {
      "text/plain": [
       "['정은진', 'eunjin', 'lucia']"
      ]
     },
     "execution_count": 1,
     "metadata": {},
     "output_type": "execute_result"
    }
   ],
   "source": [
    "# 딕셔너리\n",
    "dict_a = {\"name\" : [\"정은진\", \"eunjin\", \"lucia\"],\n",
    "         \"color\" : [\"pink\", \"mint\", \"violet\"] }\n",
    "dict_a [\"name\"]"
   ]
  },
  {
   "cell_type": "code",
   "execution_count": 2,
   "metadata": {},
   "outputs": [
    {
     "name": "stdout",
     "output_type": "stream",
     "text": [
      "name: jayjinnie\n"
     ]
    }
   ],
   "source": [
    "dict_a[\"name\"] = \"jayjinnie\"\n",
    "print(\"name:\", dict_a[\"name\"])"
   ]
  },
  {
   "cell_type": "code",
   "execution_count": 3,
   "metadata": {},
   "outputs": [
    {
     "data": {
      "text/plain": [
       "'pink'"
      ]
     },
     "execution_count": 3,
     "metadata": {},
     "output_type": "execute_result"
    }
   ],
   "source": [
    "dict_a[\"color\"][0]"
   ]
  },
  {
   "cell_type": "code",
   "execution_count": 4,
   "metadata": {},
   "outputs": [
    {
     "data": {
      "text/plain": [
       "{'name': 'jayjinnie', 'color': ['pink', 'mint', 'violet'], 'age': 21}"
      ]
     },
     "execution_count": 4,
     "metadata": {},
     "output_type": "execute_result"
    }
   ],
   "source": [
    "dict_a[\"age\"] = 21\n",
    "dict_a"
   ]
  },
  {
   "cell_type": "code",
   "execution_count": 5,
   "metadata": {},
   "outputs": [
    {
     "data": {
      "text/plain": [
       "{'name': 'jayjinnie', 'color': ['pink', 'mint', 'violet']}"
      ]
     },
     "execution_count": 5,
     "metadata": {},
     "output_type": "execute_result"
    }
   ],
   "source": [
    "del dict_a[\"age\"]\n",
    "dict_a"
   ]
  },
  {
   "cell_type": "code",
   "execution_count": 6,
   "metadata": {},
   "outputs": [
    {
     "data": {
      "text/plain": [
       "[0, 2, 3, 4, 5]"
      ]
     },
     "execution_count": 6,
     "metadata": {},
     "output_type": "execute_result"
    }
   ],
   "source": [
    "list_a = [0,1,2,3,4,5]\n",
    "del list_a[1]\n",
    "list_a"
   ]
  },
  {
   "cell_type": "code",
   "execution_count": 7,
   "metadata": {},
   "outputs": [
    {
     "data": {
      "text/plain": [
       "[0, 2, 4, 5]"
      ]
     },
     "execution_count": 7,
     "metadata": {},
     "output_type": "execute_result"
    }
   ],
   "source": [
    "list_a.pop(2)\n",
    "list_a"
   ]
  },
  {
   "cell_type": "code",
   "execution_count": 8,
   "metadata": {},
   "outputs": [
    {
     "data": {
      "text/plain": [
       "True"
      ]
     },
     "execution_count": 8,
     "metadata": {},
     "output_type": "execute_result"
    }
   ],
   "source": [
    "0 in list_a "
   ]
  },
  {
   "cell_type": "code",
   "execution_count": 9,
   "metadata": {
    "scrolled": true
   },
   "outputs": [
    {
     "data": {
      "text/plain": [
       "False"
      ]
     },
     "execution_count": 9,
     "metadata": {},
     "output_type": "execute_result"
    }
   ],
   "source": [
    "3 in list_a"
   ]
  },
  {
   "cell_type": "code",
   "execution_count": 10,
   "metadata": {},
   "outputs": [
    {
     "name": "stdout",
     "output_type": "stream",
     "text": [
      "name : jayjinnie\n",
      "color : ['pink', 'mint', 'violet']\n"
     ]
    }
   ],
   "source": [
    "for key in dict_a:\n",
    "    print(key, \":\", dict_a[key])"
   ]
  },
  {
   "cell_type": "code",
   "execution_count": null,
   "metadata": {},
   "outputs": [],
   "source": [
    "key = input(\"접근하고자 하는 키>\")\n",
    "if key in dict_a:\n",
    "    print(dict_a[key])\n",
    "else:\n",
    "    print(\"존재하지 않는 키입니다.\")"
   ]
  },
  {
   "cell_type": "code",
   "execution_count": null,
   "metadata": {},
   "outputs": [],
   "source": [
    "value = dict_a.get(\"team\")\n",
    "value"
   ]
  },
  {
   "cell_type": "code",
   "execution_count": null,
   "metadata": {},
   "outputs": [],
   "source": [
    "# 역반복문\n",
    "for i in range(4,-1,-1):\n",
    "    print(\"현재 반복 변수: {}\".format(i))"
   ]
  },
  {
   "cell_type": "code",
   "execution_count": null,
   "metadata": {},
   "outputs": [],
   "source": [
    "for i in reversed(range(5)):\n",
    "    print(\"현재 반복 변수: {}\".format(i))"
   ]
  },
  {
   "cell_type": "markdown",
   "metadata": {},
   "source": [
    "# 이론 아홉번째: math 모듈"
   ]
  },
  {
   "cell_type": "code",
   "execution_count": null,
   "metadata": {},
   "outputs": [],
   "source": [
    "# math 모듈\n",
    "import math\n",
    "from math import sin, cos, tan, floor, ceil\n",
    "\n",
    "math.sin(1)"
   ]
  },
  {
   "cell_type": "code",
   "execution_count": null,
   "metadata": {},
   "outputs": [],
   "source": [
    "math.cos(1)"
   ]
  },
  {
   "cell_type": "code",
   "execution_count": null,
   "metadata": {},
   "outputs": [],
   "source": [
    "math.tan(1)"
   ]
  },
  {
   "cell_type": "code",
   "execution_count": null,
   "metadata": {},
   "outputs": [],
   "source": [
    "math.floor(2.5) # 내림"
   ]
  },
  {
   "cell_type": "code",
   "execution_count": null,
   "metadata": {},
   "outputs": [],
   "source": [
    "math.ceil(2.5) # 올림"
   ]
  },
  {
   "cell_type": "code",
   "execution_count": null,
   "metadata": {},
   "outputs": [],
   "source": [
    "# random 모듈\n",
    "import random \n",
    "print(random.random()) # 0.0<=x<=1.0 사이의 float 반환"
   ]
  },
  {
   "cell_type": "code",
   "execution_count": null,
   "metadata": {},
   "outputs": [],
   "source": [
    "print(random.uniform(10,20)) # 지정 범위 내의 float 반환"
   ]
  },
  {
   "cell_type": "code",
   "execution_count": null,
   "metadata": {
    "scrolled": true
   },
   "outputs": [],
   "source": [
    "print(random.randrange(10,20)) # 지정 범위 내의 int 반환"
   ]
  },
  {
   "cell_type": "code",
   "execution_count": null,
   "metadata": {},
   "outputs": [],
   "source": [
    "print(random.choice([1,2,3,4,5])) # 리스트 요소를 랜덤 선택"
   ]
  },
  {
   "cell_type": "markdown",
   "metadata": {},
   "source": [
    "# 이론 열번째: lambda 함수와 map 함수"
   ]
  },
  {
   "cell_type": "code",
   "execution_count": 39,
   "metadata": {},
   "outputs": [
    {
     "name": "stdout",
     "output_type": "stream",
     "text": [
      "30\n"
     ]
    }
   ],
   "source": [
    "# lambda 함수\n",
    "def hap(num1, num2):\n",
    "    result = num1+num2\n",
    "    return result\n",
    "\n",
    "hap2 = lambda num1, num2: num1 + num2\n",
    "print(hap2(10,20))"
   ]
  },
  {
   "cell_type": "code",
   "execution_count": 41,
   "metadata": {},
   "outputs": [
    {
     "name": "stdout",
     "output_type": "stream",
     "text": [
      "30\n",
      "300\n"
     ]
    }
   ],
   "source": [
    "hap3 = lambda num1 = 10, num2 = 20: num1 + num2\n",
    "print(hap3())\n",
    "print(hap3(100,200))"
   ]
  },
  {
   "cell_type": "code",
   "execution_count": 42,
   "metadata": {},
   "outputs": [
    {
     "name": "stdout",
     "output_type": "stream",
     "text": [
      "[11, 12, 13, 14, 15]\n"
     ]
    }
   ],
   "source": [
    "myList = [1,2,3,4,5]\n",
    "add10 = lambda num: num+10\n",
    "myList = list(map(add10, myList)) # map(적용할 함수, 함수의 적용 대상인 리스트)\n",
    "print(myList)"
   ]
  },
  {
   "cell_type": "code",
   "execution_count": 43,
   "metadata": {},
   "outputs": [
    {
     "name": "stdout",
     "output_type": "stream",
     "text": [
      "[11, 22, 33, 44]\n"
     ]
    }
   ],
   "source": [
    "list1 = [1,2,3,4]\n",
    "list2 = [10,20,30,40]\n",
    "hapList = list(map(lambda n1, n2: n1+n2, list1, list2))\n",
    "print(hapList)"
   ]
  },
  {
   "cell_type": "markdown",
   "metadata": {},
   "source": [
    "# 이론 열한번째: class(클래스)"
   ]
  },
  {
   "cell_type": "code",
   "execution_count": 138,
   "metadata": {},
   "outputs": [
    {
     "name": "stdout",
     "output_type": "stream",
     "text": [
      "자동차의 색상: 빨강, 현재 속도: 60\n",
      "자동차의 색상: 빨강, 현재 속도: 30\n"
     ]
    }
   ],
   "source": [
    "class Car:\n",
    "    color =\"\"\n",
    "    speed = 0\n",
    "    \n",
    "    def upSpeed(self, value):\n",
    "        self.speed += value\n",
    "    def downSpeed(self, value):\n",
    "        self.speed -= value\n",
    "        \n",
    "myCar = Car()\n",
    "myCar.color = \"빨강\"\n",
    "myCar.speed = 0\n",
    "\n",
    "myCar.upSpeed(60)\n",
    "print(\"자동차의 색상: %s, 현재 속도: %d\" % (myCar.color, myCar.speed))\n",
    "myCar.downSpeed(30)\n",
    "print(\"자동차의 색상: %s, 현재 속도: %d\" % (myCar.color, myCar.speed))"
   ]
  },
  {
   "cell_type": "markdown",
   "metadata": {},
   "source": [
    "# 이론 열두번째: numpy와 array"
   ]
  },
  {
   "cell_type": "code",
   "execution_count": 50,
   "metadata": {},
   "outputs": [],
   "source": [
    "# numpy와 배열 \n",
    "import numpy as np\n",
    "\n",
    "arr_a = np.array([1,2,3])\n",
    "arr_a\n",
    "arr_b = np.array([4,5,6])"
   ]
  },
  {
   "cell_type": "code",
   "execution_count": 52,
   "metadata": {
    "scrolled": true
   },
   "outputs": [
    {
     "data": {
      "text/plain": [
       "[1, 2, 3, 4, 5, 6]"
      ]
     },
     "execution_count": 52,
     "metadata": {},
     "output_type": "execute_result"
    }
   ],
   "source": [
    "[1,2,3] + [4,5,6]"
   ]
  },
  {
   "cell_type": "code",
   "execution_count": 53,
   "metadata": {},
   "outputs": [
    {
     "data": {
      "text/plain": [
       "array([5, 7, 9])"
      ]
     },
     "execution_count": 53,
     "metadata": {},
     "output_type": "execute_result"
    }
   ],
   "source": [
    "arr_a + arr_b"
   ]
  },
  {
   "cell_type": "code",
   "execution_count": 63,
   "metadata": {},
   "outputs": [
    {
     "name": "stdout",
     "output_type": "stream",
     "text": [
      "[1 2 3 4 5 6] <class 'numpy.ndarray'>\n"
     ]
    }
   ],
   "source": [
    "x = [1,2,3,4,5,6]\n",
    "arr1 = np.array(x, int)\n",
    "print(arr1, type(arr1))"
   ]
  },
  {
   "cell_type": "code",
   "execution_count": 64,
   "metadata": {},
   "outputs": [
    {
     "name": "stdout",
     "output_type": "stream",
     "text": [
      "int32\n"
     ]
    }
   ],
   "source": [
    "print(arr1.dtype)"
   ]
  },
  {
   "cell_type": "code",
   "execution_count": 65,
   "metadata": {},
   "outputs": [
    {
     "name": "stdout",
     "output_type": "stream",
     "text": [
      "shape = (6,), ndim = 1, size = 6\n"
     ]
    }
   ],
   "source": [
    "print(\"shape = {}, ndim = {}, size = {}\".format(arr1.shape, arr1.ndim, arr1.size))"
   ]
  },
  {
   "cell_type": "code",
   "execution_count": 66,
   "metadata": {},
   "outputs": [
    {
     "name": "stdout",
     "output_type": "stream",
     "text": [
      "[[ 1.  5.]\n",
      " [ 3.  7.]\n",
      " [13.  2.]\n",
      " [ 7. 10.]] <class 'numpy.ndarray'>\n"
     ]
    }
   ],
   "source": [
    "# 2차 배열\n",
    "x2 = [[1,5],[3,7],[13,2],[7,10]]\n",
    "arr2 = np.array(x2, float)\n",
    "\n",
    "print(arr2, type(arr2))"
   ]
  },
  {
   "cell_type": "code",
   "execution_count": 67,
   "metadata": {},
   "outputs": [
    {
     "name": "stdout",
     "output_type": "stream",
     "text": [
      "float64\n"
     ]
    }
   ],
   "source": [
    "print(arr2.dtype)"
   ]
  },
  {
   "cell_type": "code",
   "execution_count": 68,
   "metadata": {},
   "outputs": [
    {
     "name": "stdout",
     "output_type": "stream",
     "text": [
      "shape = (4, 2), ndim = 2, size = 8\n"
     ]
    }
   ],
   "source": [
    "print(\"shape = {}, ndim = {}, size = {}\".format(arr2.shape, arr2.ndim, arr2.size))"
   ]
  },
  {
   "cell_type": "code",
   "execution_count": 69,
   "metadata": {},
   "outputs": [],
   "source": [
    "list_1 = [18,71,45,33,65,47,9,24,16]\n",
    "sum = 0\n",
    "\n",
    "arr = np.array(list_1)"
   ]
  },
  {
   "cell_type": "code",
   "execution_count": 70,
   "metadata": {},
   "outputs": [
    {
     "name": "stdout",
     "output_type": "stream",
     "text": [
      "sum =  328\n"
     ]
    }
   ],
   "source": [
    "print(\"sum = \", np.sum(arr)) # 총합"
   ]
  },
  {
   "cell_type": "code",
   "execution_count": 73,
   "metadata": {},
   "outputs": [
    {
     "name": "stdout",
     "output_type": "stream",
     "text": [
      "average =  36.44444444444444\n"
     ]
    }
   ],
   "source": [
    "print(\"average = \", np.average(arr)) # 평균"
   ]
  },
  {
   "cell_type": "code",
   "execution_count": 74,
   "metadata": {},
   "outputs": [
    {
     "name": "stdout",
     "output_type": "stream",
     "text": [
      "median =  33.0\n"
     ]
    }
   ],
   "source": [
    "print(\"median = \", np.median(arr)) # 정렬 후 중앙값"
   ]
  },
  {
   "cell_type": "code",
   "execution_count": 75,
   "metadata": {},
   "outputs": [
    {
     "name": "stdout",
     "output_type": "stream",
     "text": [
      "var =  430.2469135802469\n"
     ]
    }
   ],
   "source": [
    "print(\"var = \", np.var(arr)) # 분산"
   ]
  },
  {
   "cell_type": "code",
   "execution_count": 76,
   "metadata": {},
   "outputs": [
    {
     "name": "stdout",
     "output_type": "stream",
     "text": [
      "std =  20.742394113993853\n"
     ]
    }
   ],
   "source": [
    "print(\"std = \", np.std(arr)) # 표준편차"
   ]
  },
  {
   "cell_type": "code",
   "execution_count": 77,
   "metadata": {},
   "outputs": [
    {
     "name": "stdout",
     "output_type": "stream",
     "text": [
      "max =  71\n"
     ]
    }
   ],
   "source": [
    "print(\"max = \", np.max(arr)) # 최대값"
   ]
  },
  {
   "cell_type": "code",
   "execution_count": 78,
   "metadata": {},
   "outputs": [
    {
     "name": "stdout",
     "output_type": "stream",
     "text": [
      "min =  9\n"
     ]
    }
   ],
   "source": [
    "print(\"min = \", np.min(arr)) # 최소값"
   ]
  },
  {
   "cell_type": "markdown",
   "metadata": {},
   "source": [
    "# 이론 열세번째: numpy와 array(2)"
   ]
  },
  {
   "cell_type": "code",
   "execution_count": 79,
   "metadata": {},
   "outputs": [
    {
     "name": "stdout",
     "output_type": "stream",
     "text": [
      "bincount =  [0 0 0 0 0 0 0 0 0 1 0 0 0 0 0 0 1 0 1 0 0 0 0 0 1 0 0 0 0 0 0 0 0 1 0 0 0\n",
      " 0 0 0 0 0 0 0 0 1 0 1 0 0 0 0 0 0 0 0 0 0 0 0 0 0 0 0 0 1 0 0 0 0 0 1]\n"
     ]
    }
   ],
   "source": [
    "# numpy 함수 \n",
    "print(\"bincount = \", np.bincount(arr)) # 0~최대값까지 정렬한 뒤, 각 원소의 빈도수 반환"
   ]
  },
  {
   "cell_type": "code",
   "execution_count": 82,
   "metadata": {},
   "outputs": [
    {
     "data": {
      "text/plain": [
       "array([18, 71, 45, 33, 65, 47,  9, 24, 16])"
      ]
     },
     "execution_count": 82,
     "metadata": {},
     "output_type": "execute_result"
    }
   ],
   "source": [
    "arr"
   ]
  },
  {
   "cell_type": "code",
   "execution_count": 83,
   "metadata": {},
   "outputs": [
    {
     "name": "stdout",
     "output_type": "stream",
     "text": [
      "argmax =  1\n"
     ]
    }
   ],
   "source": [
    "print(\"argmax = \", np.argmax(arr)) # 최대값의 인덱스 반환"
   ]
  },
  {
   "cell_type": "code",
   "execution_count": 84,
   "metadata": {},
   "outputs": [
    {
     "name": "stdout",
     "output_type": "stream",
     "text": [
      "argmin =  6\n"
     ]
    }
   ],
   "source": [
    "print(\"argmin = \", np.argmin(arr)) # 최소값의 인덱스 반환"
   ]
  },
  {
   "cell_type": "code",
   "execution_count": 85,
   "metadata": {},
   "outputs": [
    {
     "name": "stdout",
     "output_type": "stream",
     "text": [
      "(array([1, 4], dtype=int64),)\n"
     ]
    }
   ],
   "source": [
    "print(np.where(arr > 50)) # 조건식을 만족하는 원소의 인덱스 반환"
   ]
  },
  {
   "cell_type": "code",
   "execution_count": 88,
   "metadata": {},
   "outputs": [
    {
     "data": {
      "text/plain": [
       "array([0, 1, 2, 3, 4, 5, 6, 7, 8, 9])"
      ]
     },
     "execution_count": 88,
     "metadata": {},
     "output_type": "execute_result"
    }
   ],
   "source": [
    "arr2 = np.arange(10) # 0~10이전까지의 값을 원소로 갖는 배열 생성\n",
    "arr2"
   ]
  },
  {
   "cell_type": "code",
   "execution_count": 89,
   "metadata": {},
   "outputs": [
    {
     "data": {
      "text/plain": [
       "array([ 1,  4,  7, 10, 13, 16, 19, 22, 25, 28])"
      ]
     },
     "execution_count": 89,
     "metadata": {},
     "output_type": "execute_result"
    }
   ],
   "source": [
    "arr3 = np.arange(1,30,3)\n",
    "arr3"
   ]
  },
  {
   "cell_type": "code",
   "execution_count": 93,
   "metadata": {},
   "outputs": [
    {
     "data": {
      "text/plain": [
       "array([0, 0, 0, 0, 0])"
      ]
     },
     "execution_count": 93,
     "metadata": {},
     "output_type": "execute_result"
    }
   ],
   "source": [
    "zero_arr = np.zeros(shape = (5,), dtype = int)\n",
    "zero_arr"
   ]
  },
  {
   "cell_type": "code",
   "execution_count": 95,
   "metadata": {},
   "outputs": [
    {
     "data": {
      "text/plain": [
       "array([1, 1, 1, 1, 1, 1, 1])"
      ]
     },
     "execution_count": 95,
     "metadata": {},
     "output_type": "execute_result"
    }
   ],
   "source": [
    "one_arr = np.ones(shape = (7,), dtype = int)\n",
    "one_arr"
   ]
  },
  {
   "cell_type": "code",
   "execution_count": 97,
   "metadata": {},
   "outputs": [
    {
     "data": {
      "text/plain": [
       "array([[1., 1., 1., 1., 1.],\n",
       "       [1., 1., 1., 1., 1.],\n",
       "       [1., 1., 1., 1., 1.]])"
      ]
     },
     "execution_count": 97,
     "metadata": {},
     "output_type": "execute_result"
    }
   ],
   "source": [
    "one_arr2 = np.ones(shape = (3,5), dtype = float)\n",
    "one_arr2"
   ]
  },
  {
   "cell_type": "code",
   "execution_count": 98,
   "metadata": {},
   "outputs": [
    {
     "data": {
      "text/plain": [
       "array([[0, 1, 2, 3, 4],\n",
       "       [5, 6, 7, 8, 9]])"
      ]
     },
     "execution_count": 98,
     "metadata": {},
     "output_type": "execute_result"
    }
   ],
   "source": [
    "re_arr = arr2.reshape(2,5)\n",
    "re_arr"
   ]
  },
  {
   "cell_type": "code",
   "execution_count": 99,
   "metadata": {},
   "outputs": [
    {
     "data": {
      "text/plain": [
       "array([1., 1., 1., 1., 1., 1., 1., 1., 1., 1., 1., 1., 1., 1., 1.])"
      ]
     },
     "execution_count": 99,
     "metadata": {},
     "output_type": "execute_result"
    }
   ],
   "source": [
    "re_arr2 = one_arr2.reshape(15,)\n",
    "re_arr2"
   ]
  },
  {
   "cell_type": "markdown",
   "metadata": {},
   "source": [
    "# 실습 9주차: numpy를 이용한 수치 데이터 분석"
   ]
  },
  {
   "cell_type": "code",
   "execution_count": 2,
   "metadata": {},
   "outputs": [
    {
     "name": "stdout",
     "output_type": "stream",
     "text": [
      "6.666666666666667\n"
     ]
    }
   ],
   "source": [
    "import numpy as np\n",
    "x = 2,6,6,8,8,10\n",
    "average = np.average(x)\n",
    "print(average)"
   ]
  },
  {
   "cell_type": "code",
   "execution_count": 3,
   "metadata": {},
   "outputs": [
    {
     "name": "stdout",
     "output_type": "stream",
     "text": [
      "6.666666666666667\n"
     ]
    }
   ],
   "source": [
    "def average(x): \n",
    "    return sum(x) / len(x)\n",
    "print(average(x))"
   ]
  },
  {
   "cell_type": "code",
   "execution_count": 6,
   "metadata": {},
   "outputs": [
    {
     "name": "stdout",
     "output_type": "stream",
     "text": [
      "[2, 2, 3, 5, 6, 6, 7, 7, 7, 8, 8, 9, 10]\n",
      "원소 개수: 13\n",
      "중앙은 6번째 원소\n",
      "중앙값은  7.0\n"
     ]
    }
   ],
   "source": [
    "y = [9,3,5,2,7,2,6,6,7,7,8,8,10]\n",
    "y.sort()\n",
    "print(y)\n",
    "n = len(y)\n",
    "middle_number = n//2\n",
    "print(\"원소 개수:\", n)\n",
    "print(\"중앙은 {}번째 원소\".format(middle_number))\n",
    "print(\"중앙값은 \", np.median(x))"
   ]
  },
  {
   "cell_type": "code",
   "execution_count": 7,
   "metadata": {},
   "outputs": [
    {
     "name": "stdout",
     "output_type": "stream",
     "text": [
      "2 2\n",
      "3 1\n",
      "5 1\n",
      "6 2\n",
      "7 3\n",
      "8 2\n",
      "9 1\n",
      "10 1\n",
      "최빈수:  7\n"
     ]
    }
   ],
   "source": [
    "frequency = {}\n",
    "max_n = 0\n",
    "for i in y:\n",
    "    frequency[i] = y.count(i)\n",
    "for j in frequency:\n",
    "    print(j, frequency[j])\n",
    "    if frequency[j] > max_n:\n",
    "        max_n = frequency[j]\n",
    "        max_key = j\n",
    "print(\"최빈수: \", max_key)"
   ]
  },
  {
   "cell_type": "code",
   "execution_count": 9,
   "metadata": {},
   "outputs": [
    {
     "name": "stdout",
     "output_type": "stream",
     "text": [
      "[0 0 2 1 0 1 2 3 2 1 1]\n",
      "7\n"
     ]
    }
   ],
   "source": [
    "a = np.bincount(y)\n",
    "print(a)\n",
    "b = a.argmax()\n",
    "print(b)"
   ]
  },
  {
   "cell_type": "code",
   "execution_count": 11,
   "metadata": {},
   "outputs": [
    {
     "name": "stdout",
     "output_type": "stream",
     "text": [
      "19.759999999999998\n",
      "4.445222154178573\n"
     ]
    }
   ],
   "source": [
    "z = 0,1,3,6,12,13,10,7,5,1\n",
    "a = np.var(z)\n",
    "print(a)\n",
    "b = np.std(z)\n",
    "print(b)"
   ]
  },
  {
   "cell_type": "code",
   "execution_count": 12,
   "metadata": {},
   "outputs": [
    {
     "name": "stdout",
     "output_type": "stream",
     "text": [
      "[1 2 3 4 5]\n",
      "<class 'numpy.ndarray'>\n"
     ]
    }
   ],
   "source": [
    "a = [1,2,3,4,5]\n",
    "b = np.array(a)\n",
    "print(b)\n",
    "print(type(b))"
   ]
  },
  {
   "cell_type": "code",
   "execution_count": null,
   "metadata": {},
   "outputs": [],
   "source": [
    "a = np.array([1,2,3])\n",
    "b = np.array([2,3,4])\n",
    "print(np.dot(a,b))\n",
    "# array간의 곱 (1*2) + (2*3) + (3*4)"
   ]
  },
  {
   "cell_type": "code",
   "execution_count": 16,
   "metadata": {
    "scrolled": true
   },
   "outputs": [
    {
     "name": "stdout",
     "output_type": "stream",
     "text": [
      "[[ 1  2  3  4  5]\n",
      " [ 6  7  8  9 10]\n",
      " [11 12 13 14 15]\n",
      " [16 17 18 19 20]\n",
      " [21 22 23 24 25]]\n"
     ]
    }
   ],
   "source": [
    "a = np.array([[1,2,3,4,5],[6,7,8,9,10],[11,12,13,14,15],\n",
    "             [16,17,18,19,20], [21,22,23,24,25]])\n",
    "print(a)"
   ]
  },
  {
   "cell_type": "code",
   "execution_count": 17,
   "metadata": {},
   "outputs": [
    {
     "name": "stdout",
     "output_type": "stream",
     "text": [
      "(5, 5)\n"
     ]
    }
   ],
   "source": [
    "b = a.shape\n",
    "print(b)"
   ]
  },
  {
   "cell_type": "code",
   "execution_count": 20,
   "metadata": {
    "scrolled": true
   },
   "outputs": [
    {
     "name": "stdout",
     "output_type": "stream",
     "text": [
      "1 2 6 18 21 5 25\n",
      "[ 1  6 11 16 21]\n",
      "[ 5 10 15 20 25]\n",
      "[1 2 3 4 5]\n",
      "[11 12 13 14 15]\n"
     ]
    }
   ],
   "source": [
    "print(a[0,0], a[0,1], a[1,0], a[3,2], a[-1,0], a[0,-1], a[-1,-1])\n",
    "print(a[:,0])\n",
    "print(a[:,4])\n",
    "print(a[0,:])\n",
    "print(a[2,:])"
   ]
  },
  {
   "cell_type": "code",
   "execution_count": 22,
   "metadata": {},
   "outputs": [
    {
     "name": "stdout",
     "output_type": "stream",
     "text": [
      "(25,)\n",
      "[ 1  2  3  4  5  6  7  8  9 10 11 12 13 14 15 16 17 18 19 20 21 22 23 24\n",
      " 25]\n",
      "[[ 1  2  3  4  5]\n",
      " [ 6  7  8  9 10]\n",
      " [11 12 13 14 15]\n",
      " [16 17 18 19 20]\n",
      " [21 22 23 24 25]]\n"
     ]
    }
   ],
   "source": [
    "a = range(1,26)\n",
    "a = np.array(a)\n",
    "print(a.shape)\n",
    "print(a)\n",
    "b = a.reshape(5,5) # 행(가로)크기, 열(세로)크기\n",
    "print(b)"
   ]
  },
  {
   "cell_type": "code",
   "execution_count": 27,
   "metadata": {
    "scrolled": true
   },
   "outputs": [
    {
     "name": "stdout",
     "output_type": "stream",
     "text": [
      "[0. 0. 0. 0. 0.]\n",
      "[1. 1. 1. 1. 1.]\n",
      "[[0. 0. 0. 0.]\n",
      " [0. 0. 0. 0.]]\n",
      "[[1. 1. 1. 1.]\n",
      " [1. 1. 1. 1.]]\n"
     ]
    }
   ],
   "source": [
    "print(np.zeros(5))\n",
    "print(np.ones(5)) # 기본은 실수형!\n",
    "print(np.zeros((2,4)))\n",
    "print(np.ones((2,4)))"
   ]
  },
  {
   "cell_type": "code",
   "execution_count": 30,
   "metadata": {},
   "outputs": [
    {
     "name": "stdout",
     "output_type": "stream",
     "text": [
      "(array([2], dtype=int64),)\n",
      "[2]\n",
      "2\n"
     ]
    }
   ],
   "source": [
    "a = [10,20,30,40,50]\n",
    "b = np.array(a)\n",
    "print(np.where(30==b))\n",
    "print(np.where(30==b)[0])\n",
    "print(np.where(30==b)[0][0])"
   ]
  },
  {
   "cell_type": "code",
   "execution_count": 31,
   "metadata": {},
   "outputs": [
    {
     "name": "stdout",
     "output_type": "stream",
     "text": [
      "9\n",
      "-5\n"
     ]
    }
   ],
   "source": [
    "a = np.array([-5,7,2,9])\n",
    "print(max(a))\n",
    "print(min(a))"
   ]
  },
  {
   "cell_type": "code",
   "execution_count": 33,
   "metadata": {},
   "outputs": [
    {
     "name": "stdout",
     "output_type": "stream",
     "text": [
      "[[1 2 3]\n",
      " [4 5 6]\n",
      " [7 8 9]]\n",
      "9\n",
      "(array([2], dtype=int64), array([2], dtype=int64))\n"
     ]
    }
   ],
   "source": [
    "a = np.array([[1,2,3],[4,5,6],[7,8,9]])\n",
    "print(a)\n",
    "amax = np.max(a)\n",
    "print(amax)\n",
    "amax_index = np.where(amax==a)\n",
    "print(amax_index)"
   ]
  },
  {
   "cell_type": "markdown",
   "metadata": {},
   "source": [
    "# 실습 10주차: pandas를 이용한 CCTV 데이터 분석 및 시각화"
   ]
  },
  {
   "cell_type": "code",
   "execution_count": null,
   "metadata": {},
   "outputs": [],
   "source": [
    "# Pandas: 데이터 분석을 위한 데이터 분석 도구\n",
    "# 1차원: 시리즈(Series)\n",
    "# 2차원: 데이터프레임(DataFrame)\n",
    "# 행 정보: index, 열 정보: columns, 값: vaues"
   ]
  },
  {
   "cell_type": "code",
   "execution_count": 35,
   "metadata": {},
   "outputs": [
    {
     "data": {
      "text/html": [
       "<div>\n",
       "<style scoped>\n",
       "    .dataframe tbody tr th:only-of-type {\n",
       "        vertical-align: middle;\n",
       "    }\n",
       "\n",
       "    .dataframe tbody tr th {\n",
       "        vertical-align: top;\n",
       "    }\n",
       "\n",
       "    .dataframe thead th {\n",
       "        text-align: right;\n",
       "    }\n",
       "</style>\n",
       "<table border=\"1\" class=\"dataframe\">\n",
       "  <thead>\n",
       "    <tr style=\"text-align: right;\">\n",
       "      <th></th>\n",
       "      <th>기관명</th>\n",
       "      <th>소계</th>\n",
       "      <th>2013년도 이전</th>\n",
       "      <th>2014년</th>\n",
       "      <th>2015년</th>\n",
       "      <th>2016년</th>\n",
       "    </tr>\n",
       "  </thead>\n",
       "  <tbody>\n",
       "    <tr>\n",
       "      <th>0</th>\n",
       "      <td>강남구</td>\n",
       "      <td>2780</td>\n",
       "      <td>1292</td>\n",
       "      <td>430</td>\n",
       "      <td>584</td>\n",
       "      <td>932</td>\n",
       "    </tr>\n",
       "    <tr>\n",
       "      <th>1</th>\n",
       "      <td>강동구</td>\n",
       "      <td>773</td>\n",
       "      <td>379</td>\n",
       "      <td>99</td>\n",
       "      <td>155</td>\n",
       "      <td>377</td>\n",
       "    </tr>\n",
       "    <tr>\n",
       "      <th>2</th>\n",
       "      <td>강북구</td>\n",
       "      <td>748</td>\n",
       "      <td>369</td>\n",
       "      <td>120</td>\n",
       "      <td>138</td>\n",
       "      <td>204</td>\n",
       "    </tr>\n",
       "    <tr>\n",
       "      <th>3</th>\n",
       "      <td>강서구</td>\n",
       "      <td>884</td>\n",
       "      <td>388</td>\n",
       "      <td>258</td>\n",
       "      <td>184</td>\n",
       "      <td>81</td>\n",
       "    </tr>\n",
       "    <tr>\n",
       "      <th>4</th>\n",
       "      <td>관악구</td>\n",
       "      <td>1496</td>\n",
       "      <td>846</td>\n",
       "      <td>260</td>\n",
       "      <td>390</td>\n",
       "      <td>613</td>\n",
       "    </tr>\n",
       "  </tbody>\n",
       "</table>\n",
       "</div>"
      ],
      "text/plain": [
       "   기관명    소계  2013년도 이전  2014년  2015년  2016년\n",
       "0  강남구  2780       1292    430    584    932\n",
       "1  강동구   773        379     99    155    377\n",
       "2  강북구   748        369    120    138    204\n",
       "3  강서구   884        388    258    184     81\n",
       "4  관악구  1496        846    260    390    613"
      ]
     },
     "execution_count": 35,
     "metadata": {},
     "output_type": "execute_result"
    }
   ],
   "source": [
    "import pandas as pd\n",
    "CCTV_Seoul = pd.read_csv('01. CCTV_in_Seoul.csv', encoding='utf-8')\n",
    "CCTV_Seoul.head() # 첫 5개 행 반환"
   ]
  },
  {
   "cell_type": "code",
   "execution_count": 36,
   "metadata": {},
   "outputs": [
    {
     "data": {
      "text/plain": [
       "Index(['기관명', '소계', '2013년도 이전', '2014년', '2015년', '2016년'], dtype='object')"
      ]
     },
     "execution_count": 36,
     "metadata": {},
     "output_type": "execute_result"
    }
   ],
   "source": [
    "CCTV_Seoul.columns"
   ]
  },
  {
   "cell_type": "code",
   "execution_count": 37,
   "metadata": {},
   "outputs": [
    {
     "data": {
      "text/html": [
       "<div>\n",
       "<style scoped>\n",
       "    .dataframe tbody tr th:only-of-type {\n",
       "        vertical-align: middle;\n",
       "    }\n",
       "\n",
       "    .dataframe tbody tr th {\n",
       "        vertical-align: top;\n",
       "    }\n",
       "\n",
       "    .dataframe thead th {\n",
       "        text-align: right;\n",
       "    }\n",
       "</style>\n",
       "<table border=\"1\" class=\"dataframe\">\n",
       "  <thead>\n",
       "    <tr style=\"text-align: right;\">\n",
       "      <th></th>\n",
       "      <th>구별</th>\n",
       "      <th>소계</th>\n",
       "      <th>2013년도 이전</th>\n",
       "      <th>2014년</th>\n",
       "      <th>2015년</th>\n",
       "      <th>2016년</th>\n",
       "    </tr>\n",
       "  </thead>\n",
       "  <tbody>\n",
       "    <tr>\n",
       "      <th>0</th>\n",
       "      <td>강남구</td>\n",
       "      <td>2780</td>\n",
       "      <td>1292</td>\n",
       "      <td>430</td>\n",
       "      <td>584</td>\n",
       "      <td>932</td>\n",
       "    </tr>\n",
       "    <tr>\n",
       "      <th>1</th>\n",
       "      <td>강동구</td>\n",
       "      <td>773</td>\n",
       "      <td>379</td>\n",
       "      <td>99</td>\n",
       "      <td>155</td>\n",
       "      <td>377</td>\n",
       "    </tr>\n",
       "    <tr>\n",
       "      <th>2</th>\n",
       "      <td>강북구</td>\n",
       "      <td>748</td>\n",
       "      <td>369</td>\n",
       "      <td>120</td>\n",
       "      <td>138</td>\n",
       "      <td>204</td>\n",
       "    </tr>\n",
       "    <tr>\n",
       "      <th>3</th>\n",
       "      <td>강서구</td>\n",
       "      <td>884</td>\n",
       "      <td>388</td>\n",
       "      <td>258</td>\n",
       "      <td>184</td>\n",
       "      <td>81</td>\n",
       "    </tr>\n",
       "    <tr>\n",
       "      <th>4</th>\n",
       "      <td>관악구</td>\n",
       "      <td>1496</td>\n",
       "      <td>846</td>\n",
       "      <td>260</td>\n",
       "      <td>390</td>\n",
       "      <td>613</td>\n",
       "    </tr>\n",
       "  </tbody>\n",
       "</table>\n",
       "</div>"
      ],
      "text/plain": [
       "    구별    소계  2013년도 이전  2014년  2015년  2016년\n",
       "0  강남구  2780       1292    430    584    932\n",
       "1  강동구   773        379     99    155    377\n",
       "2  강북구   748        369    120    138    204\n",
       "3  강서구   884        388    258    184     81\n",
       "4  관악구  1496        846    260    390    613"
      ]
     },
     "execution_count": 37,
     "metadata": {},
     "output_type": "execute_result"
    }
   ],
   "source": [
    "CCTV_Seoul.rename(columns={CCTV_Seoul.columns[0] : '구별'}, inplace=True)\n",
    "CCTV_Seoul.head()"
   ]
  },
  {
   "cell_type": "code",
   "execution_count": 38,
   "metadata": {},
   "outputs": [
    {
     "data": {
      "text/html": [
       "<div>\n",
       "<style scoped>\n",
       "    .dataframe tbody tr th:only-of-type {\n",
       "        vertical-align: middle;\n",
       "    }\n",
       "\n",
       "    .dataframe tbody tr th {\n",
       "        vertical-align: top;\n",
       "    }\n",
       "\n",
       "    .dataframe thead th {\n",
       "        text-align: right;\n",
       "    }\n",
       "</style>\n",
       "<table border=\"1\" class=\"dataframe\">\n",
       "  <thead>\n",
       "    <tr style=\"text-align: right;\">\n",
       "      <th></th>\n",
       "      <th>기간</th>\n",
       "      <th>자치구</th>\n",
       "      <th>세대</th>\n",
       "      <th>인구</th>\n",
       "      <th>인구.1</th>\n",
       "      <th>인구.2</th>\n",
       "      <th>인구.3</th>\n",
       "      <th>인구.4</th>\n",
       "      <th>인구.5</th>\n",
       "      <th>인구.6</th>\n",
       "      <th>인구.7</th>\n",
       "      <th>인구.8</th>\n",
       "      <th>세대당인구</th>\n",
       "      <th>65세이상고령자</th>\n",
       "    </tr>\n",
       "  </thead>\n",
       "  <tbody>\n",
       "    <tr>\n",
       "      <th>0</th>\n",
       "      <td>기간</td>\n",
       "      <td>자치구</td>\n",
       "      <td>세대</td>\n",
       "      <td>합계</td>\n",
       "      <td>합계</td>\n",
       "      <td>합계</td>\n",
       "      <td>한국인</td>\n",
       "      <td>한국인</td>\n",
       "      <td>한국인</td>\n",
       "      <td>등록외국인</td>\n",
       "      <td>등록외국인</td>\n",
       "      <td>등록외국인</td>\n",
       "      <td>세대당인구</td>\n",
       "      <td>65세이상고령자</td>\n",
       "    </tr>\n",
       "    <tr>\n",
       "      <th>1</th>\n",
       "      <td>기간</td>\n",
       "      <td>자치구</td>\n",
       "      <td>세대</td>\n",
       "      <td>계</td>\n",
       "      <td>남자</td>\n",
       "      <td>여자</td>\n",
       "      <td>계</td>\n",
       "      <td>남자</td>\n",
       "      <td>여자</td>\n",
       "      <td>계</td>\n",
       "      <td>남자</td>\n",
       "      <td>여자</td>\n",
       "      <td>세대당인구</td>\n",
       "      <td>65세이상고령자</td>\n",
       "    </tr>\n",
       "    <tr>\n",
       "      <th>2</th>\n",
       "      <td>2017.1/4</td>\n",
       "      <td>합계</td>\n",
       "      <td>4202888</td>\n",
       "      <td>10197604</td>\n",
       "      <td>5000005</td>\n",
       "      <td>5197599</td>\n",
       "      <td>9926968</td>\n",
       "      <td>4871560</td>\n",
       "      <td>5055408</td>\n",
       "      <td>270636</td>\n",
       "      <td>128445</td>\n",
       "      <td>142191</td>\n",
       "      <td>2.36</td>\n",
       "      <td>1321458</td>\n",
       "    </tr>\n",
       "    <tr>\n",
       "      <th>3</th>\n",
       "      <td>2017.1/4</td>\n",
       "      <td>종로구</td>\n",
       "      <td>72654</td>\n",
       "      <td>162820</td>\n",
       "      <td>79675</td>\n",
       "      <td>83145</td>\n",
       "      <td>153589</td>\n",
       "      <td>75611</td>\n",
       "      <td>77978</td>\n",
       "      <td>9231</td>\n",
       "      <td>4064</td>\n",
       "      <td>5167</td>\n",
       "      <td>2.11</td>\n",
       "      <td>25425</td>\n",
       "    </tr>\n",
       "    <tr>\n",
       "      <th>4</th>\n",
       "      <td>2017.1/4</td>\n",
       "      <td>중구</td>\n",
       "      <td>59481</td>\n",
       "      <td>133240</td>\n",
       "      <td>65790</td>\n",
       "      <td>67450</td>\n",
       "      <td>124312</td>\n",
       "      <td>61656</td>\n",
       "      <td>62656</td>\n",
       "      <td>8928</td>\n",
       "      <td>4134</td>\n",
       "      <td>4794</td>\n",
       "      <td>2.09</td>\n",
       "      <td>20764</td>\n",
       "    </tr>\n",
       "  </tbody>\n",
       "</table>\n",
       "</div>"
      ],
      "text/plain": [
       "         기간  자치구       세대        인구     인구.1     인구.2     인구.3     인구.4  \\\n",
       "0        기간  자치구       세대        합계       합계       합계      한국인      한국인   \n",
       "1        기간  자치구       세대         계       남자       여자        계       남자   \n",
       "2  2017.1/4   합계  4202888  10197604  5000005  5197599  9926968  4871560   \n",
       "3  2017.1/4  종로구    72654    162820    79675    83145   153589    75611   \n",
       "4  2017.1/4   중구    59481    133240    65790    67450   124312    61656   \n",
       "\n",
       "      인구.5    인구.6    인구.7    인구.8  세대당인구  65세이상고령자  \n",
       "0      한국인   등록외국인   등록외국인   등록외국인  세대당인구  65세이상고령자  \n",
       "1       여자       계      남자      여자  세대당인구  65세이상고령자  \n",
       "2  5055408  270636  128445  142191   2.36   1321458  \n",
       "3    77978    9231    4064    5167   2.11     25425  \n",
       "4    62656    8928    4134    4794   2.09     20764  "
      ]
     },
     "execution_count": 38,
     "metadata": {},
     "output_type": "execute_result"
    }
   ],
   "source": [
    "pop_Seoul = pd.read_excel('01. population_in_Seoul.xls')\n",
    "pop_Seoul.head()"
   ]
  },
  {
   "cell_type": "code",
   "execution_count": 39,
   "metadata": {},
   "outputs": [
    {
     "data": {
      "text/html": [
       "<div>\n",
       "<style scoped>\n",
       "    .dataframe tbody tr th:only-of-type {\n",
       "        vertical-align: middle;\n",
       "    }\n",
       "\n",
       "    .dataframe tbody tr th {\n",
       "        vertical-align: top;\n",
       "    }\n",
       "\n",
       "    .dataframe thead th {\n",
       "        text-align: right;\n",
       "    }\n",
       "</style>\n",
       "<table border=\"1\" class=\"dataframe\">\n",
       "  <thead>\n",
       "    <tr style=\"text-align: right;\">\n",
       "      <th></th>\n",
       "      <th>자치구</th>\n",
       "      <th>계</th>\n",
       "      <th>계.1</th>\n",
       "      <th>계.2</th>\n",
       "      <th>65세이상고령자</th>\n",
       "    </tr>\n",
       "  </thead>\n",
       "  <tbody>\n",
       "    <tr>\n",
       "      <th>0</th>\n",
       "      <td>합계</td>\n",
       "      <td>10197604.0</td>\n",
       "      <td>9926968.0</td>\n",
       "      <td>270636.0</td>\n",
       "      <td>1321458.0</td>\n",
       "    </tr>\n",
       "    <tr>\n",
       "      <th>1</th>\n",
       "      <td>종로구</td>\n",
       "      <td>162820.0</td>\n",
       "      <td>153589.0</td>\n",
       "      <td>9231.0</td>\n",
       "      <td>25425.0</td>\n",
       "    </tr>\n",
       "    <tr>\n",
       "      <th>2</th>\n",
       "      <td>중구</td>\n",
       "      <td>133240.0</td>\n",
       "      <td>124312.0</td>\n",
       "      <td>8928.0</td>\n",
       "      <td>20764.0</td>\n",
       "    </tr>\n",
       "    <tr>\n",
       "      <th>3</th>\n",
       "      <td>용산구</td>\n",
       "      <td>244203.0</td>\n",
       "      <td>229456.0</td>\n",
       "      <td>14747.0</td>\n",
       "      <td>36231.0</td>\n",
       "    </tr>\n",
       "    <tr>\n",
       "      <th>4</th>\n",
       "      <td>성동구</td>\n",
       "      <td>311244.0</td>\n",
       "      <td>303380.0</td>\n",
       "      <td>7864.0</td>\n",
       "      <td>39997.0</td>\n",
       "    </tr>\n",
       "  </tbody>\n",
       "</table>\n",
       "</div>"
      ],
      "text/plain": [
       "   자치구           계        계.1       계.2   65세이상고령자\n",
       "0   합계  10197604.0  9926968.0  270636.0  1321458.0\n",
       "1  종로구    162820.0   153589.0    9231.0    25425.0\n",
       "2   중구    133240.0   124312.0    8928.0    20764.0\n",
       "3  용산구    244203.0   229456.0   14747.0    36231.0\n",
       "4  성동구    311244.0   303380.0    7864.0    39997.0"
      ]
     },
     "execution_count": 39,
     "metadata": {},
     "output_type": "execute_result"
    }
   ],
   "source": [
    "pop_Seoul = pd.read_excel('01. population_in_Seoul.xls',\n",
    "                         header = 2,# 엑셀 3번째 줄부터 읽어옴\n",
    "                         usecols='B,D,G,J,N')# 특정 열 추출\n",
    "pop_Seoul.head()"
   ]
  },
  {
   "cell_type": "code",
   "execution_count": 40,
   "metadata": {},
   "outputs": [
    {
     "data": {
      "text/html": [
       "<div>\n",
       "<style scoped>\n",
       "    .dataframe tbody tr th:only-of-type {\n",
       "        vertical-align: middle;\n",
       "    }\n",
       "\n",
       "    .dataframe tbody tr th {\n",
       "        vertical-align: top;\n",
       "    }\n",
       "\n",
       "    .dataframe thead th {\n",
       "        text-align: right;\n",
       "    }\n",
       "</style>\n",
       "<table border=\"1\" class=\"dataframe\">\n",
       "  <thead>\n",
       "    <tr style=\"text-align: right;\">\n",
       "      <th></th>\n",
       "      <th>구별</th>\n",
       "      <th>인구수</th>\n",
       "      <th>한국인</th>\n",
       "      <th>외국인</th>\n",
       "      <th>고령자</th>\n",
       "    </tr>\n",
       "  </thead>\n",
       "  <tbody>\n",
       "    <tr>\n",
       "      <th>0</th>\n",
       "      <td>합계</td>\n",
       "      <td>10197604.0</td>\n",
       "      <td>9926968.0</td>\n",
       "      <td>270636.0</td>\n",
       "      <td>1321458.0</td>\n",
       "    </tr>\n",
       "    <tr>\n",
       "      <th>1</th>\n",
       "      <td>종로구</td>\n",
       "      <td>162820.0</td>\n",
       "      <td>153589.0</td>\n",
       "      <td>9231.0</td>\n",
       "      <td>25425.0</td>\n",
       "    </tr>\n",
       "    <tr>\n",
       "      <th>2</th>\n",
       "      <td>중구</td>\n",
       "      <td>133240.0</td>\n",
       "      <td>124312.0</td>\n",
       "      <td>8928.0</td>\n",
       "      <td>20764.0</td>\n",
       "    </tr>\n",
       "    <tr>\n",
       "      <th>3</th>\n",
       "      <td>용산구</td>\n",
       "      <td>244203.0</td>\n",
       "      <td>229456.0</td>\n",
       "      <td>14747.0</td>\n",
       "      <td>36231.0</td>\n",
       "    </tr>\n",
       "    <tr>\n",
       "      <th>4</th>\n",
       "      <td>성동구</td>\n",
       "      <td>311244.0</td>\n",
       "      <td>303380.0</td>\n",
       "      <td>7864.0</td>\n",
       "      <td>39997.0</td>\n",
       "    </tr>\n",
       "  </tbody>\n",
       "</table>\n",
       "</div>"
      ],
      "text/plain": [
       "    구별         인구수        한국인       외국인        고령자\n",
       "0   합계  10197604.0  9926968.0  270636.0  1321458.0\n",
       "1  종로구    162820.0   153589.0    9231.0    25425.0\n",
       "2   중구    133240.0   124312.0    8928.0    20764.0\n",
       "3  용산구    244203.0   229456.0   14747.0    36231.0\n",
       "4  성동구    311244.0   303380.0    7864.0    39997.0"
      ]
     },
     "execution_count": 40,
     "metadata": {},
     "output_type": "execute_result"
    }
   ],
   "source": [
    "pop_Seoul.rename(columns={pop_Seoul.columns[0] : '구별',\n",
    "                         pop_Seoul.columns[1] : '인구수',\n",
    "                         pop_Seoul.columns[2] : '한국인',\n",
    "                         pop_Seoul.columns[3] : '외국인',\n",
    "                         pop_Seoul.columns[4] : '고령자'}, inplace=True)\n",
    "pop_Seoul.head()"
   ]
  },
  {
   "cell_type": "code",
   "execution_count": 41,
   "metadata": {},
   "outputs": [
    {
     "data": {
      "text/html": [
       "<div>\n",
       "<style scoped>\n",
       "    .dataframe tbody tr th:only-of-type {\n",
       "        vertical-align: middle;\n",
       "    }\n",
       "\n",
       "    .dataframe tbody tr th {\n",
       "        vertical-align: top;\n",
       "    }\n",
       "\n",
       "    .dataframe thead th {\n",
       "        text-align: right;\n",
       "    }\n",
       "</style>\n",
       "<table border=\"1\" class=\"dataframe\">\n",
       "  <thead>\n",
       "    <tr style=\"text-align: right;\">\n",
       "      <th></th>\n",
       "      <th>구별</th>\n",
       "      <th>소계</th>\n",
       "      <th>2013년도 이전</th>\n",
       "      <th>2014년</th>\n",
       "      <th>2015년</th>\n",
       "      <th>2016년</th>\n",
       "    </tr>\n",
       "  </thead>\n",
       "  <tbody>\n",
       "    <tr>\n",
       "      <th>9</th>\n",
       "      <td>도봉구</td>\n",
       "      <td>485</td>\n",
       "      <td>238</td>\n",
       "      <td>159</td>\n",
       "      <td>42</td>\n",
       "      <td>386</td>\n",
       "    </tr>\n",
       "    <tr>\n",
       "      <th>12</th>\n",
       "      <td>마포구</td>\n",
       "      <td>574</td>\n",
       "      <td>314</td>\n",
       "      <td>118</td>\n",
       "      <td>169</td>\n",
       "      <td>379</td>\n",
       "    </tr>\n",
       "    <tr>\n",
       "      <th>17</th>\n",
       "      <td>송파구</td>\n",
       "      <td>618</td>\n",
       "      <td>529</td>\n",
       "      <td>21</td>\n",
       "      <td>68</td>\n",
       "      <td>463</td>\n",
       "    </tr>\n",
       "    <tr>\n",
       "      <th>24</th>\n",
       "      <td>중랑구</td>\n",
       "      <td>660</td>\n",
       "      <td>509</td>\n",
       "      <td>121</td>\n",
       "      <td>177</td>\n",
       "      <td>109</td>\n",
       "    </tr>\n",
       "    <tr>\n",
       "      <th>23</th>\n",
       "      <td>중구</td>\n",
       "      <td>671</td>\n",
       "      <td>413</td>\n",
       "      <td>190</td>\n",
       "      <td>72</td>\n",
       "      <td>348</td>\n",
       "    </tr>\n",
       "  </tbody>\n",
       "</table>\n",
       "</div>"
      ],
      "text/plain": [
       "     구별   소계  2013년도 이전  2014년  2015년  2016년\n",
       "9   도봉구  485        238    159     42    386\n",
       "12  마포구  574        314    118    169    379\n",
       "17  송파구  618        529     21     68    463\n",
       "24  중랑구  660        509    121    177    109\n",
       "23   중구  671        413    190     72    348"
      ]
     },
     "execution_count": 41,
     "metadata": {},
     "output_type": "execute_result"
    }
   ],
   "source": [
    "CCTV_Seoul.sort_values(by='소계', ascending=True).head()\n",
    "# sort_values: 열 기준으로 정렬"
   ]
  },
  {
   "cell_type": "code",
   "execution_count": 42,
   "metadata": {},
   "outputs": [
    {
     "data": {
      "text/html": [
       "<div>\n",
       "<style scoped>\n",
       "    .dataframe tbody tr th:only-of-type {\n",
       "        vertical-align: middle;\n",
       "    }\n",
       "\n",
       "    .dataframe tbody tr th {\n",
       "        vertical-align: top;\n",
       "    }\n",
       "\n",
       "    .dataframe thead th {\n",
       "        text-align: right;\n",
       "    }\n",
       "</style>\n",
       "<table border=\"1\" class=\"dataframe\">\n",
       "  <thead>\n",
       "    <tr style=\"text-align: right;\">\n",
       "      <th></th>\n",
       "      <th>구별</th>\n",
       "      <th>소계</th>\n",
       "      <th>2013년도 이전</th>\n",
       "      <th>2014년</th>\n",
       "      <th>2015년</th>\n",
       "      <th>2016년</th>\n",
       "      <th>최근증가율</th>\n",
       "    </tr>\n",
       "  </thead>\n",
       "  <tbody>\n",
       "    <tr>\n",
       "      <th>22</th>\n",
       "      <td>종로구</td>\n",
       "      <td>1002</td>\n",
       "      <td>464</td>\n",
       "      <td>314</td>\n",
       "      <td>211</td>\n",
       "      <td>630</td>\n",
       "      <td>248.922414</td>\n",
       "    </tr>\n",
       "    <tr>\n",
       "      <th>9</th>\n",
       "      <td>도봉구</td>\n",
       "      <td>485</td>\n",
       "      <td>238</td>\n",
       "      <td>159</td>\n",
       "      <td>42</td>\n",
       "      <td>386</td>\n",
       "      <td>246.638655</td>\n",
       "    </tr>\n",
       "    <tr>\n",
       "      <th>12</th>\n",
       "      <td>마포구</td>\n",
       "      <td>574</td>\n",
       "      <td>314</td>\n",
       "      <td>118</td>\n",
       "      <td>169</td>\n",
       "      <td>379</td>\n",
       "      <td>212.101911</td>\n",
       "    </tr>\n",
       "    <tr>\n",
       "      <th>8</th>\n",
       "      <td>노원구</td>\n",
       "      <td>1265</td>\n",
       "      <td>542</td>\n",
       "      <td>57</td>\n",
       "      <td>451</td>\n",
       "      <td>516</td>\n",
       "      <td>188.929889</td>\n",
       "    </tr>\n",
       "    <tr>\n",
       "      <th>1</th>\n",
       "      <td>강동구</td>\n",
       "      <td>773</td>\n",
       "      <td>379</td>\n",
       "      <td>99</td>\n",
       "      <td>155</td>\n",
       "      <td>377</td>\n",
       "      <td>166.490765</td>\n",
       "    </tr>\n",
       "  </tbody>\n",
       "</table>\n",
       "</div>"
      ],
      "text/plain": [
       "     구별    소계  2013년도 이전  2014년  2015년  2016년       최근증가율\n",
       "22  종로구  1002        464    314    211    630  248.922414\n",
       "9   도봉구   485        238    159     42    386  246.638655\n",
       "12  마포구   574        314    118    169    379  212.101911\n",
       "8   노원구  1265        542     57    451    516  188.929889\n",
       "1   강동구   773        379     99    155    377  166.490765"
      ]
     },
     "execution_count": 42,
     "metadata": {},
     "output_type": "execute_result"
    }
   ],
   "source": [
    "CCTV_Seoul['최근증가율'] = (CCTV_Seoul['2016년'] + CCTV_Seoul['2015년'] + \\\n",
    "                      CCTV_Seoul['2014년']) / CCTV_Seoul['2013년도 이전'] * 100\n",
    "CCTV_Seoul.sort_values(by='최근증가율', ascending=False).head(5)"
   ]
  },
  {
   "cell_type": "code",
   "execution_count": 43,
   "metadata": {},
   "outputs": [
    {
     "data": {
      "text/html": [
       "<div>\n",
       "<style scoped>\n",
       "    .dataframe tbody tr th:only-of-type {\n",
       "        vertical-align: middle;\n",
       "    }\n",
       "\n",
       "    .dataframe tbody tr th {\n",
       "        vertical-align: top;\n",
       "    }\n",
       "\n",
       "    .dataframe thead th {\n",
       "        text-align: right;\n",
       "    }\n",
       "</style>\n",
       "<table border=\"1\" class=\"dataframe\">\n",
       "  <thead>\n",
       "    <tr style=\"text-align: right;\">\n",
       "      <th></th>\n",
       "      <th>구별</th>\n",
       "      <th>인구수</th>\n",
       "      <th>한국인</th>\n",
       "      <th>외국인</th>\n",
       "      <th>고령자</th>\n",
       "      <th>외국인비율</th>\n",
       "      <th>고령자비율</th>\n",
       "    </tr>\n",
       "  </thead>\n",
       "  <tbody>\n",
       "    <tr>\n",
       "      <th>0</th>\n",
       "      <td>합계</td>\n",
       "      <td>10197604.0</td>\n",
       "      <td>9926968.0</td>\n",
       "      <td>270636.0</td>\n",
       "      <td>1321458.0</td>\n",
       "      <td>2.653918</td>\n",
       "      <td>12.958515</td>\n",
       "    </tr>\n",
       "    <tr>\n",
       "      <th>1</th>\n",
       "      <td>종로구</td>\n",
       "      <td>162820.0</td>\n",
       "      <td>153589.0</td>\n",
       "      <td>9231.0</td>\n",
       "      <td>25425.0</td>\n",
       "      <td>5.669451</td>\n",
       "      <td>15.615404</td>\n",
       "    </tr>\n",
       "    <tr>\n",
       "      <th>2</th>\n",
       "      <td>중구</td>\n",
       "      <td>133240.0</td>\n",
       "      <td>124312.0</td>\n",
       "      <td>8928.0</td>\n",
       "      <td>20764.0</td>\n",
       "      <td>6.700690</td>\n",
       "      <td>15.583909</td>\n",
       "    </tr>\n",
       "    <tr>\n",
       "      <th>3</th>\n",
       "      <td>용산구</td>\n",
       "      <td>244203.0</td>\n",
       "      <td>229456.0</td>\n",
       "      <td>14747.0</td>\n",
       "      <td>36231.0</td>\n",
       "      <td>6.038828</td>\n",
       "      <td>14.836427</td>\n",
       "    </tr>\n",
       "    <tr>\n",
       "      <th>4</th>\n",
       "      <td>성동구</td>\n",
       "      <td>311244.0</td>\n",
       "      <td>303380.0</td>\n",
       "      <td>7864.0</td>\n",
       "      <td>39997.0</td>\n",
       "      <td>2.526635</td>\n",
       "      <td>12.850689</td>\n",
       "    </tr>\n",
       "  </tbody>\n",
       "</table>\n",
       "</div>"
      ],
      "text/plain": [
       "    구별         인구수        한국인       외국인        고령자     외국인비율      고령자비율\n",
       "0   합계  10197604.0  9926968.0  270636.0  1321458.0  2.653918  12.958515\n",
       "1  종로구    162820.0   153589.0    9231.0    25425.0  5.669451  15.615404\n",
       "2   중구    133240.0   124312.0    8928.0    20764.0  6.700690  15.583909\n",
       "3  용산구    244203.0   229456.0   14747.0    36231.0  6.038828  14.836427\n",
       "4  성동구    311244.0   303380.0    7864.0    39997.0  2.526635  12.850689"
      ]
     },
     "execution_count": 43,
     "metadata": {},
     "output_type": "execute_result"
    }
   ],
   "source": [
    "pop_Seoul['외국인비율'] = pop_Seoul['외국인'] / pop_Seoul['인구수'] * 100\n",
    "pop_Seoul['고령자비율'] = pop_Seoul['고령자'] / pop_Seoul['인구수'] * 100\n",
    "pop_Seoul.head()"
   ]
  },
  {
   "cell_type": "code",
   "execution_count": 44,
   "metadata": {},
   "outputs": [
    {
     "data": {
      "text/html": [
       "<div>\n",
       "<style scoped>\n",
       "    .dataframe tbody tr th:only-of-type {\n",
       "        vertical-align: middle;\n",
       "    }\n",
       "\n",
       "    .dataframe tbody tr th {\n",
       "        vertical-align: top;\n",
       "    }\n",
       "\n",
       "    .dataframe thead th {\n",
       "        text-align: right;\n",
       "    }\n",
       "</style>\n",
       "<table border=\"1\" class=\"dataframe\">\n",
       "  <thead>\n",
       "    <tr style=\"text-align: right;\">\n",
       "      <th></th>\n",
       "      <th>구별</th>\n",
       "      <th>소계</th>\n",
       "      <th>2013년도 이전</th>\n",
       "      <th>2014년</th>\n",
       "      <th>2015년</th>\n",
       "      <th>2016년</th>\n",
       "      <th>최근증가율</th>\n",
       "      <th>인구수</th>\n",
       "      <th>한국인</th>\n",
       "      <th>외국인</th>\n",
       "      <th>고령자</th>\n",
       "      <th>외국인비율</th>\n",
       "      <th>고령자비율</th>\n",
       "    </tr>\n",
       "  </thead>\n",
       "  <tbody>\n",
       "    <tr>\n",
       "      <th>0</th>\n",
       "      <td>강남구</td>\n",
       "      <td>2780</td>\n",
       "      <td>1292</td>\n",
       "      <td>430</td>\n",
       "      <td>584</td>\n",
       "      <td>932</td>\n",
       "      <td>150.619195</td>\n",
       "      <td>570500.0</td>\n",
       "      <td>565550.0</td>\n",
       "      <td>4950.0</td>\n",
       "      <td>63167.0</td>\n",
       "      <td>0.867660</td>\n",
       "      <td>11.072217</td>\n",
       "    </tr>\n",
       "    <tr>\n",
       "      <th>1</th>\n",
       "      <td>강동구</td>\n",
       "      <td>773</td>\n",
       "      <td>379</td>\n",
       "      <td>99</td>\n",
       "      <td>155</td>\n",
       "      <td>377</td>\n",
       "      <td>166.490765</td>\n",
       "      <td>453233.0</td>\n",
       "      <td>449019.0</td>\n",
       "      <td>4214.0</td>\n",
       "      <td>54622.0</td>\n",
       "      <td>0.929765</td>\n",
       "      <td>12.051638</td>\n",
       "    </tr>\n",
       "    <tr>\n",
       "      <th>2</th>\n",
       "      <td>강북구</td>\n",
       "      <td>748</td>\n",
       "      <td>369</td>\n",
       "      <td>120</td>\n",
       "      <td>138</td>\n",
       "      <td>204</td>\n",
       "      <td>125.203252</td>\n",
       "      <td>330192.0</td>\n",
       "      <td>326686.0</td>\n",
       "      <td>3506.0</td>\n",
       "      <td>54813.0</td>\n",
       "      <td>1.061806</td>\n",
       "      <td>16.600342</td>\n",
       "    </tr>\n",
       "    <tr>\n",
       "      <th>3</th>\n",
       "      <td>강서구</td>\n",
       "      <td>884</td>\n",
       "      <td>388</td>\n",
       "      <td>258</td>\n",
       "      <td>184</td>\n",
       "      <td>81</td>\n",
       "      <td>134.793814</td>\n",
       "      <td>603772.0</td>\n",
       "      <td>597248.0</td>\n",
       "      <td>6524.0</td>\n",
       "      <td>72548.0</td>\n",
       "      <td>1.080540</td>\n",
       "      <td>12.015794</td>\n",
       "    </tr>\n",
       "    <tr>\n",
       "      <th>4</th>\n",
       "      <td>관악구</td>\n",
       "      <td>1496</td>\n",
       "      <td>846</td>\n",
       "      <td>260</td>\n",
       "      <td>390</td>\n",
       "      <td>613</td>\n",
       "      <td>149.290780</td>\n",
       "      <td>525515.0</td>\n",
       "      <td>507203.0</td>\n",
       "      <td>18312.0</td>\n",
       "      <td>68082.0</td>\n",
       "      <td>3.484582</td>\n",
       "      <td>12.955291</td>\n",
       "    </tr>\n",
       "  </tbody>\n",
       "</table>\n",
       "</div>"
      ],
      "text/plain": [
       "    구별    소계  2013년도 이전  2014년  2015년  2016년       최근증가율       인구수       한국인  \\\n",
       "0  강남구  2780       1292    430    584    932  150.619195  570500.0  565550.0   \n",
       "1  강동구   773        379     99    155    377  166.490765  453233.0  449019.0   \n",
       "2  강북구   748        369    120    138    204  125.203252  330192.0  326686.0   \n",
       "3  강서구   884        388    258    184     81  134.793814  603772.0  597248.0   \n",
       "4  관악구  1496        846    260    390    613  149.290780  525515.0  507203.0   \n",
       "\n",
       "       외국인      고령자     외국인비율      고령자비율  \n",
       "0   4950.0  63167.0  0.867660  11.072217  \n",
       "1   4214.0  54622.0  0.929765  12.051638  \n",
       "2   3506.0  54813.0  1.061806  16.600342  \n",
       "3   6524.0  72548.0  1.080540  12.015794  \n",
       "4  18312.0  68082.0  3.484582  12.955291  "
      ]
     },
     "execution_count": 44,
     "metadata": {},
     "output_type": "execute_result"
    }
   ],
   "source": [
    "data_result = pd.merge(CCTV_Seoul, pop_Seoul, on='구별') # 데이터프레임 병합\n",
    "data_result.head()"
   ]
  },
  {
   "cell_type": "code",
   "execution_count": 46,
   "metadata": {},
   "outputs": [
    {
     "data": {
      "text/html": [
       "<div>\n",
       "<style scoped>\n",
       "    .dataframe tbody tr th:only-of-type {\n",
       "        vertical-align: middle;\n",
       "    }\n",
       "\n",
       "    .dataframe tbody tr th {\n",
       "        vertical-align: top;\n",
       "    }\n",
       "\n",
       "    .dataframe thead th {\n",
       "        text-align: right;\n",
       "    }\n",
       "</style>\n",
       "<table border=\"1\" class=\"dataframe\">\n",
       "  <thead>\n",
       "    <tr style=\"text-align: right;\">\n",
       "      <th></th>\n",
       "      <th>구별</th>\n",
       "      <th>소계</th>\n",
       "      <th>최근증가율</th>\n",
       "      <th>인구수</th>\n",
       "      <th>한국인</th>\n",
       "      <th>외국인</th>\n",
       "      <th>고령자</th>\n",
       "      <th>외국인비율</th>\n",
       "      <th>고령자비율</th>\n",
       "    </tr>\n",
       "  </thead>\n",
       "  <tbody>\n",
       "    <tr>\n",
       "      <th>0</th>\n",
       "      <td>강남구</td>\n",
       "      <td>2780</td>\n",
       "      <td>150.619195</td>\n",
       "      <td>570500.0</td>\n",
       "      <td>565550.0</td>\n",
       "      <td>4950.0</td>\n",
       "      <td>63167.0</td>\n",
       "      <td>0.867660</td>\n",
       "      <td>11.072217</td>\n",
       "    </tr>\n",
       "    <tr>\n",
       "      <th>1</th>\n",
       "      <td>강동구</td>\n",
       "      <td>773</td>\n",
       "      <td>166.490765</td>\n",
       "      <td>453233.0</td>\n",
       "      <td>449019.0</td>\n",
       "      <td>4214.0</td>\n",
       "      <td>54622.0</td>\n",
       "      <td>0.929765</td>\n",
       "      <td>12.051638</td>\n",
       "    </tr>\n",
       "    <tr>\n",
       "      <th>2</th>\n",
       "      <td>강북구</td>\n",
       "      <td>748</td>\n",
       "      <td>125.203252</td>\n",
       "      <td>330192.0</td>\n",
       "      <td>326686.0</td>\n",
       "      <td>3506.0</td>\n",
       "      <td>54813.0</td>\n",
       "      <td>1.061806</td>\n",
       "      <td>16.600342</td>\n",
       "    </tr>\n",
       "    <tr>\n",
       "      <th>3</th>\n",
       "      <td>강서구</td>\n",
       "      <td>884</td>\n",
       "      <td>134.793814</td>\n",
       "      <td>603772.0</td>\n",
       "      <td>597248.0</td>\n",
       "      <td>6524.0</td>\n",
       "      <td>72548.0</td>\n",
       "      <td>1.080540</td>\n",
       "      <td>12.015794</td>\n",
       "    </tr>\n",
       "    <tr>\n",
       "      <th>4</th>\n",
       "      <td>관악구</td>\n",
       "      <td>1496</td>\n",
       "      <td>149.290780</td>\n",
       "      <td>525515.0</td>\n",
       "      <td>507203.0</td>\n",
       "      <td>18312.0</td>\n",
       "      <td>68082.0</td>\n",
       "      <td>3.484582</td>\n",
       "      <td>12.955291</td>\n",
       "    </tr>\n",
       "  </tbody>\n",
       "</table>\n",
       "</div>"
      ],
      "text/plain": [
       "    구별    소계       최근증가율       인구수       한국인      외국인      고령자     외국인비율  \\\n",
       "0  강남구  2780  150.619195  570500.0  565550.0   4950.0  63167.0  0.867660   \n",
       "1  강동구   773  166.490765  453233.0  449019.0   4214.0  54622.0  0.929765   \n",
       "2  강북구   748  125.203252  330192.0  326686.0   3506.0  54813.0  1.061806   \n",
       "3  강서구   884  134.793814  603772.0  597248.0   6524.0  72548.0  1.080540   \n",
       "4  관악구  1496  149.290780  525515.0  507203.0  18312.0  68082.0  3.484582   \n",
       "\n",
       "       고령자비율  \n",
       "0  11.072217  \n",
       "1  12.051638  \n",
       "2  16.600342  \n",
       "3  12.015794  \n",
       "4  12.955291  "
      ]
     },
     "execution_count": 46,
     "metadata": {},
     "output_type": "execute_result"
    }
   ],
   "source": [
    "del data_result['2013년도 이전']\n",
    "del data_result['2014년']\n",
    "del data_result['2015년']\n",
    "del data_result['2016년']\n",
    "data_result.head()"
   ]
  },
  {
   "cell_type": "code",
   "execution_count": 51,
   "metadata": {},
   "outputs": [
    {
     "data": {
      "text/html": [
       "<div>\n",
       "<style scoped>\n",
       "    .dataframe tbody tr th:only-of-type {\n",
       "        vertical-align: middle;\n",
       "    }\n",
       "\n",
       "    .dataframe tbody tr th {\n",
       "        vertical-align: top;\n",
       "    }\n",
       "\n",
       "    .dataframe thead th {\n",
       "        text-align: right;\n",
       "    }\n",
       "</style>\n",
       "<table border=\"1\" class=\"dataframe\">\n",
       "  <thead>\n",
       "    <tr style=\"text-align: right;\">\n",
       "      <th></th>\n",
       "      <th>소계</th>\n",
       "      <th>최근증가율</th>\n",
       "      <th>인구수</th>\n",
       "      <th>한국인</th>\n",
       "      <th>외국인</th>\n",
       "      <th>고령자</th>\n",
       "      <th>외국인비율</th>\n",
       "      <th>고령자비율</th>\n",
       "    </tr>\n",
       "    <tr>\n",
       "      <th>구별</th>\n",
       "      <th></th>\n",
       "      <th></th>\n",
       "      <th></th>\n",
       "      <th></th>\n",
       "      <th></th>\n",
       "      <th></th>\n",
       "      <th></th>\n",
       "      <th></th>\n",
       "    </tr>\n",
       "  </thead>\n",
       "  <tbody>\n",
       "    <tr>\n",
       "      <th>강남구</th>\n",
       "      <td>2780</td>\n",
       "      <td>150.619195</td>\n",
       "      <td>570500.0</td>\n",
       "      <td>565550.0</td>\n",
       "      <td>4950.0</td>\n",
       "      <td>63167.0</td>\n",
       "      <td>0.867660</td>\n",
       "      <td>11.072217</td>\n",
       "    </tr>\n",
       "    <tr>\n",
       "      <th>강동구</th>\n",
       "      <td>773</td>\n",
       "      <td>166.490765</td>\n",
       "      <td>453233.0</td>\n",
       "      <td>449019.0</td>\n",
       "      <td>4214.0</td>\n",
       "      <td>54622.0</td>\n",
       "      <td>0.929765</td>\n",
       "      <td>12.051638</td>\n",
       "    </tr>\n",
       "    <tr>\n",
       "      <th>강북구</th>\n",
       "      <td>748</td>\n",
       "      <td>125.203252</td>\n",
       "      <td>330192.0</td>\n",
       "      <td>326686.0</td>\n",
       "      <td>3506.0</td>\n",
       "      <td>54813.0</td>\n",
       "      <td>1.061806</td>\n",
       "      <td>16.600342</td>\n",
       "    </tr>\n",
       "    <tr>\n",
       "      <th>강서구</th>\n",
       "      <td>884</td>\n",
       "      <td>134.793814</td>\n",
       "      <td>603772.0</td>\n",
       "      <td>597248.0</td>\n",
       "      <td>6524.0</td>\n",
       "      <td>72548.0</td>\n",
       "      <td>1.080540</td>\n",
       "      <td>12.015794</td>\n",
       "    </tr>\n",
       "    <tr>\n",
       "      <th>관악구</th>\n",
       "      <td>1496</td>\n",
       "      <td>149.290780</td>\n",
       "      <td>525515.0</td>\n",
       "      <td>507203.0</td>\n",
       "      <td>18312.0</td>\n",
       "      <td>68082.0</td>\n",
       "      <td>3.484582</td>\n",
       "      <td>12.955291</td>\n",
       "    </tr>\n",
       "  </tbody>\n",
       "</table>\n",
       "</div>"
      ],
      "text/plain": [
       "       소계       최근증가율       인구수       한국인      외국인      고령자     외국인비율  \\\n",
       "구별                                                                      \n",
       "강남구  2780  150.619195  570500.0  565550.0   4950.0  63167.0  0.867660   \n",
       "강동구   773  166.490765  453233.0  449019.0   4214.0  54622.0  0.929765   \n",
       "강북구   748  125.203252  330192.0  326686.0   3506.0  54813.0  1.061806   \n",
       "강서구   884  134.793814  603772.0  597248.0   6524.0  72548.0  1.080540   \n",
       "관악구  1496  149.290780  525515.0  507203.0  18312.0  68082.0  3.484582   \n",
       "\n",
       "         고령자비율  \n",
       "구별              \n",
       "강남구  11.072217  \n",
       "강동구  12.051638  \n",
       "강북구  16.600342  \n",
       "강서구  12.015794  \n",
       "관악구  12.955291  "
      ]
     },
     "execution_count": 51,
     "metadata": {},
     "output_type": "execute_result"
    }
   ],
   "source": [
    "data_result.set_index('구별', inplace=True) # 특정 열을 인덱스로 지정\n",
    "data_result.head()"
   ]
  },
  {
   "cell_type": "code",
   "execution_count": 52,
   "metadata": {},
   "outputs": [],
   "source": [
    "import platform \n",
    "from matplotlib import font_manager, rc\n",
    "import matplotlib.pyplot as plt\n",
    "\n",
    "plt.rcParams['axes.unicode_minus'] = False\n",
    "\n",
    "if platform.system() == 'Dawin':\n",
    "    rc('font', family='AppleGothic')\n",
    "elif platform.system() == 'Windows':\n",
    "    path = \"c:/Windows/Fonts/malgun.ttf\"\n",
    "    font_name = font_manager.FontProperties(fname=path).get_name()\n",
    "    rc('font', family=font_name)\n",
    "else:\n",
    "    print(\"Unknown system\")"
   ]
  },
  {
   "cell_type": "code",
   "execution_count": 53,
   "metadata": {},
   "outputs": [
    {
     "data": {
      "image/png": "[encoded data removed]",
      "text/plain": [
       "<Figure size 720x720 with 1 Axes>"
      ]
     },
     "metadata": {
      "needs_background": "light"
     },
     "output_type": "display_data"
    }
   ],
   "source": [
    "data_result['소계'].sort_values().plot(kind='barh',\n",
    "                                    grid=True, figsize=(10,10)) # 데이터 별로 선 그래프 출력\n",
    "plt.show()"
   ]
  },
  {
   "cell_type": "code",
   "execution_count": 54,
   "metadata": {
    "scrolled": true
   },
   "outputs": [
    {
     "data": {
      "image/png": "[encoded data removed]",
      "text/plain": [
       "<Figure size 720x720 with 1 Axes>"
      ]
     },
     "metadata": {
      "needs_background": "light"
     },
     "output_type": "display_data"
    }
   ],
   "source": [
    "data_result['CCTV비율'] = data_result['소계'] / data_result['인구수'] * 100\n",
    "data_result['CCTV비율'].sort_values().plot(kind='barh', # 가로 막대 그래프\n",
    "                                        grid=True, figsize=(10,10))\n",
    "plt.show()"
   ]
  },
  {
   "cell_type": "code",
   "execution_count": 56,
   "metadata": {},
   "outputs": [
    {
     "data": {
      "image/png": "[encoded data removed]",
      "text/plain": [
       "<Figure size 432x432 with 1 Axes>"
      ]
     },
     "metadata": {
      "needs_background": "light"
     },
     "output_type": "display_data"
    }
   ],
   "source": [
    "plt.figure(figsize=(6,6)) # 이미지 크기 조절 (가로, 세로)\n",
    "plt.scatter(data_result['인구수'], data_result['소계'], s=50) \n",
    "# 산점도 그래프, 두 변수 간의 연관 관계\n",
    "plt.xlabel('인구수') # x축 제목 \n",
    "plt.ylabel('CCTV') # y축 제목\n",
    "plt.grid()\n",
    "plt.show()"
   ]
  },
  {
   "cell_type": "code",
   "execution_count": 58,
   "metadata": {},
   "outputs": [
    {
     "data": {
      "text/html": [
       "<div>\n",
       "<style scoped>\n",
       "    .dataframe tbody tr th:only-of-type {\n",
       "        vertical-align: middle;\n",
       "    }\n",
       "\n",
       "    .dataframe tbody tr th {\n",
       "        vertical-align: top;\n",
       "    }\n",
       "\n",
       "    .dataframe thead th {\n",
       "        text-align: right;\n",
       "    }\n",
       "</style>\n",
       "<table border=\"1\" class=\"dataframe\">\n",
       "  <thead>\n",
       "    <tr style=\"text-align: right;\">\n",
       "      <th></th>\n",
       "      <th>소계</th>\n",
       "      <th>최근증가율</th>\n",
       "      <th>인구수</th>\n",
       "      <th>한국인</th>\n",
       "      <th>외국인</th>\n",
       "      <th>고령자</th>\n",
       "      <th>외국인비율</th>\n",
       "      <th>고령자비율</th>\n",
       "      <th>CCTV비율</th>\n",
       "      <th>오차</th>\n",
       "    </tr>\n",
       "    <tr>\n",
       "      <th>구별</th>\n",
       "      <th></th>\n",
       "      <th></th>\n",
       "      <th></th>\n",
       "      <th></th>\n",
       "      <th></th>\n",
       "      <th></th>\n",
       "      <th></th>\n",
       "      <th></th>\n",
       "      <th></th>\n",
       "      <th></th>\n",
       "    </tr>\n",
       "  </thead>\n",
       "  <tbody>\n",
       "    <tr>\n",
       "      <th>강남구</th>\n",
       "      <td>2780</td>\n",
       "      <td>150.619195</td>\n",
       "      <td>570500.0</td>\n",
       "      <td>565550.0</td>\n",
       "      <td>4950.0</td>\n",
       "      <td>63167.0</td>\n",
       "      <td>0.867660</td>\n",
       "      <td>11.072217</td>\n",
       "      <td>0.487292</td>\n",
       "      <td>1388.055355</td>\n",
       "    </tr>\n",
       "    <tr>\n",
       "      <th>송파구</th>\n",
       "      <td>618</td>\n",
       "      <td>104.347826</td>\n",
       "      <td>667483.0</td>\n",
       "      <td>660584.0</td>\n",
       "      <td>6899.0</td>\n",
       "      <td>72506.0</td>\n",
       "      <td>1.033584</td>\n",
       "      <td>10.862599</td>\n",
       "      <td>0.092587</td>\n",
       "      <td>900.911312</td>\n",
       "    </tr>\n",
       "    <tr>\n",
       "      <th>양천구</th>\n",
       "      <td>2034</td>\n",
       "      <td>34.671731</td>\n",
       "      <td>479978.0</td>\n",
       "      <td>475949.0</td>\n",
       "      <td>4029.0</td>\n",
       "      <td>52975.0</td>\n",
       "      <td>0.839413</td>\n",
       "      <td>11.036964</td>\n",
       "      <td>0.423769</td>\n",
       "      <td>760.563512</td>\n",
       "    </tr>\n",
       "    <tr>\n",
       "      <th>서초구</th>\n",
       "      <td>1930</td>\n",
       "      <td>63.371266</td>\n",
       "      <td>450310.0</td>\n",
       "      <td>445994.0</td>\n",
       "      <td>4316.0</td>\n",
       "      <td>51733.0</td>\n",
       "      <td>0.958451</td>\n",
       "      <td>11.488308</td>\n",
       "      <td>0.428594</td>\n",
       "      <td>695.403794</td>\n",
       "    </tr>\n",
       "    <tr>\n",
       "      <th>용산구</th>\n",
       "      <td>1624</td>\n",
       "      <td>53.216374</td>\n",
       "      <td>244203.0</td>\n",
       "      <td>229456.0</td>\n",
       "      <td>14747.0</td>\n",
       "      <td>36231.0</td>\n",
       "      <td>6.038828</td>\n",
       "      <td>14.836427</td>\n",
       "      <td>0.665020</td>\n",
       "      <td>659.231690</td>\n",
       "    </tr>\n",
       "  </tbody>\n",
       "</table>\n",
       "</div>"
      ],
      "text/plain": [
       "       소계       최근증가율       인구수       한국인      외국인      고령자     외국인비율  \\\n",
       "구별                                                                      \n",
       "강남구  2780  150.619195  570500.0  565550.0   4950.0  63167.0  0.867660   \n",
       "송파구   618  104.347826  667483.0  660584.0   6899.0  72506.0  1.033584   \n",
       "양천구  2034   34.671731  479978.0  475949.0   4029.0  52975.0  0.839413   \n",
       "서초구  1930   63.371266  450310.0  445994.0   4316.0  51733.0  0.958451   \n",
       "용산구  1624   53.216374  244203.0  229456.0  14747.0  36231.0  6.038828   \n",
       "\n",
       "         고령자비율    CCTV비율           오차  \n",
       "구별                                     \n",
       "강남구  11.072217  0.487292  1388.055355  \n",
       "송파구  10.862599  0.092587   900.911312  \n",
       "양천구  11.036964  0.423769   760.563512  \n",
       "서초구  11.488308  0.428594   695.403794  \n",
       "용산구  14.836427  0.665020   659.231690  "
      ]
     },
     "execution_count": 58,
     "metadata": {},
     "output_type": "execute_result"
    }
   ],
   "source": [
    "fp1 = np.polyfit(data_result['인구수'], data_result['소계'], 1) \n",
    "# polyfit함수를 이용해 예측모델(1차월 함수) fp1의 계수를 만들어냄\n",
    "f1 = np.poly1d(fp1)\n",
    "# 만들어낸 예측모델을 이용해 그래프 그리기\n",
    "fx = np.linspace(100000, 700000, 100)\n",
    "# 10만~70만까지 총 100개의 구간으로 나눠서 표현\n",
    "\n",
    "data_result['오차'] = np.abs(data_result['소계'] - f1(data_result['인구수']))\n",
    "# 오차값 계산 및 오차 칼럼 생성\n",
    "df_sort = data_result.sort_values(by='오차', ascending=False)\n",
    "# 오차값을 기준으로 내림차순으로 정렬\n",
    "df_sort.head()\n",
    "# 0번째행~4번째행까지의 값을 출력"
   ]
  },
  {
   "cell_type": "code",
   "execution_count": 59,
   "metadata": {},
   "outputs": [
    {
     "data": {
      "image/png": "[encoded data removed]",
      "text/plain": [
       "<Figure size 1008x720 with 2 Axes>"
      ]
     },
     "metadata": {
      "needs_background": "light"
     },
     "output_type": "display_data"
    }
   ],
   "source": [
    "plt.figure(figsize=(14,10))\n",
    "plt.scatter(data_result['인구수'], data_result['소계'],\n",
    "           c=data_result['오차'], s=50)\n",
    "plt.plot(fx, f1(fx), ls='dashed', lw=3, color='g')\n",
    "\n",
    "for n in range(10):\n",
    "    plt.text(df_sort['인구수'][n]*1.02, df_sort['소계'][n]*0.98,\n",
    "            df_sort.index[n], fontsize = 15)\n",
    "plt.xlabel('인구수')\n",
    "plt.ylabel('인구당비율')\n",
    "plt.colorbar()\n",
    "plt.grid()\n",
    "plt.show()"
   ]
  },
  {
   "cell_type": "markdown",
   "metadata": {},
   "source": [
    "# 실습 11주차: matplotlib를 이용한 기온 데이터 분석 및 시각화"
   ]
  },
  {
   "cell_type": "code",
   "execution_count": 6,
   "metadata": {},
   "outputs": [],
   "source": [
    "# Matplotlib: 대표적인 그래프 시각화 라이브러리(워드 클라우드, 폴리움)\n",
    "# savefig(): 생성한 시각화 이미지 저장"
   ]
  },
  {
   "cell_type": "code",
   "execution_count": 12,
   "metadata": {},
   "outputs": [],
   "source": [
    "import csv\n",
    "import matplotlib.pyplot as plt\n",
    "\n",
    "f = open('seoul.csv')\n",
    "data = csv.reader(f)"
   ]
  },
  {
   "cell_type": "code",
   "execution_count": 13,
   "metadata": {},
   "outputs": [],
   "source": [
    "f = open('seoul.csv')\n",
    "data = csv.reader(f)\n",
    "next(data) # 헤더부분 제외, 최고 기온만 리스트에 저장\n",
    "result = []\n",
    "\n",
    "for row in data:\n",
    "    if row[-1] != '':\n",
    "        result.append(float(row[-1]))"
   ]
  },
  {
   "cell_type": "code",
   "execution_count": 14,
   "metadata": {},
   "outputs": [
    {
     "name": "stdout",
     "output_type": "stream",
     "text": [
      "39463\n"
     ]
    }
   ],
   "source": [
    "print(len(result))"
   ]
  },
  {
   "cell_type": "code",
   "execution_count": 15,
   "metadata": {
    "scrolled": true
   },
   "outputs": [
    {
     "data": {
      "image/png": "[encoded data removed]",
      "text/plain": [
       "<Figure size 432x288 with 1 Axes>"
      ]
     },
     "metadata": {
      "needs_background": "light"
     },
     "output_type": "display_data"
    }
   ],
   "source": [
    "plt.plot(result, 'r')\n",
    "plt.show()"
   ]
  },
  {
   "cell_type": "code",
   "execution_count": 16,
   "metadata": {},
   "outputs": [
    {
     "name": "stdout",
     "output_type": "stream",
     "text": [
      "1907\n",
      "10\n",
      "01\n"
     ]
    }
   ],
   "source": [
    "date = '1907-10-01'\n",
    "print(date.split('-')[0])\n",
    "print(date.split('-')[1])\n",
    "print(date.split('-')[2])"
   ]
  },
  {
   "cell_type": "code",
   "execution_count": 17,
   "metadata": {},
   "outputs": [
    {
     "data": {
      "image/png": "[encoded data removed]",
      "text/plain": [
       "<Figure size 432x288 with 1 Axes>"
      ]
     },
     "metadata": {
      "needs_background": "light"
     },
     "output_type": "display_data"
    }
   ],
   "source": [
    "f = open('seoul.csv')\n",
    "data = csv.reader(f)\n",
    "next(data) # 헤더부분 제외, 최고 기온만 리스트에 저장\n",
    "result = []\n",
    "\n",
    "for row in data:\n",
    "    if row[-1] != '':\n",
    "        if row[0].split('-')[1] == '08':\n",
    "            result.append(float(row[-1]))\n",
    "# plt.figure(dpi=300)\n",
    "plt.plot(result, 'hotpink')\n",
    "plt.show()"
   ]
  },
  {
   "cell_type": "code",
   "execution_count": 18,
   "metadata": {},
   "outputs": [
    {
     "data": {
      "image/png": "[encoded data removed]",
      "text/plain": [
       "<Figure size 432x288 with 1 Axes>"
      ]
     },
     "metadata": {
      "needs_background": "light"
     },
     "output_type": "display_data"
    }
   ],
   "source": [
    "f = open('seoul.csv')\n",
    "data = csv.reader(f)\n",
    "next(data) # 헤더부분 제외, 최고 기온만 리스트에 저장\n",
    "result = []\n",
    "\n",
    "for row in data:\n",
    "    if row[-1] != '':\n",
    "        if row[0].split('-')[1] == '02' and row[0].split('-')[2] == '14':\n",
    "            result.append(float(row[-1]))\n",
    "# plt.figure(dpi=300)\n",
    "plt.plot(result, 'hotpink')\n",
    "plt.show()"
   ]
  },
  {
   "cell_type": "code",
   "execution_count": 19,
   "metadata": {},
   "outputs": [
    {
     "data": {
      "image/png": "[encoded data removed]",
      "text/plain": [
       "<Figure size 432x288 with 1 Axes>"
      ]
     },
     "metadata": {
      "needs_background": "light"
     },
     "output_type": "display_data"
    }
   ],
   "source": [
    "f = open('seoul.csv')\n",
    "data = csv.reader(f)\n",
    "next(data) # 헤더부분 제외, 최고 기온만 리스트에 저장\n",
    "high = []\n",
    "low = []\n",
    "\n",
    "for row in data:\n",
    "    if row[-1] != '' and row[-2] != '':\n",
    "        date = row[0].split('-')\n",
    "        if 1983 <= int(date[0]):\n",
    "            if date[1] == '02' and date[2] == '27':\n",
    "                high.append(float(row[-1]))\n",
    "                low.append(float(row[-2]))\n",
    "            \n",
    "                plt.rc('font', family='Malgun Gothic') # 맑은 고딕 기본 글꼴\n",
    "                \n",
    "plt.rcParams['axes.unicode_minus'] = False # 마이너스 기호 깨짐 방지\n",
    "plt.title('내 생일의 기온 변화 그래프')\n",
    "plt.plot(high, 'hotpink', label = 'high')\n",
    "plt.plot(low, 'skyblue', label = 'low')\n",
    "plt.legend() # 범례 표시\n",
    "plt.show()"
   ]
  },
  {
   "cell_type": "code",
   "execution_count": 20,
   "metadata": {},
   "outputs": [
    {
     "data": {
      "image/png": "[encoded data removed]",
      "text/plain": [
       "<Figure size 432x288 with 1 Axes>"
      ]
     },
     "metadata": {
      "needs_background": "light"
     },
     "output_type": "display_data"
    }
   ],
   "source": [
    "f = open('seoul.csv')\n",
    "data = csv.reader(f)\n",
    "next(data) # 헤더부분 제외, 최고 기온만 리스트에 저장\n",
    "result = []\n",
    "\n",
    "for row in data:\n",
    "    if row[-1] != '':\n",
    "        result.append(float(row[-1]))\n",
    "\n",
    "plt.hist(result, bins=100, color='r') # 중복이 여러개일때, 모아서 표현하는 히스\n",
    "plt.show()"
   ]
  },
  {
   "cell_type": "code",
   "execution_count": 21,
   "metadata": {},
   "outputs": [
    {
     "data": {
      "image/png": "[encoded data removed]",
      "text/plain": [
       "<Figure size 432x288 with 1 Axes>"
      ]
     },
     "metadata": {
      "needs_background": "light"
     },
     "output_type": "display_data"
    }
   ],
   "source": [
    "f = open('seoul.csv')\n",
    "data = csv.reader(f)\n",
    "next(data) # 헤더부분 제외, 최고 기온만 리스트에 저장\n",
    "aug = []\n",
    "\n",
    "for row in data:\n",
    "    month = row[0].split('-')[1]\n",
    "    if row[-1] != '':\n",
    "        if month == '08':    \n",
    "            aug.append(float(row[-1]))\n",
    "\n",
    "plt.hist(aug, bins=100, color='r')\n",
    "plt.show()"
   ]
  },
  {
   "cell_type": "code",
   "execution_count": 22,
   "metadata": {},
   "outputs": [
    {
     "data": {
      "image/png": "[encoded data removed]",
      "text/plain": [
       "<Figure size 432x288 with 1 Axes>"
      ]
     },
     "metadata": {
      "needs_background": "light"
     },
     "output_type": "display_data"
    }
   ],
   "source": [
    "f = open('seoul.csv')\n",
    "data = csv.reader(f)\n",
    "next(data) # 헤더부분 제외, 최고 기온만 리스트에 저장\n",
    "aug = []\n",
    "jan = []\n",
    "\n",
    "for row in data:\n",
    "    month = row[0].split('-')[1]\n",
    "    if row[-1] != '':\n",
    "        if month == '08':    \n",
    "            aug.append(float(row[-1]))\n",
    "        if month == '01':\n",
    "            jan.append(float(row[-1]))\n",
    "\n",
    "plt.hist(aug, bins=100, color='r', label = 'Aug')\n",
    "plt.hist(jan, bins=100, color='b', label = 'Jan')\n",
    "plt.legend() # 범례 표시\n",
    "plt.show()"
   ]
  },
  {
   "cell_type": "markdown",
   "metadata": {},
   "source": [
    "# 실습 12주차: BeautifulSoup을 이용한 웹데이터 분석 및 시각화"
   ]
  },
  {
   "cell_type": "code",
   "execution_count": null,
   "metadata": {},
   "outputs": [],
   "source": [
    "# Beautiful Soup: 웹페이지 정보를 수집하는 크롤링 라이브러리\n",
    "# HTML(웹페이지를 구조화하기 위해 만든 언어이나 XML의 태그 정보를 이용하여 웹 페이지의 정보를 수집 \n",
    "# urllib: 웹페이지 연결 \n",
    "# 크롤링 흐름: 패키지 불러오기 -> 웹사이트 정보 요청 -> 문서구조 분석 및 파싱 -> 필요 정보 추출"
   ]
  },
  {
   "cell_type": "code",
   "execution_count": null,
   "metadata": {},
   "outputs": [],
   "source": [
    "ex1.html\n",
    "<html><head><title>The Dormouse's story</title></head>\n",
    "<body>\n",
    "<p class=\"title\"><b>The Dormouse's story</b></p>\n",
    "\n",
    "<p class=\"story\">Once upon a time there were three little sisters; and their names were\n",
    "<a href=\"http://example.com/elsie\" class=\"sister\" id=\"link1\">Elsie</a>,\n",
    "<a href=\"http://example.com/lacie\" class=\"sister\" id=\"link2\">Lacie</a> and\n",
    "<a href=\"http://example.com/elsie\" class=\"tillie\" id=\"link3\">Tillie</a>;\n",
    "and they lived at the bottom of a well.</p>\n",
    "\n",
    "<p class=\"story\">...</p>"
   ]
  },
  {
   "cell_type": "code",
   "execution_count": 2,
   "metadata": {},
   "outputs": [
    {
     "name": "stdout",
     "output_type": "stream",
     "text": [
      "<html>\n",
      " <head>\n",
      "  <title>\n",
      "   The Dormouse's story\n",
      "  </title>\n",
      " </head>\n",
      " <body>\n",
      "  <p class=\"title\">\n",
      "   <b>\n",
      "    The Dormouse's story\n",
      "   </b>\n",
      "  </p>\n",
      "  <p class=\"story\">\n",
      "   Once upon a time there were three little sisters; and their names were\n",
      "   <a class=\"sister\" href=\"http://example.com/elsie\" id=\"link1\">\n",
      "    Elsie\n",
      "   </a>\n",
      "   ,\n",
      "   <a class=\"sister\" href=\"http://example.com/lacie\" id=\"link2\">\n",
      "    Lacie\n",
      "   </a>\n",
      "   and\n",
      "   <a class=\"tillie\" href=\"http://example.com/elsie\" id=\"link3\">\n",
      "    Tillie\n",
      "   </a>\n",
      "   ;\n",
      "and they lived at the bottom of a well.\n",
      "  </p>\n",
      "  <p class=\"story\">\n",
      "   ...\n",
      "  </p>\n",
      " </body>\n",
      "</html>\n"
     ]
    }
   ],
   "source": [
    "from bs4 import BeautifulSoup\n",
    "page = open('ex1.html', 'r').read()\n",
    "soup = BeautifulSoup(page, 'html.parser')\n",
    "print(soup.prettify()) # HTML 코드를 재구조화하여 보기 좋게 만들어주는 코드"
   ]
  },
  {
   "cell_type": "code",
   "execution_count": 3,
   "metadata": {},
   "outputs": [
    {
     "name": "stdout",
     "output_type": "stream",
     "text": [
      "['sister']\n"
     ]
    }
   ],
   "source": [
    "print(soup.a['class'])"
   ]
  },
  {
   "cell_type": "code",
   "execution_count": 163,
   "metadata": {
    "scrolled": true
   },
   "outputs": [
    {
     "ename": "IndexError",
     "evalue": "only integers, slices (`:`), ellipsis (`...`), numpy.newaxis (`None`) and integer or boolean arrays are valid indices",
     "output_type": "error",
     "traceback": [
      "\u001b[1;31m---------------------------------------------------------------------------\u001b[0m",
      "\u001b[1;31mIndexError\u001b[0m                                Traceback (most recent call last)",
      "\u001b[1;32m<ipython-input-163-443eeec998df>\u001b[0m in \u001b[0;36m<module>\u001b[1;34m\u001b[0m\n\u001b[1;32m----> 1\u001b[1;33m \u001b[0mprint\u001b[0m\u001b[1;33m(\u001b[0m\u001b[0msoup\u001b[0m\u001b[1;33m[\u001b[0m\u001b[0ma\u001b[0m\u001b[1;33m[\u001b[0m\u001b[1;34m'class'\u001b[0m\u001b[1;33m]\u001b[0m\u001b[1;33m]\u001b[0m\u001b[1;33m)\u001b[0m\u001b[1;33m\u001b[0m\u001b[1;33m\u001b[0m\u001b[0m\n\u001b[0m",
      "\u001b[1;31mIndexError\u001b[0m: only integers, slices (`:`), ellipsis (`...`), numpy.newaxis (`None`) and integer or boolean arrays are valid indices"
     ]
    }
   ],
   "source": [
    "print(soup[a['class']])"
   ]
  },
  {
   "cell_type": "code",
   "execution_count": 158,
   "metadata": {},
   "outputs": [
    {
     "name": "stdout",
     "output_type": "stream",
     "text": [
      "[]\n"
     ]
    }
   ],
   "source": [
    "print(soup.find_all(\"a\"))"
   ]
  },
  {
   "cell_type": "code",
   "execution_count": 83,
   "metadata": {
    "scrolled": true
   },
   "outputs": [
    {
     "data": {
      "text/plain": [
       "<title>The Dormouse's story</title>"
      ]
     },
     "execution_count": 83,
     "metadata": {},
     "output_type": "execute_result"
    }
   ],
   "source": [
    "soup.title"
   ]
  },
  {
   "cell_type": "code",
   "execution_count": 85,
   "metadata": {},
   "outputs": [
    {
     "data": {
      "text/plain": [
       "\"The Dormouse's story\""
      ]
     },
     "execution_count": 85,
     "metadata": {},
     "output_type": "execute_result"
    }
   ],
   "source": [
    "soup.title.string # 지정 테그 안의 내용 추출"
   ]
  },
  {
   "cell_type": "code",
   "execution_count": 86,
   "metadata": {},
   "outputs": [
    {
     "data": {
      "text/plain": [
       "\"The Dormouse's story\""
      ]
     },
     "execution_count": 86,
     "metadata": {},
     "output_type": "execute_result"
    }
   ],
   "source": [
    "soup.title.get_text()"
   ]
  },
  {
   "cell_type": "code",
   "execution_count": 156,
   "metadata": {},
   "outputs": [
    {
     "name": "stdout",
     "output_type": "stream",
     "text": [
      "None\n"
     ]
    }
   ],
   "source": [
    "print(soup.find(\"a\")) # 모든 지정 태그'a'안의 내용 추출"
   ]
  },
  {
   "cell_type": "code",
   "execution_count": 88,
   "metadata": {},
   "outputs": [
    {
     "data": {
      "text/plain": [
       "'Elsie'"
      ]
     },
     "execution_count": 88,
     "metadata": {},
     "output_type": "execute_result"
    }
   ],
   "source": [
    "soup.find_all('a')[0].get_text() # 첫번째 (0번 인텍스) 지정 태그 'a'안의 내용 추출"
   ]
  },
  {
   "cell_type": "code",
   "execution_count": 90,
   "metadata": {},
   "outputs": [
    {
     "name": "stdout",
     "output_type": "stream",
     "text": [
      "http://example.com/elsie\n",
      "http://example.com/lacie\n",
      "http://example.com/elsie\n"
     ]
    }
   ],
   "source": [
    "for link in soup.find_all('a'):\n",
    "    print(link.get('href')) # 지정 속성 link의 값 추출"
   ]
  },
  {
   "cell_type": "code",
   "execution_count": 95,
   "metadata": {},
   "outputs": [
    {
     "name": "stdout",
     "output_type": "stream",
     "text": [
      "도시: 서울\n",
      "날씨: 맑음\n",
      "최저기온: -9\n",
      "최고기온: 0\n",
      "\n",
      "도시: 인천\n",
      "날씨: 맑음\n",
      "최저기온: -8\n",
      "최고기온: 0\n",
      "\n",
      "도시: 수원\n",
      "날씨: 맑음\n",
      "최저기온: -9\n",
      "최고기온: 1\n",
      "\n",
      "도시: 파주\n",
      "날씨: 맑음\n",
      "최저기온: -14\n",
      "최고기온: -2\n",
      "\n",
      "도시: 이천\n",
      "날씨: 맑음\n",
      "최저기온: -12\n",
      "최고기온: 0\n",
      "\n",
      "도시: 평택\n",
      "날씨: 맑음\n",
      "최저기온: -10\n",
      "최고기온: 0\n",
      "\n",
      "도시: 춘천\n",
      "날씨: 맑음\n",
      "최저기온: -14\n",
      "최고기온: 0\n",
      "\n",
      "도시: 원주\n",
      "날씨: 맑음\n",
      "최저기온: -12\n",
      "최고기온: -1\n",
      "\n",
      "도시: 강릉\n",
      "날씨: 맑음\n",
      "최저기온: -4\n",
      "최고기온: 4\n",
      "\n",
      "도시: 대전\n",
      "날씨: 구름많음\n",
      "최저기온: -8\n",
      "최고기온: 2\n",
      "\n",
      "도시: 세종\n",
      "날씨: 구름많음\n",
      "최저기온: -8\n",
      "최고기온: 2\n",
      "\n",
      "도시: 홍성\n",
      "날씨: 구름많음\n",
      "최저기온: -9\n",
      "최고기온: 1\n",
      "\n",
      "도시: 청주\n",
      "날씨: 맑음\n",
      "최저기온: -7\n",
      "최고기온: 1\n",
      "\n",
      "도시: 충주\n",
      "날씨: 맑음\n",
      "최저기온: -12\n",
      "최고기온: -1\n",
      "\n",
      "도시: 영동\n",
      "날씨: 맑음\n",
      "최저기온: -10\n",
      "최고기온: 2\n",
      "\n",
      "도시: 광주\n",
      "날씨: 구름많음\n",
      "최저기온: -3\n",
      "최고기온: 3\n",
      "\n",
      "도시: 목포\n",
      "날씨: 구름많음\n",
      "최저기온: -2\n",
      "최고기온: 3\n",
      "\n",
      "도시: 여수\n",
      "날씨: 구름많음\n",
      "최저기온: -1\n",
      "최고기온: 6\n",
      "\n",
      "도시: 순천\n",
      "날씨: 구름많음\n",
      "최저기온: -2\n",
      "최고기온: 5\n",
      "\n",
      "도시: 광양\n",
      "날씨: 구름많음\n",
      "최저기온: -2\n",
      "최고기온: 6\n",
      "\n",
      "도시: 나주\n",
      "날씨: 구름많음\n",
      "최저기온: -5\n",
      "최고기온: 3\n",
      "\n",
      "도시: 전주\n",
      "날씨: 구름많음\n",
      "최저기온: -5\n",
      "최고기온: 3\n",
      "\n",
      "도시: 군산\n",
      "날씨: 구름많음\n",
      "최저기온: -5\n",
      "최고기온: 3\n",
      "\n",
      "도시: 정읍\n",
      "날씨: 구름많음\n",
      "최저기온: -6\n",
      "최고기온: 1\n",
      "\n",
      "도시: 남원\n",
      "날씨: 구름많음\n",
      "최저기온: -6\n",
      "최고기온: 3\n",
      "\n",
      "도시: 고창\n",
      "날씨: 구름많음\n",
      "최저기온: -5\n",
      "최고기온: 1\n",
      "\n",
      "도시: 무주\n",
      "날씨: 구름많음\n",
      "최저기온: -10\n",
      "최고기온: 1\n",
      "\n",
      "도시: 부산\n",
      "날씨: 구름많음\n",
      "최저기온: -2\n",
      "최고기온: 6\n",
      "\n",
      "도시: 울산\n",
      "날씨: 구름많음\n",
      "최저기온: -3\n",
      "최고기온: 5\n",
      "\n",
      "도시: 창원\n",
      "날씨: 구름많음\n",
      "최저기온: -2\n",
      "최고기온: 4\n",
      "\n",
      "도시: 진주\n",
      "날씨: 구름많음\n",
      "최저기온: -5\n",
      "최고기온: 6\n",
      "\n",
      "도시: 거창\n",
      "날씨: 구름많음\n",
      "최저기온: -7\n",
      "최고기온: 4\n",
      "\n",
      "도시: 통영\n",
      "날씨: 구름많음\n",
      "최저기온: -2\n",
      "최고기온: 7\n",
      "\n",
      "도시: 대구\n",
      "날씨: 구름많음\n",
      "최저기온: -5\n",
      "최고기온: 4\n",
      "\n",
      "도시: 안동\n",
      "날씨: 구름많음\n",
      "최저기온: -9\n",
      "최고기온: 1\n",
      "\n",
      "도시: 포항\n",
      "날씨: 구름많음\n",
      "최저기온: -3\n",
      "최고기온: 5\n",
      "\n",
      "도시: 경주\n",
      "날씨: 구름많음\n",
      "최저기온: -5\n",
      "최고기온: 4\n",
      "\n",
      "도시: 울진\n",
      "날씨: 구름많음\n",
      "최저기온: -5\n",
      "최고기온: 5\n",
      "\n",
      "도시: 울릉도\n",
      "날씨: 구름많음\n",
      "최저기온: 0\n",
      "최고기온: 3\n",
      "\n",
      "도시: 제주\n",
      "날씨: 구름많음\n",
      "최저기온: 4\n",
      "최고기온: 6\n",
      "\n",
      "도시: 서귀포\n",
      "날씨: 구름많음\n",
      "최저기온: 4\n",
      "최고기온: 9\n",
      "\n"
     ]
    }
   ],
   "source": [
    "from urllib import request\n",
    "\n",
    "target = request.urlopen(\"http://www.kma.go.kr/weather/forecast/mid-term-rss3.jsp?stnld=108\")\n",
    "\n",
    "soup = BeautifulSoup(target, \"html.parser\")\n",
    "\n",
    "for location in soup.select('location'): # 지정 태그의 'location'값 추출\n",
    "    print(\"도시:\", location.select_one(\"city\").string)\n",
    "    print(\"날씨:\", location.select_one(\"wf\").string)\n",
    "    print(\"최저기온:\", location.select_one(\"tmn\").string)\n",
    "    print(\"최고기온:\", location.select_one(\"tmx\").string)\n",
    "    print()"
   ]
  },
  {
   "cell_type": "code",
   "execution_count": 97,
   "metadata": {},
   "outputs": [
    {
     "name": "stdout",
     "output_type": "stream",
     "text": [
      "원더우먼 1984\n",
      "조제\n",
      "소년시절의 너\n"
     ]
    }
   ],
   "source": [
    "import requests\n",
    "\n",
    "r = requests.get(\"http://www.cgv.co.kr/movies/?ft=0\")\n",
    "c = r.content\n",
    "\n",
    "html = BeautifulSoup(c, \"html.parser\")\n",
    "\n",
    "ol = html.find(\"ol\")\n",
    "li = ol.find_all(\"li\")\n",
    "\n",
    "for l in li:\n",
    "    div = l.find(\"div\", {\"class\" : \"box-contents\"})\n",
    "    strong = div.find(\"strong\").text\n",
    "    print(strong)"
   ]
  },
  {
   "cell_type": "markdown",
   "metadata": {},
   "source": [
    "# 실습 13주차: folium을 이용한 지도 데이터 분석 및 시각화"
   ]
  },
  {
   "cell_type": "code",
   "execution_count": null,
   "metadata": {},
   "outputs": [],
   "source": [
    "# 폴리움(Folium): 지도의 위치 정보 시각화, Leaflet.js를 기반으로 사용\n",
    "# 한글 깨짐 현상 해결 방법: save()함수로 html확장자 형식으로 저장\n",
    "# tooltip: 영역 내에 도움말 정보 표시"
   ]
  },
  {
   "cell_type": "code",
   "execution_count": 132,
   "metadata": {
    "scrolled": true
   },
   "outputs": [
    {
     "data": {
      "text/html": [
       "<div style=\"width:100%;\"><div style=\"position:relative;width:100%;height:0;padding-bottom:60%;\"><span style=\"color:#565656\">Make this Notebook Trusted to load map: File -> Trust Notebook</span><iframe src=\"about:blank\" style=\"position:absolute;width:100%;height:100%;left:0;top:0;border:none !important;\" data-html=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 onload=\"this.contentDocument.open();this.contentDocument.write(atob(this.getAttribute('data-html')));this.contentDocument.close();\" allowfullscreen webkitallowfullscreen mozallowfullscreen></iframe></div></div>"
      ],
      "text/plain": [
       "<folium.folium.Map at 0x29acbde9fd0>"
      ]
     },
     "execution_count": 132,
     "metadata": {},
     "output_type": "execute_result"
    }
   ],
   "source": [
    "import folium\n",
    "map_om = folium.Map(location=[37.579915, 126.977020], zoom_start=17)\n",
    "# 지도 정보 불러옴, location:[위도, 경도]지정, zoom_start: 확대 비율\n",
    "map_om"
   ]
  },
  {
   "cell_type": "code",
   "execution_count": 137,
   "metadata": {
    "scrolled": true
   },
   "outputs": [
    {
     "data": {
      "text/html": [
       "<div style=\"width:100%;\"><div style=\"position:relative;width:100%;height:0;padding-bottom:60%;\"><span style=\"color:#565656\">Make this Notebook Trusted to load map: File -> Trust Notebook</span><iframe src=\"about:blank\" style=\"position:absolute;width:100%;height:100%;left:0;top:0;border:none !important;\" data-html=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 onload=\"this.contentDocument.open();this.contentDocument.write(atob(this.getAttribute('data-html')));this.contentDocument.close();\" allowfullscreen webkitallowfullscreen mozallowfullscreen></iframe></div></div>"
      ],
      "text/plain": [
       "<folium.folium.Map at 0x29ae9b07c70>"
      ]
     },
     "execution_count": 137,
     "metadata": {},
     "output_type": "execute_result"
    }
   ],
   "source": [
    "# 산림 위주\n",
    "map_om = folium.Map(location=[37.579915, 126.977020], zoom_start=17, tiles='Stamen Terrain')\n",
    "map_om"
   ]
  },
  {
   "cell_type": "code",
   "execution_count": 101,
   "metadata": {},
   "outputs": [
    {
     "data": {
      "text/html": [
       "<div style=\"width:100%;\"><div style=\"position:relative;width:100%;height:0;padding-bottom:60%;\"><span style=\"color:#565656\">Make this Notebook Trusted to load map: File -> Trust Notebook</span><iframe src=\"about:blank\" style=\"position:absolute;width:100%;height:100%;left:0;top:0;border:none !important;\" data-html=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 onload=\"this.contentDocument.open();this.contentDocument.write(atob(this.getAttribute('data-html')));this.contentDocument.close();\" allowfullscreen webkitallowfullscreen mozallowfullscreen></iframe></div></div>"
      ],
      "text/plain": [
       "<folium.folium.Map at 0x29acc851400>"
      ]
     },
     "execution_count": 101,
     "metadata": {},
     "output_type": "execute_result"
    }
   ],
   "source": [
    "# 하천 위주\n",
    "map_om = folium.Map(location=[37.579915, 126.977020], zoom_start=17, tiles='Stamen Toner')\n",
    "map_om"
   ]
  },
  {
   "cell_type": "code",
   "execution_count": 103,
   "metadata": {},
   "outputs": [
    {
     "data": {
      "text/html": [
       "<div style=\"width:100%;\"><div style=\"position:relative;width:100%;height:0;padding-bottom:60%;\"><span style=\"color:#565656\">Make this Notebook Trusted to load map: File -> Trust Notebook</span><iframe src=\"about:blank\" style=\"position:absolute;width:100%;height:100%;left:0;top:0;border:none !important;\" data-html=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 onload=\"this.contentDocument.open();this.contentDocument.write(atob(this.getAttribute('data-html')));this.contentDocument.close();\" allowfullscreen webkitallowfullscreen mozallowfullscreen></iframe></div></div>"
      ],
      "text/plain": [
       "<folium.folium.Map at 0x29acc8dc0a0>"
      ]
     },
     "execution_count": 103,
     "metadata": {},
     "output_type": "execute_result"
    }
   ],
   "source": [
    "map_osm = folium.Map(location=[37.566345, 126.977893], zoom_start=17)\n",
    "folium.Marker([37.566652, 126.978439], popup='서울특별시청').add_to(map_osm)\n",
    "folium.Marker([37.566043, 126.975135], popup='덕수궁').add_to(map_osm)\n",
    "# popup: Marker 위에 정보 표시\n",
    "map_osm.save('map_t.html')\n",
    "map_osm"
   ]
  },
  {
   "cell_type": "code",
   "execution_count": 136,
   "metadata": {
    "scrolled": true
   },
   "outputs": [
    {
     "data": {
      "text/html": [
       "<div style=\"width:100%;\"><div style=\"position:relative;width:100%;height:0;padding-bottom:60%;\"><span style=\"color:#565656\">Make this Notebook Trusted to load map: File -> Trust Notebook</span><iframe src=\"about:blank\" style=\"position:absolute;width:100%;height:100%;left:0;top:0;border:none !important;\" data-html=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 onload=\"this.contentDocument.open();this.contentDocument.write(atob(this.getAttribute('data-html')));this.contentDocument.close();\" allowfullscreen webkitallowfullscreen mozallowfullscreen></iframe></div></div>"
      ],
      "text/plain": [
       "<folium.folium.Map at 0x29ae9ac7a30>"
      ]
     },
     "execution_count": 136,
     "metadata": {},
     "output_type": "execute_result"
    }
   ],
   "source": [
    "map_osm = folium.Map(location=[37.566345, 126.977893], zoom_start=17)\n",
    "folium.Marker([37.566652, 126.978439], popup='서울특별시청', icon=folium.Icon(color='red', icon='info-sign')).add_to(map_osm)\n",
    "# Marker(): 마커 표시, lcon(): 특정 아이콘 표시, icon:info-sign(느낌표), start(별)\n",
    "# add_to(맵 변수): Map()에 의해 생성된 지도에 Marker(), CircleMarker()를 표시하기 위해 사용\n",
    "folium.CircleMarker([37.566043, 126.975135], radius=100,color='#3186cc',fill_color='#3186cc', popup='덕수궁').add_to(map_osm)\n",
    "# CircleMarker(): 원형 마커 표시\n",
    "map_osm"
   ]
  },
  {
   "cell_type": "code",
   "execution_count": 112,
   "metadata": {
    "scrolled": true
   },
   "outputs": [
    {
     "data": {
      "text/html": [
       "<div style=\"width:100%;\"><div style=\"position:relative;width:100%;height:0;padding-bottom:60%;\"><span style=\"color:#565656\">Make this Notebook Trusted to load map: File -> Trust Notebook</span><iframe src=\"about:blank\" style=\"position:absolute;width:100%;height:100%;left:0;top:0;border:none !important;\" data-html=PCFET0NUWVBFIGh0bWw+CjxoZWFkPiAgICAKICAgIDxtZXRhIGh0dHAtZXF1aXY9ImNvbnRlbnQtdHlwZSIgY29udGVudD0idGV4dC9odG1sOyBjaGFyc2V0PVVURi04IiAvPgogICAgCiAgICAgICAgPHNjcmlwdD4KICAgICAgICAgICAgTF9OT19UT1VDSCA9IGZhbHNlOwogICAgICAgICAgICBMX0RJU0FCTEVfM0QgPSBmYWxzZTsKICAgICAgICA8L3NjcmlwdD4KICAgIAogICAgPHNjcmlwdCBzcmM9Imh0dHBzOi8vY2RuLmpzZGVsaXZyLm5ldC9ucG0vbGVhZmxldEAxLjYuMC9kaXN0L2xlYWZsZXQuanMiPjwvc2NyaXB0PgogICAgPHNjcmlwdCBzcmM9Imh0dHBzOi8vY29kZS5qcXVlcnkuY29tL2pxdWVyeS0xLjEyLjQubWluLmpzIj48L3NjcmlwdD4KICAgIDxzY3JpcHQgc3JjPSJodHRwczovL21heGNkbi5ib290c3RyYXBjZG4uY29tL2Jvb3RzdHJhcC8zLjIuMC9qcy9ib290c3RyYXAubWluLmpzIj48L3NjcmlwdD4KICAgIDxzY3JpcHQgc3JjPSJodHRwczovL2NkbmpzLmNsb3VkZmxhcmUuY29tL2FqYXgvbGlicy9MZWFmbGV0LmF3ZXNvbWUtbWFya2Vycy8yLjAuMi9sZWFmbGV0LmF3ZXNvbWUtbWFya2Vycy5qcyI+PC9zY3JpcHQ+CiAgICA8bGluayByZWw9InN0eWxlc2hlZXQiIGhyZWY9Imh0dHBzOi8vY2RuLmpzZGVsaXZyLm5ldC9ucG0vbGVhZmxldEAxLjYuMC9kaXN0L2xlYWZsZXQuY3NzIi8+CiAgICA8bGluayByZWw9InN0eWxlc2hlZXQiIGhyZWY9Imh0dHBzOi8vbWF4Y2RuLmJvb3RzdHJhcGNkbi5jb20vYm9vdHN0cmFwLzMuMi4wL2Nzcy9ib290c3RyYXAubWluLmNzcyIvPgogICAgPGxpbmsgcmVsPSJzdHlsZXNoZWV0IiBocmVmPSJodHRwczovL21heGNkbi5ib290c3RyYXBjZG4uY29tL2Jvb3RzdHJhcC8zLjIuMC9jc3MvYm9vdHN0cmFwLXRoZW1lLm1pbi5jc3MiLz4KICAgIDxsaW5rIHJlbD0ic3R5bGVzaGVldCIgaHJlZj0iaHR0cHM6Ly9tYXhjZG4uYm9vdHN0cmFwY2RuLmNvbS9mb250LWF3ZXNvbWUvNC42LjMvY3NzL2ZvbnQtYXdlc29tZS5taW4uY3NzIi8+CiAgICA8bGluayByZWw9InN0eWxlc2hlZXQiIGhyZWY9Imh0dHBzOi8vY2RuanMuY2xvdWRmbGFyZS5jb20vYWpheC9saWJzL0xlYWZsZXQuYXdlc29tZS1tYXJrZXJzLzIuMC4yL2xlYWZsZXQuYXdlc29tZS1tYXJrZXJzLmNzcyIvPgogICAgPGxpbmsgcmVsPSJzdHlsZXNoZWV0IiBocmVmPSJodHRwczovL3Jhd2Nkbi5naXRoYWNrLmNvbS9weXRob24tdmlzdWFsaXphdGlvbi9mb2xpdW0vbWFzdGVyL2ZvbGl1bS90ZW1wbGF0ZXMvbGVhZmxldC5hd2Vzb21lLnJvdGF0ZS5jc3MiLz4KICAgIDxzdHlsZT5odG1sLCBib2R5IHt3aWR0aDogMTAwJTtoZWlnaHQ6IDEwMCU7bWFyZ2luOiAwO3BhZGRpbmc6IDA7fTwvc3R5bGU+CiAgICA8c3R5bGU+I21hcCB7cG9zaXRpb246YWJzb2x1dGU7dG9wOjA7Ym90dG9tOjA7cmlnaHQ6MDtsZWZ0OjA7fTwvc3R5bGU+CiAgICAKICAgICAgICAgICAgPG1ldGEgbmFtZT0idmlld3BvcnQiIGNvbnRlbnQ9IndpZHRoPWRldmljZS13aWR0aCwKICAgICAgICAgICAgICAgIGluaXRpYWwtc2NhbGU9MS4wLCBtYXhpbXVtLXNjYWxlPTEuMCwgdXNlci1zY2FsYWJsZT1ubyIgLz4KICAgICAgICAgICAgPHN0eWxlPgogICAgICAgICAgICAgICAgI21hcF8wN2FiYjE1YjI1M2I0ZTc5YTQwMzg3ZjM3YmU5ODk2OCB7CiAgICAgICAgICAgICAgICAgICAgcG9zaXRpb246IHJlbGF0aXZlOwogICAgICAgICAgICAgICAgICAgIHdpZHRoOiAxMDAuMCU7CiAgICAgICAgICAgICAgICAgICAgaGVpZ2h0OiAxMDAuMCU7CiAgICAgICAgICAgICAgICAgICAgbGVmdDogMC4wJTsKICAgICAgICAgICAgICAgICAgICB0b3A6IDAuMCU7CiAgICAgICAgICAgICAgICB9CiAgICAgICAgICAgIDwvc3R5bGU+CiAgICAgICAgCjwvaGVhZD4KPGJvZHk+ICAgIAogICAgCiAgICAgICAgICAgIDxkaXYgY2xhc3M9ImZvbGl1bS1tYXAiIGlkPSJtYXBfMDdhYmIxNWIyNTNiNGU3OWE0MDM4N2YzN2JlOTg5NjgiID48L2Rpdj4KICAgICAgICAKPC9ib2R5Pgo8c2NyaXB0PiAgICAKICAgIAogICAgICAgICAgICB2YXIgbWFwXzA3YWJiMTViMjUzYjRlNzlhNDAzODdmMzdiZTk4OTY4ID0gTC5tYXAoCiAgICAgICAgICAgICAgICAibWFwXzA3YWJiMTViMjUzYjRlNzlhNDAzODdmMzdiZTk4OTY4IiwKICAgICAgICAgICAgICAgIHsKICAgICAgICAgICAgICAgICAgICBjZW50ZXI6IFszNy41NjYzNDUsIDEyNi45Nzc4OTNdLAogICAgICAgICAgICAgICAgICAgIGNyczogTC5DUlMuRVBTRzM4NTcsCiAgICAgICAgICAgICAgICAgICAgem9vbTogMTAsCiAgICAgICAgICAgICAgICAgICAgem9vbUNvbnRyb2w6IHRydWUsCiAgICAgICAgICAgICAgICAgICAgcHJlZmVyQ2FudmFzOiBmYWxzZSwKICAgICAgICAgICAgICAgIH0KICAgICAgICAgICAgKTsKCiAgICAgICAgICAgIAoKICAgICAgICAKICAgIAogICAgICAgICAgICB2YXIgdGlsZV9sYXllcl9lMzhmMjI0MGEzM2U0ZTljOTE5YzA5N2ZmNDc2ZTNhOCA9IEwudGlsZUxheWVyKAogICAgICAgICAgICAgICAgImh0dHBzOi8ve3N9LnRpbGUub3BlbnN0cmVldG1hcC5vcmcve3p9L3t4fS97eX0ucG5nIiwKICAgICAgICAgICAgICAgIHsiYXR0cmlidXRpb24iOiAiRGF0YSBieSBcdTAwMjZjb3B5OyBcdTAwM2NhIGhyZWY9XCJodHRwOi8vb3BlbnN0cmVldG1hcC5vcmdcIlx1MDAzZU9wZW5TdHJlZXRNYXBcdTAwM2MvYVx1MDAzZSwgdW5kZXIgXHUwMDNjYSBocmVmPVwiaHR0cDovL3d3dy5vcGVuc3RyZWV0bWFwLm9yZy9jb3B5cmlnaHRcIlx1MDAzZU9EYkxcdTAwM2MvYVx1MDAzZS4iLCAiZGV0ZWN0UmV0aW5hIjogZmFsc2UsICJtYXhOYXRpdmVab29tIjogMTgsICJtYXhab29tIjogMTgsICJtaW5ab29tIjogMCwgIm5vV3JhcCI6IGZhbHNlLCAib3BhY2l0eSI6IDEsICJzdWJkb21haW5zIjogImFiYyIsICJ0bXMiOiBmYWxzZX0KICAgICAgICAgICAgKS5hZGRUbyhtYXBfMDdhYmIxNWIyNTNiNGU3OWE0MDM4N2YzN2JlOTg5NjgpOwogICAgICAgIAogICAgCiAgICAgICAgZnVuY3Rpb24gZ2VvX2pzb25fYzY2ODFkNmE2MDg5NDYwZDhlMmFjM2I5YjU1YTQ4NjZfb25FYWNoRmVhdHVyZShmZWF0dXJlLCBsYXllcikgewogICAgICAgICAgICBsYXllci5vbih7CiAgICAgICAgICAgICAgICBjbGljazogZnVuY3Rpb24oZSkgewogICAgICAgICAgICAgICAgICAgIG1hcF8wN2FiYjE1YjI1M2I0ZTc5YTQwMzg3ZjM3YmU5ODk2OC5maXRCb3VuZHMoZS50YXJnZXQuZ2V0Qm91bmRzKCkpOwogICAgICAgICAgICAgICAgfQogICAgICAgICAgICB9KTsKICAgICAgICB9OwogICAgICAgIHZhciBnZW9fanNvbl9jNjY4MWQ2YTYwODk0NjBkOGUyYWMzYjliNTVhNDg2NiA9IEwuZ2VvSnNvbihudWxsLCB7CiAgICAgICAgICAgICAgICBvbkVhY2hGZWF0dXJlOiBnZW9fanNvbl9jNjY4MWQ2YTYwODk0NjBkOGUyYWMzYjliNTVhNDg2Nl9vbkVhY2hGZWF0dXJlLAogICAgICAgICAgICAKICAgICAgICB9KS5hZGRUbyhtYXBfMDdhYmIxNWIyNTNiNGU3OWE0MDM4N2YzN2JlOTg5NjgpOwoKICAgICAgICBmdW5jdGlvbiBnZW9fanNvbl9jNjY4MWQ2YTYwODk0NjBkOGUyYWMzYjliNTVhNDg2Nl9hZGQgKGRhdGEpIHsKICAgICAgICAgICAgZ2VvX2pzb25fYzY2ODFkNmE2MDg5NDYwZDhlMmFjM2I5YjU1YTQ4NjYuYWRkRGF0YShkYXRhKTsKICAgICAgICB9CiAgICAgICAgICAgIGdlb19qc29uX2M2NjgxZDZhNjA4OTQ2MGQ4ZTJhYzNiOWI1NWE0ODY2X2FkZCh7ImZlYXR1cmVzIjogW3siZ2VvbWV0cnkiOiB7ImNvb3JkaW5hdGVzIjogW1tbWzEyNi45NTc0OTM3OTA3ODU5NSwgMzMuNTIyNDU2NDE0MDc5NzddLCBbMTI2Ljk3MzE5ODk2ODQ0OTM3LCAzMy40OTg3NTQwNzc2MjM5Nl0sIFsxMjYuOTY4NzI0MDUxODg5OTksIDMzLjQ4NjIyMzI5ODAwMTY4XSwgWzEyNi45NDk1NDU4NDUwNTQwNSwgMzMuNDg5NTQ0NzU5NDA3NTg2XSwgWzEyNi45NDI3OTYwODE4NTUzOCwgMzMuNTAxMDMwNTQzMDUwNjhdLCBbMTI2Ljk1NzQ5Mzc5MDc4NTk1LCAzMy41MjI0NTY0MTQwNzk3N11dXSwgW1tbMTI2Ljc4MjU4NDU1MDkyNDQsIDMzLjU2MzkzNTUwNzYwOTQzXSwgWzEyNi44MDE4NTgyNTQ0OTUyLCAzMy41NTM3MDIzNTYzMDkyNl0sIFsxMjYuODI5OTcxOTg4MTM1MTMsIDMzLjU1Njg1MDgzODEzOTc0NV0sIFsxMjYuODMzMTQxNzAwODYxMiwgMzMuNTQzMDA4MjA2NjYwMjI1XSwgWzEyNi44NTk1NjA0MDEwOTU1OSwgMzMuNTIzNzQ1OTYyNzkyNDc1XSwgWzEyNi44NzM4OTMyNjc1NzYzOSwgMzMuNTI4NDA5ODUyNDUxODQ0XSwgWzEyNi45MDQ0ODY5NTI0MjM1NCwgMzMuNTIzMDY0ODczMDI4NDFdLCBbMTI2LjkxNzk5MDcwNjE0OTMxLCAzMy40OTgzMzczMDk4MjUzOF0sIFsxMjYuOTA2NzMxNjMxNDc4NDEsIDMzLjQ4MzgxNDM0MzA5OTU3XSwgWzEyNi45MTQ1MTMwNjQ1OTEwNiwgMzMuNDY5OTY0MjMzNTc3MTddLCBbMTI2LjkzODM0MjYwNzQ1OTE1LCAzMy40NzA1NTI3MjcxOTg0Nl0sIFsxMjYuOTQyMjA5Njk0NDE5MDUsIDMzLjQ1OTAyNTU3OTM5NTYxNV0sIFsxMjYuOTI4NTg1NTUyNzM0NDgsIDMzLjQ0OTE0NzI1OTY5ODVdLCBbMTI2LjkxMDE3Mjc3NDMzNzc4LCAzMy40MDI2MTA2ODcyMjk5Nl0sIFsxMjYuOTA5MTkzMDY4MDQyOTcsIDMzLjM4NzkyNTU2NzYyNzU5XSwgWzEyNi44OTMwMTY5MTY3NTE1NSwgMzMuMzgzNjA1NTgxNzA1Nl0sIFsxMjYuODc1MzU4ODI1ODMwOSwgMzMuMzY4MjI0MDkyODkzNzVdLCBbMTI2Ljg3MDU1MDExNjIzOTUxLCAzMy4zNDk3NTE1OTg1Mjc4OTVdLCBbMTI2Ljg0NjcxODEwNzczOTE1LCAzMy4zMzAwNTkwNDM5NTkxOV0sIFsxMjYuODUxMzg5MzAyOTg1MDgsIDMzLjMyMjMzMDkxNTkxMzMwNV0sIFsxMjYuODM4MDU5NjMyOTk3MiwgMzMuMzA1NDE4ODMwOTMwNzFdLCBbMTI2LjgxMDU4MTI4NzYzODc0LCAzMy4yOTgxMDkwNTc2OTM3N10sIFsxMjYuNzgwNTg3MjEwODg2MjgsIDMzLjMwMzQ4MTE3Njk1Nzc2XSwgWzEyNi43NDc0NDUxNzA1OTE5LCAzMy4yNzQ3NzkxNzc3NDQ0OV0sIFsxMjYuNzM0MzQ1MjY0NTYyMzEsIDMzLjI3NTMyMDM2NTEzODkyXSwgWzEyNi42OTM5NzQ5MTA0OTk5NywgMzMuMjY1ODk3ODUyOTE5MDhdLCBbMTI2LjY2MTM5NTA5MTAxNDAxLCAzMy4yNjc2NDg4MzU2OTc2N10sIFsxMjYuNjQzNzA4OTkwMTA3MTcsIDMzLjI2MTc2Mzc5NDQwOTZdLCBbMTI2LjYyMTI0NjcxNzk3MjU3LCAzMy4yMzgwMDE0NjA2NzUwOF0sIFsxMjYuNjAwMjMyNzA5MTcwODEsIDMzLjIzMjUzNzk0NDY3MDc3XSwgWzEyNi41ODc5MzI3NjU0NTUyLCAzMy4yNDA3ODkwMzUyMzg2MzVdLCBbMTI2LjU1MDAwMjc1NjQxMDkzLCAzMy4yMzM5OTQ2MTcwNjU0MzRdLCBbMTI2LjUyMjg3ODg4ODcwOTE5LCAzMy4yMzc0MTA2MjQxMTExODVdLCBbMTI2LjUxMTIxODIyMjQwMzk4LCAzMy4yMjY3NDEwMzg3NzYwMzRdLCBbMTI2LjQ5MDQ4ODQ1NTczODkzLCAzMy4yMjY2NTMyNjcxMzk1OTZdLCBbMTI2LjQ3MjMzNTcxOTcwOTE2LCAzMy4yMTkyNDExOTgyMjg1NDVdLCBbMTI2LjQ1MjQ1Nzg2NjEzOSwgMzMuMjM2NzYyMDA4MTY1MDZdLCBbMTI2LjQzMzI2OTQ0MzAxMzk0LCAzMy4yMjg2MjAyMTM1OTU0MzRdLCBbMTI2LjQxNDU2NDIyMzQ0ODcsIDMzLjI0MDc3NzY1Mjc2NzQ1XSwgWzEyNi4zODY2MzQxNTMxMjUwMywgMzMuMjI4MTk2MDc4MTE1ODldLCBbMTI2LjMyMTg2MTg4NTAzODM5LCAzMy4yMzQ4MTM0MDE3OTE0OV0sIFsxMjYuMjk5NjEwOTMxOTAwODMsIDMzLjIxOTQ3MDk5NDQ0NTQ0NF0sIFsxMjYuMjk0NjI5NTk0NTI1NTYsIDMzLjIwMzI1NzM3NDQwMDQyXSwgWzEyNi4yNzM2MDQ0NDA4MTA0NiwgMzMuMTkwNjUyNTgyMzMxNTNdLCBbMTI2LjI1MDkzOTM5MzQ3MjgzLCAzMy4yMDk3MTY5OTEyODUzOV0sIFsxMjYuMjM0NDYwNzk1MDc4NTMsIDMzLjIzMTE5MjU4NzU1ODc4XSwgWzEyNi4yMDE4MjYwODE3MjY2MiwgMzMuMjQyNjQ0OTQ2OTM4NjhdLCBbMTI2LjE4NDIxNTc4MTQ0OTg0LCAzMy4yNTU2MzM2ODM2MDk5ODZdLCBbMTI2LjE2MTI2NzQ4ODc4MTIyLCAzMy4yODkwMjY3MjY3MDU2NF0sIFsxMjYuMTY3ODQ0MzM3NjM0NDIsIDMzLjI5NTc2MzYyNDA3ODU3XSwgWzEyNi4xNjMxOTI5NTk0MDUxNSwgMzMuMzIwNTk2NDIzNjk5NTddLCBbMTI2LjE2OTI1NDE1MzcwNTE1LCAzMy4zNDMxMDU1ODkyNTM3OF0sIFsxMjYuMTkxNjk2MTkwMzA3NzUsIDMzLjM2MTU1NTQ0NDM3MDAyNl0sIFsxMjYuMjE0NjEzNzU4MDUzNjIsIDMzLjM3MzA5MTU2MDA5OTcxXSwgWzEyNi4yMjQxNjY1NjcyMjgzNCwgMzMuMzg4MDAxNjM2ODg5OTQ2XSwgWzEyNi4yMzg0MjQ4MDY5NzgxOSwgMzMuMzkyODQ4ODk3NzI1MzJdLCBbMTI2LjI2MTkxOTIyMTQzNTcsIDMzLjQxMzczNzk3MTczMzA3XSwgWzEyNi4yNjE5NzA1ODM3ODQ2NSwgMzMuNDMxNDI1NDc2NTU0OTM1XSwgWzEyNi4zMDcwNDAwNTY5Njg0MiwgMzMuNDQ4MjMwOTEwNDIwNTldLCBbMTI2LjMxMDA1NDA2NDg0NDMyLCAzMy40NjMwOTgzMzYyMjIxM10sIFsxMjYuMzM3NDk1MDE2OTYzMzUsIDMzLjQ2MzY3NDIxNzMwMTAwNV0sIFsxMjYuMzg3NjExNzYxMzY5NzcsIDMzLjQ4NjUxNDU4OTc0MTIxXSwgWzEyNi4zOTY3MDM2MTk3MjgyNywgMzMuNDgxMTM2NDczMzEzNzFdLCBbMTI2LjQ4MjA4NDMzMDMyMDgyLCAzMy41MDY3NzYyMjgwMjQ5NzVdLCBbMTI2LjQ5NTI5NTQ3NTY2ODY2LCAzMy41MTg0MTIxODM0Mzk0M10sIFsxMjYuNTE2Njc5ODQyNjk2NDUsIDMzLjUxMzMxNDAyNDAzOTldLCBbMTI2LjU0MTc2ODYzMjMzOTc1LCAzMy41Mjc1NjI0NzU4ODMwOV0sIFsxMjYuNTUwODc0MjIxOTM5NjUsIDMzLjUxNzU5MDI0ODQ4NDM3NV0sIFsxMjYuNTgzNjIyMzYxMzk1NTcsIDMzLjUyMzkyNzcxMzEwNjY3XSwgWzEyNi41OTk0MDYyNzUzNDUyMywgMzMuNTM0NTE5ODAzNjAyNTE0XSwgWzEyNi42MzQ4NDk1ODk1ODg3MSwgMzMuNTM1Mjc0MjkwOTE2MTU2XSwgWzEyNi42NDU2ODkzODg3OTcwNSwgMzMuNTUzNDE0ODIyMzg4ODhdLCBbMTI2LjY2MDA4OTc5NDEyMDI0LCAzMy41NDg4NzE4MzA4MjA2Nl0sIFsxMjYuNzE5NjEyMTA3NjcyMDUsIDMzLjU1MzA2NTc1Nzc3OTE3XSwgWzEyNi43Mjc5MTE3NDk1ODA0NCwgMzMuNTU4MDgyMTM5MzA4MzVdLCBbMTI2Ljc1ODAwNjEzODQwMDIyLCAzMy41NTU1NTE3MDQ4MzE1XSwgWzEyNi43ODI1ODQ1NTA5MjQ0LCAzMy41NjM5MzU1MDc2MDk0M11dXV0sICJ0eXBlIjogIk11bHRpUG9seWdvbiJ9LCAicHJvcGVydGllcyI6IHsiYmFzZV95ZWFyIjogIjIwMTMiLCAiY29kZSI6ICIzOSIsICJuYW1lIjogIlx1YzgxY1x1YzhmY1x1ZDJiOVx1YmNjNFx1Yzc5MFx1Y2U1OFx1YjNjNCIsICJuYW1lX2VuZyI6ICJKZWp1LWRvIn0sICJ0eXBlIjogIkZlYXR1cmUifSwgeyJnZW9tZXRyeSI6IHsiY29vcmRpbmF0ZXMiOiBbW1tbMTI4LjIzOTAyMjgwMjcxNjEsIDM0LjY0NzYxMzI4ODIyOTM3XSwgWzEyOC4yNjc1ODA0MDA3OTY4NywgMzQuNjQyNjU4MzYyOTYyXSwgWzEyOC4yNzkzMzQ0NzM2OTYwOCwgMzQuNjE2MTc4MDgzMDc2NzFdLCBbMTI4LjI0NDk3NDMzMjkwODQsIDM0LjYxOTU5MjU1NDkyMTkxXSwgWzEyOC4yMjYwNzY0NzM4NDg5MywgMzQuNjMyNTcwMzI4MTcyMTJdLCBbMTI4LjIzOTAyMjgwMjcxNjEsIDM0LjY0NzYxMzI4ODIyOTM3XV1dLCBbW1sxMjguMTc4MzkzOTAzMjY5ODQsIDM0LjcwODQ2Mjc5NjcyNjU0XSwgWzEyOC4yMDAzMTY0NjU2NDM4LCAzNC43MDM3MDk1MDkzMjQzNTVdLCBbMTI4LjIwNDQzMTI5MjQ5MjQ3LCAzNC42ODc5NDcyMjkxMzY4XSwgWzEyOC4xODUxNzAwMDk0MzUzNSwgMzQuNjg3OTUwODE0MTUwMDRdLCBbMTI4LjE3ODM5MzkwMzI2OTg0LCAzNC43MDg0NjI3OTY3MjY1NF1dXSwgW1tbMTI4LjQ4NTk3Njk2NDI2OTQ0LCAzNC44MTI2NjExMTMwNjEyNl0sIFsxMjguNDk2MzM5Mzc2Nzg3MTIsIDM0Ljc3ODkzNTE3NzMyNzQzXSwgWzEyOC41MTA4MzE1ODU4MDEyLCAzNC43NjM1MjI1MDUzODk0Nl0sIFsxMjguNDkzMzAzMTYzNjg2NiwgMzQuNzU0MDk2ODMyOTM1ODg2XSwgWzEyOC40NzM2NzEyOTY5NzAzLCAzNC43NTc4MTEzNTE2OTk0N10sIFsxMjguNDc1MTE2MzY5NzIwNDcsIDM0Ljc3MjQ3Mjc2MjExMzA4XSwgWzEyOC40NjI0MzE1NTc3NTU5LCAzNC43ODQ2MzkzMjQ5NzU0MV0sIFsxMjguNDg1OTc2OTY0MjY5NDQsIDM0LjgxMjY2MTExMzA2MTI2XV1dLCBbW1sxMjguMjM5NDExMzUwMzA4NDcsIDM0LjgzNzI5NzE5ODIyNTc3XSwgWzEyOC4yNjYwNTU5NDE4MjU3LCAzNC44MTUzMDA4Mjc2MDY5MjZdLCBbMTI4LjI0ODUzOTA3NzkwMzMsIDM0Ljc5Njk3MjM0NDU1Nzk4Nl0sIFsxMjguMjE1NTA1MDU4NjY3MjgsIDM0LjgwMzY3MTEyOTMzOTQ4XSwgWzEyOC4yMDIxMDkwODMyMTkyOCwgMzQuODIwMjEzNDI2MTI0NzhdLCBbMTI4LjIxODcyNzM0NTIwMTYsIDM0LjgzNTQ0ODc2MTkzMzgwNF0sIFsxMjguMjM5NDExMzUwMzA4NDcsIDM0LjgzNzI5NzE5ODIyNTc3XV1dLCBbW1sxMjguMTk3OTg1NTkwNTE1ODYsIDM0Ljg1NzI2NzMwNTYzNzYwNl0sIFsxMjguMjEyNjk1NjgyMzAwMywgMzQuODQ5MTIzNDgxNzg1OTRdLCBbMTI4LjE5Nzk3MTc2MDk4MzcsIDM0LjgyNjMxNjg2MDI1NDQ3XSwgWzEyOC4xODM4ODkzOTY3OTk3LCAzNC44MjM1OTc5NjAwNTk3NF0sIFsxMjguMTY5MTk0NjA2OTM0MiwgMzQuODM4ODQzNDY3NTY3OTRdLCBbMTI4LjE3MjY1NjE2NjIxMjk2LCAzNC44NTA2NTc5MTIyMTAwNF0sIFsxMjguMTk3OTg1NTkwNTE1ODYsIDM0Ljg1NzI2NzMwNTYzNzYwNl1dXSwgW1tbMTI4LjAzNTU3MzAwMjA4NjE1LCAzNC45MTY0MTQzNjc5MTcxOV0sIFsxMjguMDM5MzE4NDEyNzc4MDcsIDM0Ljg5NTQ1MDcyOTAwMDk4NF0sIFsxMjguMDY5MTcyNzU3MzkwMDgsIDM0Ljg2NzIyODc3NzQwMjZdLCBbMTI4LjA2MjUxMjE2NjkxODgyLCAzNC44NDMwNzY1NTA4MzI0N10sIFsxMjguMDY1NjIxMTcxMTMyMywgMzQuODI3MjI4MDEwOTA3MzZdLCBbMTI4LjAyNzAxNzU2MDY3MTAzLCAzNC44NDMzNTgyMDczMTkxODRdLCBbMTI4LjAyNTM0NjEzNTA0NTEsIDM0LjgzNTkzNzQwMTIzNTM1XSwgWzEyNy45ODk0MzY3MjQ4MzAzMywgMzQuODMzMjkwOTY5Nzg0NDldLCBbMTI3Ljk3MDc4MzE3OTUzNzc1LCAzNC44NDA0NTEzNDczODMwOF0sIFsxMjcuOTYzNTkyMjY3NzUzODcsIDM0Ljg2NjYyOTE3NTc5MjM5XSwgWzEyNy45ODA0NTI3NjI0NDE3NiwgMzQuODc2OTg0MDMwNjI5ODldLCBbMTI3Ljk5ODEwMjI1MDc1MzMzLCAzNC45MDY3Njc3NjI1Mjk2N10sIFsxMjguMDA5MTc3MzYwOTIwMzIsIDM0LjkxNjQ0NTY3NjI3MDU4XSwgWzEyOC4wMzU1NzMwMDIwODYxNSwgMzQuOTE2NDE0MzY3OTE3MTldXV0sIFtbWzEyNy44OTc1ODEzOTc4MjM0MiwgMzQuOTQzMzExMDcyNTMxOTFdLCBbMTI3LjkyMDE0NDI1MTg0OTcyLCAzNC45MzY1MDY0NTIxNDM1XSwgWzEyNy45MzI0NDI5NjgwOTc5MiwgMzQuOTExNDk2NjQyODI3MzNdLCBbMTI3LjkyNTA1MjA0MDk4MTY4LCAzNC44OTYyOTA1MTc3MjA4NjRdLCBbMTI3LjkwMDU0OTIxMjAzMDM0LCAzNC44Njk0NzQ3Mjk4MzM5MV0sIFsxMjcuOTI2MzQ5NjAyMTA5MzMsIDM0LjgyNzU1NjE1OTAyNTI2XSwgWzEyNy45NDQ3Mjg4MDY1NDI2MSwgMzQuODIzNDUxMzU5MTE3ODRdLCBbMTI3Ljk1NjU0Mjc4OTA5MjI1LCAzNC44MDIxMzAzMDMyMjk1NF0sIFsxMjcuOTkyMTc0MTMwMTA1ODEsIDM0LjgyOTkyNjcyODM3MTc3NF0sIFsxMjguMDM0NTIwNDkyMywgMzQuODI3MzEwMzY1MzAzNjJdLCBbMTI4LjA2MjczMzgwMzUxOTMsIDM0LjgxODc1MjgwMDI2MTM4XSwgWzEyOC4wNjM3Njc2OTU3MDUwNSwgMzQuNzk2MzMxODM2MzAyMDddLCBbMTI4LjA1MzQ1NjkxOTAwNDI1LCAzNC43OTE3MDkzNDA5MDc2MV0sIFsxMjguMDU5MTMxNDYyMDk3OTIsIDM0Ljc0MjI4NjU5NjYxOTI2Nl0sIFsxMjguMDI3OTgyODc2MDM3NDQsIDM0LjcxNTgxOTQ1NDY1NzgyNl0sIFsxMjguMDE2MTI1MDg1NDM2MzMsIDM0LjcyMDg0MzIxNjc1NzE1XSwgWzEyNy45ODc2ODA2MDM1MDk2MywgMzQuNzA3ODgyMTQ0NDAxMTddLCBbMTI3Ljk1ODQyNDUwNTk3MjM1LCAzNC43MDYzMzExNTY4OTYwNTZdLCBbMTI3Ljk0ODA2OTcyMzkxMzAyLCAzNC43Mjk1MzI0MTQzNzM3N10sIFsxMjcuOTUxMzIyMzk3OTE4NiwgMzQuNzc0MTcwMjc3NDEzNTldLCBbMTI3LjkzMTE4MjQ4MTQxODcsIDM0Ljc3MjczNDg0NDY1MjIzNF0sIFsxMjcuOTA2Mjk5MzY5MzA2OTUsIDM0Ljc2MjU1MDcyNjAwMTcxXSwgWzEyNy45MTQ5NTQxMzE5Njk4NSwgMzQuNzMzMTYxNzU3NTQzODVdLCBbMTI3Ljg4ODc4NDMxODc3OTQ3LCAzNC43MTg2NjI1OTM0NjExXSwgWzEyNy44NjkzMjEzMjE3ODEzLCAzNC43MjI5NzMxOTg1NjI0OV0sIFsxMjcuODU3NTMzMjkwNjA2NjcsIDM0Ljc0MDQyOTQ1NjU2NjMyNV0sIFsxMjcuODM4MzM1NTUwMjE1NTgsIDM0Ljc0NzE4MTA5MTcyNjE3XSwgWzEyNy44NTQxODQ3NDg0OTI1NCwgMzQuNzY2MTQ0MTA3NTE0NzM0XSwgWzEyNy44MzY5NzE0ODI5MTU4MywgMzQuNzk5NzE0MzkyODY2NTddLCBbMTI3LjgxNDc0NTY1NTA2MDIyLCAzNC44MzE1NDA5NDk1NTEwNzZdLCBbMTI3LjgwODY1MDk4MTU4MDIzLCAzNC44NTQyNjY1NjIyMTI0OV0sIFsxMjcuODI4ODc4ODcwMDcyMzksIDM0Ljg3MTA0MjIyOTYzNDE5XSwgWzEyNy44MzI2MjIwNDExMzE3MSwgMzQuODkzNjIxNDk4MzcwMDI0XSwgWzEyNy44NTI1MTg2ODg4ODYzMywgMzQuODk5NzI2NjYxOTA0MDRdLCBbMTI3Ljg1NjczMzU2NzQ2OTM5LCAzNC45MjI3MDA3NjIxMDk4N10sIFsxMjcuODcyNTcwMTcwODA1ODksIDM0LjkzOTIyOTQwODE0MDhdLCBbMTI3Ljg5NzU4MTM5NzgyMzQyLCAzNC45NDMzMTEwNzI1MzE5MV1dXSwgW1tbMTI4LjY4MjM4ODUwMDYyOCwgMzUuMDM2ODUwMTIwMjE3MTJdLCBbMTI4LjY5NjU3MTA1Nzg1NzEsIDM1LjAyNzQwODQzODM1MTEyNF0sIFsxMjguNzE0ODA0NDkyMzQxMzYsIDM1LjAyOTIyODgzNDc2NjZdLCBbMTI4LjcyNDA3MTAyMjY2Nzg2LCAzNS4wMTUwMzM3ODc5Njk5XSwgWzEyOC43MDQ2OTUwNDEyNTkwNywgMzUuMDAyOTE5MTQ5MzY1NjNdLCBbMTI4LjY5NzUyNzEzNTMyNTgzLCAzNC45NzYwNzI5MjIwNDRdLCBbMTI4LjcyOTU2NDQ0MTczNzI3LCAzNC45NDM4NjAyNjIwMTU0N10sIFsxMjguNzIxMjg3ODIyNjUwMSwgMzQuOTMzMTAxNzcwODkwMDU1XSwgWzEyOC43MjYyNDc2Mjk1NTAxMywgMzQuOTExNjk1NDUyNjEyOTc1XSwgWzEyOC43MTkxOTk0MTU2NTQ4LCAzNC44OTY5NzE2Mzk2NjczNTZdLCBbMTI4LjY5ODQ0ODM4ODQyOTc0LCAzNC44ODY0MTkzMzgwNDk2ODRdLCBbMTI4LjcxNjc3NDkxNjU2Mjg1LCAzNC44NzE3Mjg3NTcyNzIzMl0sIFsxMjguNzM3MTgxNTc2NDE2NywgMzQuODg3OTU2NzU0MDg5MDQ2XSwgWzEyOC43NDU1NTMzMjcyMzcyNywgMzQuODY0Nzg4MzEyMTQzNzNdLCBbMTI4LjcwMzk3NjAwMjI1ODcsIDM0LjgzNzQ3MzcxNDI3NTkyXSwgWzEyOC43NDI4OTkxMTY3NjE1MiwgMzQuNzg5NDEyNjA2NDk3ODRdLCBbMTI4LjcxMTUzNjExNTgzMjYsIDM0Ljc5MTQ0NzIzNzQxMTU2XSwgWzEyOC43MTEyNTIwNDAzMjM0LCAzNC44MDg4NTYwNzA0NDQwN10sIFsxMjguNjkzNzkzNDQ2NTAzMTIsIDM0LjgwNDQxNzM2MjQ0MzQ2Nl0sIFsxMjguNjc1Njg2MTE3NjI0NiwgMzQuODEwMjMzNzg0OTM1NjZdLCBbMTI4LjY2OTE2NDA0OTE4MTksIDM0Ljc4OTgwODcxMTc3ODgxXSwgWzEyOC42NzY1Njk1Mzk2MjIzNCwgMzQuNzgyNjA4ODk1NjI5OTNdLCBbMTI4LjY0MDU0MTA3MTAzMTQsIDM0Ljc1OTg3OTk4MTczOTA3Nl0sIFsxMjguNjU1MTExMDIyNTEyMiwgMzQuNzM5NjE0MzY5NDExOTFdLCBbMTI4LjY3MDczODEzNDE0NjM4LCAzNC43NDI2NjUzMTk1NDgxOV0sIFsxMjguNjg1ODExMzcxNDcyNDMsIDM0LjczNDYyNDUwNjAwMzM5XSwgWzEyOC42MjU1MjIzMTMxMTYsIDM0LjcyOTE5MDkxNzE2MTM2XSwgWzEyOC42MzU0MDMyNDU3MzY4LCAzNC43MTU3NzU0NzEwOTU2MDRdLCBbMTI4LjYxMjQ1MTI2NjkxNTgsIDM0LjY5Nzk4NzIyNDgyNzgwNl0sIFsxMjguNTgyNDk1MTA3MDcxMywgMzQuNzEyOTU5MzA1OTg5NjJdLCBbMTI4LjYwNTU0MzIzMDkxODQ3LCAzNC43MjM1MTQ1NzYxMDgzMzZdLCBbMTI4LjYwNzgxMzA4NDYyOTEsIDM0LjczMjE5OTA1NDc2OTJdLCBbMTI4LjU3OTAzOTkxNTk3MDEzLCAzNC43Mzc5Mjc1OTU4OTY4MV0sIFsxMjguNTY2MTczMTc5MDAwOTQsIDM0Ljc2MjU0NDU1Nzg2MTY1XSwgWzEyOC41NDUyNjg1NzgxOTg0LCAzNC43NzE3NjM1MDIxMjM5NF0sIFsxMjguNTQwMjc4MjQ3MTczMDYsIDM0Ljc4NTA5NzE3MzQ2MTJdLCBbMTI4LjU4MTI4Mjc2NjMzNzMsIDM0Ljc5MTMxMjg0MzU3OTUzXSwgWzEyOC41ODY5MjI3NTI1MDc1NSwgMzQuNzk4OTI3OTc2MTU2MTg2XSwgWzEyOC41ODg0NTA3NTEzMTE0MywgMzQuODI4ODY1NzUyODMwODg2XSwgWzEyOC41ODAxMzM3MTk1NDQwOCwgMzQuODUwNTc0MTIxNDIyMjRdLCBbMTI4LjU0Njc3ODA4NDk3OTQ4LCAzNC44MzA5ODEyNTA5ODQxM10sIFsxMjguNTE4NTc5MzE0MjIzNDcsIDM0LjgwNTAwMjM2NTAzNTM4NV0sIFsxMjguNTAzNjE2Mzc4MjQzOCwgMzQuODMwMDc0Mjk0Mjk0NzJdLCBbMTI4LjQ4NDAzMDM2Mjk3MTcsIDM0LjgzNzI0NDAwOTMwNTM3XSwgWzEyOC40NzQyOTE4NTg2NzExNCwgMzQuODczNzUwNzM5MTE3NF0sIFsxMjguNDk4NTI0NTAzMjg5ODQsIDM0LjkwMTkxNzQ4Mjg1ODU4XSwgWzEyOC41MTc2MTc1MDIzMjI2MiwgMzQuOTA2NzY1MDc3NDUzMV0sIFsxMjguNTI5NDYyNzA0MTc0NCwgMzQuOTIwNjY2ODI3OTUyNjddLCBbMTI4LjU1MDAzMDI1MTYzOTA3LCAzNC45MDUyODA4MzI0MDcwOV0sIFsxMjguNTg1NDM1OTI4MDMxNzksIDM0LjkxMTE3NzE2NTQ4MjIzNl0sIFsxMjguNjAwNDc5OTAyNjEwMTUsIDM0Ljg5NzgzMTQwMTExMDE5XSwgWzEyOC42MTQyNTIwNDE0NTEzNSwgMzQuODk4MjAwODEyMTg2ODddLCBbMTI4LjU5OTQzMDM3NjE3NjI2LCAzNC45MzMyOTAxNDcxNjM5OTRdLCBbMTI4LjU4NzcxMjg5NjgwNzksIDM0Ljk0MzMyMzQzMjY5ODI4Nl0sIFsxMjguNjIyMTMxOTM0Mjk5MDYsIDM0Ljk1OTMxNzMwMjI4ODM1NV0sIFsxMjguNjQ4NzIxMzY2MDIxNzYsIDM0Ljk1OTYzNzEwNTI3NzkxXSwgWzEyOC42NTIyODk1MTk0ODQxLCAzNC45NzYyNzM2MDI5OTkwMzZdLCBbMTI4LjYyMzUzOTE3ODA2ODM0LCAzNC45ODMxMzA0NDM0MjUxNF0sIFsxMjguNjMzMTMxNTA0MjY4NDIsIDM1LjAwNTc2NDk4NDM4MTg0XSwgWzEyOC42NDkyNzA2MzkxNTk2NSwgMzUuMDE1MzU5Mjc2Mzc2Nl0sIFsxMjguNjU1MjQ3OTAxMjE1NjYsIDM0Ljk4NDU5ODYyNjI5NjY3XSwgWzEyOC42Njk3Mzc0MDU3MzM5LCAzNS4wMDMzODQ4ODg4NzM5MV0sIFsxMjguNjgyMzg4NTAwNjI4LCAzNS4wMzY4NTAxMjAyMTcxMl1dXSwgW1tbMTI4LjM3Mjk3MDUzMzM4MDksIDM1LjYwODEzNDQ4ODAzOTUyXSwgWzEyOC4zODM4NzQ5MjMwNTc0LCAzNS42MDM3MzY4MjYyNjM2Nl0sIFsxMjguNDMzNzg2Mzg5OTk0NjUsIDM1LjYxOTgxNTI5NzAwNjYzXSwgWzEyOC40NDg2NDc0MjYwMTM3NCwgMzUuNjM1MzI4MDg1NDkzMThdLCBbMTI4LjQ4NzAzMDc5NDQyMTYsIDM1LjYzMjQyMjEwMjk1MTU5XSwgWzEyOC41MDczMDQ4Mjk0NTI3LCAzNS42MzU5NzY5NDMxMjI4NV0sIFsxMjguNTExMzQ1NDM1ODA2MzMsIDM1LjY3MTU2MjYwODEzNzg3Nl0sIFsxMjguNTI4NjM0MjIwMzU2OCwgMzUuNjc5MzU4MzM2NjUzMjRdLCBbMTI4LjU0MDAwOTgyNDQxNjA3LCAzNS42NDgzNTAwMDgyMTAyMTVdLCBbMTI4LjUzODcyMjg0MjE4OTMsIDM1LjYyMDYyNTYxMjYyMDg1XSwgWzEyOC41NjA1OTIyOTU3NDQ0NCwgMzUuNjExNzM4OTgxNTU3MTVdLCBbMTI4LjU4NzA0MjIyMjIwNDQ1LCAzNS41ODMxNjU2MjI2Mjk5MV0sIFsxMjguNjA5MDc0NDQ4NjM1OCwgMzUuNTc3MzkwOTc2MDI1MzNdLCBbMTI4LjY2MDI0NTI0NDYwODI2LCAzNS41OTQ3MTE5NDgyNDA0M10sIFsxMjguNjkzNTA4OTYzNDAxMDMsIDM1LjU5MTM4ODI5MDg0OTA5Nl0sIFsxMjguNzA1NTAyNTQyMTAyMSwgMzUuNTc1NDkyMTAxNTkxMjVdLCBbMTI4LjcyNzM0NTU3MTgyMjcyLCAzNS41Nzc1MzQ2NTYxMTg1MTZdLCBbMTI4Ljc2Mjg2MDE0MzU1MTUzLCAzNS41NjQ4OTY2NjAyMTM2OF0sIFsxMjguNzg4OTk0MDUyMzkwMDIsIDM1LjU2MzA1NDE1MTQzODU4NV0sIFsxMjguODAzMTA3MTcwMDE0NDQsIDM1LjU4NTA0NjU3NTgwMDYzXSwgWzEyOC44MzYwMzg2MzQ2MjUyOCwgMzUuNTk0MzU0NTg5NjYyNjJdLCBbMTI4Ljg1NTg5MzcyOTM2Mzk3LCAzNS41OTM2NzI4OTYwMzc4MTZdLCBbMTI4Ljg3NDU0NDI0NjU3NTI4LCAzNS42MTc4ODYyOTg3NDAxOV0sIFsxMjguOTE0MDE0MzgwMzUyMDksIDM1LjYzNDg4NDU1MjkxNjk0NF0sIFsxMjguOTM5NjQ1NDYzNTY5OSwgMzUuNjMxNTA4NjMwNzM0NjVdLCBbMTI4Ljk4NDAxNTcwNzYyNDA1LCAzNS42MDQ1MzU4MTMxMzEyNV0sIFsxMjkuMDA1NjA2OTA5MDcxODcsIDM1LjYxNzExMDE0NDQ5MTU1NV0sIFsxMjkuMDIzMjI5MDY0MTc4NywgMzUuNjExOTY3MjAyODYxNDddLCBbMTI5LjAyODI5MDEyMjM5MzMyLCAzNS41OTc2NTYzODc4MTc5Nl0sIFsxMjkuMDIyMzYwODcwMTYzNjUsIDM1LjU4MTM2MzM2MjgyMzddLCBbMTI4Ljk5NzcwOTkwODA0NjEyLCAzNS41NjU5MTI2MTAzMTk0NDRdLCBbMTI4Ljk3MzE2MDQ4ODkwMjEyLCAzNS41NTc2MDEwOTM3Mzg2NzZdLCBbMTI4Ljk5Njc1ODIxNjgyODksIDM1LjUyNTk0Nzc0MDg2NzgxNF0sIFsxMjkuMDI1Mzg0NzgyOTA3OSwgMzUuNTIxOTc3MzIyNTY4OTg2XSwgWzEyOS4xMDg5NzM2MDY2ODg3LCAzNS40OTE3MzQwNTA5MzQxODRdLCBbMTI5LjExMTkwMjQ0Njk1MTYzLCAzNS40NzY2NTE0NjE4Mjg1M10sIFsxMjkuMTQyMDY0MTc0MjcxMDQsIDM1LjQ0NTk0ODI0NTQwMjA4Nl0sIFsxMjkuMTYzMDQ4MjQ0NTY1MTgsIDM1LjQzMjExMzQ1MTM1NjQzNl0sIFsxMjkuMTgwMDgwNDQ3MjQxMTIsIDM1LjQyOTEzMTg0MTE4ODczNV0sIFsxMjkuMTk4NjMzOTY5OTU4MiwgMzUuNDM2MzY2MjE0MTMyNjRdLCBbMTI5LjIyMjEzNzA5MzY0Nzk0LCAzNS40MDYxMDk4MDkzMTQ1MV0sIFsxMjkuMjA1MjQ5NTA3OTc1MzQsIDM1LjM4NDgxMDgyOTY5Njg5XSwgWzEyOS4xOTU3Njc4NTgyNTA1MiwgMzUuMzU3ODQ4NDAwMjEzODRdLCBbMTI5LjE3NjgwNjIxNjYwNjE0LCAzNS4zNDg0MDI3MDE2MDkxNl0sIFsxMjkuMTUwNjMzNjY2MjU3NCwgMzUuMzYxMTA0MzY2NzgxNDRdLCBbMTI5LjEyOTUzOTQxMzQ2NTE1LCAzNS4zNDE5ODA4MDE1MTI4M10sIFsxMjkuMTEzOTEzMDAzNDE2OCwgMzUuMzA1NzAyNDkyMjUxOTldLCBbMTI5LjA5MTIxNDU0Njc0MTYsIDM1LjMwMDAwMDYwNzEyNDYzXSwgWzEyOS4wNzU5MDM5NjQ1NjM3NiwgMzUuMjg3MDgyMjQ3NDI3NzNdLCBbMTI5LjA2MjI2MzMwNzcxNTgyLCAzNS4yOTI0MTUzNzU5OTU2Ml0sIFsxMjkuMDUyMDE4Mzk1OTU3OTYsIDM1LjI3NjkzOTYzNDk0NDA4NV0sIFsxMjkuMDE0ODUxNjEwNzQxNTcsIDM1LjI3MDE3NTQxMjA2MzU0NF0sIFsxMjguOTk5ODYyODQyODQ2NCwgMzUuMjMxMzEyNjQ2NjA3Nl0sIFsxMjguOTI1NzM4NDQwNzQxMiwgMzUuMjEyOTc3NzI3NDQyNThdLCBbMTI4Ljg4NjM4ODg2NzYyNDg3LCAzNS4yMTA2MDMwOTgzMDExMl0sIFsxMjguODcyNjMzODQ5OTc0OTYsIDM1LjE5ODYzNDc3ODAzMDM3XSwgWzEyOC44ODM4ODA1ODQ5NTIzOCwgMzUuMTc4ODY2MDE3NzQ3ODldLCBbMTI4Ljg2ODM1NjQzODczMTk4LCAzNS4xNjM3NTc4OTY3Njc2MV0sIFsxMjguODQ1NTk3MzkxNzc1MiwgMzUuMTU0OTA0MzY2MjEyNTFdLCBbMTI4Ljc5NjI2MDU4NDg3NzI1LCAzNS4xNTQ4NTY4MzAwNjU3NF0sIFsxMjguODA0MzczNDg3NjAwNTQsIDM1LjEzODgzNDAyODE1NDk5Nl0sIFsxMjguODM0MjcyNTk2MjM1ODIsIDM1LjEyNjQ0NTE2NzA3MDU1XSwgWzEyOC44NDQzMjI1Njg2NzQ1MywgMzUuMTAzOTQ0MTk2MjEwNl0sIFsxMjguODI1MDAyOTEzNjU3MzksIDM1LjA5NTcyNzQxNzAxNzEzXSwgWzEyOC44MDQyNDU0MDUyOTU5NCwgMzUuMDg2NDYyOTE1NzUxNThdLCBbMTI4Ljc4MTIwMjcwMzkzNTkyLCAzNS4wOTk0NzkwMTY4MTAxNV0sIFsxMjguNzM1NDY2OTkyMTUxMSwgMzUuMDg4NTAyMzUxMDU5NzI0XSwgWzEyOC43MDUzNzAzODU4NjE5LCAzNS4xMDE2NTM4MjcwNTYwNTVdLCBbMTI4LjY5MDg3ODMzNTYxMzc3LCAzNS4xNDY3MTY5NjkzNTcyNF0sIFsxMjguNjY1MjA4ODQyNzY0MDMsIDM1LjEyNzMwNDkzNDI0NzNdLCBbMTI4LjYzNzAzNjA0MDQ1MTEsIDM1LjE0NjI3NjA0ODk1MzI0XSwgWzEyOC42MTYwNzAyMDg4Nzk3MywgMzUuMTQxODUwODA4Njg4NDk2XSwgWzEyOC41OTYyMzA3MzU4NTcxOCwgMzUuMTY4OTg0MzMxOTUzNDJdLCBbMTI4LjU4ODI1ODgwMDEwNzI0LCAzNS4yMDY1MTEzNTEyNDMzMl0sIFsxMjguNTY2OTgxOTkzMjA3MywgMzUuMTgxNDUwMTU1MTIwNzM2XSwgWzEyOC42MDMxOTQ3MDAyNzU4OCwgMzUuMTMwMjc2MTM1NDczMjk1XSwgWzEyOC42MDUyOTIzMjA0MjQ1OCwgMzUuMTAxMDYxNTcxNTg5OF0sIFsxMjguNjI1MzUyNDI4OTY4OTcsIDM1LjA4NzM3NjcwNzM4Njk2XSwgWzEyOC42Mzg5NzA4MDcxNTA2LCAzNS4wNjQ2NTE1NTM5OTAzMTZdLCBbMTI4LjYwNjM2NjA4MzM0ODg2LCAzNS4wNTIwMTU5NDg2NDAyXSwgWzEyOC41Nzk4MjE4NTEyMTU4OCwgMzUuMDQ4NDYyMDkzNTkxNzY2XSwgWzEyOC41NjIzODcwNTk4MDU2NywgMzUuMDY2MjUyMzk2NzIyODk1XSwgWzEyOC41NjM3NDQ5NjQ1MDIyMywgMzUuMDgwMjIyMzgxMzc3MTRdLCBbMTI4LjUzNjQxNzI2OTkxMTk2LCAzNS4xMDkyMTU1ODA2MzA0M10sIFsxMjguNTIwODk0Mzk2NDEwMTQsIDM1LjA5MzgwODk0NjA3NjEyXSwgWzEyOC40OTA3Mzk0NTg3MDE4LCAzNS4xMDM3Nzc3NzQyMDM5ODRdLCBbMTI4LjQ3MDA4NjczOTc4MzA4LCAzNS4wOTQ0OTExMjYyNjczMzZdLCBbMTI4LjQ2MzgwMjY4ODE0MTMzLCAzNS4wNjg0MTY5NjkxNTg2XSwgWzEyOC40NDI3NDU2NDYwMTEyMiwgMzUuMDY4Nzc4NjY5MzUxOF0sIFsxMjguNDI5NjI5MTM0OTc5LCAzNS4wNTE4NTMzNjM0MDkwNl0sIFsxMjguNDEzNjU5Njk3OTcwNiwgMzUuMDU4ODE5OTE3MTk1OTldLCBbMTI4LjM4MjcyMDI1NjI5MzM3LCAzNS4wNDU2MzI3NDIzNDA3NjRdLCBbMTI4LjM5MTM3MDA5NTQzMDc0LCAzNS4wMzE5ODEzNDA3NDE5NjRdLCBbMTI4LjQ0NzQxMjI5OTMyMTUsIDM1LjA0ODQ3MjMwMjk0NzQ5XSwgWzEyOC40NDk5MDgzOTUyOTk3NiwgMzUuMDY2ODQyMzYzNTQzMjddLCBbMTI4LjQ4NTA4NzgyNzEzNDc4LCAzNS4wNjEyNjIyNDQyMDY5M10sIFsxMjguNDczODA3MDI1MDAzLCAzNS4wMzc4NDQ2OTE4ODY4NzVdLCBbMTI4LjUwNTA0MDg5MTgwMjY4LCAzNS4wMTEyNDM4MjYyNzkyOV0sIFsxMjguNDgwNzcwMzc4NTU2OCwgMzQuOTg5NDkzOTA2MzA4ODFdLCBbMTI4LjQ2NTQ4NTk0Mzk3MzIsIDM0Ljk4NDI2NjgxMTEyMTUzNl0sIFsxMjguNDQxNDU4NTI0OTQxNDIsIDM0Ljk5MDU2MDkyOTE4NDA2XSwgWzEyOC40NDI0MTE1MTY0NjAyMywgMzQuOTU5MjE4MzYyODgxNDNdLCBbMTI4LjQzMzY1MDM1ODI1MTgsIDM0Ljk1Mzc1MjE3MTkxMTVdLCBbMTI4LjQzNjIzOTk3MDMxOTE1LCAzNC45Mjg3NTAxODMxOTg1M10sIFsxMjguNDIyNzk1NzQwMTczNDMsIDM0Ljg5MTYzNDIyMjE4MzU3Nl0sIFsxMjguNDM0MTA1NDA3MTAyMSwgMzQuODc0MzI4NjY5MDIxNzFdLCBbMTI4LjQ1MzI1MzYwNzM0NzYyLCAzNC45MTIzMTE2Nzc4NDg5NV0sIFsxMjguNDcwOTU5OTQ3ODEwMjMsIDM0Ljg4NDQ3MzIzODYwNjg1XSwgWzEyOC40NTgzNjA5NDM4NTMzLCAzNC44NzM1NTk4NDc5MzAzMl0sIFsxMjguNDU0NDI1Nzg1MDMwNTcsIDM0Ljg0MzQ1MDg4ODA4MTNdLCBbMTI4LjQyNTQyNDg1MTYxNzYsIDM0LjgzMDA3ODgyNzE3NDg1XSwgWzEyOC40NDM4NDExOTIxNjUzLCAzNC44MjM1MjI5MjU2MjldLCBbMTI4LjQ0NDM2ODM1NjI0MDk0LCAzNC43OTk2NjQwNTQ4NzY0XSwgWzEyOC40Mzc4NDI0MjI3MTIsIDM0Ljc3NjM0OTg2MDczMjY4XSwgWzEyOC40Mjc1OTg0MTQzNzM0LCAzNC43NjI0Mjg5NzIxNDczNF0sIFsxMjguNDA4NzYzNTk4OTcyNjYsIDM0Ljc1OTIxNjQ4NzQ0ODQ0XSwgWzEyOC4zOTE2ODk4Nzc2MTQzNCwgMzQuNzg2NjE2NTcxNjI2OTldLCBbMTI4LjM3OTA5NTA4OTgyMzY2LCAzNC43OTIxNjk0MjA3MTgzNF0sIFsxMjguMzgxMTA4NjU1OTkyNTYsIDM0LjgxMjE2NjY3MDMzNzc4XSwgWzEyOC4zNDE0NDEyMjQ2MjM5NiwgMzQuODI1NDY1MzQyMDAyNl0sIFsxMjguMzYwNzg0ODE0NDM4OTcsIDM0LjgzNjU2Mjg2NzQ2MzNdLCBbMTI4LjM3ODIwNjcxMzY5NzM4LCAzNC44MjMwNDk4NjUyNTcyNV0sIFsxMjguMzc5NTk1NTY1Mjk1NywgMzQuODQ4NTUwODc0NjEwNzY2XSwgWzEyOC4zOTYxNjYxNjY5OTU3NiwgMzQuODYwNTYwMDIyNjUwNTQ2XSwgWzEyOC4zNzcxMTExMjAwNjcyNywgMzQuODc4Mjk5Mzk3MzkxNTZdLCBbMTI4LjM2NTcyMDQ4NDU4NzU3LCAzNC44NjY2Nzk0NTkxMTM5Ml0sIFsxMjguMzI0MTUzODI5MzU1MjgsIDM0Ljg4MTA3MjU5MTExNjNdLCBbMTI4LjMwMDYzNTI5NTk2NTg2LCAzNC44OTk0MTY0ODc3MDIzMV0sIFsxMjguMzEwMDQ2OTgwNzI1NDUsIDM0LjkwNTUwOTU4ODM4MzM1XSwgWzEyOC4zNTc5MzA2NjQxODY1NCwgMzQuOTA1ODE5NzM2Mjg2MDldLCBbMTI4LjM0ODcxMzAzMDQ5ODUsIDM0LjkyOTYzNzU1OTg3Nzc3XSwgWzEyOC4zMzYwOTY2NDg2NDAwOCwgMzQuOTQxMzcwODM1MjY2OTNdLCBbMTI4LjMwMjE4Mjk2NjMxMDE0LCAzNC45MzI2OTA4Nzc3MDQzXSwgWzEyOC4zMDI3NDI5ODkzNjU4LCAzNC45MDkwMzU5NzUwMzU3MzVdLCBbMTI4LjI4NTMzMjQwMTI0OTcsIDM0LjkwMTI1NTI4MTA2MzE1XSwgWzEyOC4yNjc3MDYzNTM0Mjc1LCAzNC45MDk1MzUwMDIzNDQ0N10sIFsxMjguMjcxNjkzMDc2NzcyNjQsIDM0LjkzMDc2NDQxMjEwNjZdLCBbMTI4LjI0MzM2NjM3MjgyOTQ4LCAzNC45NDA2NDA5NzA2MzAzMzRdLCBbMTI4LjE5ODE2Nzc2Mzg0MzIzLCAzNC45MzM1OTE1MDQ2MTcxN10sIFsxMjguMjA2MDMxNTMwNDE5MTUsIDM0LjkyMDU1MDg4NjQ2MTMzXSwgWzEyOC4xOTkwNTMwOTM1MjExMiwgMzQuOTA5NDE2Nzg5MTE4NzddLCBbMTI4LjIwNDY2MjY4Mzk5MzMyLCAzNC44OTEwNDQ0OTU4MzkzOF0sIFsxMjguMTc5MDkyNjEzNTMzMzgsIDM0Ljg5MjExNDA3NzEwMDYxXSwgWzEyOC4xMjM5NzU4MjEyMjA0LCAzNC45MDEzMTE2NjM4NzE2NF0sIFsxMjguMDc4NjU3ODQyNjk5MiwgMzQuOTIwMzA4ODcwNTc2MDldLCBbMTI4LjA1NzQyNjg5NTk2ODE4LCAzNC45MjUzOTY0MDkzOTc5NF0sIFsxMjguMDMxODY2NDEyMTc3MDQsIDM0Ljk1MzI3NzE2MDMxMjA4XSwgWzEyOC4wNTM3NjU5MTI2MTU0NiwgMzQuOTc1MDU0NTg1MDYzMjFdLCBbMTI4LjA0MTA1MTUwMzUwOTY2LCAzNC45OTgwMjkxNDQ4MjYzNV0sIFsxMjguMDUxNjUzMjgzNTQxMDEsIDM1LjAxMzI5MTEyNDgwOTgwNF0sIFsxMjguMDI4MjI2MzE0NDY5NiwgMzUuMDMwMzIyNzU4NjAyMjI1XSwgWzEyOC4wMTAzNjY2MDUyMjkyMiwgMzUuMDIwODE5MjA0OTAxODNdLCBbMTI4LjAxOTQzNzE2MzA4MzYsIDM1LjAwNDkyNzQ0NDYzNjQyXSwgWzEyOC4wMTc1NTIyNjc4NjU1NCwgMzQuOTg5MTMzOTU2NjAwNjVdLCBbMTI3Ljk5MTQ5NDA5NDMzMDksIDM0Ljk4NjA5NjQ2MjQ5NDM1XSwgWzEyNy45ODQ4MzUxNDEzNzExLCAzNC45NzQ3NjU3ODk1NDg2NV0sIFsxMjcuOTYzMjM0Nzg4OTI5NDMsIDM0Ljk4NDk1NTYzNDk2NDA2XSwgWzEyNy45NDk5NDg3NDcyNTU2MywgMzQuOTczNTc2Nzg5NzEyODE2XSwgWzEyNy45MzM4ODE5NTUwNjkxMSwgMzQuOTg5NzQzNzE4NTU4ODZdLCBbMTI3LjkyOTUwOTE3NDQzNDY3LCAzNS4wMTAwNzMwNTI1Nzk1NF0sIFsxMjcuOTA1MDA0MDU4MDQ3NzQsIDM0Ljk2NzE4MzM4OTU1NjY4XSwgWzEyNy45MDYxMDM0NTU0MTYxNiwgMzQuOTU1MjI4NTI2MzMwMDk2XSwgWzEyNy44NzcwMTY2NjEzNDc5LCAzNC45NDM3OTg5Nzk3NTExN10sIFsxMjcuODM4OTE0MjcyNDE5ODcsIDM0Ljk0NjUwOTI4MDMyNTAyNF0sIFsxMjcuNzg3MzQ2MTY5MDE1NzIsIDM0LjkzNzA5NTUyODE2MTldLCBbMTI3Ljc2NzIzMzQxNDcwNTc3LCAzNC45Njk2OTIxMzQwMTE5ODZdLCBbMTI3Ljc3OTkyMTc0Njk2NzE1LCAzNC45ODUwMTIzNzg4OTQ5Nl0sIFsxMjcuNzg5MzAzMDYzOTkwNiwgMzUuMDE0MTU2MjY3MDM5MDNdLCBbMTI3Ljc3NDEwOTc2MDAwNDE1LCAzNS4wMjYzOTE2MTM0MjExMV0sIFsxMjcuNzcwODQxMTgxMDM5MDIsIDM1LjA0NzM1NTE3NDU0MTk5XSwgWzEyNy43NDI0NjQzNDI2MjU0NywgMzUuMDU4ODc0NzYwNDE2ODM1XSwgWzEyNy43Mzk2MTE4MzA5Nzg0OSwgMzUuMDc1MDAwNDg3OTA0NzRdLCBbMTI3LjcyMTAxNjIyNjkxNDg4LCAzNS4wNzg1NDgwNzIzOTc4MV0sIFsxMjcuNjk2NzQxNjkzNTk3NTIsIDM1LjEwMDAwMDA2MDg4MjcxNF0sIFsxMjcuNjk3MjQ2MDE3Nzg3MzQsIDM1LjEyNjY4MzMwMDQzOTY0XSwgWzEyNy42MjM2OTU1MTA1NTQ3OCwgMzUuMTg0OTMzMTAwMzY0OTVdLCBbMTI3LjYyMDUzMDkwNDk3NjE0LCAzNS4yMzQxNDA1OTQ2Njc3NV0sIFsxMjcuNjEyMTU3NTE3MDUxNTYsIDM1LjI1ODg0OTY4Mjk3MDQ2NF0sIFsxMjcuNTk3OTM0NTQ5OTE0OCwgMzUuMjY1MDk4MzEwMjMyMDhdLCBbMTI3LjU3OTU4MzA4MTA0MzcyLCAzNS4zMDU5MDE0MDAzOTgzNV0sIFsxMjcuNTk0NDMxODMxNDI2NTUsIDM1LjMwODQ3NTc2Mjc2OTc0Nl0sIFsxMjcuNjIyNzg2MjEyMzk0ODEsIDM1LjMyOTM5NzEwNDg3NjU2XSwgWzEyNy42MjQ5OTk4MzcyODc2OSwgMzUuMzQwODk0NjQzMTgxMjY1XSwgWzEyNy42MTIzOTA2Mzc4NDM2MiwgMzUuMzYyNzM5MDQzMjM1ODg0XSwgWzEyNy42NDIzNzE3NjA1OTAyMiwgMzUuNDAxOTI1MTYwNzc4ODNdLCBbMTI3LjY2NDExOTI2NzQ2MzMsIDM1LjQxMzYxMDA1MTM5NDE1XSwgWzEyNy42NjkyMzk0MjIzNTE0LCAzNS40NDUwMjg2MTYzNzQzMTZdLCBbMTI3LjY0NjY0ODkwOTQyMTc2LCAzNS40NDY5MDA3MzU2ODY0MDVdLCBbMTI3LjYzNzg0MDU5MTc0OTE4LCAzNS40NTkyNjUyMDExMTcyOV0sIFsxMjcuNjM4OTA5Nzk5NzA5MDQsIDM1LjQ3NTQyNTMxNTI3MTYxXSwgWzEyNy42NTQ4NjM2NDAyNzczNiwgMzUuNDgyNjMxNTcxMzczMDVdLCBbMTI3LjYyODQ0NDA5ODM1Nzc2LCAzNS41MjE1NTQ1NTA5NjA0NF0sIFsxMjcuNjI2MjYwMjQ4Mzc4LCAzNS41MzA4MTU4NzgxMzg5NF0sIFsxMjcuNTkzMjEyMzc2Nzg3NzIsIDM1LjU1MTEzOTMyODg4MTk5NV0sIFsxMjcuNTg5NTQ1MDgyMzYzNzYsIDM1LjU2MjEzNTE5NjIwMl0sIFsxMjcuNjEyNzI2MjIzMDA3OTcsIDM1LjU4MTgzNDk3MjA3NDE1NV0sIFsxMjcuNjE0NTQyNjc0MDczMTksIDM1LjYwMzkyOTk4ODgyNjEyXSwgWzEyNy42MzAyMjg3MDYzOTQ4NywgMzUuNjE1MTExODMyNzAyMDM0XSwgWzEyNy42MjIzMTY3NDI0NTAzNywgMzUuNjM5MzA4NTkyOTg5OV0sIFsxMjcuNjMwMzUwNDAyMjQxNjYsIDM1LjY1OTU1NDE5NDc4MzQ5XSwgWzEyNy42NDEwNzYzNzAyODUwMiwgMzUuNjY2ODc3MzA5MDgxNTM1XSwgWzEyNy42NDcwMTc5MjE4NjQyOCwgMzUuNjk1MzUxMjkwODkzMl0sIFsxMjcuNjYzMzE0ODg0MzU5ODYsIDM1LjcwNzAxOTE4Nzg4NzAzNV0sIFsxMjcuNjYzNjQwMjE0NjA0NjEsIDM1Ljc1NTc2Mzk5MTMzNzgxNV0sIFsxMjcuNzAyNTE1NzAwMDg4MjQsIDM1Ljc4NTk0OTQwNTQzNDA3XSwgWzEyNy43MjE2OTc1NzQ3NzAyMywgMzUuNzk0NDAxNjYyMTQ5NDU0XSwgWzEyNy43NDc3MTI2MDI2MTQzOCwgMzUuODQwMjMxMTQ4Mzk0MDVdLCBbMTI3Ljc3NDMwODA1ODIwMDUyLCAzNS44MzU5MzEyMDEzNzA5NTRdLCBbMTI3Ljc5MDAyMjYyNTIwMTgxLCAzNS44NDg2MzcwMDY0MTU4MTRdLCBbMTI3LjgxMDg2MDM1NzM1MTE1LCAzNS44NTA1ODU5NjYzNDEwNV0sIFsxMjcuODMzMDM4MTE0OTM3MzIsIDM1Ljg2Njc0Njg2NDMxMTQ1XSwgWzEyNy44NDMxMDE0NTE0NTIzNCwgMzUuODYzODc0OTI3Mzk5NjhdLCBbMTI3Ljg1MzY3MDkxMjE0NTcsIDM1Ljg4NjUwMzAyNDQ1MDM4XSwgWzEyNy44ODk3NzU3Mzg5NzMzNywgMzUuOTExNTg3ODI5MzMyNzNdLCBbMTI3Ljg4NzAyNzM2OTI5NTk2LCAzNS44OTAwMjE0Mjc4OTMzNDVdLCBbMTI3Ljg5NTQ2MzcxMzQwMjQyLCAzNS44ODM1OTQ5MTgwNzU1NV0sIFsxMjcuOTE4MTQ4ODI2ODUyMDUsIDM1Ljg4ODgyMDc5MDQ1Nzg3XSwgWzEyNy45MzI2NjQ5MjUzMTgzOSwgMzUuODc1MTY0ODU3NTYxMjNdLCBbMTI3LjkzNDUyMDY3NjA4NDI5LCAzNS44NTI3OTMxNDcyNDkyMTZdLCBbMTI3Ljk1MzAwNTY2MTQ0MDI0LCAzNS44NTgyNTY1MjcxMTk1NjVdLCBbMTI3Ljk3MzQ1NzQ2MjcxOTksIDM1Ljg0ODEzMTMxMzIwOTM2NV0sIFsxMjcuOTg3NTQwMTgxMjMwMTYsIDM1Ljg1NDM5MjY1NTY2MDUyNl0sIFsxMjcuOTk5NTgxOTY5NTU0MjEsIDM1LjgzNDc1NDA5OTA4ODYzXSwgWzEyOC4wMTQzMTk4MTkyNDk3MiwgMzUuODI1ODYxOTE2ODkzMTI1XSwgWzEyOC4wMzM3OTQ0MDc5NTU0NCwgMzUuODMyNzEyNzE2MTkxODldLCBbMTI4LjA1MzAxODgwMDI2ODgzLCAzNS44MjYyNTg2NjM5NzQ5NzZdLCBbMTI4LjA3MjU4OTMxNTg1NTU3LCAzNS44Mzc2ODY3MDg2MjA1NF0sIFsxMjguMTI2MzE3MzE3ODcyMjYsIDM1LjgxOTM0NzU4MjM4OTg2XSwgWzEyOC4xMjM4NjAzOTQzMjQ0LCAzNS44MDA5MDgwMzExMTIyOV0sIFsxMjguMTMwOTkxNTQwOTMxMjMsIDM1Ljc4NjM2Nzc3NzQ1OTkzXSwgWzEyOC4xNTQ1MjY4ODkwMDMxNywgMzUuNzgzMTA3MTI0MDEyNjldLCBbMTI4LjE2NjQ3MDI5MTEwMjUsIDM1Ljc1OTczNTM4NzQyMjAwNV0sIFsxMjguMTg5NDU3NTg2MTcxODcsIDM1Ljc1MTE0NjY5NTgwMjQzXSwgWzEyOC4yMDM3NjAzODg4Mjc0LCAzNS43MTk3OTM4MDI0MjgwNF0sIFsxMjguMjA0MjkwNjc3NzA4ODMsIDM1LjY4MTM2NTc3NjAxOTc0Nl0sIFsxMjguMTgxODM2MTkzOTY5MiwgMzUuNjcwNjQzMjU4NTQxNzRdLCBbMTI4LjE2NjMxNjQ4MzAwMjQ1LCAzNS42NzAyMzQ4NDc5ODAyMV0sIFsxMjguMTY1OTIxNzk0MDk2MDgsIDM1LjY1MDQ3MTg1ODYzMDJdLCBbMTI4LjE4NzA3ODczOTc4MTc1LCAzNS42NTQ3NzA3MjE0MTUwNl0sIFsxMjguMjAzMjA5MjU3ODg2MiwgMzUuNjQwNzcxNDE0MDk4OTRdLCBbMTI4LjIzNzkxMTAyNDI5LCAzNS42Mzc3MDYzNDAwNDIyNV0sIFsxMjguMjQ1ODA5NjU1NDQ3MTIsIDM1LjY1MjYzNjE5Mjc5MDMwNF0sIFsxMjguMjYzMjk3MDUxNTYxNDcsIDM1LjYzOTY2NDgwOTg1ODQ3XSwgWzEyOC4yODA1OTk2ODUwMzYsIDM1LjY0ODcyOTkzNjIzODE3Nl0sIFsxMjguMzA4MjQ4NTU3MjAwNTMsIDM1LjY1MjEyMDMxMzY2NTk4XSwgWzEyOC4zNTcxMjI1Mjg3MzU1MiwgMzUuNjM5NDQ4NTE4MzYxMThdLCBbMTI4LjM3Mjk3MDUzMzM4MDksIDM1LjYwODEzNDQ4ODAzOTUyXV1dXSwgInR5cGUiOiAiTXVsdGlQb2x5Z29uIn0sICJwcm9wZXJ0aWVzIjogeyJiYXNlX3llYXIiOiAiMjAxMyIsICJjb2RlIjogIjM4IiwgIm5hbWUiOiAiXHVhY2JkXHVjMGMxXHViMGE4XHViM2M0IiwgIm5hbWVfZW5nIjogIkd5ZW9uZ3NhbmduYW0tZG8ifSwgInR5cGUiOiAiRmVhdHVyZSJ9LCB7Imdlb21ldHJ5IjogeyJjb29yZGluYXRlcyI6IFtbW1sxMjkuNDUyMzA4MjIzNzE3MiwgMzUuNjQ3OTE3MjE4Mjc0ODA2XSwgWzEyOS40MTQ5MzA5NDcwMTE4NywgMzUuNjYwOTg5MDc2Njg0NDVdLCBbMTI5LjM1NjMzOTU5MTQwNjgyLCAzNS42NzY3MDM0NjMzMDIxMDRdLCBbMTI5LjMwNTA3NTE0NDYyMjksIDM1LjY0NTMxNjY4MzY2MjU0XSwgWzEyOS4yNjI3NTM0Mzk4MDkxNiwgMzUuNjUxMzIzNjAwMTgyNV0sIFsxMjkuMjU2NTI5NzAyNDc3MDIsIDM1LjY2MzIzMDM1MDExNTldLCBbMTI5LjI2NDk3ODMwMzE1MjYyLCAzNS42ODg0MTk5OTI5MjIyODVdLCBbMTI5LjI1NjI4MDA2NDM3MDMyLCAzNS42OTg0NjQzMjQxNTM3NzVdLCBbMTI5LjIzNjM0NDM2OTc4MzE1LCAzNS43MDA1NTg4MDk0MjQyMl0sIFsxMjkuMjA5NTEzOTE5MTA2NDgsIDM1LjcxODQ4NTgxODAyMzddLCBbMTI5LjE2MjkxNTEwMjUxNTM3LCAzNS43MTE4NTc1NzM3ODE2Nl0sIFsxMjkuMTQ3OTk0MzYzMTAwMTQsIDM1LjcyMTY3NjY2NzYyODUxNV0sIFsxMjkuMTM3NTE4MDc4MjYwMjksIDM1LjcwODkwNzU3MzY0MzgwNl0sIFsxMjkuMDkxMDcwNDU0MTczOCwgMzUuNjk5MTIwNjMwMDQyNzRdLCBbMTI5LjA3MTc1MjYxNDU3Njc4LCAzNS42Nzc3MDM0ODk1MjgxNl0sIFsxMjkuMDcwMDk2NjcwOTg5MDcsIDM1LjY1NjMzOTM4MDQ5NzY2XSwgWzEyOS4wNzYzOTg3MzE2NTE5NSwgMzUuNjM3MDU1MzI4NDMzMDZdLCBbMTI5LjA0OTU3NjM3ODI3ODUyLCAzNS42NDcxMTgxODA0ODE1M10sIFsxMjkuMDA1NjA2OTA5MDcxODcsIDM1LjYxNzExMDE0NDQ5MTU1NV0sIFsxMjguOTg0MDE1NzA3NjI0MDUsIDM1LjYwNDUzNTgxMzEzMTI1XSwgWzEyOC45Mzk2NDU0NjM1Njk5LCAzNS42MzE1MDg2MzA3MzQ2NV0sIFsxMjguOTE0MDE0MzgwMzUyMDksIDM1LjYzNDg4NDU1MjkxNjk0NF0sIFsxMjguODc0NTQ0MjQ2NTc1MjgsIDM1LjYxNzg4NjI5ODc0MDE5XSwgWzEyOC44NTU4OTM3MjkzNjM5NywgMzUuNTkzNjcyODk2MDM3ODE2XSwgWzEyOC44MzYwMzg2MzQ2MjUyOCwgMzUuNTk0MzU0NTg5NjYyNjJdLCBbMTI4LjgwMzEwNzE3MDAxNDQ0LCAzNS41ODUwNDY1NzU4MDA2M10sIFsxMjguNzg4OTk0MDUyMzkwMDIsIDM1LjU2MzA1NDE1MTQzODU4NV0sIFsxMjguNzYyODYwMTQzNTUxNTMsIDM1LjU2NDg5NjY2MDIxMzY4XSwgWzEyOC43MjczNDU1NzE4MjI3MiwgMzUuNTc3NTM0NjU2MTE4NTE2XSwgWzEyOC43MDU1MDI1NDIxMDIxLCAzNS41NzU0OTIxMDE1OTEyNV0sIFsxMjguNjkzNTA4OTYzNDAxMDMsIDM1LjU5MTM4ODI5MDg0OTA5Nl0sIFsxMjguNjYwMjQ1MjQ0NjA4MjYsIDM1LjU5NDcxMTk0ODI0MDQzXSwgWzEyOC42MDkwNzQ0NDg2MzU4LCAzNS41NzczOTA5NzYwMjUzM10sIFsxMjguNTg3MDQyMjIyMjA0NDUsIDM1LjU4MzE2NTYyMjYyOTkxXSwgWzEyOC41NjA1OTIyOTU3NDQ0NCwgMzUuNjExNzM4OTgxNTU3MTVdLCBbMTI4LjUzODcyMjg0MjE4OTMsIDM1LjYyMDYyNTYxMjYyMDg1XSwgWzEyOC41NDAwMDk4MjQ0MTYwNywgMzUuNjQ4MzUwMDA4MjEwMjE1XSwgWzEyOC41Mjg2MzQyMjAzNTY4LCAzNS42NzkzNTgzMzY2NTMyNF0sIFsxMjguNTQ1OTg4MTUwNDIxMjcsIDM1LjcxNjA3MDMwOTQ4MzgyXSwgWzEyOC41ODIyNTYwODk3MDExMywgMzUuNzM2MDczMTE4NjIxOTc0XSwgWzEyOC42MTg4OTAxNTcwNjI0LCAzNS43MzQxMDA4OTM3ODI3NDVdLCBbMTI4LjYxMjQzOTkzMjkwMzYsIDM1LjcyMjQ4MzE1MTczMTQ5NV0sIFsxMjguNjI1MzAyNTEwNTY0MDcsIDM1LjcwMDM3OTcxMDg3NDI0XSwgWzEyOC42NDAwNjQxNjY2MDYsIDM1LjcwMjgyNTk2MTc1MTM5NF0sIFsxMjguNjY2MzE5MzAxODc5LCAzNS43MTczOTA0NzA5MjIyOF0sIFsxMjguNjg1NjI3OTE5NTQ2OTMsIDM1LjcxODczNzQ1MjQ5OTg5NF0sIFsxMjguNjk0MDIwNjAyNzU2NDcsIDM1LjcyOTMwODgyMjk0NjE1XSwgWzEyOC42OTc3ODEzMjg1ODc1LCAzNS43NTQ4ODY3OTI4MDYxMl0sIFsxMjguNjg0NjMzNDg2ODQ5ODMsIDM1Ljc4Njc4MDc5MzYzODldLCBbMTI4LjcxODYyMjQ2Mzg0NTc1LCAzNS44MDI4ODIxODU3NDg0NDRdLCBbMTI4LjcxMTAyNzQwODY3MDMzLCAzNS44MjM1OTgyNTg0NDU1NV0sIFsxMjguNzUzODg3MDk1NTgxOSwgMzUuODU0MDgxMDczMTU0NzFdLCBbMTI4Ljc2NTQyNzIwNDY5NDk2LCAzNS44ODA5MDM5NTk0NDEyMl0sIFsxMjguNzU4ODU2OTg0MTc0OTcsIDM1LjkxMTg1MzE5NTcyOTg4XSwgWzEyOC43NDA2MjcyNDM0ODg1LCAzNS45MjUzOTgxMDUxMTMyNzRdLCBbMTI4Ljc0NzI5MTg3MjQwMywgMzUuOTQxMTAyNzA5OTE0ODldLCBbMTI4Ljc0MDYxMTMzNjAwNzkzLCAzNS45NTMyMTk0ODkzNDM3N10sIFsxMjguNzQ4MzA0NjgyMDg5MiwgMzUuOTY3ODIxMzk2NTAxMzhdLCBbMTI4LjczMzY0MzQ4NzUzNjU3LCAzNS45ODIwMzM0NjA0NDIxNzVdLCBbMTI4LjcyNzc5NjM5MDU3MzU2LCAzNi4wMDE4MjIyMTUwMzUzNl0sIFsxMjguNjkzMDQ5MjExMTc4NDUsIDM2LjAxMTcwMTYyMzcwNjE2Nl0sIFsxMjguNjE5NzE0MDExNjI4MDUsIDM2LjAwMzQ2MzU2NzM1MDMzXSwgWzEyOC41OTIwNzQ4MzQzMDgxLCAzNS45NzU3MzIzMjA4OTI2OTZdLCBbMTI4LjU1ODQ2NzU5MjI2Nzg1LCAzNS45Njc2MDMyNDc3ODkzNl0sIFsxMjguNTI5MjMxODQ0MTE0NSwgMzUuOTcyODM4OTM1ODg4NTNdLCBbMTI4LjUzNzAwMzM3ODIxMTA3LCAzNS45MzY2ODIyMzYyMTA1OV0sIFsxMjguNTI1NTE3NzA2NjM0NzMsIDM1LjkxNDc1NzY3OTc4NzI4XSwgWzEyOC40OTQ5NjgyOTM3MTEwNSwgMzUuODkzMTY0MDU4MDA2NjZdLCBbMTI4LjQ3NzYwNzcwNjgxMjEsIDM1Ljg5MjIyNzE3Mzc1MTUzNl0sIFsxMjguNDY5NTEwNjEyMDgzNiwgMzUuOTAzNTMxOTk5OTczMDhdLCBbMTI4LjQ3Nzg5Njk0MzgxMzQ4LCAzNS45MzMwMDI1ODk1MDk4MDVdLCBbMTI4LjQ0MzQyODkzMTM2MTA3LCAzNS45MzIwNTQxMzgxNjYwM10sIFsxMjguNDIwMzE0MTE3NTE0MTIsIDM1LjkxODI1MjMwNDI1OTM4XSwgWzEyOC40MDU1NDY3OTkwMDUxMiwgMzUuODg2MTAwOTcxNzU4Mjk2XSwgWzEyOC4zODc2ODYwOTgyNzU0LCAzNS44NjIyNDI1MDA4Njg5XSwgWzEyOC4zOTIyOTY0NjcwMzI0MiwgMzUuODQ3MzY4OTA3MzY2Nzg2XSwgWzEyOC40MjUwMDAwMTc3MDg4LCAzNS44NDgyNTQ5Mjg2NDExNzVdLCBbMTI4LjQ2MjMzNDc0ODYzMjg4LCAzNS44MzgyNTg3NzAwMjE4OTVdLCBbMTI4LjQ3OTY5ODk5NTk1NTY2LCAzNS44MjQyMTI1NDY1MTI3OV0sIFsxMjguNDcxMzQyODY1MTEwNDIsIDM1LjgwNTQyODQwOTQ0MzM2XSwgWzEyOC40MjI0OTY3MTM0MTU4OCwgMzUuODA2MzQ5OTYxMDI3NDg2XSwgWzEyOC40MDk2MjYyNzA0NTA4NywgMzUuNzkzNTI2NzQ1ODAxNTNdLCBbMTI4LjM4ODY0NDAwMjUyMjcsIDM1Ljc2MDMzMzY5ODE0Njk4XSwgWzEyOC4zOTQ4NDg4ODA5MDczLCAzNS43NDI1MjA4NzU5MjIyNl0sIFsxMjguNDM0NzA4MzY1NTQ2NzMsIDM1LjcyMjM2MjA0NDU0MjI2NV0sIFsxMjguNDM1MzgwODgzNzMwMSwgMzUuNzAwMDAwNTQ4NTA3NDRdLCBbMTI4LjQyMDA0NzU4MjkwODQsIDM1LjY5MDEwMjE3OTAzNDM4XSwgWzEyOC4zNjE4NTkzNjg4ODY4OCwgMzUuNzA0NDg2OTY0MDczMDddLCBbMTI4LjM1MzI1MDM2ODY2NDczLCAzNS42OTk5MDg1NTE3MzQ2XSwgWzEyOC4zNTc3Mzk5NzQ5NzY1NywgMzUuNjc3ODg0NTIxODAwMDddLCBbMTI4LjM4MzgxOTE5MzE2Mjk2LCAzNS42NTIyNjM5MDE5MzExM10sIFsxMjguNDA1MTUzMTIzMTEyMiwgMzUuNjM4ODk4ODYyMjg5MDU0XSwgWzEyOC4zODc2MjM5OTIwMTU4LCAzNS42MDkwNTEwNTY5Mzg4OV0sIFsxMjguMzcyOTcwNTMzMzgwOSwgMzUuNjA4MTM0NDg4MDM5NTJdLCBbMTI4LjM1NzEyMjUyODczNTUyLCAzNS42Mzk0NDg1MTgzNjExOF0sIFsxMjguMzA4MjQ4NTU3MjAwNTMsIDM1LjY1MjEyMDMxMzY2NTk4XSwgWzEyOC4yODA1OTk2ODUwMzYsIDM1LjY0ODcyOTkzNjIzODE3Nl0sIFsxMjguMjYzMjk3MDUxNTYxNDcsIDM1LjYzOTY2NDgwOTg1ODQ3XSwgWzEyOC4yNDU4MDk2NTU0NDcxMiwgMzUuNjUyNjM2MTkyNzkwMzA0XSwgWzEyOC4yMzc5MTEwMjQyOSwgMzUuNjM3NzA2MzQwMDQyMjVdLCBbMTI4LjIwMzIwOTI1Nzg4NjIsIDM1LjY0MDc3MTQxNDA5ODk0XSwgWzEyOC4xODcwNzg3Mzk3ODE3NSwgMzUuNjU0NzcwNzIxNDE1MDZdLCBbMTI4LjE2NTkyMTc5NDA5NjA4LCAzNS42NTA0NzE4NTg2MzAyXSwgWzEyOC4xNjYzMTY0ODMwMDI0NSwgMzUuNjcwMjM0ODQ3OTgwMjFdLCBbMTI4LjE4MTgzNjE5Mzk2OTIsIDM1LjY3MDY0MzI1ODU0MTc0XSwgWzEyOC4yMDQyOTA2Nzc3MDg4MywgMzUuNjgxMzY1Nzc2MDE5NzQ2XSwgWzEyOC4yMDM3NjAzODg4Mjc0LCAzNS43MTk3OTM4MDI0MjgwNF0sIFsxMjguMTg5NDU3NTg2MTcxODcsIDM1Ljc1MTE0NjY5NTgwMjQzXSwgWzEyOC4xNjY0NzAyOTExMDI1LCAzNS43NTk3MzUzODc0MjIwMDVdLCBbMTI4LjE1NDUyNjg4OTAwMzE3LCAzNS43ODMxMDcxMjQwMTI2OV0sIFsxMjguMTMwOTkxNTQwOTMxMjMsIDM1Ljc4NjM2Nzc3NzQ1OTkzXSwgWzEyOC4xMjM4NjAzOTQzMjQ0LCAzNS44MDA5MDgwMzExMTIyOV0sIFsxMjguMTI2MzE3MzE3ODcyMjYsIDM1LjgxOTM0NzU4MjM4OTg2XSwgWzEyOC4wNzI1ODkzMTU4NTU1NywgMzUuODM3Njg2NzA4NjIwNTRdLCBbMTI4LjA1MzAxODgwMDI2ODgzLCAzNS44MjYyNTg2NjM5NzQ5NzZdLCBbMTI4LjAzMzc5NDQwNzk1NTQ0LCAzNS44MzI3MTI3MTYxOTE4OV0sIFsxMjguMDE0MzE5ODE5MjQ5NzIsIDM1LjgyNTg2MTkxNjg5MzEyNV0sIFsxMjcuOTk5NTgxOTY5NTU0MjEsIDM1LjgzNDc1NDA5OTA4ODYzXSwgWzEyNy45ODc1NDAxODEyMzAxNiwgMzUuODU0MzkyNjU1NjYwNTI2XSwgWzEyNy45NzM0NTc0NjI3MTk5LCAzNS44NDgxMzEzMTMyMDkzNjVdLCBbMTI3Ljk1MzAwNTY2MTQ0MDI0LCAzNS44NTgyNTY1MjcxMTk1NjVdLCBbMTI3LjkzNDUyMDY3NjA4NDI5LCAzNS44NTI3OTMxNDcyNDkyMTZdLCBbMTI3LjkzMjY2NDkyNTMxODM5LCAzNS44NzUxNjQ4NTc1NjEyM10sIFsxMjcuOTE4MTQ4ODI2ODUyMDUsIDM1Ljg4ODgyMDc5MDQ1Nzg3XSwgWzEyNy44OTU0NjM3MTM0MDI0MiwgMzUuODgzNTk0OTE4MDc1NTVdLCBbMTI3Ljg4NzAyNzM2OTI5NTk2LCAzNS44OTAwMjE0Mjc4OTMzNDVdLCBbMTI3Ljg4OTc3NTczODk3MzM3LCAzNS45MTE1ODc4MjkzMzI3M10sIFsxMjcuODg0Mzg0NDM5MzQyODgsIDM1LjkyNDc0ODYwNzQxMzIyXSwgWzEyNy45MTA3NjI3MjA3NTYzMSwgMzUuOTM4MjQ3NjI2MzY0ODRdLCBbMTI3Ljg5NzAwOTY3MDI3MzEsIDM1Ljk4MjA4NzYyMzQ4MTMzNF0sIFsxMjcuODc3OTgwMTMxMDk1NjUsIDM1Ljk5Mzc0MDg5NDIzODIzNl0sIFsxMjcuODc5MDkyMDM1OTM0MDQsIDM2LjAxOTQ2MzA4MDYyNzQ5XSwgWzEyNy45MDU3MjI3ODQ0MzAzNCwgMzYuMDM1OTg5NTY0MDc4MTVdLCBbMTI3LjkxODYxNzg0OTY1NTc2LCAzNi4wNTEwNjYwNzI2NTE2Nl0sIFsxMjcuOTM4MDMzMDAzMjA0MTEsIDM2LjA0NzY4NzYyNTUwNDY5XSwgWzEyNy45NjM1NTk5MjEwNjYwOSwgMzYuMDY1NDE0ODIwODE3ODJdLCBbMTI3Ljk2MDAwOTk1OTMxNjY4LCAzNi4wOTE5MTcxNTk5MjAxMV0sIFsxMjcuOTY5MDQ3MjM2NTUwNTIsIDM2LjExNTI4MzY4NDk5MTE4NF0sIFsxMjcuOTg5MjA5MDM1ODUyNjQsIDM2LjEyNTczMTI3NzMyMDExXSwgWzEyNy45OTc4NzE1NzkzNjE5MSwgMzYuMTUwMDM4MzQ1MDQ5NjhdLCBbMTI3Ljk3NzgxODkwODgzNzEyLCAzNi4xODUxODc4Mjk5NDE0Nl0sIFsxMjcuOTg4MTk0MjIwMTQ4MzksIDM2LjE5NzQ0MjI1NTEzOTc1XSwgWzEyOC4wMTU2OTcyNTA4NzQ3LCAzNi4yMDYxNzQyNjU3NDI0N10sIFsxMjguMDQwNTM2MTcyMjM2MzYsIDM2LjE5MTAzODY3MDQ1OTY3Nl0sIFsxMjguMDU0NzAzNzYwNzA3NzgsIDM2LjE5NzkyOTAxOTUzMzQ5XSwgWzEyOC4wNTI1NTgzNTgxNTc0LCAzNi4yMTIzNDQyMzgwODM4OV0sIFsxMjguMDMyMjI5NzU0MDU2ODMsIDM2LjIzNzM1MzEyMTc1MDcyXSwgWzEyOC4wNDg5ODQyMTc4Mjg5NywgMzYuMjUzNjgzNDMyMTg2NDU2XSwgWzEyOC4wMTI0NjM4OTc3OTkzLCAzNi4yNjkxOTY1MTYyNDgwN10sIFsxMjcuOTg0MzQ3Nzk0MzMzMjIsIDM2LjI2MTI0NTI0Mzc4MTAwNV0sIFsxMjcuOTY5OTg2MjYyMjkyMTgsIDM2LjI0NzY5Njk5MjcwMzI1XSwgWzEyNy45NTEzNjI1MjgxOTMxOSwgMzYuMjUzNjQ1Mzk4ODQyMDldLCBbMTI3LjkzMzA4Njk5MzY1MjU4LCAzNi4yNzUyNjUyMzE3MDMwMl0sIFsxMjcuODk0MjEwODM2MDQ4MDcsIDM2LjI4OTIyMTUwNDE1NzIyNl0sIFsxMjcuODgxOTM2MzQ5MDk4NSwgMzYuMjcyMDMzMDU3MDE1MDE1XSwgWzEyNy44NTM0Nzc5Mzc5NjI3NywgMzYuMjcyNzg5NDY0MzIyNjVdLCBbMTI3Ljg0MzIzOTkzMjg4NDg3LCAzNi4zMDY2NzU4Njc1MjEwN10sIFsxMjcuODU0MjUyMzY3NTQ0NDIsIDM2LjMyNzQ1MzQ4MTM5MDVdLCBbMTI3Ljg4MzYxNDg0NDE0NzI1LCAzNi4zNDE5MjI2MDE0NjkzMTRdLCBbMTI3Ljg5MzIyMjM0NDY5ODA5LCAzNi4zNTQ0NDI5MjAzMDgxNF0sIFsxMjcuODc1MjkyMjQxMzIwMzEsIDM2LjQwMjkzODg4NTYzMTY4XSwgWzEyNy44ODQ4MDc3NDE5Mjk3NiwgMzYuNDE4ODA3NjMzNTEyODA2XSwgWzEyNy44NzUzNTE3NTQ5OTM2MywgMzYuNDM0NDg5NTc2Mjg1MjE2XSwgWzEyNy44ODQ1NzI5NzU4ODUzNiwgMzYuNDU4MDcwMTI0MjYyNjI2XSwgWzEyNy44ODI4NDc2MDAwMDczOCwgMzYuNDc3NzkwNzM0NzU4NzJdLCBbMTI3LjkwODg5NDA0ODQ3MTg0LCAzNi41MDQ5MjI4NDk1MDk3N10sIFsxMjcuOTAyODExMDIyNDY0NjUsIDM2LjUyMTc5ODA0MTEwOV0sIFsxMjcuODc1NTY0NjMwMzI1MTYsIDM2LjUzNTM4NDQ1NjAxNDY1NF0sIFsxMjcuODc1NTMxODM0NjE1ODQsIDM2LjU1MjMzOTk2NjUwMTAzXSwgWzEyNy44NjM2MjYzMjk1ODEwNSwgMzYuNTY1Mzk1NTYwMjA3ODA0XSwgWzEyNy44MjYyMTI5NTE1NzE3NiwgMzYuNTY4MDgzMjM1NDk5NjNdLCBbMTI3Ljc5OTc1NzM1NzUzNTU1LCAzNi41ODg0ODIwOTA0OTc0Ml0sIFsxMjcuODI1OTUzNzM1MjkzNSwgMzYuNjA5NjM5NzA3MzMwMl0sIFsxMjcuODUxNzgwNzQ0NjMwNSwgMzYuNjA5ODU1NjE2ODc2MzJdLCBbMTI3Ljg1MDE3NDIzNTMyNjAyLCAzNi42MzA0NTI4ODEzNTIwNTZdLCBbMTI3Ljg2NDg2ODgyMDQ3NTc4LCAzNi42MzE5NDg3OTg0MDA3MzVdLCBbMTI3Ljg3NjI0Mjg3MDQ0MTM5LCAzNi42NTI0Nzg3MTI4NzU2NTZdLCBbMTI3Ljg5MTU4NjE0MTMwNzksIDM2LjYyNjU1MDAxNzQ1Mjk5XSwgWzEyNy45MzM4MTU3MzQ5MTMzNCwgMzYuNjE1MDI1MDM4Nzc0MzJdLCBbMTI3Ljk0MDU3NzI1ODk1OTQ0LCAzNi42NDgxNzI0ODU3NzI2OF0sIFsxMjcuOTM0NDk2MzExNDc3MjIsIDM2LjY2MjI0NTkxMjQ5NDYzXSwgWzEyNy44ODk1MjUxNDUyMDA0NSwgMzYuNjg4NDA3MzUyMTA1MDc0XSwgWzEyNy45MzM3NDI3NDg2OTY3OSwgMzYuNjkwNDYwODQyNTMxNjddLCBbMTI3LjkzMzg0NDE0NDI3MjQxLCAzNi43MDM0MjMzODk0OTQ1OF0sIFsxMjcuOTUwNTI1Mjk1OTU1NywgMzYuNzE1MzM0NzI5NjQzNTJdLCBbMTI3Ljk2MzQ3ODMxMTY1MDAxLCAzNi43MzQxMDIyNTY4MDcwMDZdLCBbMTI3Ljk4ODk4MjIzODcyNDIzLCAzNi43MTQ1OTgyMzIzNTQ5Ml0sIFsxMjguMDA0ODAwODc4MzMwODUsIDM2LjcxMzczMDU0NDQ1OTgzNV0sIFsxMjguMDI0NDA3NjM4MTM5MjgsIDM2LjcyMjk3MjQ5ODA4NTIyXSwgWzEyOC4wNTAzMDgzNjg2MjQ0OCwgMzYuNzA1NDg2NzEyNzk2OTc2XSwgWzEyOC4wNzM1MTQyOTU1NzM1NywgMzYuNzA0MzkwOTE1ODY5ODNdLCBbMTI4LjA3MTE0MDUxMDQ3MDg1LCAzNi43MTg3NjU0NTk3NzQyNTRdLCBbMTI4LjAzNDY2MzkzMDAwNzc1LCAzNi43NDQ2MjYzMzEwOTY3OF0sIFsxMjguMDU3MzEwNTE3Mjg3MiwgMzYuNzkwMjkwMDUxNDIxNjFdLCBbMTI4LjA2MDg4MDA4MTk3ODgsIDM2LjgxMzIxNDk2NDI2MDczXSwgWzEyOC4wODY0MTYxMDEzNzAzMywgMzYuODAxMTUwNTA3NjA1ODI2XSwgWzEyOC4xMDg5NzgxODIwODMzOCwgMzYuODAyODk5NzI4NjcwNzQ1XSwgWzEyOC4xMTQ0Mjc1ODA0OTgyNCwgMzYuODE2MDAxOTAwNTA0NDldLCBbMTI4LjE0MTc4NTA0ODY2ODY4LCAzNi44MzEzNTQ2NzI0MTYxXSwgWzEyOC4xNjc0MDUzNjE1OTYwMiwgMzYuODE3MTI4NDc1Mzg0MDFdLCBbMTI4LjIyMDU5MjUzMTE2MjU3LCAzNi44MTE4Njk0MjM1Nzk0NjZdLCBbMTI4LjIxNTk0NzE2NDU2NzMyLCAzNi44NDU2OTE5MDE1ODc1Nl0sIFsxMjguMjM1ODI5ODY4MjUzOCwgMzYuODQ0NzY0MTYzNjQ0NjhdLCBbMTI4LjI0NDEyNjQ3NTIwNzMsIDM2Ljg2OTkxMDMxMTU4MTgyNl0sIFsxMjguMjg0OTExNDc4ODg4NzIsIDM2Ljg1Mzg5Njk1OTQxNTk1XSwgWzEyOC4yOTg4MzgyNDcwNzAyOCwgMzYuODMxNTQ4OTQ0OTk2MzZdLCBbMTI4LjMyMzMzMjg0MDg3NjA1LCAzNi44MTIzMjk4ODM0Nzk3NF0sIFsxMjguMzM2NDQyOTU3MDgxNiwgMzYuODE0MDc1Mzk1NTI4ODZdLCBbMTI4LjM2OTIwNzIzMjE5NjgzLCAzNi43OTc2MTY0NTUwODMyMTVdLCBbMTI4LjM4NDA0MTU5MjQxMiwgMzYuODExMDg2ODQ3NTI4Njg1XSwgWzEyOC40MjI4Njc4Mzg3NDk4LCAzNi44MDg1MjM2ODI4NzQyNV0sIFsxMjguNDUxMzM5NTE5ODI1NCwgMzYuODQ2MDgwOTI5NTM0MDddLCBbMTI4LjQ1MDM0OTQ5NTUxODE0LCAzNi44NjE2MDQzNTEwMTUzNl0sIFsxMjguNDI2NTQ1OTUwNzk5NzIsIDM2Ljg3MzU3ODI5MjU2MTEzNV0sIFsxMjguNDQyNjA0NDQ0MDA0NDQsIDM2Ljg5ODk5Nzg5NDk4MTA5XSwgWzEyOC40NDQwOTMzMjExMjg4NiwgMzYuOTI1MDIwNTY0MzA2ODhdLCBbMTI4LjQ2MjE1MjYwNzI0NzUzLCAzNi45MzE1MDY1MzM3MjY0OV0sIFsxMjguNDY1NDY5ODY3MTcyODYsIDM2Ljk0NDU3MzQzMzg1MDA0Nl0sIFsxMjguNTE1Nzg1NzUzNTMwMiwgMzYuOTczODExMjcyOTg3NTc1XSwgWzEyOC41MTY3ODk5ODcxMjkwMiwgMzYuOTgzOTY3MDM0OTM0NDk0XSwgWzEyOC41NDY3OTU2MzkwMjIyLCAzNi45ODk3MjM3MDAwMjEyOF0sIFsxMjguNTczNTQ0ODIyNTYxNywgMzcuMDEzMTExNzgwNTY3MDZdLCBbMTI4LjU2NzQ5MzU0NjA0ODMzLCAzNy4wMjg2MjMwNDExMTM3MjVdLCBbMTI4LjU4NjA5NzQzMDk2NzU4LCAzNy4wNDEwMjQyNzA1Njg3MDVdLCBbMTI4LjYzMjc1MTU2ODkxNTcsIDM3LjAzNjA4ODExMDU3MTY4XSwgWzEyOC42NTQ0NzI5OTkyNzQyNSwgMzcuMDYyNTkxMzQzNjMzMzY1XSwgWzEyOC42OTExNjE5NzM4MTIxMSwgMzcuMDUwMjU2MTcwNTgxNjZdLCBbMTI4LjcwMjQ1NzY3MTY0Mjc1LCAzNy4wMzgzMTkwOTE3MDUzOV0sIFsxMjguNzM2OTk0OTQ5OTQ1MDYsIDM3LjAzNzI3MTI2NDk1Mzk2XSwgWzEyOC43NTQxNTIyNjg4MDIyNCwgMzcuMDI1NjAzNjUyODY4NDVdLCBbMTI4Ljc2Mzk3Mjc2NjQ5NjMsIDM3LjAzMjM2MTIxMTQ1NTM0Nl0sIFsxMjguNzU0MjczOTA5MzY3OTgsIDM3LjA1NDY3MTA0ODgzMzk0Nl0sIFsxMjguNzY3MjY4Mjc0MjU3MiwgMzcuMDYxMTI3OTI2NjExNzFdLCBbMTI4Ljc4NzMxOTI1MTYzMywgMzcuMDg0ODU2MzA3ODY1OTldLCBbMTI4LjgxMDg0OTE2NDgwNDc4LCAzNy4wNzQ2Njk0NTc3MjYyNDVdLCBbMTI4LjgyOTIzNjgzMzA5MjcyLCAzNy4wNzUyMzYwNTA5MDU1Nl0sIFsxMjguODQ4ODkxNjUzNzQ1MiwgMzcuMDQ5MjkyNTg3MzkyNDldLCBbMTI4Ljg3Nzg5NzQyNjAyNjQ0LCAzNy4wNDE5ODM3Njk0NTc0Ml0sIFsxMjguODk4NDMyMTM5OTQwMjQsIDM3LjA0MjAyNzkyMjkxMDkwNF0sIFsxMjguOTI0NTkzMzM4MzEyMDQsIDM3LjA4OTIwNDYzMDQwODg2XSwgWzEyOC45NDY4NTg2NTkwNDMzMywgMzcuMDkyMjE4NzY1NzU1NDFdLCBbMTI4Ljk2MjU4MTgwNjg0MTM3LCAzNy4wNzQ1NzMyODYwNzU5NDZdLCBbMTI4Ljk4NTMzMTcwMzMwNzYyLCAzNy4wODE0NjM0OTAyNTJdLCBbMTI5LjA2NzExNjcwNjYzNzMsIDM3LjA2NDg3MTM5OTA2NjQ2XSwgWzEyOS4wNzg2ODE3NTAxODQzLCAzNy4wOTAxNzE1NzIwNTY3NzVdLCBbMTI5LjA5ODA4MDc5ODY3ODQ0LCAzNy4wOTc1OTY2MTczNDAyMTZdLCBbMTI5LjE0MzAxMzE3NzIwMDk3LCAzNy4wNzg4MDcyNTM0ODYxN10sIFsxMjkuMTk3MjUxMDU0NzExNjEsIDM3LjAzNzg2MzQyNDc4NzkyXSwgWzEyOS4yMzQ5OTA5MTc3MDY3LCAzNy4wNDE3Mjc2ODI4ODU5M10sIFsxMjkuMjI3ODgwMjQxNDc4NTIsIDM3LjA3MDUzNDIyNTQ2NDE2XSwgWzEyOS4yNTIwMzg5NTE4MTM3MiwgMzcuMDkzMDcyMTAzNDM2MTldLCBbMTI5LjI2ODI5ODE4MTY2MTUsIDM3LjA5OTQzNDQzMjIwMDE4NF0sIFsxMjkuMjc0MjYwMzMwMzAyNzUsIDM3LjExNDEyOTE0MTUwNzExXSwgWzEyOS4yOTY3NjM4NjY3NDIyMiwgMzcuMTExNTQwOTcxMDU1MDE0XSwgWzEyOS4zMDYyNjAyNTI4OTM2MiwgMzcuMTI1NTQ2MDY2NTA3NTc0XSwgWzEyOS4zNDIxOTIyMDkxNDY0NSwgMzcuMTQyNDUyMzcyMDI4MDQ2XSwgWzEyOS4zNjY0MDUzMjc5MDgsIDM3LjE0MzUwMDAxMjIyODZdLCBbMTI5LjM4MzgyODY2MzQxNzMyLCAzNy4xMTczMDA0NDQ1NDA2OV0sIFsxMjkuMzgxODczNTk4NzEwOTcsIDM3LjA5NzM3NTI0MTU0NzY5XSwgWzEyOS40MDczNjE5Mjg3MjgwNSwgMzcuMDc0NzA2NTg2NzEyNzM2XSwgWzEyOS40Mjk1MDkwNDgxNTcyMywgMzcuMDYxMTc1ODE5NTk0NzldLCBbMTI5LjQxNzEyMDczNjY1MDU2LCAzNy4wNTAxMTkyODcyMTYyNzZdLCBbMTI5LjQxMjczODI2OTA1MzczLCAzNy4wMjEyMDQyNDA3NTc4NzVdLCBbMTI5LjQyMTQ1MDgyMzc0NzgyLCAzNy4wMDMzMTk0OTM2MzI1OV0sIFsxMjkuNDExMjQ3MzIzMTMxMzYsIDM2Ljk3NzIwOTI0MjY1MjU2XSwgWzEyOS40MjIxODE3MTQzMjc5NiwgMzYuOTQ4Mzc3OTQ5NzM1NjQ0XSwgWzEyOS40MjM2MzM4OTcxNzEwNCwgMzYuODk0MDcxOTY4MjE1MjE1XSwgWzEyOS40MTc4NzY4OTMwMzAzOCwgMzYuODg1NTk3ODcxNDcwNDhdLCBbMTI5LjQzMTcxMTEzNjY4NjgsIDM2Ljg0NTM3MTUyNDQ5NzQ4XSwgWzEyOS40NjAwNDg2MjEwNDA0LCAzNi44MTIzOTI1Mjg1NTgwNl0sIFsxMjkuNDY1NjE2MzMyODkwMDUsIDM2Ljc4NTI1NzQxOTg4Njg5XSwgWzEyOS40ODEyNTM4ODgyMjUxNSwgMzYuNzY1MTc4MzU4NzUzOTddLCBbMTI5LjQ3MDI5OTI3MDk0OTk0LCAzNi43NTUwNTYyMTk5MTA1NjRdLCBbMTI5LjQ3OTczNjQ4NDMyMzUyLCAzNi43Mjk4MjAyMTY5NTA1OV0sIFsxMjkuNDc0ODMyNjE2MjI5MzUsIDM2LjcyMDgzOTc5Mjg2NDY2XSwgWzEyOS40Nzg1ODM2NTYzNzg0MiwgMzYuNjk1ODI0ODk2NjI1NDNdLCBbMTI5LjQ2NzI5NTA4NzE5MTI1LCAzNi42ODMyMDYxMTA1MDY5NF0sIFsxMjkuNDM5NzE2OTc2OTg4MzQsIDM2LjY2Njg0Njg4OTU2ODM3Nl0sIFsxMjkuNDE0NTAzNzczODI0NywgMzYuNjE5NTExMzIzNzUzNTJdLCBbMTI5LjQxMjg4MjIyMTgxOTMsIDM2LjU5MTgwNzUyMjMzMjEwNF0sIFsxMjkuNDI1NDAwNDU5ODgzNCwgMzYuNTY2NDI2MjExNzMwOF0sIFsxMjkuNDQzMDA4Njg0NjEzNTIsIDM2LjU0ODg5MjYxNDk0NzQzNF0sIFsxMjkuNDQ5MDA5Mzg2NTM4NDIsIDM2LjUwMDMzMzg4MzE1OTQ1Nl0sIFsxMjkuNDM2NjQ1OTM0NjE1MjksIDM2LjQ4MDI1OTM5ODcxMjc4XSwgWzEyOS40NDAzMjM5MDk4MDk5NiwgMzYuNDU5OTgwMDkzOTY2NjVdLCBbMTI5LjQzODY3MjU0MDg1NiwgMzYuNDI1OTU1MjIzMjEzMjRdLCBbMTI5LjQyNzQ4MDQ2NzU3MTg1LCAzNi40MDI2ODgzMDk3MzkzXSwgWzEyOS4zOTgxODM0OTI4MzI3NCwgMzYuMzYyODkwNTc1OTk1ODM0XSwgWzEyOS4zODE4MzQ2ODM2MTU1OCwgMzYuMzMwMDYwOTMxMjczMl0sIFsxMjkuMzg1MDYwNTIyOTgxNCwgMzYuMzE5OTQ0OTA5OTAyMzVdLCBbMTI5LjM3NzI2NDMzMDQ5MjQ3LCAzNi4yODU3MDk1MzY1NzE4XSwgWzEyOS4zODM3Njk3MzE1ODYwNiwgMzYuMjcxNjU4NTc0OTEwOTldLCBbMTI5LjM3NTQ2Mjg2NjE1OTcsIDM2LjI1MTY1MjQ3NTI3MjAyNF0sIFsxMjkuMzg3NDUxODg2MTg4NCwgMzYuMjM3NDkxNzk5MzI0NzQ0XSwgWzEyOS4zODY2MTE2MzA0MTUyMiwgMzYuMjA5Mzc0Mzk5ODU1NzU0XSwgWzEyOS4zNzQ4ODIxNjAzOTQzLCAzNi4yMDQxNDQ1OTk0MDY5N10sIFsxMjkuMzc5NDU3MDI1ODEwNTgsIDM2LjE4Njc0Mjk1Mzk1OTU3XSwgWzEyOS4zOTUzNTUwNjYyNDAwNiwgMzYuMTc2NTU4MzQ0MzY3MjhdLCBbMTI5LjQwMjExMDUzODA5MjksIDM2LjE2MTYzNDk1Njk2NjQ2Nl0sIFsxMjkuNDAwMDQ3NDg1MzM0NTQsIDM2LjEzMTkxNjYzNjc1ODE2XSwgWzEyOS40NDI5NjQ0OTAxMjM1LCAzNi4wOTczMDAwNTMwODU2NV0sIFsxMjkuNDIwODk1MjU2NTM4MDUsIDM2LjA4NTU2NDY3NTQ4MTM2NV0sIFsxMjkuNDIyNTQ0NjIzODMxOCwgMzYuMDczNjMxNjE5ODE0NDNdLCBbMTI5LjM4MzE5MzU3NTA0NjY4LCAzNi4wNTc0MjE5OTUwMzU0NF0sIFsxMjkuMzc4NTE3NDc3NDAxNDMsIDM2LjA0NzA0Mzk1MDYzNzQyXSwgWzEyOS4zODYzNDg4MTg3MzA5NywgMzYuMDI2ODMwMzUxMTI3NjM2XSwgWzEyOS40MTkxNzk3MDk2MjY3MiwgMzYuMDA5MjkwMTU1NjUwODldLCBbMTI5LjQzMTg3MzkzMTA4NDg1LCAzNS45OTM5NDcwNDk1MDI2Nl0sIFsxMjkuNDU0MjQyMDA3Mjg0NjUsIDM1Ljk4ODY3MTkwODAyMTMzXSwgWzEyOS40NzYyNTQ1MTIxMzM3MiwgMzYuMDEwMTMzNTQ0MDUwNTNdLCBbMTI5LjUwNTIxMzY4OTM1NDIsIDM2LjAyMjY2ODU2MzQyMjk3NV0sIFsxMjkuNTA2NDE1MDIzMzEwNDQsIDM2LjAzMzczNTUwMDkzNDc1XSwgWzEyOS41MzU2MTE0Njc4NTc2NSwgMzYuMDU0NzQ0OTUxNDEzMTVdLCBbMTI5LjU0OTM5ODg5ODIyMzc2LCAzNi4wODIxOTcyNDkzMTU0XSwgWzEyOS41NzE4NjQyMTQyMjQ0NiwgMzYuMDczODE3MDgyNjExNzA0XSwgWzEyOS41ODU2NzY4NzIyODYyLCAzNi4wMTY4MzM0MzI1ODYyMjVdLCBbMTI5LjU4MTMxOTE1MzA3ODcsIDM2LjAwNTAwODk4MDAzMDUyXSwgWzEyOS41NTg3MTM3MjAyMTUxNCwgMzUuOTg3NzAxODM5MDU4NDJdLCBbMTI5LjU1NjgxNDA4NjA2NTIsIDM1Ljk2NDg3OTIxMjI4NzU5XSwgWzEyOS41MzY0MDQxNjQxNzIzLCAzNS45MzM0NDYzNjU1MzMyNl0sIFsxMjkuNTIxMjA1MzM1MzI2OSwgMzUuOTI0MTU5MDE4MjIwNjddLCBbMTI5LjUyOTY5Njk5OTM1LCAzNS45MDI0Mzk5MjA5NTUyNzRdLCBbMTI5LjUyMjMwMjc3MzcyMDUzLCAzNS44Njk2ODQwMDM0NzgzMl0sIFsxMjkuNTI5OTk4NTE4Mzc1NywgMzUuODYwNTY1ODgyNTk1MDNdLCBbMTI5LjUxMTk0NzI5NjI4MjE2LCAzNS44MjA1MDQ2OTEzNTU3M10sIFsxMjkuNTE2NzA2NTYyODM4NzgsIDM1LjgxMjg3ODc2ODg2OTg0XSwgWzEyOS40OTQxNDA0NjY4NjkzLCAzNS43ODM1NzkyNTMxNzE0N10sIFsxMjkuNDk5NDMzMzA1ODE5ODgsIDM1Ljc2ODQ1MDIxNzc4OTM5XSwgWzEyOS40ODg3OTA0MDc4Mzc0MywgMzUuNzI2MDM0NDUzMzQzOTJdLCBbMTI5LjQ3NTM1NjIyMDM3MTE0LCAzNS43MDA0MjI3MDg2NTYzMl0sIFsxMjkuNDc4MDA2MzYxMzQ3OTIsIDM1LjY4MzE4NzkzODU4MTI1Nl0sIFsxMjkuNDUyMzA4MjIzNzE3MiwgMzUuNjQ3OTE3MjE4Mjc0ODA2XV1dLCBbW1sxMzAuOTA4NDUyMjc2OTA2OTMsIDM3LjU0NjMwNTU4MTY0NjIyXSwgWzEzMC45MTA5OTQxMzUzODA1MiwgMzcuNTI1ODQyMzg3OTQ3MTJdLCBbMTMwLjkyMTA4OTcwNjIyNDE0LCAzNy41MTEwNDQ1MDM1MTc4NF0sIFsxMzAuOTE1NjM4NzU1MzAxMDIsIDM3LjQ3OTI1MTgxMDgwMzM2XSwgWzEzMC44NjU3NTMwMDQ1Njk2LCAzNy40NTc0ODc5NjkyOTM4MV0sIFsxMzAuODMzODExMTIyNTQ3NSwgMzcuNDYyNzg3OTExNDU4NThdLCBbMTMwLjgwMzMyMTU4NjE4MTIsIDM3LjQ4MTEyOTMwNjUzNzg2XSwgWzEzMC44MDYyNDE3OTA2NTc0NSwgMzcuNTAwMjIxNjI2NjI5NjVdLCBbMTMwLjc5MzYyOTA2NTEzMDYzLCAzNy41MTA0NTQ3Mjg3MDc4NV0sIFsxMzAuODQ4NDM3Nzc5MjcyOTMsIDM3LjUzMjcxOTU2ODUzMjQzNl0sIFsxMzAuODk0OTY2MTc2NDA5MTMsIDM3LjUzODQ5MDkwNjg4MTAyXSwgWzEzMC45MDg0NTIyNzY5MDY5MywgMzcuNTQ2MzA1NTgxNjQ2MjJdXV1dLCAidHlwZSI6ICJNdWx0aVBvbHlnb24ifSwgInByb3BlcnRpZXMiOiB7ImJhc2VfeWVhciI6ICIyMDEzIiwgImNvZGUiOiAiMzciLCAibmFtZSI6ICJcdWFjYmRcdWMwYzFcdWJkODFcdWIzYzQiLCAibmFtZV9lbmciOiAiR3llb25nc2FuZ2J1ay1kbyJ9LCAidHlwZSI6ICJGZWF0dXJlIn0sIHsiZ2VvbWV0cnkiOiB7ImNvb3JkaW5hdGVzIjogW1tbWzEyNi45MzI4MzM0OTk4NzkxNSwgMzMuOTgzOTc0OTQxNTAwMjddLCBbMTI2LjkzNzI0MzA2MDMxNjE5LCAzMy45NjU5NTk1NzI3NjAzNF0sIFsxMjYuOTE5Mjk1Nzc1MDEyMjYsIDMzLjk2NTQ5MTA0Mzg1MDE0XSwgWzEyNi45MTE2Nzg1MTM2MzI4MiwgMzMuOTc5MDkxNTA5NzEyNDZdLCBbMTI2LjkzMjgzMzQ5OTg3OTE1LCAzMy45ODM5NzQ5NDE1MDAyN11dXSwgW1tbMTI3LjI5NTQ1MzQ5OTQwNDU0LCAzNC4wNjAyMzIyOTAzMTk4NzRdLCBbMTI3LjMwMjkwMjQ5NTYwMDAyLCAzNC4wMDk0MjI4MzAyNzk1OV0sIFsxMjcuMjgzNDIwODkwOTgxNzIsIDM0LjAzMTA5NjE0NTM5MTM4XSwgWzEyNy4yODQwNTYxNzczOTA5NywgMzQuMDQ3NDc3Mjc1MjM1NDNdLCBbMTI3LjI5NTQ1MzQ5OTQwNDU0LCAzNC4wNjAyMzIyOTAzMTk4NzRdXV0sIFtbWzEyNS4wOTY1Mjg3OTk5ODk0OSwgMzQuMDk0NDI4MDc5Mzg4MTY2XSwgWzEyNS4xMTMxNTU4OTAyNDY2OSwgMzQuMDkxNjc3MjI4MTczNDJdLCBbMTI1LjEyMjk1MTI2MTQzMTksIDM0LjA3NDE4MTY2NDQ4MDY3Nl0sIFsxMjUuMTQ3ODUwMjIwNzY5NzgsIDM0LjA0OTQ5NDc0OTMwMjA3XSwgWzEyNS4xMzY2NTI4MzIzNjMyLCAzNC4wNDMzMDk1MTkzMDUwMDVdLCBbMTI1LjExNzUwMDc5MTY4NjgyLCAzNC4wNDgwMzAyODg5MDI2NV0sIFsxMjUuMTE0MzUwNDIzNzk0NzUsIDM0LjA1OTYxMjE3OTU2NjMxXSwgWzEyNS4wOTYzNjc1NzgzNjAxNCwgMzQuMDY1NzUxMTM5NjAxMTc2XSwgWzEyNS4wOTY1Mjg3OTk5ODk0OSwgMzQuMDk0NDI4MDc5Mzg4MTY2XV1dLCBbW1sxMjYuNTUxMjg3ODg5MTc4NjEsIDM0LjE3NjMzMDg4Njc4NDM4NV0sIFsxMjYuNTY0OTMzMjE0ODgwMDEsIDM0LjE2NzExMzExMTYzMjU5NV0sIFsxMjYuNTg2NDc5NzA1OTcxMjQsIDM0LjE2NzEzMDM0NTk0OTA3XSwgWzEyNi41Nzk0MjI5MzA0OTQxOSwgMzQuMTQxMjE0NDUyODA1MDY2XSwgWzEyNi41NDk4MTYwNzM1MDQ1MywgMzQuMTIzNDQwMDg3NDM1NTI2XSwgWzEyNi41MjY2OTU3MzY0Mjk3MywgMzQuMTE3NzA3MDY4ODkwNzY2XSwgWzEyNi41MDY1OTQyMTA4MTU4LCAzNC4xMzQxNDYwNDYwNzA2MV0sIFsxMjYuNTE3NDg0MjAwMDY3NTEsIDM0LjE2NjcyMDQ5OTc1OTI0XSwgWzEyNi41NDIxNTA1MjAxMjk5NywgMzQuMTc5MzYxMDU2NTUzNzI0XSwgWzEyNi41NTEyODc4ODkxNzg2MSwgMzQuMTc2MzMwODg2Nzg0Mzg1XV1dLCBbW1sxMjYuNjYzMjQ1MDYzMTE1MTcsIDM0LjE5MTcxODYyNjQzODQ3XSwgWzEyNi42ODM5MjcxNzAwMzU1NywgMzQuMTgyMTU0NDgzNzUzMDldLCBbMTI2LjY3MDc2MDMxMzIwMTA2LCAzNC4xNTk2MjY5Mjg3MTcwOF0sIFsxMjYuNjgyODc5NDkyNzE3ODksIDM0LjEzNjA0NzIyMzUzMDk0XSwgWzEyNi42NjUwMDU2NTc4NjQxMywgMzQuMTA4MDUyMTI5NDQxNDk2XSwgWzEyNi42MzYzNjIyODM3NDM5LCAzNC4xMjU0NDAzNzUyODA0NTVdLCBbMTI2LjYyOTMzNzM4MjY2NTU3LCAzNC4xNDIzNzcwOTUzOTMxOF0sIFsxMjYuNjQ5NTQ3NTA0MzE1MjQsIDM0LjE2NDg4NDE1NzMyODkzNV0sIFsxMjYuNjM1NTg5ODMyNjQ1NCwgMzQuMTc2NDg0NTI1Mzg2OF0sIFsxMjYuNjUyMjY2OTcxMDYyMzYsIDM0LjE5NzI4NDY1NTU3NDM2NF0sIFsxMjYuNjYzMjQ1MDYzMTE1MTcsIDM0LjE5MTcxODYyNjQzODQ3XV1dLCBbW1sxMjYuNzY1NTM3NjM5NDc2MDUsIDM0LjIwODUwMjU1NTMxMTQyXSwgWzEyNi43NzE4OTY1OTExMDIxOSwgMzQuMTg3MjAxMDAxNjUwMTk1XSwgWzEyNi43NTE2NDE5MjgyNzY1NywgMzQuMTg0OTc0NjE5MjM3NTg2XSwgWzEyNi43NjU1Mzc2Mzk0NzYwNSwgMzQuMjA4NTAyNTU1MzExNDJdXV0sIFtbWzEyNi44OTQzODg0OTY5MDIwNCwgMzQuMjEzMDkyNDMzNjM3OTI1XSwgWzEyNi45MjcyNzA2OTEwNTk1MywgMzQuMTcxNDQxOTU2MjcxNjRdLCBbMTI2LjkxNzU3MDk2NzczNTczLCAzNC4xNTExNTA4ODY1OTQyOF0sIFsxMjYuODg1NjA3OTUzMDA4MjgsIDM0LjE0NzkxNTE1NDg1OTA2NF0sIFsxMjYuODQ4OTk0MjcxNTY3NzYsIDM0LjE3MTAzNzIxNTgxNTA1NV0sIFsxMjYuODc0MzgxOTI1Mjk3OTMsIDM0LjIwNzE5NTQ4MzgxNTUwNF0sIFsxMjYuODk0Mzg4NDk2OTAyMDQsIDM0LjIxMzA5MjQzMzYzNzkyNV1dXSwgW1tbMTI2LjU3MDIyNzE2ODI2MzEyLCAzNC4yMzEyNTY2NjA0ODMzNF0sIFsxMjYuNTk4MTEwMTQ4ODEzOTcsIDM0LjIyNDExMDk0NzY0NDU3Nl0sIFsxMjYuNjE3NDc2MTU3MzUyODUsIDM0LjIxMjkwOTYzMzA1NTk0XSwgWzEyNi42MjcxNTQwNzEwNDMxMSwgMzQuMTk5NTk3MDYzMzUyMTQ0XSwgWzEyNi42MTE5MDE0ODE0MDE2NywgMzQuMTkyOTI3Mjk1NjUzMDJdLCBbMTI2LjYxODY4MTM3NDQ2MzQzLCAzNC4xNzczNDc1ODkwNjE0XSwgWzEyNi41ODg5MDgxNjA2NjU1NCwgMzQuMTY5MDgxNDIzMTY0OTVdLCBbMTI2LjU2MjMxMjE0MzIwMTQ0LCAzNC4xNzU3MzQ3MDUxOTc5M10sIFsxMjYuNTQ5ODExNDcyODk2OSwgMzQuMTg1Nzk1MzcwMzU0MDg2XSwgWzEyNi41NjczMjQ3Mjk3NjgxOSwgMzQuMjE1NTU4MTkzMTUyODJdLCBbMTI2LjU3MDIyNzE2ODI2MzEyLCAzNC4yMzEyNTY2NjA0ODMzNF1dXSwgW1tbMTI3LjI1ODc4ODAzOTE3ODMxLCAzNC4yNDc5Mjg0NzE1Mjg0NzVdLCBbMTI3LjI2NDc4NDAyNTUzMDE1LCAzNC4yMjQxMzMwNDMwOTEwNF0sIFsxMjcuMjU4OTA2NzQ2ODY4NjMsIDM0LjIwNzY3MTEyNzg2MzYxXSwgWzEyNy4yMjkyNDYzMzE1ODYzMSwgMzQuMjE0NDcyMjMwNzc2ODNdLCBbMTI3LjIzNTE2MDUwNzczMjAyLCAzNC4yMzM0NDg3NDMyNzQxOV0sIFsxMjcuMjU4Nzg4MDM5MTc4MzEsIDM0LjI0NzkyODQ3MTUyODQ3NV1dXSwgW1tbMTI2LjYxOTU5MDU3NTUyMDIyLCAzNC4yNDcyNzAzMDkzMzQ2NV0sIFsxMjYuNjI4OTM0NjExMzE4ODEsIDM0LjIzNTYwNjQ3MDkxMjUxXSwgWzEyNi41OTUwNDM3NjA2Njc1MiwgMzQuMjMxMDY1NTI3NjQ4MTZdLCBbMTI2LjYwNjI3NTE2NDM0MzkxLCAzNC4yNDY0NTcwMzQxMjc0NV0sIFsxMjYuNjE5NTkwNTc1NTIwMjIsIDM0LjI0NzI3MDMwOTMzNDY1XV1dLCBbW1sxMjYuMDQyMzM1NjI3NTI4NiwgMzQuMzE1Njg1NjA3Mjk1NjhdLCBbMTI2LjA1NzE3NzE1ODE1NDM5LCAzNC4zMDEzMzMxNDcwNzYzODRdLCBbMTI2LjA4MjMzMjE5MzIwMjM5LCAzNC4zMDQ4ODUzMTc0NjQ2XSwgWzEyNi4wOTY1NzM4NDA1MDA2OCwgMzQuMjc0MTgzODQ3ODIxNzldLCBbMTI2LjA3NTkzODExNzU3OTM0LCAzNC4yNzg2NjE1OTIwODcyNF0sIFsxMjYuMDU2NDIyMjYyNTYxMjQsIDM0LjI3MDk3Mzk4MTkwMDAxXSwgWzEyNi4wNDk5NjgzODE3NDcxOSwgMzQuMjgwMDk3Mjc2ODI5NTJdLCBbMTI2LjAyOTkyMzU0MDAwMTMyLCAzNC4yODA0ODQ2OTMxNDEwMzRdLCBbMTI2LjAyMjgwMDk0MDM2MDU0LCAzNC4yOTk3Mjc0MDE4NDY0NF0sIFsxMjYuMDQyMzM1NjI3NTI4NiwgMzQuMzE1Njg1NjA3Mjk1NjhdXV0sIFtbWzEyNi45ODc5MTQzMzA5Mjc3LCAzNC4zMzc0NDE2MzQ2MDQ5MTRdLCBbMTI3LjAxNzA3OTUyODE5MjU0LCAzNC4zMjg5NTI4MTQ2ODIyNDZdLCBbMTI3LjAwNTEyNjgyNzMwOTM1LCAzNC4zMTA1MzQ1NjM2MTI1NV0sIFsxMjYuOTczNjkyMDEzMjc4MTgsIDM0LjI5Nzg3MTk4Mzc1OTAzXSwgWzEyNi45NTg5MzU4MjQ4Mzg1MywgMzQuMzA5NTIxOTI4MDgzMTldLCBbMTI2Ljk1OTQ0NzkwNDMxNDk0LCAzNC4zMjYyMTIxNzg0MjYzNF0sIFsxMjYuOTg3OTE0MzMwOTI3NywgMzQuMzM3NDQxNjM0NjA0OTE0XV1dLCBbW1sxMjYuMDMyMTg1ODI3NjA0NjEsIDM0LjMzNzQyNDk1Mzg3MjU4XSwgWzEyNi4wNTU2MTU4NzUxMjAxNCwgMzQuMzI4OTc5NzQ1NzQ2NzhdLCBbMTI2LjA0MDExNjEwMDIwMDQyLCAzNC4zMTg4OTEyMzA0MzM0MTVdLCBbMTI2LjAzMjE4NTgyNzYwNDYxLCAzNC4zMzc0MjQ5NTM4NzI1OF1dXSwgW1tbMTI2Ljg0MTU1Njc3NDM1NTQyLCAzNC4zNDk5ODcyNjI2MjQ2NF0sIFsxMjYuODQ5ODExNDc4NTI4OTUsIDM0LjM0MjIxNDM4Nzc3MDkyXSwgWzEyNi44NzEyMzg3ODExODkwOSwgMzQuMzQ3NDkxOTYwMDAxNjNdLCBbMTI2Ljg4MTUzNzg1MzI3MTAzLCAzNC4zMzQ0ODU5NjU1MTEzMDVdLCBbMTI2Ljg5OTU5NjI0MjQzNDExLCAzNC4zMjg3MjQ2MTgxODc5M10sIFsxMjYuODg1ODc0Nzg2NzQzMDksIDM0LjMwNzI0MTgwOTk4MjUyXSwgWzEyNi44NjkyNTA2MjI3Njc4NCwgMzQuMzEyMjM0MTM1MTg2NzJdLCBbMTI2Ljg0NzQwMDY0MjE1NTc2LCAzNC4yOTUxMDAyMjYyNzI4MTVdLCBbMTI2LjgzMzc1Njc3OTkyMzM4LCAzNC4zMjAzNzg3MTQyNTk1MV0sIFsxMjYuODEwNzQwMDM1OTY5MDksIDM0LjMyMjk0NTgxNzg4NzNdLCBbMTI2LjgwMDgzMzU5ODY4MjI2LCAzNC4zMTUxMjY3OTM5NTQ1Ml0sIFsxMjYuNzgxOTgzNTMwMzAyODQsIDM0LjMyNDM0MjMxMzU4NDc2XSwgWzEyNi43ODk2ODU2MjUzMDQwNSwgMzQuMzQ0MjQyNTIxMDU4MTVdLCBbMTI2LjgwNDY4NjgwMjg3MDUsIDM0LjMzMDQ3ODk4Mzk5NjAzXSwgWzEyNi44MjA1NTY0NjkyMTkzNSwgMzQuMzQ1MTkxNjMzODIwODhdLCBbMTI2Ljg0MTU1Njc3NDM1NTQyLCAzNC4zNDk5ODcyNjI2MjQ2NF1dXSwgW1tbMTI3LjAzNjk0OTQ2MDkzMDM0LCAzNC4zNzI5NDEwMjM0NDU4MV0sIFsxMjcuMDU2NDk5OTk2OTEyMzUsIDM0LjM1NzY1NjMxMzMyNjM2Nl0sIFsxMjcuMDkzMDk2NDE4Nzc1OTksIDM0LjM1NTMyMDAyNzEzNDQ4XSwgWzEyNy4wOTg5MzIxMjU3NzUyOSwgMzQuMzMxNzc1MTA0MjkxMDddLCBbMTI3LjA4NDYzODIwMTk3NTU4LCAzNC4zMzMyMzg1NjkwNTk1OV0sIFsxMjcuMDUxNzc5NDE2Nzg3ODcsIDM0LjMyNTY5ODgzMTIzMDkxNl0sIFsxMjcuMDA4NTg2ODYyMzI2OTQsIDM0LjM1NTA0NzUwODEzMTU0XSwgWzEyNy4wMTI2MzM1MDU3NDM1MSwgMzQuMzczMzExMjE1MDgyMDA1XSwgWzEyNy4wMzY5NDk0NjA5MzAzNCwgMzQuMzcyOTQxMDIzNDQ1ODFdXV0sIFtbWzEyNi42ODY1Mzk0NTY5MjM5NCwgMzQuMzk5MjY5MzcyODAyNzFdLCBbMTI2LjcwMzQzMDEwODQ1NDM4LCAzNC4zOTUzNTE5MDMzNDEwOV0sIFsxMjYuNzM0MjQ0NDAxNTk4MDUsIDM0LjM3MjgzNzcyNzAyOTA2XSwgWzEyNi43MzExODI0MzA5OTU4NywgMzQuMzU5MDg4NTk1MDMxOTJdLCBbMTI2Ljc1MDU2NzA4MDE5NzUxLCAzNC4zMTgzNDUwMjM2NTk0NTRdLCBbMTI2Ljc3MjU4NDE1MjExMzksIDM0LjMwOTUxMzQ5ODExOTUzXSwgWzEyNi43NjE5NTY5Njk2MzMzNSwgMzQuMjg5MjEwNjIwOTc3Nl0sIFsxMjYuNzM0MDUxNTQ4OTUxODMsIDM0LjI4MzY3MTE3NTgwMTEzXSwgWzEyNi43MTk1OTE2NTI4NjMxMiwgMzQuMjkzNjgwNjQ4NjM0MzldLCBbMTI2LjY5NjMwNDgwNjM2MzM2LCAzNC4yODk0Nzk3OTU0ODQ0MjVdLCBbMTI2LjY3OTM2MjM5MTQxNTQsIDM0LjMxMTQyNjExNDE1ODAyXSwgWzEyNi42NTEwMjc4NzYyMzQ4MiwgMzQuMzMwMjUxMjM3Mjg3ODhdLCBbMTI2LjY0MDcyMTgwMDA4OTkyLCAzNC4zNzg5NTc4OTEwMjAyNF0sIFsxMjYuNjQ5OTc3OTMwMzA2MywgMzQuMzg5NzAxNDI0MzIzNzFdLCBbMTI2LjY4NjUzOTQ1NjkyMzk0LCAzNC4zOTkyNjkzNzI4MDI3MV1dXSwgW1tbMTI2Ljk0NjcxNDQ1Njc0Njg5LCAzNC40MDkyMzA3Mjc0NzkzN10sIFsxMjYuOTUyNzExOTMxMDc0MTUsIDM0LjM5ODc5Mjk4MDU3NjYzXSwgWzEyNi45MzU2Nzc5ODgyMTczMiwgMzQuMzY3Mzg3OTk0Nzk3NTA0XSwgWzEyNi45MTk2NjM0ODExNjY2MSwgMzQuMzUyNjExMDkyNzc0MTA0XSwgWzEyNi44NjU2NjIzMTc0NzI5NCwgMzQuMzY5NTY1MjA5NjgzNjldLCBbMTI2Ljg3Mzk5NzM3ODM1MDgsIDM0LjM5MTY0ODk4ODU3OTNdLCBbMTI2Ljg4NzI3MDkyMTMzMzYyLCAzNC40MDA1MTc0NzMxNDc5OF0sIFsxMjYuOTA2MjE1MjcwODE1NzUsIDM0LjM5OTMwNTE3MTI3OTEyXSwgWzEyNi45MzI5MDM1NzM3NTQ4MywgMzQuMzg3NDQwMTg2MjA4MDFdLCBbMTI2Ljk0NjcxNDQ1Njc0Njg5LCAzNC40MDkyMzA3Mjc0NzkzN11dXSwgW1tbMTI3LjI0ODA1MjY1MDU1Nzc1LCAzNC40MTA5MTgyMjc2MjM1MV0sIFsxMjcuMjYzMjI2NjY1NzQ0MDEsIDM0LjM5OTcwNTA5NzA5OTM0XSwgWzEyNy4yNzM3Mzc0MzQ4ODY4NSwgMzQuMzc3NDE0OTUxNDYxMjc2XSwgWzEyNy4yNTIxNzM2MDY3MjYwNiwgMzQuMzgyNjU3NjA0ODk3OTRdLCBbMTI3LjI1NTIwNjgwNTIzMzMxLCAzNC40MDAzOTk4MzI5MzI2MV0sIFsxMjcuMjQ4MDUyNjUwNTU3NzUsIDM0LjQxMDkxODIyNzYyMzUxXV1dLCBbW1sxMjYuODM2ODQ4NTk3MzUzMTQsIDM0LjQzODk0Mjk0MDA5MDc3Nl0sIFsxMjYuODQ4MTAzODgyOTc1NSwgMzQuNDI1NjQwMTYyNjE3MjRdLCBbMTI2Ljg2ODI1MTk1NTEwMTMxLCAzNC4zODY4NTY4ODMxMjEyNTRdLCBbMTI2LjgzODE0OTAyNTgwMDkyLCAzNC4zODAzOTg0MjcyMDU1MV0sIFsxMjYuNzkzMjY3MTA1ODc1MDYsIDM0LjM3NzI4MjEyNjkzNzFdLCBbMTI2Ljc3NTE4MzEyODMzODg4LCAzNC4zNTA4Njc2MjAyODcwMV0sIFsxMjYuNzY3NDY5MzY2NTE2MjgsIDM0LjM1Njc1NjkxNTQxODA5XSwgWzEyNi43NzY4OTUxNDQ0NzY5LCAzNC4zNzgzNTcwNTg1ODY3NF0sIFsxMjYuNzU3MzI1NjA0MzU4ODgsIDM0LjM4MzMzMjM1MzE2MDQwNV0sIFsxMjYuNzY1Nzk2MDgzNDI0OCwgMzQuNDAyOTg0NDUyOTU4MjE1XSwgWzEyNi43OTA0MzMwMjk2OTQ0MywgMzQuNDMwMTU5NDMwOTM1MjNdLCBbMTI2LjgwMzI5OTUwMjMxMDc0LCAzNC40Mjg1NzIxMDAxNzU0Ml0sIFsxMjYuODM2ODQ4NTk3MzUzMTQsIDM0LjQzODk0Mjk0MDA5MDc3Nl1dXSwgW1tbMTI3LjA0OTc0NDc4NjY2OSwgMzQuNDUzOTU0MTM1NDM3MDE2XSwgWzEyNy4wNjc5NjU5ODM5NzkxNSwgMzQuNDQ4NDUwNDM1NzIwMTU0XSwgWzEyNy4wNzc0MzI1Mjk4NzAzNiwgMzQuNDI2MTc3ODY1Mjc3MzZdLCBbMTI3LjA2ODgxNTM1NzQ3MjM1LCAzNC40MDA5OTc2NTk2NDk1NTVdLCBbMTI3LjAzODQ2NzkxMjY5OTEsIDM0LjQyMDU0OTcxNDUxMzMzXSwgWzEyNy4wMzQ0MDk1MjExNDIzLCAzNC40NDYzNTY2NDU2ODg0N10sIFsxMjcuMDQ5NzQ0Nzg2NjY5LCAzNC40NTM5NTQxMzU0MzcwMTZdXV0sIFtbWzEyNy44MDc3MzEzMzQ4Mzk5NywgMzQuNDU3NTIyNjY0NzM2NDhdLCBbMTI3LjgxMjk3NzI0NTEwODcxLCAzNC40NDI3MTY0MTc0NzkxNV0sIFsxMjcuODA5NjQxMDU0NjI2MTcsIDM0LjQxMjkzNTkwODA0Nzg0XSwgWzEyNy43ODc5OTAwNzU2NjM2NCwgMzQuNDE0ODE1MjAwMzIwNjA0XSwgWzEyNy43OTk2MTQ2NzEzNjkyOCwgMzQuNDQ5MDAwMzI5MjU0OTFdLCBbMTI3LjgwNzczMTMzNDgzOTk3LCAzNC40NTc1MjI2NjQ3MzY0OF1dXSwgW1tbMTI3LjQ2NTUzMjgxMTk1NDI2LCAzNC40Njg2MjUzMjI0NTY5MV0sIFsxMjcuNTA0NDc1NDI2OTg3MjEsIDM0LjQ1ODk3NjMzOTQ5NzYyXSwgWzEyNy41MDg2ODI5MjYxMDMyOSwgMzQuNDY1NDk0OTk3NDM1NzU1XSwgWzEyNy41MzkxMzA2NDg0ODUzOCwgMzQuNDQ1MDQ4NjIzMjM1OTZdLCBbMTI3LjUzNzE4MDE0NzIwMjU5LCAzNC40MjYwNTgwMjQ0NTk4NV0sIFsxMjcuNDk0ODI0MTQ5MjI5NTQsIDM0LjQwODY3NDYwMjkxNDM3NF0sIFsxMjcuNDkzMzM5Njc3MzY2LCAzNC40Mjk4MTI0NjMzMjExOF0sIFsxMjcuNDY3MzE1NTc5NzQwOTMsIDM0LjQzNjk2OTI2NDQzMzQxXSwgWzEyNy40NTY1NjIzMDQwNjIwNywgMzQuNDUxOTc1NzkzNTYwNTM2XSwgWzEyNy40NjU1MzI4MTE5NTQyNiwgMzQuNDY4NjI1MzIyNDU2OTFdXV0sIFtbWzEyNy4yMjUxNjU3MDA1MDIyLCAzNC40ODk4NTQyOTk4NjE0NV0sIFsxMjcuMjM3MDk3ODA0ODA3ODMsIDM0LjQ3MTY3NjA3NzQ3MTkwNV0sIFsxMjcuMjE1MDc3NzY2ODcyNzIsIDM0LjQyOTMwMzgzODM5MTQxXSwgWzEyNy4xOTA3NTg4ODcyODMwOCwgMzQuNDI3MjI3NTQ5NTYzMzddLCBbMTI3LjE2OTk4NzU2NDExNjQ0LCAzNC40MzIxNDI0NjU4OTUzMV0sIFsxMjcuMTQ3NDM2NTAwNzI2NTcsIDM0LjQyNjA4MDA4OTk2OTQ5Nl0sIFsxMjcuMTI2ODc2NzE2Mjk2OTMsIDM0LjQyODI5OTcyNjA0NTQ4XSwgWzEyNy4xMDAyODgxNjg5MDY1NiwgMzQuNDYzMTM4NDU1NzMyNjhdLCBbMTI3LjEyNjg5MDE0MDk4ODIxLCAzNC40ODYyNzc2NTY3NzMzMl0sIFsxMjcuMTM4ODc5MjgwOTMwMzgsIDM0LjQ3MDM5MTkwMDkxMzQzNF0sIFsxMjcuMTU5MDQ1Mzc5MzYxOTYsIDM0LjQ3NTcyMDQzNTM2ODU4XSwgWzEyNy4xOTAyODA5NzUzMDgzOCwgMzQuNDkxNDYxNDcwMzMwMDddLCBbMTI3LjIwMTQwMjgyMzI1MDc3LCAzNC40ODUwMzgyMzc4OTA4NF0sIFsxMjcuMjI1MTY1NzAwNTAyMiwgMzQuNDg5ODU0Mjk5ODYxNDVdXV0sIFtbWzEyNi4wNjA1ODI4OTgxMTk0NiwgMzQuNDkzNTgwMzcxNTYwNzc1XSwgWzEyNi4wNzM5MDA0NDM2MTA1NSwgMzQuNDc4Mjg3NzY4MjAwMl0sIFsxMjYuMDQyODM1ODc3Mjg5ODksIDM0LjQ1MzYxNzI3MzA5ODQ0NV0sIFsxMjYuMDQwOTQyMjA4NjgxMTMsIDM0LjQ3NzY5ODE3NTczMDY3XSwgWzEyNi4wNjA1ODI4OTgxMTk0NiwgMzQuNDkzNTgwMzcxNTYwNzc1XV1dLCBbW1sxMjcuMTM4NzcwMzEyNzgwODQsIDM0LjUxNTIxNzIzMTI4OTA1XSwgWzEyNy4xMzI3NDE0Nzc0OTIzLCAzNC41MDI1NTQ4MTkwMjk3NTRdLCBbMTI3LjA5OTcxMTI1MTg2OTY5LCAzNC41MDU4MjU3NjE1ODIyNjVdLCBbMTI3LjExNjIxNDM1NzcyNjQ1LCAzNC41MTg5MDI0MzA1MTgyNl0sIFsxMjcuMTM4NzcwMzEyNzgwODQsIDM0LjUxNTIxNzIzMTI4OTA1XV1dLCBbW1sxMjcuNDYwNjg4MTEwODM3ODQsIDM0LjU0MjU1MDgwOTQxOTcyXSwgWzEyNy40ODA5ODMxMDM4NDc1OCwgMzQuNTMzNDU4OTQ4OTk0NV0sIFsxMjcuNDYzNjAzMjE0MDU3MjQsIDM0LjUwNzI0NDE4OTc3NzU5XSwgWzEyNy40OTMzNzg0MDAwOTY0NiwgMzQuNTA0OTA2OTY4MjAzNzM0XSwgWzEyNy41MDQxMjIzNjkyODYyMSwgMzQuNDkxNjYxMzU4NTM5NjJdLCBbMTI3LjQ4MzUzMDQzOTUwNDA0LCAzNC40ODA0MDI4MTQ5NDkxXSwgWzEyNy40NTQzODM3NTE2NTc0NSwgMzQuNDc1NTQyOTI1MzY0NzJdLCBbMTI3LjQ0NjM0MzM0NTEzMDgsIDM0LjQ5MzUzNjA3Mzc4NzAwNl0sIFsxMjcuNDYwNjI0MDgzMzUxMTUsIDM0LjQ5OTYxMTI5ODQyNDc0Nl0sIFsxMjcuNDQ5MTY1Njk5NTYxMzIsIDM0LjUxNDA1MTgwMzU0NDE0XSwgWzEyNy40MzYyMDEwMzc0MDg3MiwgMzQuNTE1ODg5NTg2NzE0MzNdLCBbMTI3LjQ2MDY4ODExMDgzNzg0LCAzNC41NDI1NTA4MDk0MTk3Ml1dXSwgW1tbMTI3Ljc0MzM2NjM3MjIzOTIxLCAzNC41NDk3MDYzMzk3MzM3OV0sIFsxMjcuNzU4ODMyMzk3MzIwMTYsIDM0LjU0OTM5NjMyODUzODIxXSwgWzEyNy43NjQ0NjE0MjI5MjY5OCwgMzQuNTMxOTcwNTAxNDY2MDU2XSwgWzEyNy43ODI1Mzk1NTczMTk5LCAzNC41MTU5NTUzMjM3MDM5OV0sIFsxMjcuNzk4OTEzMzg5NjUzNzIsIDM0LjQ5MDA1NTMwNjA5ODcwNF0sIFsxMjcuNzczNjIwMDc0NTUzMywgMzQuNDg0MjMwODM4NTk0OTRdLCBbMTI3Ljc2OTQ4MTUwNDU0Nzg1LCAzNC40OTI3NDYyMDk0Mzg0Nl0sIFsxMjcuNzI3NTY5MjE5NDYwMywgMzQuNTEyODAzNTY3OTI1ODhdLCBbMTI3LjcxNTc5MzU0OTQ4MzM3LCAzNC41MzU4NjAyMzg1NTUyNV0sIFsxMjcuNzQzMzY2MzcyMjM5MjEsIDM0LjU0OTcwNjMzOTczMzc5XV1dLCBbW1sxMjcuNjYwNTU0MjQ3ODY1ODksIDM0LjU4MjA0OTU0NTU4NjU3XSwgWzEyNy42ODIyMTMxNjMwMjYwMiwgMzQuNTY1OTI4NjY3NzQ4NDJdLCBbMTI3LjY2MTc4NTQwNjYyODA0LCAzNC41NDk1OTQyNTQ3ODA2OV0sIFsxMjcuNjQxNjU2NTgxMjM5NTMsIDM0LjU3MjAyNDM1MDI0MDI1NV0sIFsxMjcuNjYwNTU0MjQ3ODY1ODksIDM0LjU4MjA0OTU0NTU4NjU3XV1dLCBbW1sxMjYuMjUyODIzMjE0NTE0MzIsIDM0LjU4NjE1MjMyMjk3NjQ3NF0sIFsxMjYuMzA1OTA2Mjk3MDQ1ODcsIDM0LjU2Nzg3MTQwMTgyODUzXSwgWzEyNi4zMDkxNzcyNjgwMTI1MywgMzQuNTQ5MTM0MjU1NzQ2NTY2XSwgWzEyNi4zMzk2NjE5MTIxMzU5LCAzNC41NDMwNzUyNDI0MDczOF0sIFsxMjYuMzg0MTc4MDM0ODc1NTMsIDM0LjUwMTUwNDg3MTgyNTczXSwgWzEyNi4zNzM1OTIxMzg4MzYxNywgMzQuNDYyOTk4NDc4MzQ1Ml0sIFsxMjYuMzYwMTg2MTk1NjIwMDUsIDM0LjQ1Mjk5MDUzNzg2Mjc0Nl0sIFsxMjYuMzY3NTI5NTcwMDI3NzEsIDM0LjQzOTcyNjgzMTU4MDM3XSwgWzEyNi4zMzkzNDkzNjIyMDA2LCAzNC40MTI1NDc1MzM4NTA5MjZdLCBbMTI2LjMxNjYwNTA3NjAwNDk2LCAzNC40MDIwODU3MTQ2MDQ1Nl0sIFsxMjYuMjk0Njg3NTU2OTM2MTMsIDM0LjQwNTY2NDIzNzUyODM4XSwgWzEyNi4yODY3MjQ5MjU3MTA3LCAzNC4zOTE0MzgxMDUwODI1Nl0sIFsxMjYuMjY3NDUwMDY2MTMyMzEsIDM0LjM5NDI2MzUwMDA5MDk3XSwgWzEyNi4yNjQ2MDkwODc4NzY4MywgMzQuMzc1NTY4MDUyMDkzNjFdLCBbMTI2LjI0NTY1NTExMzQyNzUyLCAzNC4zNzU0NzA1NTY4MzY2NzVdLCBbMTI2LjIwMzI3MzU5MTM4Mzg5LCAzNC4zNTUxMjkxNzM1ODI0M10sIFsxMjYuMTc1NDQwNTUxMjU4MSwgMzQuMzQ5NTYxNTE3MzU3NjM1XSwgWzEyNi4xMzY2NzMxNTczMTI4LCAzNC4zNTY1NzYwODEyNTMyXSwgWzEyNi4xMzY0MTMwMzAzMjM3NSwgMzQuMzcxMjUzMTMyMjk2NzRdLCBbMTI2LjExNjQ4ODQyODE0OTEzLCAzNC4zNzgwMTQzNTExNDkyN10sIFsxMjYuMTEwOTUzMzg2MzkyMzgsIDM0LjM5MjA1NzA4NTk4MDU3NV0sIFsxMjYuMDkwOTkyNzI2ODQ4NDcsIDM0LjQxNTM5ODk3NjkzODczXSwgWzEyNi4xMDM5ODY5NjUzMzk0MiwgMzQuNDM4MzE0NzU2OTZdLCBbMTI2LjE0NzEzOTk5MDY5ODg1LCAzNC40NzI2NzIyMTQ0OTMxMl0sIFsxMjYuMTc0NTA5NDY3ODMxNjQsIDM0LjQ4MTU0NzkzMDgwNTU1XSwgWzEyNi4xODAxNDExMjQ4Nzc5MiwgMzQuNDk4NjQyOTU1MDY3NF0sIFsxMjYuMTk5ODY0NzQzMTk3MzUsIDM0LjUwNDUxNjcyNDY0NTk5NV0sIFsxMjYuMjI3NDYyNDE3NDE3MDksIDM0LjUzMjE0MDQ1MTIwODA5XSwgWzEyNi4yNTcwMDI1MjEyMzI5OCwgMzQuNTMzNjUyODQyOTA3NjY0XSwgWzEyNi4yNjMwMDM2MDYxMzgwMywgMzQuNTQ1MDQ5MzQzMzkyMTldLCBbMTI2LjI0MjkyNTM1ODE0NjkyLCAzNC41NjU5NjQ5NTEyNTE3MV0sIFsxMjYuMjUyODIzMjE0NTE0MzIsIDM0LjU4NjE1MjMyMjk3NjQ3NF1dXSwgW1tbMTI3LjU0NzYyMDY4MjM4MTc2LCAzNC42MTU5MzQ4ODMxODUyOF0sIFsxMjcuNTY2OTQ4NTQwMzQ0MjMsIDM0LjYxMDE1MDU2NzkyODRdLCBbMTI3LjU1MDcxMDAxNTM3NTA1LCAzNC41OTI3Nzc0MTU5NDkyOF0sIFsxMjcuNTMyNDM3MzU4MDA1NzEsIDM0LjYwMDIxMTIwNzA3NDZdLCBbMTI3LjU0NzYyMDY4MjM4MTc2LCAzNC42MTU5MzQ4ODMxODUyOF1dXSwgW1tbMTI1Ljg1NzkwOTc5NTM2MjY3LCAzNC42MjY5NzQ0OTY0NTk5OTRdLCBbMTI1Ljg2MzM1MTE0MjUzMzU2LCAzNC42MDA5OTE1MDQ3NzQwOF0sIFsxMjUuODQ0MTU5MDIzMTU1NTYsIDM0LjU5Mzc0NDYwNjk5NTU4NV0sIFsxMjUuODI4Njk0MTgxMTk2NjcsIDM0LjU5NzM2NTQwODIyMTgwNV0sIFsxMjUuODIyODcxNDg2ODc4OCwgMzQuNjExNTUwNTQxMjczNThdLCBbMTI1Ljg1NzkwOTc5NTM2MjY3LCAzNC42MjY5NzQ0OTY0NTk5OTRdXV0sIFtbWzEyNi4wNzA0NjQyNzYzNDI5MiwgMzQuNjMyMTMwNjc4NTA1NDFdLCBbMTI2LjA4NTI1Mjg2Mzg5NTM5LCAzNC42MTA1ODMzMzQ4NzI2OF0sIFsxMjYuMTA1MTgyOTExODcyMjMsIDM0LjYwMjc2NTQ3ODM4NzIzXSwgWzEyNi4xMTMxMTM0MTY2Mjc5NywgMzQuNTg2MjgzMTYwNDE3ODZdLCBbMTI2LjA5ODE1MDAwNTA4MTg1LCAzNC41NzA3MzE2MzMxNzE4M10sIFsxMjYuMTA0NDA2OTY4MDU0MDYsIDM0LjU1MTkyMDg1NDQzMjM3NV0sIFsxMjYuMDg3NTc3MTk2MzU4ODgsIDM0LjU1MTM3ODg5Nzg5MzcxXSwgWzEyNi4wODIwOTMwNjQzOTk5NywgMzQuNTM4MDY3OTQxMzY0NzNdLCBbMTI2LjA1MDI0MDkwODY3NTAxLCAzNC41MjYwODA4MjQwMjc5MV0sIFsxMjYuMDQ4MDM1OTI1NTQ5MDksIDM0LjU2MjQwMTc3ODU0MTM2NF0sIFsxMjYuMDY2ODEyNDA5OTk0NzUsIDM0LjU1ODIyMTEyNjU3MzQzXSwgWzEyNi4wODIzNTk4MzAxNTEzMiwgMzQuNTc1MTI3NjkzNTY5MzJdLCBbMTI2LjA2NDg1Mzk4MTI5MDQsIDM0LjYwNjI4MTc0NjM1MDg5XSwgWzEyNi4wNDk4NDc5OTU5MzUyMSwgMzQuNjA1MzMxNDk4MDQyNDQ2XSwgWzEyNi4wNTExOTE4NDA4MDI3OSwgMzQuNjI1Nzk5MDc3NDIxNTVdLCBbMTI2LjA3MDQ2NDI3NjM0MjkyLCAzNC42MzIxMzA2Nzg1MDU0MV1dXSwgW1tbMTI2LjA1MDczNzYwODUzNTksIDM0LjY1NjIyNTMxMzkxMTQ5XSwgWzEyNi4wNTMzMzA4NDczNTEwOSwgMzQuNjM3NjUzNzA4MzE0MDFdLCBbMTI2LjAzOTM5NDE2NzE0MzA2LCAzNC42MTE3NTI5NDQ1Mzk1NV0sIFsxMjYuMDU4NTQzNDI3OTY0NTgsIDM0LjU5OTUxMjQyODMzNjk2XSwgWzEyNi4wNjcxNDAwMTMxOTE3NywgMzQuNTgwNTc3NTEwOTU5MzE2XSwgWzEyNi4wNTY4MDQ4NzU3OTU5MiwgMzQuNTY0NDM1MzkyMTgxMzk0XSwgWzEyNi4wMjA5MTMwMDc0MzgwNywgMzQuNTYwNjk2Mzk2NDg0MjddLCBbMTI2LjAxMjkwNzI3MTAyMTM1LCAzNC42MDE5MTU2NTQyMTgwMDRdLCBbMTI2LjAxMTgzMzg2NzYxNDM0LCAzNC42MjgyNDEzNjMxNDUyMl0sIFsxMjYuMDMwMjQ3NzM4NDczMywgMzQuNjMyNzUxNjY2ODM4MTc1XSwgWzEyNi4wMzAyMTA0Mzk5MTczMSwgMzQuNjQzNzg0NTcxNTA0MV0sIFsxMjYuMDUwNzM3NjA4NTM1OSwgMzQuNjU2MjI1MzEzOTExNDldXV0sIFtbWzEyNi4xNDk0NTM0NzI0MTM0NiwgMzQuNjcwODcwOTQ0MTA4MjRdLCBbMTI2LjE4NjQwMTE2NzQ2NDg3LCAzNC42NTkyOTAxOTE1NjA4N10sIFsxMjYuMTkyNzg1MTMyNDczMjksIDM0LjYyOTA1NzI2MDY5Nzc4XSwgWzEyNi4xNjM5MTA1MTUwODg0NywgMzQuNjEyOTI0ODc0MjQ2NjE2XSwgWzEyNi4xMzAxNjczNjg2NzcwMSwgMzQuNjE2OTcwNjkxNTAwNDldLCBbMTI2LjExMDE1Nzg0MDk5NDg5LCAzNC42NDM0OTc5NTAzOTI5MV0sIFsxMjYuMTE5NDQwNjQwMjc1ODgsIDM0LjY2MTI1NDE2NTk2NTczXSwgWzEyNi4xNDk0NTM0NzI0MTM0NiwgMzQuNjcwODcwOTQ0MTA4MjRdXV0sIFtbWzEyNi4wODU1MTYxMDc1OTY5NCwgMzQuNjgxMzI1ODY4MDY0NzhdLCBbMTI2LjA4ODUxMTk0MzM3ODY2LCAzNC42NjU4NzAyODI5NjQ4N10sIFsxMjYuMDgxMDg5NjkxODgwOTUsIDM0LjY0MDI2NDg2MjU3NjQxNl0sIFsxMjYuMDY1NjgxMzE5NDQ4MzQsIDM0LjY1MTgwOTAxNDEwNDkzXSwgWzEyNi4wNjY2MzAxNzI3MDMxOSwgMzQuNjgxNjA2MjM3NzAyNTddLCBbMTI2LjA4NTUxNjEwNzU5Njk0LCAzNC42ODEzMjU4NjgwNjQ3OF1dXSwgW1tbMTI1LjM5NzIyODIxNzQ0MTY0LCAzNC42OTQzMDA5NjcxODE3OF0sIFsxMjUuMzcyNjI4NDkxOTk0NjMsIDM0LjY2MjYyNDA3Nzc0NTE2NF0sIFsxMjUuMzYyMTUyMzU5Nzc2NzIsIDM0LjY3MTYwNTE1MzcxMTkyXSwgWzEyNS4zOTcyMjgyMTc0NDE2NCwgMzQuNjk0MzAwOTY3MTgxNzhdXV0sIFtbWzEyNi4xOTc1ODYxODUxNjI0NCwgMzQuNzAyNzgxMTg0NjYwMTU0XSwgWzEyNi4xOTg2MzkzNzE1OTc5MiwgMzQuNjgwMjcwNjc4ODY4NjldLCBbMTI2LjE4MzE1NDAxMzQ3MTMsIDM0LjY2OTU5ODEzNDQ0NDE3XSwgWzEyNi4xNjI4OTg1MjMxNTk4NCwgMzQuNjc2OTI3Nzc0ODAyOV0sIFsxMjYuMTYxNTA5OTI3NTM4NiwgMzQuNjkwMzU5NTcxNTA3MjJdLCBbMTI2LjE5NzU4NjE4NTE2MjQ0LCAzNC43MDI3ODExODQ2NjAxNTRdXV0sIFtbWzEyNS40NDQxMzYzNTYxNTY5NiwgMzQuNjk3MzM2NzEwNjEyODRdLCBbMTI1LjQ2NzM0MTI4OTAxODg5LCAzNC42OTAzMDEyMjU4OTA1NjVdLCBbMTI1LjQ1MDAyOTMzNjYxMTUxLCAzNC42Nzc0NDA4NTQ1Mzk2MjZdLCBbMTI1LjQ0Njg1MDIzNjQwNjgsIDM0LjY1OTc1NTc3NjU3ODQ2XSwgWzEyNS40MjkzODM0NDE0MDY5MywgMzQuNjU1NTgxMjgxMTIyMzhdLCBbMTI1LjQzMjIxNzkzNDE0Mjc3LCAzNC42NDA2MDY3NTAwMTM1Ml0sIFsxMjUuNDE2Njg5MTEyMzQwMzksIDM0LjYzNTQwMjA1NTEwNTEwNF0sIFsxMjUuNDE1NzE5Njc0NDIwNzQsIDM0LjYxOTMyNDg5ODg4ODM0XSwgWzEyNS4zOTQ4ODI0NTg4NDY0NCwgMzQuNjI1MTA5MDYwMTI3Nl0sIFsxMjUuMzg2NTAyNjQ0NTk5NDMsIDM0LjY0MDAxNDI4MTM1NTM4NF0sIFsxMjUuNDAwMDAyMTU0OTc2NjUsIDM0LjY3Mzg5NjQxMDA4NTQzXSwgWzEyNS40MTQ5MDYxODE3MzQ3NSwgMzQuNjk1NDIyNzgxNDA0NThdLCBbMTI1LjQ0NDEzNjM1NjE1Njk2LCAzNC42OTczMzY3MTA2MTI4NF1dXSwgW1tbMTI1LjIxMzY5NDIwNDQzMTksIDM0LjcwODQyMjMwNTA0NDY0XSwgWzEyNS4yMTUwODkyNzczNjA0NSwgMzQuNjkyMjc2MDU4MDk3MDNdLCBbMTI1LjIwNTEwMDIxMzAyNjkyLCAzNC42NzcxMTIxNDQwMzQ3OF0sIFsxMjUuMTc3ODg0NjUwNzEwNzgsIDM0LjY2OTA4NTI5NDUwMDk4XSwgWzEyNS4yMDI4MDMzNTA0NDM5MiwgMzQuNzAxOTQxMTcyMTc0ODddLCBbMTI1LjIxMzY5NDIwNDQzMTksIDM0LjcwODQyMjMwNTA0NDY0XV1dLCBbW1sxMjcuNzUwNzcyMjU0OTI1NDcsIDM0LjczMDY2NDk1NDAyNzEzNF0sIFsxMjcuNzg4MDk3ODI1MzI2MTUsIDM0LjcxMzk4MzY0OTAxNDA2XSwgWzEyNy43OTM0MjUyMTk2MjMxMiwgMzQuNjk4ODE5NzcxMDM4MTddLCBbMTI3Ljc3ODU2MDEwNzcyMTU2LCAzNC42NzgyMzM3MjI0NDk3OF0sIFsxMjcuNzk3MTg1ODkwNjQ4NCwgMzQuNjU3NjAyNjAwMzA1MTZdLCBbMTI3LjgwMjUzNzAwMTU2MDk0LCAzNC42MjcxNDc0NzczMDMyMl0sIFsxMjcuNzk0MzY1MDk2OTE4NjMsIDM0LjYwNzczODQ4OTQ2NzI2Nl0sIFsxMjcuODA4MDg1NTI5MjQ0NTUsIDM0LjU4NzA2MzMwMjcyNDM4XSwgWzEyNy43ODc2Njg3OTE5NDY0OSwgMzQuNTgyMTc4OTA2ODkwOTQ1XSwgWzEyNy43NTE5OTIzODE1MDgzLCAzNC41ODk0ODM3NzMxNDg1M10sIFsxMjcuNzEyNDAyNTQ5NzYzOTYsIDM0LjYxOTg5NTMzMzI4NjQ2NV0sIFsxMjcuNzI2NjY3MTMyNTIyMjQsIDM0LjYzNDEwMDU3OTU0MDk3XSwgWzEyNy43MjU1NTgwOTU4OTkyLCAzNC42NTI1NzQzNjU4NTU2OV0sIFsxMjcuNzUwMjMyNjEwODE2NDcsIDM0LjY2Njk1MDA5MzQ3MDcyNF0sIFsxMjcuNzYwMzYxMjY2MzYxOTEsIDM0LjY4NjI2Nzk3MjA4NzMyXSwgWzEyNy43NTk5NjY0Mzk4ODg1OSwgMzQuNzA5Mzg4MjkzODQwNDVdLCBbMTI3Ljc1MDc3MjI1NDkyNTQ3LCAzNC43MzA2NjQ5NTQwMjcxMzRdXV0sIFtbWzEyNS45NzA1MDA2ODcwMzQ5NywgMzQuNzI2ODE3ODY2MTg2MTk1XSwgWzEyNS45NzgzMjU0MDU5Mzc1MywgMzQuNzE4MjkyOTM0NTQ5NTk1XSwgWzEyNi4wMTY2NzA3MTcxNDgxMiwgMzQuNzA3Mjk2MTc1MjE3ODU2XSwgWzEyNi4wMTAzNzc0NTI2MzE5LCAzNC42ODEzMTM5NzQzODg2NV0sIFsxMjUuOTkwMDAxNDc0OTc0MjYsIDM0LjY3NTA4MjA4NjY5MTg4XSwgWzEyNS45ODMxOTcxMzU0MjExNiwgMzQuNjYwNzQ0MzM2Njk5Njg2XSwgWzEyNS45NjgxNDY3MTQ1NDUyNCwgMzQuNjUzMTYyMjM5NTM2ODU0XSwgWzEyNS45MTc2MDQyODQxOTQzMSwgMzQuNjc0MjE2OTk2OTk2NDNdLCBbMTI1LjkxNzE3Njk5OTA3MTAyLCAzNC43MDcxNjU2MTgxMTUwMDZdLCBbMTI1Ljk0Mzg5OTAwMzgxMzEsIDM0LjcxMDU0NDgxNTI5MDU5XSwgWzEyNS45NjI4MDgxNTU5NzU4NCwgMzQuNzM0NDMzOTAzNTU1ODldLCBbMTI1Ljk3MDUwMDY4NzAzNDk3LCAzNC43MjY4MTc4NjYxODYxOTVdXV0sIFtbWzEyNi4wODMyMzg3NTU0MTQ2NSwgMzQuNzc1Nzc4NjYwNzUyMDFdLCBbMTI2LjA5ODc5MDA1NTk4NjM2LCAzNC43NjgyNDQwMzgzMDE0MjVdLCBbMTI2LjEyNTk2NjAzNTIyODUzLCAzNC43NzI2OTM0MTIyMTc0N10sIFsxMjYuMTQwMzc4MTUwNTM4MTgsIDM0Ljc1NTI4MzYxNzgwMjUyXSwgWzEyNi4xNjQ5MTcxMDM2Mjk5OSwgMzQuNzU1MjE3ODk4MzYyNTldLCBbMTI2LjE5NTY5MzA4Njg2NjMzLCAzNC43Mjg3MzEyNjYyMzQ4M10sIFsxMjYuMTk4Mjg2ODQwNDQ1NjIsIDM0LjcxNjMzNjMzOTA2NjI5NV0sIFsxMjYuMTc0OTc4NDQ3ODYxMDYsIDM0LjY5NzQ3NjgxODA2MDY1XSwgWzEyNi4xNDc0NTE2ODY0MzA1LCAzNC42ODMxNzQzMDc3MjMzNTVdLCBbMTI2LjEyMTk0MjY1NjYxMzg3LCAzNC42Nzk1OTIwMjAwODQ3NF0sIFsxMjYuMTEwODgwNTk3OTk1NjYsIDM0LjY5Mjk0Mzg1NTU4OTM4XSwgWzEyNi4wNzU5MjQzMjQxODAxNCwgMzQuNzA0OTc1MjQxODEzMzNdLCBbMTI2LjA2OTY0MTMwNzUxMDYxLCAzNC43MTM5Mzg2OTQ3MDMwNzRdLCBbMTI2LjA3NDg3MTA3Nzk5MzI1LCAzNC43NDM5MDM0NTcxODI5MV0sIFsxMjYuMDgyMDIwNTMwMjg1MDIsIDM0Ljc0OTkwODczMDM4NTUzXSwgWzEyNi4wNjk5MTAwNDAyOTAxLCAzNC43Njg4NzYyMDgzMzM5OF0sIFsxMjYuMDgzMjM4NzU1NDE0NjUsIDM0Ljc3NTc3ODY2MDc1MjAxXV1dLCBbW1sxMjYuMzI3NzMxNTIyMjcxNzUsIDM0Ljc4MzkyODc2MzQ1NDcyNV0sIFsxMjYuMzIxODM1MzI5NjUyMTksIDM0Ljc1NjA5MDI5MTI0MzQ3NF0sIFsxMjYuMzA4MzM5MzkwMzY2ODUsIDM0Ljc2MTU3NDQzMTI2NTU5XSwgWzEyNi4zMDkzNDc4MzIxMjM5OSwgMzQuNzc2NTY2NzQxMDI4MjRdLCBbMTI2LjMyNzczMTUyMjI3MTc1LCAzNC43ODM5Mjg3NjM0NTQ3MjVdXV0sIFtbWzEyNS45OTkwNzM5NDU2NzMxMywgMzQuODAxNjAyOTAyNTA0NTFdLCBbMTI2LjAwMDYwNDU5NDYyMTUsIDM0Ljc1NjgxNTM0NzUxNTkzXSwgWzEyNS45NzkwODkyMDYzOTMxOCwgMzQuNzQ5MzU3Mjk5MDA0MjNdLCBbMTI1Ljk0MzUxMjg3MzA3NjEsIDM0Ljc0OTU0MTkwMTE1MjJdLCBbMTI1Ljk1MjkzNjIyNzM0MjI0LCAzNC43MzEwOTQwNjkxOTM1NF0sIFsxMjUuOTQ0NDA1MzU5NDU5MzEsIDM0LjcxODMwODMwNzc0OTQ0XSwgWzEyNS45MjA2NjUwNzU3NDY4OCwgMzQuNzExMzk0MDk2MDgxODldLCBbMTI1Ljg5NjIxMTMwNjM3Njg0LCAzNC43MjMxMTE1OTgxNjEzOTVdLCBbMTI1Ljg5MDY1MTM3Mjg1NzE1LCAzNC43NjIwNTkyNTI3NzY2NjZdLCBbMTI1LjkxMDY2ODQxODU3NDk3LCAzNC43NzM0MzI0NTkzMjQ2M10sIFsxMjUuOTM4MzcyNjAxMzc3NzUsIDM0Ljc3MzE3NjQzNjYwMzI4Nl0sIFsxMjUuOTY4OTYxOTIyMDQ1NDcsIDM0Ljc4ODQ4MTYzODMyMzE5XSwgWzEyNS45NzU5MzQ4NTgyNDQ0NCwgMzQuODAwMTkzMTQ4MTc3MzRdLCBbMTI1Ljk5OTA3Mzk0NTY3MzEzLCAzNC44MDE2MDI5MDI1MDQ1MV1dXSwgW1tbMTI2LjMzMDc2MzM0OTY5Mzg0LCAzNC44MTI1NDE2OTE3MjQyOF0sIFsxMjYuMzM4OTk2NzQzMjk4NDgsIDM0Ljc5NjQ0MTY5MDc5OTQzXSwgWzEyNi4zMTUxODg5Mjg5MTUxLCAzNC43OTEwOTgwNTc1MjUxMV0sIFsxMjYuMzE4NjYyMjIwMTgyNzksIDM0LjgwOTYxNDI4OTQ3NTQxXSwgWzEyNi4zMzA3NjMzNDk2OTM4NCwgMzQuODEyNTQxNjkxNzI0MjhdXV0sIFtbWzEyNi4xNzIyODE2ODg0OTQzNywgMzQuODAwMTE5NDM5MjY1MzFdLCBbMTI2LjE3NzAzNjQxOTIwOTAyLCAzNC43NTkxMjA3MjQ1ODc1OTZdLCBbMTI2LjEzNzc1OTMwNTIyNzY5LCAzNC43NTkyMjExMjIzMDE1N10sIFsxMjYuMTI1NDY0ODMwNjc2MTIsIDM0Ljc3NjM5NTg0OTE1OTMxXSwgWzEyNi4xMDE1NDQyMjU4MTQ5OCwgMzQuNzc0NTQ1NDc1MTUzNzg2XSwgWzEyNi4xMDE4MzgxMzg2OTQwOCwgMzQuNzg5NDQ4NDE2OTc2NDJdLCBbMTI2LjEzNDgzNDQxNjE3MjY4LCAzNC43OTY1NTI5MzI4NTk4NDZdLCBbMTI2LjE1ODQ5NjMwMzA4Njk2LCAzNC44MjAxMTg1MzU3ODQ3NF0sIFsxMjYuMTcyMjgxNjg4NDk0MzcsIDM0LjgwMDExOTQzOTI2NTMxXV1dLCBbW1sxMjcuNjM1NjQ1NTYzMjQxMzMsIDM0Ljg0NTcxMDM3NjUyMzY2XSwgWzEyNy42MTU5OTY5Mjk1OTg3MiwgMzQuODU0OTk5MjMwMDI0MDddLCBbMTI3LjYzNTgxNDkzNzg5NzIyLCAzNC44Njc4MjYzNDAzMzYwNV0sIFsxMjcuNjQ5MTcyNTUwMDYxOTgsIDM0Ljg1NDMxOTk1MjExNDkzXSwgWzEyNy42MzU2NDU1NjMyNDEzMywgMzQuODQ1NzEwMzc2NTIzNjZdXV0sIFtbWzEyNi4xMTY2NTg2MjY4NjIxMiwgMzQuODgwMDE3NzQzMjg1ODNdLCBbMTI2LjEzOTk0NjgxMTEyMzkyLCAzNC44NzIxMDI2ODc3NTQ4OV0sIFsxMjYuMTUzMDQzMjQ3NTY0NywgMzQuODQyMzMxOTIzODcyMzhdLCBbMTI2LjExNjI4MzA0MjM3MjM0LCAzNC44MjI3NDA0MDg0MjA2NF0sIFsxMjYuMTIyNDI2MTgwNjA5NTUsIDM0Ljc5OTUwMzAyNDA4NjMyXSwgWzEyNi4xMDI3MTI0OTg4MjEwOCwgMzQuNzkzNzEzMDY3NTEzNTRdLCBbMTI2LjA5NDgyNDY1NTg4OTE2LCAzNC44MDc5NDY5NzI3MzM4NjZdLCBbMTI2LjA2MDM2NzExMjU5MywgMzQuODQ2NDkyMTc3MjU5MTJdLCBbMTI2LjA4NDExNTM1OTI1NjQ5LCAzNC44NTY0MTc0MTI1NjY3OV0sIFsxMjYuMTA0OTY3MTAwMjA0NTMsIDM0Ljg0Nzk2NzAxNzY3NjddLCBbMTI2LjExNjY1ODYyNjg2MjEyLCAzNC44ODAwMTc3NDMyODU4M11dXSwgW1tbMTI3LjcxOTU1MTY3ODY1NTc5LCAzNC44OTYwMDE4MjkwOTQ5ODVdLCBbMTI3Ljc0Nzc3NzcyMDQzNTg1LCAzNC44ODc4NjU1NDc4OTg0NjRdLCBbMTI3Ljc0ODU0MjkxMDA2MzUzLCAzNC44Njk1ODgwNTcxMjcxOF0sIFsxMjcuNzIwMDE3Nzk4NTEwNjMsIDM0Ljg2NDUyNjAxOTEzMTI4XSwgWzEyNy42OTM3ODYxMTI4MDQwMiwgMzQuODgxODI4ODY3MDU0ODVdLCBbMTI3LjcxOTU1MTY3ODY1NTc5LCAzNC44OTYwMDE4MjkwOTQ5ODVdXV0sIFtbWzEyNi4yOTg0MzEzODQzNjUyMiwgMzQuOTE4OTAzOTg1ODAyMzNdLCBbMTI2LjMxMzQ3MDgyNzUxMDEyLCAzNC45MDYwNzA5MjI3MDY3NV0sIFsxMjYuMzM4MDcyNzkwOTE2MjYsIDM0LjkwNjE5OTExMzMyOTFdLCBbMTI2LjM0NTAzMTc3ODQ2MTQ4LCAzNC44OTE0MDYzMzg3NDE1NV0sIFsxMjYuMzI3NDM2NzI0MzE0MjUsIDM0Ljg4NzEyMTc5NjYxNTk2NV0sIFsxMjYuMzI2NTY2ODM2MDA3NzcsIDM0Ljg1ODIzMzM5NjEzNl0sIFsxMjYuMzU4NjM1MjY3MTIwODksIDM0Ljg2MDkxNzcwOTY0MTc1NF0sIFsxMjYuMzczNTA0MjMyMzc1MjQsIDM0Ljg0NDI4NDQ5ODgyMjk1XSwgWzEyNi4zNTk1OTEwNzYzMDQyNywgMzQuODExNTAxNzcyMzE4NjhdLCBbMTI2LjMzMzYzOTMyNjIzNjU4LCAzNC44MTU1NzU2ODY1MDQzOF0sIFsxMjYuMzQxMzUwMTE2OTg5OCwgMzQuODM1NDk3NTM3MjQ5NjE2XSwgWzEyNi4zMzYzMTY2MTQ4NDIzNywgMzQuODQ1MjY0MjMwMDk2MjhdLCBbMTI2LjI3ODU4NzQyODc1MTM0LCAzNC44NTI2NDYwMDM2OTk3NF0sIFsxMjYuMjU3MDgxMzU3NjAwNCwgMzQuODM3MDQ5MjQ2NTU5ODddLCBbMTI2LjIyOTY3OTc5Mjk1MTU2LCAzNC44NDY2MDU0Nzg4MzU3MDZdLCBbMTI2LjI0NDExNTIxNzI5MzM2LCAzNC44NTU5OTg3NDkzMTg5OV0sIFsxMjYuMjY2MTg4NTA5NDU1NywgMzQuODU2MjExMzczMTE0OTldLCBbMTI2LjI4MzYxODc1OTk0MjIxLCAzNC44NjQ0OTkyNzA3MTc3XSwgWzEyNi4zMDQyODI1NzA5OTAwNCwgMzQuODkwNDI1MTI2NjE0Mzk2XSwgWzEyNi4yODI1MjUxMDkzNjE2MSwgMzQuOTA3MzQ1OTA0NTU3M10sIFsxMjYuMjk4NDMxMzg0MzY1MjIsIDM0LjkxODkwMzk4NTgwMjMzXV1dLCBbW1sxMjYuMjMxODc3ODIyNTA5MzMsIDM0LjkzNDU4Nzc3OTQ2NTU4XSwgWzEyNi4yNTY2OTg1MjczMzc0OCwgMzQuOTI3NjQ3NDA3NTMyNjNdLCBbMTI2LjIzNjMzNzkyMDIyMDk2LCAzNC45MDYyNjEwNjEyMzYyXSwgWzEyNi4yMjE0ODI2MTYzNjQ1MywgMzQuOTIwOTg1MjMyNTY5XSwgWzEyNi4yMzE4Nzc4MjI1MDkzMywgMzQuOTM0NTg3Nzc5NDY1NThdXV0sIFtbWzEyNi4wNjQ2NDcyOTcyNzc2NSwgMzQuOTMyNTgxMzU4MzAxNTNdLCBbMTI2LjA5Mzg3MjQxNzgxNzUyLCAzNC45MjAwOTQwNzc4ODUyNF0sIFsxMjYuMTA2MDY5MjI0ODUxNjgsIDM0Ljg5Nzk4MDc3NDI3ODU5XSwgWzEyNi4wOTc3OTA4Njk3NzYzNSwgMzQuODcyMjA2MDY0ODc5OTc1XSwgWzEyNi4wODczNDI4NDA4MzQ0MSwgMzQuODYwNTIxNzAyODM4NjNdLCBbMTI2LjA1MjI2MzQ1NDc1MDg2LCAzNC44NTAyODA1ODY5MjM5NF0sIFsxMjUuOTk5MTA3MzUxNDk0MiwgMzQuODYxODQ3NzE0MTU4OThdLCBbMTI1Ljk5MTI1NzIwNTY5NzUsIDM0Ljg3NDA5MDk2MjY4MzE2XSwgWzEyNi4wMTU1OTMzMjEwOTQyNywgMzQuOTEwNDU1Mjg4NjMyNTRdLCBbMTI2LjAzMzIyOTEyMzQ3NDU0LCAzNC45MDY0Mzg1MTU0ODE3Nl0sIFsxMjYuMDQyMTc1NzA2OTI3MzgsIDM0LjkxNjI2OTE1MDU0NDg3XSwgWzEyNi4wNjAxMzc4MTIxMzcxMywgMzQuOTE3MTIzMzg1NTgyMDZdLCBbMTI2LjA2NDY0NzI5NzI3NzY1LCAzNC45MzI1ODEzNTgzMDE1M11dXSwgW1tbMTI3LjczOTEyNDQyMDIxNjExLCAzNC45NDQwMzgxNDU1MjU0Nl0sIFsxMjcuNzQwNTY0Mjc4NjMwMTksIDM0LjkyODg5NDQyMjA3MDMxXSwgWzEyNy43Njc0MjkwOTE3NjA3MywgMzQuOTI4Nzc5MDUzNDc4NTldLCBbMTI3Ljc4Njk2NzcyNTExNTM5LCAzNC45MTIzODQ4NTA4NjA4OTZdLCBbMTI3Ljc4NjUzOTc5MDQ1MjM0LCAzNC44ODMyODY1MDI5MzQxOF0sIFsxMjcuNzYyNzc2NDA5NDAwOCwgMzQuODkwMTQwNDc5MjMwNF0sIFsxMjcuNzYxMzE3NDYwNzAwNDUsIDM0LjkwMjk2NTM0NjU5ODE2NV0sIFsxMjcuNzA2NDE5MzM1NjE3NTgsIDM0LjkwOTQ1NzM0MTI3NjM1XSwgWzEyNy43MjY3MTE4MTQxMzY2OCwgMzQuOTQ1MjMxOTYwOTQ1Ml0sIFsxMjcuNzM5MTI0NDIwMjE2MTEsIDM0Ljk0NDAzODE0NTUyNTQ2XV1dLCBbW1sxMjcuNzYyMDc1OTE5MDEyODYsIDM0Ljk1NzM5Nzc2ODU3NjY0XSwgWzEyNy43NzA5MTA0MzYxNjUzNywgMzQuOTMwNjAyNTU2NzgwMjldLCBbMTI3Ljc0Njg1MzkzNTU4MTYzLCAzNC45MzE0MjE1Nzg4MTM3OF0sIFsxMjcuNzQyODY2NjM0MjY2NywgMzQuOTQ4MTk5NDUyNzk3OTVdLCBbMTI3Ljc2MjA3NTkxOTAxMjg2LCAzNC45NTczOTc3Njg1NzY2NF1dXSwgW1tbMTI2LjIxNjcxODgxMzgwODE5LCAzNC45ODMyNjY0MTcxODAwNV0sIFsxMjYuMjMyNjM3ODI3MDI3NjYsIDM0Ljk3Njg0Nzk4MTE1MTg3XSwgWzEyNi4yMTQ3NTU4MjU4MjcwNCwgMzQuOTMzNDcyMDgxOTg2MjQ1XSwgWzEyNi4xOTY2ODEwMDMwNDE0OSwgMzQuOTExNzExNzAxMDIxNjQ1XSwgWzEyNi4xODk5NzMzMjIwMDM1NywgMzQuOTQzMDE1NjQzNDY4OTk2XSwgWzEyNi4yMDI5MjcyODUyNTY2LCAzNC45NzQ1MjQwODg4NTgyOF0sIFsxMjYuMjE2NzE4ODEzODA4MTksIDM0Ljk4MzI2NjQxNzE4MDA1XV1dLCBbW1sxMjYuMjUxNDg1OTcxNzcxMjksIDM1LjAwMzY1ODk2MTYxODQyXSwgWzEyNi4yNjM3NDk2MTYzNzQ0NSwgMzUuMDAyNzI2MzIwMTUxNzhdLCBbMTI2LjI3MjU4MDU4Mjg5OTM3LCAzNC45NzI5NzIxNjU2ODMzM10sIFsxMjYuMjUxMTMyNzQyMzMyNTQsIDM0Ljk3NjY3MzQ1NTMwMjI3Nl0sIFsxMjYuMjUxNDg1OTcxNzcxMjksIDM1LjAwMzY1ODk2MTYxODQyXV1dLCBbW1sxMjYuMTM1NjM1MDMxOTg5MDEsIDM1LjAyNDE2MzkyNDYyNzc5XSwgWzEyNi4xNTYxNjkzMDMxMTg5LCAzNS4wMjMzOTQzOTcxMDcwNTRdLCBbMTI2LjE3NDAwMjA1OTg4MDc5LCAzNS4wMTE1MjUwNjk5Njc5N10sIFsxMjYuMTg5NjcyNjQxMTQxMjcsIDM0Ljk4MzQxOTU2MzQwODk0NF0sIFsxMjYuMTc2NTk5Nzg1ODA0NjgsIDM0Ljk0Mjg3NDE0MjU5MzI3Nl0sIFsxMjYuMTU5OTc4Njc0NTA2NDIsIDM0LjkzNDc5NzAxMDM4NjUwNF0sIFsxMjYuMTI1NDk5NTkwNTkwNzksIDM0Ljk0Nzc4MTU0NzYyNjAxNV0sIFsxMjYuMTM3MTg5NTY4NDIzNiwgMzQuOTY0NDMzNTA1MDExNDU2XSwgWzEyNi4xMzUyMDk2OTk4NzA1NywgMzQuOTk4MzE4Mzg2OTQzNDNdLCBbMTI2LjExNzgxMTg4MzA0NTc3LCAzNC45OTI0MzMyNzE2NDkzXSwgWzEyNi4wOTk5NzQ1OTY0ODQxNywgMzQuOTk4MjEyNTUyMDc2MzQ2XSwgWzEyNi4xMTczMzcxMTIzODYxNCwgMzUuMDE1OTAxNTAzNTI4NjI1XSwgWzEyNi4xMzU2MzUwMzE5ODkwMSwgMzUuMDI0MTYzOTI0NjI3NzldXV0sIFtbWzEyNi4xNDg4OTIxMDAwOTU4NCwgMzUuMDU1Mjk5MjU4ODAxNDRdLCBbMTI2LjE3MDY1ODEwNzg0Mzc4LCAzNS4wNTMwMDk4OTY3MjgxMV0sIFsxMjYuMjAzMDk2MTAwODU3OTIsIDM1LjAzNTQ1OTQwNzgzNTJdLCBbMTI2LjE5ODI0OTI0NDg0ODA0LCAzNS4wMjE2NDQ3MDcwNDg3NF0sIFsxMjYuMTUwNTk5NTYxODU0MzYsIDM1LjAzMDY2ODc2NTI4ODc2XSwgWzEyNi4xMzUxNjg5NDEwNDQwMSwgMzUuMDQ4NDA2NzM1ODgyMTZdLCBbMTI2LjE0ODg5MjEwMDA5NTg0LCAzNS4wNTUyOTkyNTg4MDE0NF1dXSwgW1tbMTI2LjE2Mzk1MzA4NDExODA5LCAzNS4xNDA1MDc0OTE5MTY5MV0sIFsxMjYuMTQ3Mjg2OTY2NTQyNzIsIDM1LjEzNDMxNTIyMTQxNDY5XSwgWzEyNi4xMzAwNDI3OTkxNjIwNiwgMzUuMTEzMTcwMDM0ODkyMzg0XSwgWzEyNi4xMjMwMDExMzA0NjA2MSwgMzUuMDkzNTU1MTk3NzY4ODJdLCBbMTI2LjEyMDU3MDA1NDE5MjEsIDM1LjA1ODIyNjA4NzI0MjI4XSwgWzEyNi4wOTI3MTc0MTI2Nzc0NywgMzUuMDQ4OTgwMzQwNjUyODVdLCBbMTI2LjA3NDU4NjQ4NTAxMTksIDM1LjA1Njc0MTQ1Njk0MDA4XSwgWzEyNi4wNTAwMTkwODcyOTQzOSwgMzUuMDU4MDA5MTU3MjM4NjddLCBbMTI2LjA0MzQ3OTU2OTI0NzExLCAzNS4wODIxOTg5MDIzNjYxNl0sIFsxMjYuMDUwMzgwNDA2NzE5NTgsIDM1LjA5OTQ4NDU2MzE1OTc2XSwgWzEyNi4wODY4MzEyNDQ1NTI2NiwgMzUuMTA4NTUwNDA0OTg5MzE2XSwgWzEyNi4xMTk5ODY0NjAwMjc1MywgMzUuMTM5ODMwNjEwNTk5NjNdLCBbMTI2LjE2Mzk1MzA4NDExODA5LCAzNS4xNDA1MDc0OTE5MTY5MV1dXSwgW1tbMTI2LjAyMjgwNTcwNDgxNzM0LCAzNS4zNjEzMjk4MTU2MjU0OF0sIFsxMjYuMDQyMTg2ODY1MTIzNzEsIDM1LjM0MDE5MDUyMDk1ODQ2NV0sIFsxMjYuMDE4MTU4NTA3OTYyOTcsIDM1LjMzODc0MzUzMzgxNDU0XSwgWzEyNi4wMjI4MDU3MDQ4MTczNCwgMzUuMzYxMzI5ODE1NjI1NDhdXV0sIFtbWzEyNy41Nzk1ODMwODEwNDM3MiwgMzUuMzA1OTAxNDAwMzk4MzVdLCBbMTI3LjU5NzkzNDU0OTkxNDgsIDM1LjI2NTA5ODMxMDIzMjA4XSwgWzEyNy42MTIxNTc1MTcwNTE1NiwgMzUuMjU4ODQ5NjgyOTcwNDY0XSwgWzEyNy42MjA1MzA5MDQ5NzYxNCwgMzUuMjM0MTQwNTk0NjY3NzVdLCBbMTI3LjYyMzY5NTUxMDU1NDc4LCAzNS4xODQ5MzMxMDAzNjQ5NV0sIFsxMjcuNjk3MjQ2MDE3Nzg3MzQsIDM1LjEyNjY4MzMwMDQzOTY0XSwgWzEyNy42OTY3NDE2OTM1OTc1MiwgMzUuMTAwMDAwMDYwODgyNzE0XSwgWzEyNy43MjEwMTYyMjY5MTQ4OCwgMzUuMDc4NTQ4MDcyMzk3ODFdLCBbMTI3LjczOTYxMTgzMDk3ODQ5LCAzNS4wNzUwMDA0ODc5MDQ3NF0sIFsxMjcuNzQyNDY0MzQyNjI1NDcsIDM1LjA1ODg3NDc2MDQxNjgzNV0sIFsxMjcuNzcwODQxMTgxMDM5MDIsIDM1LjA0NzM1NTE3NDU0MTk5XSwgWzEyNy43NzQxMDk3NjAwMDQxNSwgMzUuMDI2MzkxNjEzNDIxMTFdLCBbMTI3Ljc4OTMwMzA2Mzk5MDYsIDM1LjAxNDE1NjI2NzAzOTAzXSwgWzEyNy43Nzk5MjE3NDY5NjcxNSwgMzQuOTg1MDEyMzc4ODk0OTZdLCBbMTI3Ljc2NjcyMDA3MjE3MzI0LCAzNC45NzUwMDAyODcxNDg3NV0sIFsxMjcuNzYyNTk4ODE0MDYwMDYsIDM0Ljk2Mjg1MzM4NjE5MjgyNl0sIFsxMjcuNzMwMzU2Mjk5NDU0NSwgMzQuOTUwMTY4NzkxMzEzNzVdLCBbMTI3LjcwMjQ1MDQwNDkzNiwgMzQuOTI4MDA1OTcyMzMyMzFdLCBbMTI3LjY5Mjg0NzgwMjc0MTY1LCAzNC45MTIwMTc3MDg4Nzg4OV0sIFsxMjcuNjQyMTE1NTk4NDQwMTYsIDM0Ljg4MzI1NDAwNTcwNDIyNF0sIFsxMjcuNjE5NjQwNzEwNzMxMjMsIDM0LjkxMjk1MDg5ODM5NjYyXSwgWzEyNy41OTI4NTMzMzA1MzYzNiwgMzQuOTE1OTcxMDA1NDM2XSwgWzEyNy42MTYzNzQyODIyNzc3LCAzNC44ODkyNDIyODc1ODI4MV0sIFsxMjcuNTkxODEyOTQyODIwMjQsIDM0Ljg3MTc5OTI2NjE3NjUzXSwgWzEyNy42MTI4MTQ1NDE5NTE0MSwgMzQuODQ2MzQzOTQ5OTczODJdLCBbMTI3LjY0NTA3NTI2NDAzMTcsIDM0LjgyNzM0ODAyODYwMjY5XSwgWzEyNy42NjM3MzMzNTcxNTYzOSwgMzQuODQxMzg5MTI4NzA0MDQ0XSwgWzEyNy42NzIyNDk2MzQyMTY5MSwgMzQuODMzOTE1OTA2MzY4NTQ2XSwgWzEyNy43MDA3ODU0NzUwMDI1NiwgMzQuODU2MjY3ODUzNjEzNjldLCBbMTI3LjczNjA1MTc5Njc3MDY1LCAzNC44NTE2NDc2NDIxMjE1Nl0sIFsxMjcuNzY0MTIwMjU1NjUyMTcsIDM0Ljg2MTcyMTI3NjM3NzExXSwgWzEyNy43NzcxNTM0MzI1NjQ3LCAzNC44NTY3MDIxNzEwOTI5NTVdLCBbMTI3Ljc3MjE5Nzk4MDYxMDMsIDM0LjgwOTQ3MTI1NDQxODY3NV0sIFsxMjcuNzU3NzgxNjk2NDM2ODIsIDM0Ljc4MTU2NTA0NTA0NzczNV0sIFsxMjcuNzQ3Mzc5MzU3MDY5ODYsIDM0Ljc3MzAzNzgxNjg4MjQ5XSwgWzEyNy43NTY1MDM2Njc2MTYxMiwgMzQuNzYwNDYxMDI1MzkzMjRdLCBbMTI3Ljc1MTk0NTMwMDA2NzI5LCAzNC43MzI5MTkzNjIzOTM5Nl0sIFsxMjcuNzA2MjAxMTE0NTYwNDEsIDM0LjcxNzIyOTEyOTA2NjM4XSwgWzEyNy42ODM5NDgyMzM0MzEyNSwgMzQuNzM3NTE2NTQ0Mzg3NDVdLCBbMTI3LjY2MDAxMDk2OTQ1Mzk2LCAzNC43NTIzODgwNTYwOTQ1XSwgWzEyNy42NDE1MjQyMDI2MDYyNiwgMzQuNzExODcwNTE0MTIwNDZdLCBbMTI3LjYyNjE4OTEyNDUwMzQxLCAzNC42OTgzMjkxOTQ3OTc2MV0sIFsxMjcuNjI1NTQ3NjI4NTAyMjksIDM0LjY4NDE4MTkzNTU3Mjg4XSwgWzEyNy42NDIzMjUyMDIyNzU1NCwgMzQuNjQyNzE5MTM2MTIwMTE0XSwgWzEyNy42MjI1Nzk2MzU3NDkzOSwgMzQuNjM2NDgyMzA0ODg2NjJdLCBbMTI3LjU5MTcyNTQwMDk5MzIxLCAzNC42NDg2ODk2OTE2Njk0Ml0sIFsxMjcuNTcyMjU4NDIxMDQ0NzUsIDM0LjY0MDQ1ODA1MTc5MDI3Nl0sIFsxMjcuNTUzNjQyMDk5OTc2NTcsIDM0LjY1OTM2OTcyODU4MzkyXSwgWzEyNy41NTI3OTEzMTI5ODE1MSwgMzQuNjg2MDc5MjU1ODE2NzddLCBbMTI3LjU2ODgzODU5MzY0Mjc0LCAzNC43MjUwMDg3ODcxMzY4ODZdLCBbMTI3LjU4MDgzMDM5NTk4OTA1LCAzNC43MzAwMzAzNDI0NTQxOV0sIFsxMjcuNTkyMTYwODg1NjAxNjMsIDM0Ljc1NDYwODQyMjI5MTkyXSwgWzEyNy41ODE2NDUzNDA3OTY0NiwgMzQuNzU4NzY0MTkyOTg5NDldLCBbMTI3LjU1OTI5MzA3MTE1NjE2LCAzNC44MDM3NTM3MzYxNjQyMjVdLCBbMTI3LjUyNTY4NzU1MzAwMTQzLCAzNC44MDY3NDE2MDI5NTM0NF0sIFsxMjcuNTQwNDg3MzE5MzE2NjQsIDM0LjgyODY4Mzk0ODMzNTI4XSwgWzEyNy41MjQ4MDkyODU0MzI2NywgMzQuODQ2ODQ4MDczOTc0MTRdLCBbMTI3LjUxNjU1NjcyNjYwMDA2LCAzNC44NzUwMzA3MjExMTNdLCBbMTI3LjUwNDQ1MjQxMDkyNDE5LCAzNC44NzE0NjY3MjEwMjc5MV0sIFsxMjcuNDc0NTcwNjU2OTMyNTQsIDM0Ljg0MTc1ODcwMTUwNjEyXSwgWzEyNy40MDI5NjUxNjUwMjUwNSwgMzQuODIxOTQzNzYxODgyMjk1XSwgWzEyNy40MjIxNjgzNDg4MjM1MywgMzQuODA4MjA4MzEzMTc5OThdLCBbMTI3LjM5NzEzMzc1NDE0NTcsIDM0Ljc5MzM0MjI5MTA4NDU4XSwgWzEyNy4zODg3ODQxNTIyNzA2NywgMzQuNzc1OTMwMzA4NzE3OV0sIFsxMjcuNDAzMzI1NzU1NzQ0NTMsIDM0Ljc2NDQ3OTE2NzU0ODQ3XSwgWzEyNy4zOTk0MDE0MTI4NzExNCwgMzQuNzUzNjM2NzQwNjIyNjFdLCBbMTI3LjM3NTM5NzE3MTQ5OTg0LCAzNC43Mzg0MDA4MTMzNDM1Nl0sIFsxMjcuMzkyODUzMDY0MzAwNDgsIDM0LjcwODI4Njc5NjE2MDY4NV0sIFsxMjcuNDU0MTY3ODYxMjI0NzUsIDM0LjY5MTgwODAzODY1NTRdLCBbMTI3LjQ1MTU5MDY3MDM0NDQzLCAzNC42NjgzNjIwNzA3NDUyXSwgWzEyNy40Nzk3MjAzNjgyMzA4NiwgMzQuNjY4NzcwMjg1OTIyODVdLCBbMTI3LjQ3NjExMzMyNDg0NTI3LCAzNC42NTE2MDk1MDM5NTUxOF0sIFsxMjcuNDg5MTUzOTM2NzE4ODYsIDM0LjY0OTAyMjM5NTI5MDgzNV0sIFsxMjcuNTA4MjkwNTQ4OTk1ODYsIDM0LjU4ODc1NzE3MDYzNDYzNl0sIFsxMjcuNDg4NzY5ODY1MDkxMjYsIDM0LjU3NTIzNjM5MTUzMzk3XSwgWzEyNy40NTg2NDE3MTM2NzUxNSwgMzQuNTgwNDg0Mjg0Mzc0NjVdLCBbMTI3LjQ0NjczNzUyODk1ODY1LCAzNC41NzM0OTc4MjczMDE4OV0sIFsxMjcuNDEzNzQ4MDI5MjYzOCwgMzQuNTg2OTY3MzQ1NjU3MjZdLCBbMTI3LjM5NjE3MTA0ODgwMjI3LCAzNC41NzgxNjUxNTYxMjI1MV0sIFsxMjcuNDA5NzM2Nzg0OTQ1MDEsIDM0LjU1Nzc3NTY2MzkzMjYyXSwgWzEyNy40MzU1ODgwMDE0MDQ5MSwgMzQuNTQ5MTE1OTI0ODQ2MDU2XSwgWzEyNy40MjUyMDYyODUwODc3OCwgMzQuNTI3ODg4Mjk2MjI3OThdLCBbMTI3LjQwMzAzMDc2OTIwMTczLCAzNC41MDExMzM0MDE2NDg2OV0sIFsxMjcuMzgxMDg0ODE3NzU4ODgsIDM0LjQ5OTQzOTM3MTUyMzM1XSwgWzEyNy4zNzg1MDM4NjUyMTU1MiwgMzQuNDgyNjQzOTc1NDAzOTk1XSwgWzEyNy4zMzIzNjkwNDAyNzU2NCwgMzQuNDcwNDM2NzMwOTE3ODNdLCBbMTI3LjM0MDcwMDA2MzA0MTIsIDM0LjQ0MjIwNTkzMTk1MTc3XSwgWzEyNy4zMjM5MDkyMzA4MzEyLCAzNC40MzgyNzg2MTI0MTk4NjVdLCBbMTI3LjI4OTMwMDk1MDg3NDAyLCAzNC40NzM4MDY4ODIzOTg3XSwgWzEyNy4yNjk2OTM3Njc3NjkzNCwgMzQuNDc5MDQwMzkzOTI0MjFdLCBbMTI3LjI4NTA1MDU0MjQyNDk0LCAzNC40OTQyNzc0MDA4MzM5NV0sIFsxMjcuMjU5MTU5MTU3NTM1MzIsIDM0LjUxNjAwNTg0MzcyMjc2Nl0sIFsxMjcuMjExNTc4NjA2MjI3MTQsIDM0LjUxNzM2Nzg1NjkxNDc5XSwgWzEyNy4xOTY0NjEwMTA2ODAxOCwgMzQuNTI5MjMwOTgxNTM1MzFdLCBbMTI3LjE3MTE2MTExOTcwMzA5LCAzNC41MTg5NjcwNzY5NDE1OV0sIFsxMjcuMTM3OTA0ODk3OTU0NzcsIDM0LjUyMDM2NzcyNzIxOTk1Nl0sIFsxMjcuMTI0OTY1NTQyNTA4MjgsIDM0LjUyNTc0NDAwODAyNDkzXSwgWzEyNy4xMTQxMTk2ODkxMDE1MywgMzQuNTQzNzcxNjQyMzM5MTQ1XSwgWzEyNy4xMTUzMDMyMzA5MDA3OCwgMzQuNTU2MTkyOTI5MTY0MTI2XSwgWzEyNy4xNDYzOTYzOTA5MDY3NCwgMzQuNTgwODUxMzEzNzQyOTI2XSwgWzEyNy4xNzM2NTA5NzI5MzkyNCwgMzQuNTkyNDQwMjk4MTQzMjRdLCBbMTI3LjE3NDUzMTg2NTgxNzgsIDM0LjYyMzkyOTMzOTkzOTIyXSwgWzEyNy4yMDE4MTE4NTA2OTExMiwgMzQuNjQ0OTY5NDMxNDkzMjNdLCBbMTI3LjIwOTY0OTU2OTM0Nzk3LCAzNC42MjU1OTc2NDM4MjEwOTVdLCBbMTI3LjIyOTY5MzA5Mjk2NzcsIDM0LjY0MDM5NDAzMzE1NTQyXSwgWzEyNy4yMzQ4NTI4NDAwODEyMywgMzQuNjc2NjMyMzIzNTU2NjRdLCBbMTI3LjI1MjcxNzg1MTQ1MjQ2LCAzNC43MDcxNzQwODk4NDE1Ml0sIFsxMjcuMjgwNTU3NTI0NjM2NzUsIDM0LjcxNjM3MDMwNTgxMTI2XSwgWzEyNy4yODg0MTM1ODA2NzUzNSwgMzQuNjk1MTI1NjE1ODQxNjRdLCBbMTI3LjI4MTU4NTE3NzEwMjEyLCAzNC42Njk4NjQ1NzY3NzMwMTZdLCBbMTI3LjMxNjc1NDI5MDE2NjY0LCAzNC42NjIwNzc3NzEzNDg1MV0sIFsxMjcuMzE5NjM1MjM1MzQ2MTcsIDM0LjY3ODk1MjgxMjUzODM3XSwgWzEyNy4zMzU3OTIwNTA4NjY2LCAzNC43MDUxMzY3Nzc2OTEwNDVdLCBbMTI3LjMyNjAyMDQ1MzMxODU2LCAzNC43NDkwMDEwMzgyMTkzNF0sIFsxMjcuMzA1Njc2MDc2NTczNzMsIDM0Ljc0NjQ3MTYxMzM2OTI5XSwgWzEyNy4yOTQ3OTQ5MzE2MzA5LCAzNC43Mjc1MTc3OTUyNTc1MV0sIFsxMjcuMjcyNzQ4NTU3NTkwMzYsIDM0LjczNzU3ODI1OTYxNzYxNF0sIFsxMjcuMjYzNTk4NjkzMTAyOTQsIDM0LjcyODgwNDc1NDA2NzU2XSwgWzEyNy4yNDA1MDcwMjA4NzI4NSwgMzQuNzY0NDAwNDk2MzMwMzRdLCBbMTI3LjIxMTQ4MjQyMzI0MDM0LCAzNC43MzQ0NDE3MTk2ODEwMl0sIFsxMjcuMjAwMTk5NTQ2MDA5MTcsIDM0LjcwMjgzNTI0NjgxNjIxNF0sIFsxMjcuMTgyNjMyNDg2MjAwMiwgMzQuNjg5MDk5ODQyMzk2NzhdLCBbMTI3LjE0Mjg3MTk5MzMxODEyLCAzNC42OTA5MDk0MDAzNjAyXSwgWzEyNy4xMzAwNTgxNjg1ODE2NywgMzQuNjk5MzE5NDQxNTUzMDddLCBbMTI3LjEwOTMxOTkxMzQxNDgxLCAzNC42NzM3MDc0MjE2MzU3Nl0sIFsxMjcuMDcwNzcxNzI0MzQ5NSwgMzQuNjU5Njg0MTc1MzQyMDZdLCBbMTI3LjA1NTkxNjM5MTg5OTkzLCAzNC42Mzg4NDAxOTUwNzYyNTZdLCBbMTI2Ljk5NjU0ODIxMjE5OTY3LCAzNC42MTE0Nzk0MjcwOTYzN10sIFsxMjcuMDExMTc5MDM2ODQ5OTUsIDM0LjYwMjE5NDE4MzYyMTJdLCBbMTI2Ljk5NTM4MzgxMTc4MjE5LCAzNC41OTA4OTQyOTQ4NTMzN10sIFsxMjYuOTg0NjI1NTE5NDUwNzQsIDM0LjU2NzA3NTIxODIwODAyXSwgWzEyNi45ODk5MzE4NDE3NDM3NCwgMzQuNTM2ODAwODg2MzgyMzE2XSwgWzEyNi45NzQyNzczMjQyMTY0NCwgMzQuNTM5ODE3NjMwMjA3NjZdLCBbMTI2Ljk2MDg3ODMyNTM2NjEsIDM0LjUyNzY5OTcwMjA4MjE1XSwgWzEyNi45NzUyODA4ODM3MjE1MiwgMzQuNTEzNDI0NzM4NjUyMzldLCBbMTI2Ljk2NDQwMjI5MzkwNDEzLCAzNC40OTg1NjQ4NTYxNzQyOV0sIFsxMjYuOTc4Njg4Njk0ODgyNTksIDM0LjQ4NDE2NTQyMTc2MTQ1XSwgWzEyNi45NTY0NzI1Nzg0NDQ4NSwgMzQuNDY2OTkyNTk4MDM3MzJdLCBbMTI2LjkzOTAyMTYxNjU5MTU2LCAzNC40NDQ4MjE3MjgxMTc1OTZdLCBbMTI2LjkyNzYyMjYxNTc1ODE0LCAzNC40NDk1MDc0NDA5NjIwOV0sIFsxMjYuODc4NzMyMzMzMzY4NDYsIDM0LjQ1MzU2NjE0MjMzNjMxXSwgWzEyNi44ODkxODA3NjQxMDg5NiwgMzQuNDI1NDM4MDIzOTM5OThdLCBbMTI2Ljg1MjE5MjAwODgxMzI4LCAzNC40NDM3Nzg2MjIyMDM4MTZdLCBbMTI2LjgyMTU3ODczMTkzMzQ3LCAzNC40NDU1MDgyNzI5MjM2NV0sIFsxMjYuNzkyMTcwMDg1NTYyNCwgMzQuNDYzMzg2NzYzMjgwNzY2XSwgWzEyNi43OTQxMTYwMjY0NjMwNCwgMzQuNDg1MzQ4OTM3NjI1ODddLCBbMTI2Ljc4ODYyNzQ4MjYyNzQsIDM0LjUwOTcwNTUzOTU0NjM4XSwgWzEyNi43OTM0MzYxNjYxODY2MiwgMzQuNTI4OTAxMDY3NjkxODc2XSwgWzEyNi43OTQ4OTk4MTI0NDgzNSwgMzQuNTY2ODExMDc5NDg2OTZdLCBbMTI2Ljc3Mzc0Njg3NTIwNywgMzQuNTk5ODkyMTE2ODEzNTJdLCBbMTI2Ljc2Nzg0MzY2NjQ1MDQ3LCAzNC41NjAyMTM3NzA5MTU0OTZdLCBbMTI2Ljc3MDU0MDUzMDczNzI1LCAzNC41NTE3NDU5ODk4NDgxNl0sIFsxMjYuNzYxMTA3NTQwNDg4MTUsIDM0LjUyMjkwMjY5NjI3MTU0XSwgWzEyNi43NjAxMTkzODk0NzcxLCAzNC40OTA2MTY5NzcyOTAwOTVdLCBbMTI2Ljc0Mjc2OTY4NzIzMTY0LCAzNC40ODQ5NzIwODA2NzIzMzVdLCBbMTI2Ljc1MDI0NjY1NjQ4NjU1LCAzNC40Njg3Mzk5NDk5NDgxNjZdLCBbMTI2LjcyOTYxMDc3NDQzNDYyLCAzNC40NDIxMTYyOTAxMDEwMjZdLCBbMTI2LjY5OTg4ODgyMzY1MDk0LCAzNC40MzY3MDM2MTE1NDc4Ml0sIFsxMjYuNjgzMjg2ODQ3ODkwODQsIDM0LjQyMzAzNTQyNzE2Nzg3NV0sIFsxMjYuNjU0MTI2Nzk4MzIzOTcsIDM0LjQxODMxNTU0NjU0ODk3XSwgWzEyNi42MTk5NDExNDQwMDg3NSwgMzQuMzk4ODIxNjEwOTAzMzNdLCBbMTI2LjYyMjgzMjk1MDEzNjA0LCAzNC4zNTUwNDM5MzczMDAzOV0sIFsxMjYuNjA1NDI3Njc0NTE4NjIsIDM0LjM0MzUwNTg3MTI2NDQ1XSwgWzEyNi42MDU1MjI2MDM3MjQyMiwgMzQuMzIwOTYzMTM5NTk2MzY1XSwgWzEyNi41ODgyODQyMjAzMTU3NywgMzQuMzE2NTQzODA0MjU4MzE2XSwgWzEyNi41NTk2Mzc1MTAwNjA3LCAzNC4zMTgxMjgzNjU2ODM3XSwgWzEyNi41NDY3NDM1NzEwNzMyOSwgMzQuMjk5OTA0NjYyNzY3NTJdLCBbMTI2LjUxOTQyMzMyNjY5NDY5LCAzNC4yOTUwODQ1NDA1NzUxNl0sIFsxMjYuNTE0MTU2NDk2NjI4MDMsIDM0LjMxNTk4ODQzMzk5ODQxXSwgWzEyNi41Mjg5MzE5MjkwMTk4OSwgMzQuMzMwOTgxMzg0NDQ4NjA2XSwgWzEyNi41MjE3Mzk3MDU1MDAwMiwgMzQuMzU3NzY0NTEyNzQzMTVdLCBbMTI2LjQ4MzEwMDc5MTAzMzEyLCAzNC4zNTU0NjE2MDc5MTIxOV0sIFsxMjYuNDgzMDg4MTYyODcyODYsIDM0LjM3ODQ5Mzc3NDkxNjk2XSwgWzEyNi40OTcwMzk0ODcxNDA0OCwgMzQuMzg2MjE0NzY4NDg4NTY0XSwgWzEyNi40OTIzNDYyMTk4MTMzNiwgMzQuNDAwMzU5Njk4MDY1ODM0XSwgWzEyNi41MTg3NjM1MjI4MjQ5NSwgMzQuNDExMTk3OTExMjY0MTldLCBbMTI2LjUxMDA3NDI5NzE1NjU0LCAzNC40MjM1OTQ5MjI3MTg2NjRdLCBbMTI2LjQ5MTI5MzQwNDUwMzA0LCAzNC40MzE1MDY4ODE3NDY1Nl0sIFsxMjYuNDc4NTEwNzQzODA1NDcsIDM0LjQyMzQ3NDMwNjUxNzgyXSwgWzEyNi40NjAwNzI2NTYwODU2MSwgMzQuNDQ2NDkwNjcwODEzNzZdLCBbMTI2LjQ2OTM5MjgzMDg1MDkxLCAzNC40NTg5MjM2NDY1NDQ2NzZdLCBbMTI2LjQ1NzUwNzA5MTMwOTY3LCAzNC40NzM1MDMxMDAyNjY0MzRdLCBbMTI2LjQ3MzQxOTg2MjEzNzM2LCAzNC41MDM4MzIxNDc2NzQzOV0sIFsxMjYuNDYyMTQ1MzEyNTU0NzcsIDM0LjUyODkzOTEzODc3NDcyNF0sIFsxMjYuNDM0MjU5MjkzODEyNzksIDM0LjU0MTI1MzQxNzQyMjY5XSwgWzEyNi40MzIxNzg2NDA5ODI3MSwgMzQuNTUyMTMzODM4MTA1NTc2XSwgWzEyNi40MDM2MjA2MjQ4NDc3NiwgMzQuNTQwOTE3NTgzODQwNDk2XSwgWzEyNi4zODE4NjYxMTEyNzA0NSwgMzQuNTU5NjA3OTY0OTIxMzFdLCBbMTI2LjM2NDUwNzM2Nzg2NTcxLCAzNC41NTc2NDQyNDU3MTg2OF0sIFsxMjYuMzM2MDk1OTM5NzkzMTMsIDM0LjU2OTk0MzE2NjAyMTY5NF0sIFsxMjYuMzE2MjQ4MTQxNDgzNTcsIDM0LjU2MzQzOTg4MDI3Njc4XSwgWzEyNi4zMDc5MDczNjM0MzA0LCAzNC41ODc0NDk4OTUzMDA4Nl0sIFsxMjYuMjgxMDIyOTYwNTk0MDksIDM0LjU5MzI2NjE1MTc5MjE1XSwgWzEyNi4yODcyNjgwOTU0NTAzMiwgMzQuNjI2NzE5MTQzNjQ0MjE2XSwgWzEyNi4yNzIyODE3NTY4MDc3NywgMzQuNjMwNDI0MTY3MDEzNzJdLCBbMTI2LjI2NDY1OTczNTg1ODU2LCAzNC42NTY1ODY5MjExOTM5NV0sIFsxMjYuMjU3MDQyNzk3NjQzNDEsIDM0LjY2MDk5NDYxOTQ5MTY2XSwgWzEyNi4yNTk5MTI3MDEyMTkwMiwgMzQuNjkxMDE0MjY2Nzk1MjddLCBbMTI2LjI3NjE1MzYxMDA2MTUxLCAzNC43MDg4NTY3NjQzODg4Ml0sIFsxMjYuMjc2MzQ3Njk3OTY3MywgMzQuNzI1NjMyNjMwNTM4MDddLCBbMTI2LjI4ODA5MTIyOTU3ODksIDM0Ljc1NTQ3MjM0MTk4MTAxXSwgWzEyNi4zMDIwMDM4MDEyOTkyNiwgMzQuNzU5MDQ4MTgxNjQ0NzhdLCBbMTI2LjMzNzI2MzU1NzQ4MjgxLCAzNC43MzUyMjk1MDc1NjE2ODRdLCBbMTI2LjM1MjY3Nzc2MTU5NjksIDM0LjcwMDE0MTQ0NjgwMTQ3NF0sIFsxMjYuMzQyMjA1NzMyNTM0MDUsIDM0LjY5MTg3Mjk5NjI1MzA3NV0sIFsxMjYuMzQ0MTE0MTEzODEwMDEsIDM0LjY3MDk4NTgxMjI2MzY3XSwgWzEyNi4zNzA2MzMwMTgwNDk2OSwgMzQuNjM2ODkyNjQyODM0OTVdLCBbMTI2LjM3ODYxOTg0NDY4MjY1LCAzNC42MTUwMjQxNTMyMDgzNzRdLCBbMTI2LjQzNjYwMTAzOTUwNjI3LCAzNC41ODcxMjMyMzg5ODQ1Nl0sIFsxMjYuNDMwNDk3MjY0ODcwNTQsIDM0LjYxMDUyNjgwMTUwODgwNF0sIFsxMjYuMzc1OTAzODY2NTQxMDcsIDM0LjY0MDU2MDYyODE4NTk2Nl0sIFsxMjYuMzYwMzkwNjkwNTg1NCwgMzQuNjczNDYyMzExMjI2OTNdLCBbMTI2LjM0NTk1NjMxMzc2MDYyLCAzNC42ODMwNTk3OTk4MTgwMl0sIFsxMjYuMzcwMjYyNTEzMDUwMjQsIDM0LjY5NTc0MjgyNTE0OTQyXSwgWzEyNi4zOTA1MTE4NzcxMDY4NywgMzQuNzI3OTUwMTk3ODg5NDU2XSwgWzEyNi4zNjg2MTkxMTc0NDQ3NywgMzQuNzM0OTczMzk4Nzg4MDFdLCBbMTI2LjM4MjQzMjkwNzY5NTkzLCAzNC43NDk3MDE2NDA4ODM5MDZdLCBbMTI2LjM4MTIyMzczNzQxNTQ3LCAzNC43NjM4NzEyMTkxODQyXSwgWzEyNi40NTEyMDkxMTE5NTMwNSwgMzQuNzgwMDk4MzEzMjYzNTY1XSwgWzEyNi40NDM0ODQ4ODAyMTAwNiwgMzQuNzk2MzA5ODM1MzUxNTJdLCBbMTI2LjQwMzI0NzMzNjYxOTk0LCAzNC43ODAwOTg0MzM3NDkxOTVdLCBbMTI2LjM3MDcyMzM4MTc1ODc4LCAzNC43Nzc5NjAzMTg4NTE3NV0sIFsxMjYuMzYzNzYzMTczOTk4OTksIDM0Ljc4ODQxMTU1Nzg0NDY0XSwgWzEyNi4zNzIxMzc5NjQ1MDEwNSwgMzQuODEwMjkxMTQ2Nzc1MTJdLCBbMTI2LjM5MDA3NzYyNzIzOTkzLCAzNC44MzM3ODE2MTM4NzM2NzZdLCBbMTI2LjQwODk0MzAyMzQ5MzYzLCAzNC44NDg4NTA2ODc2ODU4MDRdLCBbMTI2LjM5NjcyODA2MjcyMTQsIDM0Ljg2NjE1OTMxMTU5NDU0XSwgWzEyNi40MDM1NjE2OTAxNzI3NiwgMzQuODc3MTExMTAwNjgxNjJdLCBbMTI2LjM5MTQ3MjI3Nzg1NDIyLCAzNC44ODcwMzcxNzM4MzY2MV0sIFsxMjYuNDA2NTg2MDYwNTA4MjMsIDM0LjkwODM1NjUzODg1MDkyXSwgWzEyNi4zOTM2NTAxMzkzMDkxNCwgMzQuOTE2ODczMjg2OTc1ODNdLCBbMTI2LjM4OTEyODI2NDg4OTQ1LCAzNC45NDM4MDYyMTA5MzYxOF0sIFsxMjYuMzk2MDQ3MjYyNjczMzIsIDM0Ljk1ODY1MjY2MjIwNDJdLCBbMTI2LjM4MDg5MjAyOTg2NDc3LCAzNC45NjgwNzc4Njg2MjM5Ml0sIFsxMjYuMzY4NTUxNDk4MTE4OTMsIDM0LjkyNDg5NjQxOTIwOTE0XSwgWzEyNi4zNDUxMzUzMTg0MjQyMSwgMzQuOTExNTA1Nzk2ODIwMzldLCBbMTI2LjMzMTk2MjQxNDI5NTEzLCAzNC45MTY4MjkzNjcxNDM4Nl0sIFsxMjYuMzIzMTk0NTAzNTczMTMsIDM0Ljk0MDQ2NzU0MTYyMjU3XSwgWzEyNi4yOTY4MTAzOTEyOTAyNSwgMzQuOTYyMjA4MjI2Mjg1MTVdLCBbMTI2LjMwODI0MTE5OTA4NzU2LCAzNC45ODMzODIxMDkyNDI4M10sIFsxMjYuMzM1MDQ1NTgxMTU1NDMsIDM0Ljk2NzcyMjcwMzc2MzQ0XSwgWzEyNi4zNjA5MTY3NzYxOTk5OSwgMzQuOTgzNjA2NDA5NzE3ODddLCBbMTI2LjM0NjIyODAzOTM2NjM3LCAzNC45OTk0NjIyODMyODUxMV0sIFsxMjYuMzkxMjkwMzk3ODc4MTQsIDM1LjAyMjAyMDYzMTMzNTUyXSwgWzEyNi4zODMzOTcxNjgwMTc2MSwgMzUuMDQzOTgyNTk2MjkyODVdLCBbMTI2LjM1MzU4Nzg5MjQ4MjcsIDM1LjAzNTcwNTc2MzM1OTY2XSwgWzEyNi4zNDYwNjg0NjY0NDQyOCwgMzUuMDY3Mzc3MjA1Nzg4MjA1XSwgWzEyNi4zMjk5NTgwMzA3OTM5NywgMzUuMDg1NDQ5MjMxMzc5NTg0XSwgWzEyNi4zMDI4OTMzMDg5ODY2NCwgMzUuMDQ0NjQ1NTg4NTMxNDldLCBbMTI2LjI5MzE4NDc2NzI1ODAxLCAzNS4wNTYzOTYwMzU0MTEyMDRdLCBbMTI2LjI2MjEyNTQ3ODk3MjU0LCAzNS4wNTAxNTMzMzk5Nzc4OTZdLCBbMTI2LjI3NjIxMTg1MTQ2OTI2LCAzNS4wMzQ1ODI2NDQwNjI5OF0sIFsxMjYuMjU3OTM2OTYxNzE4OTEsIDM1LjAwOTU5ODAxOTUyMjI1XSwgWzEyNi4yMjg2NDMzMjA4MzA3NiwgMzUuMDIwMzQ2MTYxOTUzMzNdLCBbMTI2LjIzNzE5NTgwNTg4ODM4LCAzNS4wNDExNjQyNTgzMTc5M10sIFsxMjYuMjI0NjIyODY4ODI1NiwgMzUuMDU0NzMxMTIzNjg3OF0sIFsxMjYuMTg3NTA4MTQ1MjM3NDcsIDM1LjA1NDY3OTU5MDEzNDRdLCBbMTI2LjE2MzA5ODk3MDQ0NjA5LCAzNS4wNjM4Njk1NTU0NjgxMTZdLCBbMTI2LjE2OTAwOTM4Mjc1NTgsIDM1LjEwMDc1ODQxNjQyNjRdLCBbMTI2LjE5MjU1NzU4ODM5MjU5LCAzNS4xMDk3MDAxNjAyMjM3NV0sIFsxMjYuMjM0NjM3NjAzMjg2NzQsIDM1LjA5NTQ2NzUwNjU5ODA4NF0sIFsxMjYuMjQ3MzgzMjQxMTU4ODYsIDM1LjEwNjg2NDI5MzAxMzQxXSwgWzEyNi4yNTkzNjkwODMyMzI5MSwgMzUuMTM4OTg3NjM5MTc5ODZdLCBbMTI2LjI3Mzk4MTQwNTQyOTQ1LCAzNS4xNDI5ODI5OTkzNzU4MV0sIFsxMjYuMzI2ODMwOTEwNzI1NTMsIDM1LjEzMTA3MzIxODgzNzddLCBbMTI2LjM0Njg2Mzg1OTcyMTg4LCAzNS4xNDc3ODI1ODk3MTMwOTZdLCBbMTI2LjM0NjQ3MTkyMzQ5NjI0LCAzNS4xMTIzMjkyNTIyNDM5Nl0sIFsxMjYuMzM3MDgwNDAyNjYzMzUsIDM1LjA4ODU5NjEzNzE4MTEzNV0sIFsxMjYuMzcwMDU4NTg2NzAyMzcsIDM1LjA2ODI1OTQyOTM5Mjk0XSwgWzEyNi4zOTg2NjQ3NjYzNzIsIDM1LjA3MzU5NDU2ODUyODQ1Nl0sIFsxMjYuNDA5MDE4OTEwNDI4NDcsIDM1LjA2MDU4MTQxNDE5NDA3NV0sIFsxMjYuNDAxMDgxMDYxMzMxMzMsIDM1LjAyOTgzOTI5Nzg1NDkxXSwgWzEyNi40NDMzNDY2MTM5MDUwNiwgMzUuMDUyNzE0OTAyODk0MzQ0XSwgWzEyNi40NTQwODIxNzc3NTk5OSwgMzUuMDcwMTE2MjU4MzgyMzhdLCBbMTI2LjQ0MjIyNDk2NzY1Mjk2LCAzNS4wODEyMzE1OTAzMzc2Ml0sIFsxMjYuNDYyMDkxMTA3NTQwNDcsIDM1LjA4ODc4NzI0NDI2MV0sIFsxMjYuNDQ3ODc5MzQ2Mzk3ODEsIDM1LjEwMjY5NjkxNDQyODI5XSwgWzEyNi40MjE2NjE0Mzg4ODMxOSwgMzUuMTA0NDY3MDk4MDQwNTQ0XSwgWzEyNi40MDUwNDA4NTY5NzI2LCAzNS4xMzIzMjg1MjA0Nzg3MTVdLCBbMTI2LjM2NDUyMjE4NDU3MzEzLCAzNS4xNjQwNTMzMjg0MTc3NF0sIFsxMjYuMzQyMzYwNzMxODE2OTIsIDM1LjE4OTUxMDk3MjE1MDEyNF0sIFsxMjYuMzA5MDI5MzQ2MjY4MTksIDM1LjE3NTE2MTMwNjM0Ml0sIFsxMjYuMjk5NTE4MDEzNjk1MDUsIDM1LjIyNDMxMjM0NDYyNjMwNl0sIFsxMjYuMzEzMTYzNzc2NDc2OTcsIDM1LjI1MTUyNjc0NTk3MDU2XSwgWzEyNi4zMjYwNTYxNjMwMjE5OSwgMzUuMjQ5NTMwMjE3MDE2NzldLCBbMTI2LjMyNTM4NzQxMjMyMDIzLCAzNS4yODUwMDgzOTY0MDQ4NzZdLCBbMTI2LjM2MDQyNTEyMTM4OTEzLCAzNS4yODYyOTgzMDUzNTgzMV0sIFsxMjYuMzc5ODA1MDM5MTYwODcsIDM1LjMwMjcwMzUwMzcwOTM5XSwgWzEyNi4zODAzNTY0MTkxODM1LCAzNS4zMjU5MzA4NTkyNjA5NjRdLCBbMTI2LjM5OTgzODAwMzg5NjIsIDM1LjM2NjIzNDkxMDk0MjldLCBbMTI2LjQwNzgxMTU2NTQzLCAzNS40MDYzNzQ1NzQ5Mjg4MDVdLCBbMTI2LjQyMzY3NjY0ODUyOTEyLCAzNS40MjUzNzAyODQxOTA5XSwgWzEyNi40NDk2MDIxMDkzNjk1NSwgMzUuNDI2NzY4MDM3NTA4NjJdLCBbMTI2LjQ4MDc0OTAzNzEyNjgsIDM1LjQyMTE4NzA0MTg0NzY5NV0sIFsxMjYuNDkxMDAxNDIzNjMxOTMsIDM1LjQwODM0MzUxNTEyOTE2XSwgWzEyNi40ODM2MTg1OTg3NDk3LCAzNS4zODI1ODE4ODE3MzU0M10sIFsxMjYuNTIyMjc1NjYwMDU4ODcsIDM1LjM0Njc0MjAzNzA5OTIyXSwgWzEyNi41MjAzNzI3NDM5NTkxLCAzNS4zMjMwOTkxMjU2MDc3NV0sIFsxMjYuNTMzMjI2NzY2MTU4NDUsIDM1LjMwNDQxOTczODQxMTYyXSwgWzEyNi41NTMyMzg2NjIwNzk3OCwgMzUuMzEwNDczMjI0NDM5MV0sIFsxMjYuNTkzODYzNTQzNTU1OCwgMzUuMzAyMjk1NjA2OTk2MDA1XSwgWzEyNi41ODI4NjQ3MjI0MTU1OCwgMzUuMzIxMjk3Mzk5MzE4OTVdLCBbMTI2LjYwNTk4MDAyNDM3MTYyLCAzNS4zMzIzNzY2NDk3OTg0OF0sIFsxMjYuNjI2NzIxMjAwMDQ4NzUsIDM1LjMxODIxODc3NjE5NzMwNV0sIFsxMjYuNjQ2ODc3Nzk5OTQwNjcsIDM1LjMxNjkzMDYyMDM1MTI5XSwgWzEyNi42Njg3ODgzNDYyMzk0MSwgMzUuMzQ4NDk5NzUwNjM1NzI1XSwgWzEyNi43MDEyOTIzMTkxOTUsIDM1LjM0NjYzNDA2Mzk3NDI0XSwgWzEyNi43MDY1NzU3MDk4NzgzMSwgMzUuMzYxOTk0Njg3NzE5XSwgWzEyNi43MjE0OTQxMzAyMzQwOCwgMzUuMzYxODc0MTQzODA4NTZdLCBbMTI2LjczMzAwOTQ0MTU1ODYyLCAzNS4zNzMyNzY0NzkxNjM4MV0sIFsxMjYuNzMxNTc2MTcyOTIzMjUsIDM1LjM5MTU5NTE2NTU0OTk0XSwgWzEyNi43NTM4ODcxMTQwMjU4OSwgMzUuNDE5OTM4Nzg3MTI1ODVdLCBbMTI2Ljc0OTkzNTExNjM1OTkxLCAzNS40NDcyOTA2NjM4NTczXSwgWzEyNi43NjYxMTI4Nzc0MDcyOCwgMzUuNDYzMDA4MTI0NTYzMTc0XSwgWzEyNi44MTU0ODYyODA2NTQzMywgMzUuNDY1NjUwNjQ5MzMwMzJdLCBbMTI2LjgyODE5NTQyNjA3MjU0LCAzNS40ODMyNjc5OTAyMTYyNTVdLCBbMTI2Ljg1MjY4NzM1OTY4MDY0LCAzNS40NjI5NDMyMzYzOTUzNzVdLCBbMTI2Ljg3MDY0ODQ1MDYxMDU5LCAzNS40NTg0MzUwODg4Njc4NjZdLCBbMTI2LjkwNjU4ODk2NjEwNjY1LCAzNS40Mzc5NDk4ODE5MDE5Nl0sIFsxMjYuODk5Nzc0Mzg2MzAyMzUsIDM1LjQyOTk1ODI5MjAxNTU4NF0sIFsxMjYuOTEwNjA1NzM2MjE3MTYsIDM1LjQxMzYyNDEwNjgwMjM4XSwgWzEyNi45MzIyMTIyODE0Nzg0NywgMzUuNDAyODc3MTYyNjE3MDVdLCBbMTI2LjkzNDgzNTE0NDM2ODQ2LCAzNS4zOTIxMDM4ODkwNjA0ODZdLCBbMTI2Ljk2NTQ1MTkxNjA2MDM1LCAzNS4zOTE3MjAwNjc4ODg1NV0sIFsxMjYuOTc5MTMwNTI2MjgxMTUsIDM1LjQwMDM0Nzg2NzA0NjA3XSwgWzEyNi45NzI0NzUwMTIwMDQzNywgMzUuNDI0Mzg5NTcxNjc4NTNdLCBbMTI3LjAxNTA2MzE3NjI1MTcyLCAzNS40NTUxMDk0MzUzNzY3XSwgWzEyNy4wMzY5NzE2Mzc0ODE2NywgMzUuNDYyNDU1Mzk1MzY4MjldLCBbMTI3LjAzOTY2NjM5ODk3MTg1LCAzNS40MzI5NTQ0ODQxNTM5M10sIFsxMjcuMDUwNzk0ODExNDgzNzEsIDM1LjQyODMyODcxOTE5OTAxNV0sIFsxMjcuMDQzOTcyOTY5NjMxOTUsIDM1LjM5NTg5MTg5NTU2MzQ4XSwgWzEyNy4wMzI2MTY4NDc2NzMzNywgMzUuMzg2NzYyOTg3NzcxODc0XSwgWzEyNy4wNDg1MjIwNTU4Mzk0MSwgMzUuMzczODk1MTU2MjE4NzY1XSwgWzEyNy4wNTg3MzI3NjUwMjM1NiwgMzUuMzgxMzI3ODg2ODk0MjJdLCBbMTI3LjA3MjM3Mzk4Nzg0MTQ2LCAzNS4zNjI4OTI0ODE0MDk0Nl0sIFsxMjcuMDY3MzYwOTIzMDk4ODcsIDM1LjMzMzQyODQ2MDQ4MjA3XSwgWzEyNy4wNTQyMDc0MjkwNzMyMiwgMzUuMzM2ODYwMTg4ODU3ODg0XSwgWzEyNy4wNDg3OTMxODYzMzg1NCwgMzUuMzE1MTMyNDA0NTA2OThdLCBbMTI3LjA2NDAyODczNjczODU0LCAzNS4zMTM5MTE1NDUzMjIzODRdLCBbMTI3LjExNzgyNjQ2Njc1MjEzLCAzNS4yOTY1MTkzNzQ4MzI2XSwgWzEyNy4xNDg2Njc1MTY0MDk5MiwgMzUuMzEyMzYwMzYzNzExODVdLCBbMTI3LjE3MDUyNTI1Njc5Mzk1LCAzNS4zMjkxMjg5MTcwNjI1XSwgWzEyNy4yMDI5Nzg0MTQ2MDk0NSwgMzUuMzEyNzQ2OTM0MzE2MjFdLCBbMTI3LjIxNjk0NzAzNTI0MDk5LCAzNS4zMTMxMTI3NDMwODE5M10sIFsxMjcuMjI0NzU0MjU1NTI2OTMsIDM1LjMzMzY1MTgwMzk5MV0sIFsxMjcuMjYyODkzMzE4OTIyMzUsIDM1LjMwODU5MjI5ODkzMzQxXSwgWzEyNy4yOTA0NDA3NjY1NTQxNywgMzUuMzExMTMxNDAzMDE2N10sIFsxMjcuMzA3NTM2NDA3ODQ3OTUsIDM1LjMwMDEwMDg0MjI1MjQwNV0sIFsxMjcuMzU4MDY0Mjg1NTU3NSwgMzUuMzE4MTQxMjc4NzYzOTk2XSwgWzEyNy4zODY3NzkwMzY0OTc0NywgMzUuMzAwMzA1MjkxNjAyNzc2XSwgWzEyNy40MzM0NDM0MzUwNDcxMiwgMzUuMzU2NDgwODE5ODAyMjNdLCBbMTI3LjQ3MzcxMzYyMTM3ODQsIDM1LjM2MzU1Mjk2Mjg5MTFdLCBbMTI3LjUwMzU0MDI5MDgwNDU3LCAzNS4zNTU3NzQ0NDM4NjkzMV0sIFsxMjcuNTMyNjY2MjAxNDU0MTksIDM1LjMzNDIyODU4ODcyNDQxXSwgWzEyNy41Nzk1ODMwODEwNDM3MiwgMzUuMzA1OTAxNDAwMzk4MzVdXSwgW1sxMjYuOTA5MjY3MjY0OTI4NTQsIDM1LjI1NTg2MDY3MDYyMzYzXSwgWzEyNi44OTE3MzcyNTYwOTgxOCwgMzUuMjQzOTI0OTg0OTk4NDhdLCBbMTI2Ljg3NjI2OTEwOTIyODI2LCAzNS4yNDcxMzU2ODMzNjU3NV0sIFsxMjYuODQxMTU5OTIxNzIzNSwgMzUuMjI3MjA5NTg5Njc4NjNdLCBbMTI2LjgwNzc1ODU1NDc1MDEsIDM1LjIxNTc4NzA5MDAwNzc0NF0sIFsxMjYuNzU3NTg3NzM2MDQ4LCAzNS4yMzEzMjQ0NTg5MDU4Nl0sIFsxMjYuNzY1OTMyMjk3MTc0ODEsIDM1LjI1MTI1MjQ5MDY4OTkyXSwgWzEyNi43Mzg1MTY5MzQ1NzM0MSwgMzUuMjQ4NzEzOTMyOTc4Njc0XSwgWzEyNi43MjE4NjQ2OTM1NTE2OCwgMzUuMjIzODQwNDY5MTM2NF0sIFsxMjYuNzE5ODgzMTA5NTc3MjgsIDM1LjIwOTAyMjg5MTg2MTkxXSwgWzEyNi43MDQ2ODY2NzYxMzQ1OSwgMzUuMjA0NzM5MzUwODk1MzFdLCBbMTI2LjY4ODk0MTI1Nzg2MDQ5LCAzNS4yMTIxMTcwMjEwMjA5XSwgWzEyNi42Nzk5MjMxNjk3MzQzNSwgMzUuMTkwNTg4MzY3NTYyNjFdLCBbMTI2LjY2MTcxNjkxOTg4MTY2LCAzNS4xODg3Njk3ODQxOTEzODZdLCBbMTI2LjY3MzEwMTg4MjI5MjkzLCAzNS4xNjYzNzA5MTUxMTgwMV0sIFsxMjYuNjU2MDI0NzY0Mzk2NzYsIDM1LjE2MTUwMDA0OTk2ODg1XSwgWzEyNi42NTM1NTc2ODEyMzYxMSwgMzUuMTE3NDIxMzc1OTA0NzhdLCBbMTI2LjY4MDMxMjc3MzkxNjg0LCAzNS4xMDI3NzI4OTM5OTM1OF0sIFsxMjYuNjg4OTc3OTM1MzA2NTcsIDM1LjEwODc4MjczMjQwMTIyXSwgWzEyNi43NDIyNjcxNjg5NjY0NSwgMzUuMTAzNzI0NDg0MDEyMjddLCBbMTI2Ljc2NDA5NjkzMDQ2MjA3LCAzNS4wODc5MDA0NzU2OTQzMjZdLCBbMTI2Ljc4MDQ2MTg5NTA5MzgxLCAzNS4wNTAwODIxMjg1ODkxXSwgWzEyNi43OTcyNjY3MTU4MDYyNywgMzUuMDU4MDg1OTcwNjY3NTJdLCBbMTI2LjgyMTAzMzg5ODE1NjczLCAzNS4wNDk0Mzc5OTAwNzM0MzZdLCBbMTI2Ljg1Nzc1NDc4MzAzMTU0LCAzNS4wNzUwNjE3MTYwNzU3Nl0sIFsxMjYuODczODU4NzIwMDYxNjYsIDM1LjA3MTIyOTY2Nzc3NzAzXSwgWzEyNi45MjQxOTI1MzI1NzE5NSwgMzUuMDg3MjA0MjIyNzU1OTg2XSwgWzEyNi45MzQ0NzYxMDIxODQ5NSwgMzUuMDcxMzU1MzQ5NDE4MjJdLCBbMTI2Ljk1Mzg5ODExMzg1OTUsIDM1LjA2OTk1MjY4NDI5ODA2XSwgWzEyNi45Njg3NjM0ODk1MDkwMywgMzUuMDg2NDk5NDE3NTc0MDRdLCBbMTI2Ljk4OTQ4NjQyMjMyODI0LCAzNS4wOTExMzQxOTQ5MTY4NTRdLCBbMTI3LjAxMTE1OTI4MDEwNzI2LCAzNS4xMjEzMzE1NTMxNDQzNDRdLCBbMTI3LjAxMDA0MTQ0NzIwNDU5LCAzNS4xNTE4Mzg4MTE0NDI3OV0sIFsxMjcuMDIyOTI4ODY5MDM0OCwgMzUuMTY0MjIyNzk4MTQ0MzVdLCBbMTI3LjAwMzg2MDE1MzIzMzE1LCAzNS4xODQ3OTUxODM1NjM0Ml0sIFsxMjYuOTc3NTI2NTMyNjcwOTEsIDM1LjE4MzUwNzQwMDAyOTkxXSwgWzEyNi45MzQ1MDc5MzUyNTUyNCwgMzUuMjM3NDIwMjYxMDEzMTM1XSwgWzEyNi45MzI5NTI5Mzg5NTUxNywgMzUuMjQ4MzM0MDEwMjYzMTVdLCBbMTI2LjkwOTI2NzI2NDkyODU0LCAzNS4yNTU4NjA2NzA2MjM2M11dLCBbWzEyNi40MjQ4NDU2OTE0NDQ4LCAzNC43MzY0NTc1NTY1NTg1NV0sIFsxMjYuNDAwMDc5OTI1MDM3MzksIDM0LjczNjE4NDM5MzMzMDU5Nl0sIFsxMjYuMzkwMzI4NjQ4NDcxOTIsIDM0LjcxNjc1Mzc1Mjc4NjUxNl0sIFsxMjYuNDU0NzE3NTgzOTg1OTQsIDM0LjcwMzE5OTIzODY2MzkxXSwgWzEyNi40NTMyMzc2MjYyMTM5NiwgMzQuNjg0MjU5MTg0MDAyNjM0XSwgWzEyNi40NzM0NjU3NjAwMTAyMSwgMzQuNjU2MDI0Nzc3MjQ1MTZdLCBbMTI2LjQ4MTI2MzM0NjQwNDIsIDM0LjY3NjcyNDY5NzU2MDMzXSwgWzEyNi40OTYyNzE1NzQ2OTg2MiwgMzQuNjYyNTAwMTA3OTAyMzQ2XSwgWzEyNi41NDQ3NDc0MjUxMDQyNSwgMzQuNjUxODExOTAxMjM1ODRdLCBbMTI2LjU0MTQxNDU1NDMzNzE1LCAzNC42Nzg4NzM2Nzg2OTA4N10sIFsxMjYuNTMwMzc5NzI0NTA1NjYsIDM0LjcwMzk5OTgzMTQwNTE0XSwgWzEyNi41MDA3NzY1MDExMDI2NCwgMzQuNzMyMTY5NzkwOTAzMV0sIFsxMjYuNDczMTk1NDU1MzIxNCwgMzQuNzM1NDA1ODY5OTI2N10sIFsxMjYuNDYxNDc5Nzg4Nzg4MDgsIDM0LjcyNjIzNzc1NDc1MjU4XSwgWzEyNi40Mzc0Mjc4OTY0MjIxNiwgMzQuNzI3NzM0MTQ4NTI2NThdLCBbMTI2LjQyNDg0NTY5MTQ0NDgsIDM0LjczNjQ1NzU1NjU1ODU1XV1dXSwgInR5cGUiOiAiTXVsdGlQb2x5Z29uIn0sICJwcm9wZXJ0aWVzIjogeyJiYXNlX3llYXIiOiAiMjAxMyIsICJjb2RlIjogIjM2IiwgIm5hbWUiOiAiXHVjODA0XHViNzdjXHViMGE4XHViM2M0IiwgIm5hbWVfZW5nIjogIkplb2xsYW5hbS1kbyJ9LCAidHlwZSI6ICJGZWF0dXJlIn0sIHsiZ2VvbWV0cnkiOiB7ImNvb3JkaW5hdGVzIjogW1tbWzEyNi4zMDU5NzgyNjMzOTI1NywgMzUuNjE4NzUwNTc0MjI2MTRdLCBbMTI2LjMxNTUzMjA2MjA2MDcxLCAzNS42MTEyMTUzOTE3ODc0NzVdLCBbMTI2LjMwNjYwMzgzNDA5NDY0LCAzNS41OTM3OTQzNTY1OTAzMV0sIFsxMjYuMjkwOTc5NDY0MDM1MTMsIDM1LjU4ODgxOTYzMDE0NDk0XSwgWzEyNi4yNjQ2MTgwODY4OTEzNywgMzUuNTY4MTc3NDQwOTU4ODldLCBbMTI2LjI1MDQ4NTgyMDI2OCwgMzUuNTgzODAyMzEzOTk4MTVdLCBbMTI2LjI3MjAzMTc5Nzg5MzIzLCAzNS41ODY1MzM5MjUwMzkyM10sIFsxMjYuMjc3NjMzMjExNjA0ODYsIDM1LjYwMTE0NDEzMDk0NzM4XSwgWzEyNi4yOTM0NDEwODQwMzcxLCAzNS42MDIwMzM5NzA4MDUyN10sIFsxMjYuMzA1OTc4MjYzMzkyNTcsIDM1LjYxODc1MDU3NDIyNjE0XV1dLCBbW1sxMjcuNjM5OTAwODQzMTE3NzksIDM2LjA2NTM4NzA1NTQ0Mjg1NV0sIFsxMjcuNjU2NTkzNTQ3MDg3NjUsIDM2LjA1MzIzODg4MzUyNTM5NV0sIFsxMjcuNjYxNjY4NzcyOTQ5MTgsIDM2LjAzNjQ1OTUxNTcxNDIzXSwgWzEyNy42ODcwMTA0NjI3NTQyLCAzNi4wNTg2MjQ4NDQ2NzA3NV0sIFsxMjcuNjk4ODc3OTQ0OTE4NTEsIDM2LjA1MzI0MTExMTE2NTIzXSwgWzEyNy43MDc5ODAwOTUwOTYyMiwgMzYuMDMwMDg0NDUyMDk1MjI0XSwgWzEyNy43MzMyMjc1NzcxMTk2NCwgMzYuMDI5MjcyODU0NDYzMzE1XSwgWzEyNy43OTAwMTA0OTk0MDU4NywgMzYuMDExMjY5NzgyODUzMTddLCBbMTI3LjgwMjk2OTgyOTAwOTYsIDM2LjAyMzUxNzE5MjY1MTQ1XSwgWzEyNy44NTU1ODQ0NDE1OTMyNSwgMzYuMDM2MDc2NjQzMTI3MzZdLCBbMTI3Ljg3OTA5MjAzNTkzNDA0LCAzNi4wMTk0NjMwODA2Mjc0OV0sIFsxMjcuODc3OTgwMTMxMDk1NjUsIDM1Ljk5Mzc0MDg5NDIzODIzNl0sIFsxMjcuODk3MDA5NjcwMjczMSwgMzUuOTgyMDg3NjIzNDgxMzM0XSwgWzEyNy45MTA3NjI3MjA3NTYzMSwgMzUuOTM4MjQ3NjI2MzY0ODRdLCBbMTI3Ljg4NDM4NDQzOTM0Mjg4LCAzNS45MjQ3NDg2MDc0MTMyMl0sIFsxMjcuODg5Nzc1NzM4OTczMzcsIDM1LjkxMTU4NzgyOTMzMjczXSwgWzEyNy44NTM2NzA5MTIxNDU3LCAzNS44ODY1MDMwMjQ0NTAzOF0sIFsxMjcuODQzMTAxNDUxNDUyMzQsIDM1Ljg2Mzg3NDkyNzM5OTY4XSwgWzEyNy44MzMwMzgxMTQ5MzczMiwgMzUuODY2NzQ2ODY0MzExNDVdLCBbMTI3LjgxMDg2MDM1NzM1MTE1LCAzNS44NTA1ODU5NjYzNDEwNV0sIFsxMjcuNzkwMDIyNjI1MjAxODEsIDM1Ljg0ODYzNzAwNjQxNTgxNF0sIFsxMjcuNzc0MzA4MDU4MjAwNTIsIDM1LjgzNTkzMTIwMTM3MDk1NF0sIFsxMjcuNzQ3NzEyNjAyNjE0MzgsIDM1Ljg0MDIzMTE0ODM5NDA1XSwgWzEyNy43MjE2OTc1NzQ3NzAyMywgMzUuNzk0NDAxNjYyMTQ5NDU0XSwgWzEyNy43MDI1MTU3MDAwODgyNCwgMzUuNzg1OTQ5NDA1NDM0MDddLCBbMTI3LjY2MzY0MDIxNDYwNDYxLCAzNS43NTU3NjM5OTEzMzc4MTVdLCBbMTI3LjY2MzMxNDg4NDM1OTg2LCAzNS43MDcwMTkxODc4ODcwMzVdLCBbMTI3LjY0NzAxNzkyMTg2NDI4LCAzNS42OTUzNTEyOTA4OTMyXSwgWzEyNy42NDEwNzYzNzAyODUwMiwgMzUuNjY2ODc3MzA5MDgxNTM1XSwgWzEyNy42MzAzNTA0MDIyNDE2NiwgMzUuNjU5NTU0MTk0NzgzNDldLCBbMTI3LjYyMjMxNjc0MjQ1MDM3LCAzNS42MzkzMDg1OTI5ODk5XSwgWzEyNy42MzAyMjg3MDYzOTQ4NywgMzUuNjE1MTExODMyNzAyMDM0XSwgWzEyNy42MTQ1NDI2NzQwNzMxOSwgMzUuNjAzOTI5OTg4ODI2MTJdLCBbMTI3LjYxMjcyNjIyMzAwNzk3LCAzNS41ODE4MzQ5NzIwNzQxNTVdLCBbMTI3LjU4OTU0NTA4MjM2Mzc2LCAzNS41NjIxMzUxOTYyMDJdLCBbMTI3LjU5MzIxMjM3Njc4NzcyLCAzNS41NTExMzkzMjg4ODE5OTVdLCBbMTI3LjYyNjI2MDI0ODM3OCwgMzUuNTMwODE1ODc4MTM4OTRdLCBbMTI3LjYyODQ0NDA5ODM1Nzc2LCAzNS41MjE1NTQ1NTA5NjA0NF0sIFsxMjcuNjU0ODYzNjQwMjc3MzYsIDM1LjQ4MjYzMTU3MTM3MzA1XSwgWzEyNy42Mzg5MDk3OTk3MDkwNCwgMzUuNDc1NDI1MzE1MjcxNjFdLCBbMTI3LjYzNzg0MDU5MTc0OTE4LCAzNS40NTkyNjUyMDExMTcyOV0sIFsxMjcuNjQ2NjQ4OTA5NDIxNzYsIDM1LjQ0NjkwMDczNTY4NjQwNV0sIFsxMjcuNjY5MjM5NDIyMzUxNCwgMzUuNDQ1MDI4NjE2Mzc0MzE2XSwgWzEyNy42NjQxMTkyNjc0NjMzLCAzNS40MTM2MTAwNTEzOTQxNV0sIFsxMjcuNjQyMzcxNzYwNTkwMjIsIDM1LjQwMTkyNTE2MDc3ODgzXSwgWzEyNy42MTIzOTA2Mzc4NDM2MiwgMzUuMzYyNzM5MDQzMjM1ODg0XSwgWzEyNy42MjQ5OTk4MzcyODc2OSwgMzUuMzQwODk0NjQzMTgxMjY1XSwgWzEyNy42MjI3ODYyMTIzOTQ4MSwgMzUuMzI5Mzk3MTA0ODc2NTZdLCBbMTI3LjU5NDQzMTgzMTQyNjU1LCAzNS4zMDg0NzU3NjI3Njk3NDZdLCBbMTI3LjU3OTU4MzA4MTA0MzcyLCAzNS4zMDU5MDE0MDAzOTgzNV0sIFsxMjcuNTMyNjY2MjAxNDU0MTksIDM1LjMzNDIyODU4ODcyNDQxXSwgWzEyNy41MDM1NDAyOTA4MDQ1NywgMzUuMzU1Nzc0NDQzODY5MzFdLCBbMTI3LjQ3MzcxMzYyMTM3ODQsIDM1LjM2MzU1Mjk2Mjg5MTFdLCBbMTI3LjQzMzQ0MzQzNTA0NzEyLCAzNS4zNTY0ODA4MTk4MDIyM10sIFsxMjcuMzg2Nzc5MDM2NDk3NDcsIDM1LjMwMDMwNTI5MTYwMjc3Nl0sIFsxMjcuMzU4MDY0Mjg1NTU3NSwgMzUuMzE4MTQxMjc4NzYzOTk2XSwgWzEyNy4zMDc1MzY0MDc4NDc5NSwgMzUuMzAwMTAwODQyMjUyNDA1XSwgWzEyNy4yOTA0NDA3NjY1NTQxNywgMzUuMzExMTMxNDAzMDE2N10sIFsxMjcuMjYyODkzMzE4OTIyMzUsIDM1LjMwODU5MjI5ODkzMzQxXSwgWzEyNy4yMjQ3NTQyNTU1MjY5MywgMzUuMzMzNjUxODAzOTkxXSwgWzEyNy4yMTY5NDcwMzUyNDA5OSwgMzUuMzEzMTEyNzQzMDgxOTNdLCBbMTI3LjIwMjk3ODQxNDYwOTQ1LCAzNS4zMTI3NDY5MzQzMTYyMV0sIFsxMjcuMTcwNTI1MjU2NzkzOTUsIDM1LjMyOTEyODkxNzA2MjVdLCBbMTI3LjE0ODY2NzUxNjQwOTkyLCAzNS4zMTIzNjAzNjM3MTE4NV0sIFsxMjcuMTE3ODI2NDY2NzUyMTMsIDM1LjI5NjUxOTM3NDgzMjZdLCBbMTI3LjA2NDAyODczNjczODU0LCAzNS4zMTM5MTE1NDUzMjIzODRdLCBbMTI3LjA0ODc5MzE4NjMzODU0LCAzNS4zMTUxMzI0MDQ1MDY5OF0sIFsxMjcuMDU0MjA3NDI5MDczMjIsIDM1LjMzNjg2MDE4ODg1Nzg4NF0sIFsxMjcuMDY3MzYwOTIzMDk4ODcsIDM1LjMzMzQyODQ2MDQ4MjA3XSwgWzEyNy4wNzIzNzM5ODc4NDE0NiwgMzUuMzYyODkyNDgxNDA5NDZdLCBbMTI3LjA1ODczMjc2NTAyMzU2LCAzNS4zODEzMjc4ODY4OTQyMl0sIFsxMjcuMDQ4NTIyMDU1ODM5NDEsIDM1LjM3Mzg5NTE1NjIxODc2NV0sIFsxMjcuMDMyNjE2ODQ3NjczMzcsIDM1LjM4Njc2Mjk4Nzc3MTg3NF0sIFsxMjcuMDQzOTcyOTY5NjMxOTUsIDM1LjM5NTg5MTg5NTU2MzQ4XSwgWzEyNy4wNTA3OTQ4MTE0ODM3MSwgMzUuNDI4MzI4NzE5MTk5MDE1XSwgWzEyNy4wMzk2NjYzOTg5NzE4NSwgMzUuNDMyOTU0NDg0MTUzOTNdLCBbMTI3LjAzNjk3MTYzNzQ4MTY3LCAzNS40NjI0NTUzOTUzNjgyOV0sIFsxMjcuMDE1MDYzMTc2MjUxNzIsIDM1LjQ1NTEwOTQzNTM3NjddLCBbMTI2Ljk3MjQ3NTAxMjAwNDM3LCAzNS40MjQzODk1NzE2Nzg1M10sIFsxMjYuOTc5MTMwNTI2MjgxMTUsIDM1LjQwMDM0Nzg2NzA0NjA3XSwgWzEyNi45NjU0NTE5MTYwNjAzNSwgMzUuMzkxNzIwMDY3ODg4NTVdLCBbMTI2LjkzNDgzNTE0NDM2ODQ2LCAzNS4zOTIxMDM4ODkwNjA0ODZdLCBbMTI2LjkzMjIxMjI4MTQ3ODQ3LCAzNS40MDI4NzcxNjI2MTcwNV0sIFsxMjYuOTEwNjA1NzM2MjE3MTYsIDM1LjQxMzYyNDEwNjgwMjM4XSwgWzEyNi44OTk3NzQzODYzMDIzNSwgMzUuNDI5OTU4MjkyMDE1NTg0XSwgWzEyNi45MDY1ODg5NjYxMDY2NSwgMzUuNDM3OTQ5ODgxOTAxOTZdLCBbMTI2Ljg3MDY0ODQ1MDYxMDU5LCAzNS40NTg0MzUwODg4Njc4NjZdLCBbMTI2Ljg1MjY4NzM1OTY4MDY0LCAzNS40NjI5NDMyMzYzOTUzNzVdLCBbMTI2LjgyODE5NTQyNjA3MjU0LCAzNS40ODMyNjc5OTAyMTYyNTVdLCBbMTI2LjgxNTQ4NjI4MDY1NDMzLCAzNS40NjU2NTA2NDkzMzAzMl0sIFsxMjYuNzY2MTEyODc3NDA3MjgsIDM1LjQ2MzAwODEyNDU2MzE3NF0sIFsxMjYuNzQ5OTM1MTE2MzU5OTEsIDM1LjQ0NzI5MDY2Mzg1NzNdLCBbMTI2Ljc1Mzg4NzExNDAyNTg5LCAzNS40MTk5Mzg3ODcxMjU4NV0sIFsxMjYuNzMxNTc2MTcyOTIzMjUsIDM1LjM5MTU5NTE2NTU0OTk0XSwgWzEyNi43MzMwMDk0NDE1NTg2MiwgMzUuMzczMjc2NDc5MTYzODFdLCBbMTI2LjcyMTQ5NDEzMDIzNDA4LCAzNS4zNjE4NzQxNDM4MDg1Nl0sIFsxMjYuNzA2NTc1NzA5ODc4MzEsIDM1LjM2MTk5NDY4NzcxOV0sIFsxMjYuNzAxMjkyMzE5MTk1LCAzNS4zNDY2MzQwNjM5NzQyNF0sIFsxMjYuNjY4Nzg4MzQ2MjM5NDEsIDM1LjM0ODQ5OTc1MDYzNTcyNV0sIFsxMjYuNjQ2ODc3Nzk5OTQwNjcsIDM1LjMxNjkzMDYyMDM1MTI5XSwgWzEyNi42MjY3MjEyMDAwNDg3NSwgMzUuMzE4MjE4Nzc2MTk3MzA1XSwgWzEyNi42MDU5ODAwMjQzNzE2MiwgMzUuMzMyMzc2NjQ5Nzk4NDhdLCBbMTI2LjU4Mjg2NDcyMjQxNTU4LCAzNS4zMjEyOTczOTkzMTg5NV0sIFsxMjYuNTkzODYzNTQzNTU1OCwgMzUuMzAyMjk1NjA2OTk2MDA1XSwgWzEyNi41NTMyMzg2NjIwNzk3OCwgMzUuMzEwNDczMjI0NDM5MV0sIFsxMjYuNTMzMjI2NzY2MTU4NDUsIDM1LjMwNDQxOTczODQxMTYyXSwgWzEyNi41MjAzNzI3NDM5NTkxLCAzNS4zMjMwOTkxMjU2MDc3NV0sIFsxMjYuNTIyMjc1NjYwMDU4ODcsIDM1LjM0Njc0MjAzNzA5OTIyXSwgWzEyNi40ODM2MTg1OTg3NDk3LCAzNS4zODI1ODE4ODE3MzU0M10sIFsxMjYuNDkxMDAxNDIzNjMxOTMsIDM1LjQwODM0MzUxNTEyOTE2XSwgWzEyNi40ODA3NDkwMzcxMjY4LCAzNS40MjExODcwNDE4NDc2OTVdLCBbMTI2LjQ0OTYwMjEwOTM2OTU1LCAzNS40MjY3NjgwMzc1MDg2Ml0sIFsxMjYuNDMxMDcwNzcwMDk4MTIsIDM1LjQzNTAyMDY0MzUwNDAzXSwgWzEyNi40NDQxMTkwODEyOTU5NCwgMzUuNDUwNjIyNDA5MjgxMDQ2XSwgWzEyNi40ODU0NTM2MTcxMTI5MiwgMzUuNTE2MjU0NjY5Mjk1NjldLCBbMTI2LjUyMTM1NjkyNDAxNDc4LCAzNS41MzA1MDkyNDczMzQ1N10sIFsxMjYuNTQzODkwODc1ODE5MTQsIDM1LjUyNDM3MzcwODcwMjUzXSwgWzEyNi41NjQ0NDUzMjY4NTgzMywgMzUuNTM4NDAyMjk5OTM0ODNdLCBbMTI2LjYwNTEyMzk2NzU0OTY5LCAzNS41Mzk2MTM4NzExMjI3OV0sIFsxMjYuNjE4NDYyNTU0ODQwNjUsIDM1LjU1Mzg2Nzk3NjIxOTY3XSwgWzEyNi42MTkyOTc5NjMxMTE1LCAzNS41NjY4NDc5NTkxMzI0N10sIFsxMjYuNjQ5OTUxNDIwNDY1OTcsIDM1LjU2NjY0MjcyNzAwOTc5XSwgWzEyNi42NjY2NjY0NjUyNjY0OSwgMzUuNTUxODgwMzc0NjIyMDk0XSwgWzEyNi42NzM2NDQ4NzgxODk3LCAzNS41Nzc1MTI0ODM3OTgzXSwgWzEyNi42MzgwODk5ODQ3NDg5NCwgMzUuNTkwMzk5NTIxNzU0NTFdLCBbMTI2LjYxOTIxMDAwNjY1NjM2LCAzNS41ODE5MzI2NjY5MDk3Ml0sIFsxMjYuNTc3Mjk2OTg4NjU1NDksIDM1LjU4NzExNjE4ODMxNDQ1XSwgWzEyNi41NDMxMzk4NDE5Mjc2MSwgMzUuNTg0OTkxMzYxMDU2Mzc1XSwgWzEyNi41MzAxNDU1MjIzMDgzNywgMzUuNTc2MjUyNjE1NzA0NzRdLCBbMTI2LjQ5Mzc1MzIzMDc4MTYsIDM1LjU4Mjk0OTU0NDQ2NTcwNl0sIFsxMjYuNDY5NTcxMzQ5NTY1ODQsIDM1LjYwMTEyNDIxNjE1Njg1NV0sIFsxMjYuNDY3MTAwNzgzMTU4OSwgMzUuNjMwOTUwMDEyOTc0NDddLCBbMTI2LjQ4NjMxNzM4MTEzNzY1LCAzNS42NTI1OTY4NjM2MzE4ODVdLCBbMTI2LjUwMjQyOTg0NDIwMzksIDM1LjY1NDM0ODA2MzM3MzU0XSwgWzEyNi41MzQ4MzI2NDY0NjYyLCAzNS42ODQzMzE3MDY2NDU2MV0sIFsxMjYuNTYyOTMyNDMyMzI2ODUsIDM1LjY5NTcwOTU1MzU2MDM4XSwgWzEyNi41NzI2MTQ3OTY5NjMyOCwgMzUuNjkyMTI0ODU4MTk4NjRdLCBbMTI2LjYwMzk1ODA2Nzc0NDc0LCAzNS43MTY4Nzc1ODI2ODExOV0sIFsxMjYuNjI4OTQ4MjU3NTg0MzEsIDM1Ljc0NTQ1MDQ5NTU5NzIwNF0sIFsxMjYuNjI0Njg0NTUzODQ2NjMsIDM1Ljc4NTcwMTgzNDI0NDY3XSwgWzEyNi42NDUwNDQ5MTI1ODA5OSwgMzUuNzk0Njk3MDAwNzc5MDVdLCBbMTI2LjcwMTMyMTYyMjI0OTYxLCAzNS43OTY0NDE3ODY2NTk0N10sIFsxMjYuNzMwMzUxMzU2NjE2MjgsIDM1Ljc5MTEwNDIxNTY3MjQwNV0sIFsxMjYuNzcxOTUyNzc5MzI4MzQsIDM1Ljc3NDUyMDUyMDA2MTUzXSwgWzEyNi43Nzg5MDQ2NzQ4NTI4NCwgMzUuNzk4NDkwMjUxMzcwNjNdLCBbMTI2LjczNTIyMTc5NjEzOTI5LCAzNS44MTU2MTE4OTc1OTQ3OF0sIFsxMjYuNzAxMjczMzU1Mzg3ODgsIDM1LjgzNjk1NjUwMDc5NDE3XSwgWzEyNi42OTQxOTU4ODI2NzA4NSwgMzUuODQ4NzIyOTYzMjg1NjI0XSwgWzEyNi43MzMwMzc1NjcwNjE3OSwgMzUuODYzNjYxMTAzNjY4NzA0XSwgWzEyNi43OTAwNDk4NDIyMjExMiwgMzUuODYxOTIxOTUwNjAxMzE0XSwgWzEyNi44MDA2OTA1MjAyOTg0NSwgMzUuODcwNTQzOTc1NTE4MTJdLCBbMTI2LjgwMjk2OTYxODgyMzE4LCAzNS44OTA3NjM1NjY0MjA3NF0sIFsxMjYuNzg2MjE0NTE4MzkzNiwgMzUuODk5MzgzMTc4Nzc2NjZdLCBbMTI2Ljc3MjA1NjYyODAwNTE1LCAzNS44ODYwMTc3NjQ5NzI0MTVdLCBbMTI2LjczODM5OTQ1MTMzOTY1LCAzNS44ODg1ODczMzIyMzg5Nl0sIFsxMjYuNzI3MDY3NzE5NTc1OTMsIDM1Ljg4Mjc4NTA3ODk1Nzc0NV0sIFsxMjYuNzAxMTkzNzM0MTc1NzUsIDM1Ljg5MDc1MTAyNTI5NzA4XSwgWzEyNi42Nzg0NDY5MjA5OTA0LCAzNS44OTE2Njk5NzA3Nzg0NjZdLCBbMTI2LjY2OTcyODg4ODI2MzM4LCAzNS44ODA0Mzc2Mzc0OTI5M10sIFsxMjYuNjE3MTc1OTE5MzQ4ODEsIDM1Ljg4MzA5MTQ0MTM5Njg2NF0sIFsxMjYuNjEyNDMwNTY3NTcyMywgMzUuOTEzNjIxMDUyNjAzNTddLCBbMTI2LjYxNzAwNjM3ODc0ODk1LCAzNS45Mzk2OTM0MTQ1MTgxXSwgWzEyNi41OTcxMjgyODMzODkxMSwgMzUuOTQ0NTIwOTY5OTA0MzhdLCBbMTI2LjUzMDM3MTExNzY4MTU1LCAzNS45MzcyMTE3MzE2MDg1NV0sIFsxMjYuNTIzMTg0NzQ5NTI5OTYsIDM1Ljk2ODA0MTU1ODY4NTA0NF0sIFsxMjYuNTcwNTczMTcyNzY3MTEsIDM1Ljk3MjkzMjQ3MzU2NjgzNl0sIFsxMjYuNjQ0ODQ2MDcxNTUxNiwgMzUuOTc1OTEwMzUyODA2MTI1XSwgWzEyNi42Njg1MDI4ODE5Nzg0MSwgMzUuOTgxMDg0NjMzMjY4MDddLCBbMTI2LjY4MjE3MDEzNjQ3ODIyLCAzNS45OTYzMTA3MDkxODQyOV0sIFsxMjYuNzI3NDcyMTQwNDEwODgsIDM1Ljk5MjExNDM2MTAwNzY0XSwgWzEyNi43MzY4NjUzNDIzNDM0NCwgMzUuOTk3ODc2MTY3NDg1MV0sIFsxMjYuNzUwNzQ3NjAwMTczMTEsIDM2LjAyMDU3MTEwMzgyMjAxNF0sIFsxMjYuNzc3MzM3Mzc5ODUwMSwgMzYuMDI4NjY1ODM2MTQzNThdLCBbMTI2LjgxMjE2NTY5ODY1NjczLCAzNi4wMzA5OTM5NTg4NTg3NDRdLCBbMTI2LjgzMTc3Njc2ODM2OTExLCAzNi4wNDM5MzM1ODQxMjg2NDVdLCBbMTI2Ljg2NTY1ODg2NTk2MzU0LCAzNi4wNTc2MDA5MDEzMzYwMl0sIFsxMjYuODc2OTc2ODI0NTE4NiwgMzYuMDg4NTM4NjY2NTg3NzRdLCBbMTI2Ljg3NTM1NjEzNTU0NDQ1LCAzNi4xMDk5NjkwNzE5Mjg4OV0sIFsxMjYuODk0Mzk4NjYyNTg0NTQsIDM2LjEzNzc2ODQ2OTI2MTQ0XSwgWzEyNi45MjU0NzUyMzg5MjU3NywgMzYuMTM2MzcyMTc5Njk1MDJdLCBbMTI2Ljk1OTA2MTgyMDMzODE5LCAzNi4xNTM0NjEzNTQ3NDMxMl0sIFsxMjYuOTkyMjY5NDIwNzg3ODksIDM2LjE0MjAzNTI1Njk4MDc3XSwgWzEyNy4wMDU1MzY4NjIyODgyLCAzNi4xNDYxNzg2MTYyNzA5Ml0sIFsxMjcuMDI1NzUxMjMyMjg5ODQsIDM2LjEzMzU5NDc2MDE5OTE2XSwgWzEyNy4wNTE4NTU4Nzk0MjUxOSwgMzYuMTM5NDA4MjYyNjA4MDJdLCBbMTI3LjA2MzQ5MjE3NTE5MTQ0LCAzNi4wOTA1MjExMjI3NjY0N10sIFsxMjcuMDgzNjk3MDAxMTM3NywgMzYuMDc0OTU0NzI2NjcwMjNdLCBbMTI3LjEzNTgwMjE2MTg5MTE2LCAzNi4wNjY3MTM2MDEyNjU1NTVdLCBbMTI3LjEzOTI2NDQ1MTg5MDcxLCAzNi4wODM4ODEyMTc1OTQxMV0sIFsxMjcuMTcwNzg4MTM2NzA2MjEsIDM2LjA4MDk2OTk0NjYzNDA2XSwgWzEyNy4xODE0NDkzODczNDk3MiwgMzYuMDkxMTk2MDE0MjI3OTI2XSwgWzEyNy4yMDE2NzQwOTUwNzQzMSwgMzYuMDgzMTI4OTUxNTY3ODFdLCBbMTI3LjIwNjgzODU4NjI3MzksIDM2LjA5NzQxOTM0MjQ2NjY2NV0sIFsxMjcuMjQ4MzY4MDY5MzI2NTksIDM2LjA5MTgyNjgzODI1NzA1Nl0sIFsxMjcuMjUzNjM2NTEzNzQ3NTEsIDM2LjEwOTg4MzAwNTQwNDMwNl0sIFsxMjcuMjc1NDQzNjYxMzU1NDgsIDM2LjEwNDYxODc2ODE0NjU5NF0sIFsxMjcuMjk2NTg1OTIwNzMwMzUsIDM2LjExMDAwMTQ1NTU2NjRdLCBbMTI3LjMwODI5NDMxNzgzNDIyLCAzNi4xMjI4MzQ0MTMwMTMyOV0sIFsxMjcuMzQwNjAwNzkxODIxOTYsIDM2LjEyNzUyOTk2ODA1NTg0Nl0sIFsxMjcuMzU3MDkyODg1ODUxOSwgMzYuMTA1MzQ0MjczMTM1MTddLCBbMTI3LjM2MjEyMjIyNzg5MjI0LCAzNi4wODY1MzkyNDY3Mjg0OV0sIFsxMjcuMzYzMjYzMTk2ODQyMDgsIDM2LjA1MDMzMzk5MTEyNTk0Nl0sIFsxMjcuMzc2NTAwNjUxMTIxNjUsIDM2LjAzMTI5MDU5OTk1MjY0XSwgWzEyNy40MDMyNjg5ODM0MDgwOCwgMzYuMDA0OTIyODQ5NjA2NTFdLCBbMTI3LjQyODM5MjE5NTg4OTc3LCAzNi4wMjM0OTExNDUwMjA2NjRdLCBbMTI3LjQ0NjcwODI1ODg0NjEsIDM2LjAwMzg2ODEwODEzODU5XSwgWzEyNy40NTgxMDM4MDc0NDU3MiwgMzUuOTgwODAzMzkxNTk5MzRdLCBbMTI3LjQ3MDM1Mjc4MjE4Mzc0LCAzNS45ODQ3NjM4MDA4NDg1NTVdLCBbMTI3LjQ4OTczNzk2NTE2ODA4LCAzNS45NzUwMzM4MjUzNDc1Nl0sIFsxMjcuNTA3OTQ5MTU5Njk4NDEsIDM1Ljk3NzM3NDA5NzgyMTY1XSwgWzEyNy41MzU4MDM0MTU2OTUwNiwgMzUuOTg5MTI2ODE5MzgxNDldLCBbMTI3LjU0MjMxNjA3NDg4NjM3LCAzNi4wMDg3NTYyODczMzcxNl0sIFsxMjcuNTQwMDU2NDM2NDYzNjMsIDM2LjAyOTk5ODg1ODg0NzM5XSwgWzEyNy41OTM1NDg3NzY1MjUzNywgMzYuMDIxNjg2MjExNjU3NDVdLCBbMTI3LjYwMjk2MzgxNzYxNDQ0LCAzNi4wMDk0OTM3MzE3NDU5N10sIFsxMjcuNjIwMjM2MTg1MTQ5MzcsIDM2LjAwNDU5NTYwMjYzMTkxXSwgWzEyNy42MzI4ODQ3MjA4MTcyLCAzNi4wMzc3OTU3NjA0NTQwNDZdLCBbMTI3LjYyMTAxNzM1MDk1OTA2LCAzNi4wMzg2ODg0MTgyNzk4NzVdLCBbMTI3LjYyNjQ4Nzc0NDI5NjU3LCAzNi4wNjM3MzM1NjA3OTMxMV0sIFsxMjcuNjM5OTAwODQzMTE3NzksIDM2LjA2NTM4NzA1NTQ0Mjg1NV1dXV0sICJ0eXBlIjogIk11bHRpUG9seWdvbiJ9LCAicHJvcGVydGllcyI6IHsiYmFzZV95ZWFyIjogIjIwMTMiLCAiY29kZSI6ICIzNSIsICJuYW1lIjogIlx1YzgwNFx1Yjc3Y1x1YmQ4MVx1YjNjNCIsICJuYW1lX2VuZyI6ICJKZW9sbGFidWstZG8ifSwgInR5cGUiOiAiRmVhdHVyZSJ9LCB7Imdlb21ldHJ5IjogeyJjb29yZGluYXRlcyI6IFtbW1sxMjYuMzU5NDM3MTMxMjAxNzksIDM2LjM1MjA3OTkzNTQ4MDk1XSwgWzEyNi4zNjIzNjEzNTA1NDg2OCwgMzYuMzI2NjExNjI5NzQ4MjY0XSwgWzEyNi4zNDIzMjg3ODU5MDg0MiwgMzYuMzMwOTI4MzU3ODg1OTRdLCBbMTI2LjM1OTQzNzEzMTIwMTc5LCAzNi4zNTIwNzk5MzU0ODA5NV1dXSwgW1tbMTI2LjQzNDkwNjE2MzY3ODE2LCAzNi4zODMxMDk1OTAyMzgxNV0sIFsxMjYuNDYxMDQ3ODE2MTQ4MjUsIDM2LjM1MTYyMDM4Mzk1NjQxNl0sIFsxMjYuMzk4NDA3MzM5MjcwMTYsIDM2LjM2NDU1MTU1Nzk4MTY4NF0sIFsxMjYuMzg3ODE0OTIyMDg5MTUsIDM2LjM3NzkwMDg5NTcyODhdLCBbMTI2LjQzNDkwNjE2MzY3ODE2LCAzNi4zODMxMDk1OTAyMzgxNV1dXSwgW1tbMTI2LjM0MzA4NjE1ODIyNDg1LCAzNi40MDIwMjE0MDE3NDkzMl0sIFsxMjYuMzQxMzQ0MTU2MDYwNjksIDM2LjM3NjMyMzUxOTAzNTk2NF0sIFsxMjYuMzI1Mzk2Nzg5NjU1OSwgMzYuMzg1NDkxMTQxMDI2NTRdLCBbMTI2LjM0MzA4NjE1ODIyNDg1LCAzNi40MDIwMjE0MDE3NDkzMl1dXSwgW1tbMTI2LjM2MjcyMzkyNjQwODQ2LCAzNi42MDk5NDg2OTA5NTgwN10sIFsxMjYuMzg2OTEwMTIwNTA4NTYsIDM2LjYwMzQ4OTM1MTY2ODA4XSwgWzEyNi40MDA3MzMxNDI3NjEwMywgMzYuNTc5NDM3Mjc2NTU5MDldLCBbMTI2LjM5MjcxOTgzOTc1Mzg4LCAzNi41NDc2MTI5NzMxMDUwN10sIFsxMjYuMzk4NjgwODQxNzcwMjksIDM2LjUxNjI1NTI5MzA0MDY4XSwgWzEyNi40MjkzMDgxNDg4MTA1NSwgMzYuNDU5MjA1MTgxNzA1NzFdLCBbMTI2LjQzNzQzOTk2ODkyMjc1LCAzNi40MTU2MDIwNDU3ODgyMV0sIFsxMjYuNDIwNzA0NDU5ODA4OCwgMzYuNDAyMTE5Njk0NDQwODA2XSwgWzEyNi40MDgzOTM5ODY5MTY4LCAzNi40MTA5NTg5MzIxMTQwMzVdLCBbMTI2LjM4MzM5NjMzNjg5ODQxLCAzNi40MTQ5ODQzODc1NjM4MV0sIFsxMjYuMzcyNzcwOTkwNjA2MTgsIDM2LjQwNzI0NTkwNTY3NzE5XSwgWzEyNi4zMzk2NjY4NDQ5ODg5NSwgMzYuNDM1NzM4MTY2NjE0MThdLCBbMTI2LjMyODM1ODMzNzI0NzQ3LCAzNi40NjQ5MzI1NDM3ODgyNl0sIFsxMjYuMzM1ODMxMjYxOTU5MTQsIDM2LjQ4ODQ4MDU2NjgwOTVdLCBbMTI2LjMyMjk3NDEzOTExMTI3LCAzNi41NTU0MTc0MzE5OTgwNDVdLCBbMTI2LjMxMjA3MzY4Mjk2MjM1LCAzNi41NjU4NjAyNTMzMjQ1M10sIFsxMjYuMzEyMzkyOTg4MDU1NzgsIDM2LjU4MjI3MDU3NDYyODc0NF0sIFsxMjYuMzQyMDEwNTc2NDAwNTQsIDM2LjYwNTU4MzI2NTExNjI5NF0sIFsxMjYuMzYyNzIzOTI2NDA4NDYsIDM2LjYwOTk0ODY5MDk1ODA3XV1dLCBbW1sxMjYuNDMwMTYxNzEyNTQ3NiwgMzcuMDYyMDE2MjMwODAxMDFdLCBbMTI2LjQ1MjYyMTY5MjIyMTgsIDM3LjA1MTQ3NjIwMDkzNTU5XSwgWzEyNi40MjUyNzIzMTk1NzU2LCAzNy4wNDA4NTQ0NTIxMDc2NF0sIFsxMjYuNDMwMTYxNzEyNTQ3NiwgMzcuMDYyMDE2MjMwODAxMDFdXV0sIFtbWzEyNi45MTA4MzY2NzkyNzIsIDM2LjkwMjA4MTU2MzU5MzI2XSwgWzEyNi45OTc1MDE2NTUzMjk2MSwgMzYuOTMyNjQ3NzY2NTg0OF0sIFsxMjcuMDMzODMyODg1NDMwMjcsIDM2LjkyNTQ2OTI2NDk4OTg4XSwgWzEyNy4wNjI3NDA1OTk4OTAxOCwgMzYuOTM2NjQ4NzMxMDA1ODNdLCBbMTI3LjA3NjAzNzY4NDg4MTQsIDM2LjkzNTUyMzUzMTk2NDI5XSwgWzEyNy4xMTU1MzY3NjQyMTA3NywgMzYuOTY5NzQ3MjU1NzA4NzVdLCBbMTI3LjEzMjMyNDg1NTY0MzgsIDM2Ljk2MjM4Nzc1MjQ1NTc0XSwgWzEyNy4xNDY0MTAyNTg2NzE4OSwgMzYuOTY4NjQ1NzY4NTIyMDQ1XSwgWzEyNy4xOTIyMjU2MjUyNzY4NiwgMzYuOTQ5OTg5NTc0ODc3NjldLCBbMTI3LjIwNDAwNTQ4MTE2MDQ0LCAzNi45NDkyNDU4ODMwOTUwNF0sIFsxMjcuMjIyMzIzODk3NzY0NjEsIDM2LjkyNzQyOTgwOTg2NV0sIFsxMjcuMjQ2MTM2NTI0NzcxMzMsIDM2LjkxNDUzMTY0MzMyMzI0NF0sIFsxMjcuMjcyMjc3ODQ0MzY5MDEsIDM2LjkxMDM3MjI5ODE3NzkwNF0sIFsxMjcuMjkxOTIzNzY5ODgyODQsIDM2Ljg5MDk0MjkyODc4NzQ1XSwgWzEyNy4zMTAyMDExODIzOTQyLCAzNi44ODIzODA4MDA0MDQ1N10sIFsxMjcuMzA4MTMxNTQwMTYwMjMsIDM2Ljg2MDE3OTI5NDEzMzQ5XSwgWzEyNy4zMzgzOTcxOTExMzI2MywgMzYuODUxNzYyMjE5Nzk1ODE2XSwgWzEyNy4zMzU1MzQ0NzQ4MTczNiwgMzYuODI3Nzc4NjY4ODYzMTRdLCBbMTI3LjM1Nzk2NTIxOTgyNTg2LCAzNi44MjU1ODg5NDAzMzUwMl0sIFsxMjcuMzgzNTk5MzcxMzU3NDIsIDM2LjgxMDk2NjUwNjQxNTY5Nl0sIFsxMjcuNDAzODM0MjU2NTg3MSwgMzYuNzkyMzgwODYxODEwMDk1XSwgWzEyNy4zOTcxMTQyMDQ2NjA4MSwgMzYuNzgxMzQ0NDE0MzMwMzM0XSwgWzEyNy40MTQwNzA2OTUwMjEzMiwgMzYuNzY5NDQxNzg2NzgwMzRdLCBbMTI3LjQxNDEwMzY2NjMxMzM4LCAzNi43NTQzNzQzMTk3ODEwNF0sIFsxMjcuMzk4ODE0MjY4MDkxMTcsIDM2Ljc0NDE0NDIwODAxNjc3XSwgWzEyNy4zODk1MzcwODg2ODU5NywgMzYuNzU2NDQ0MTI5NTgyMzU2XSwgWzEyNy4zMzg1MzEyNTcyOTQyLCAzNi43NDk3NjUyMTc5NzAyMV0sIFsxMjcuMzQzMDI4OTExMzk3MDMsIDM2LjcyOTQ5MzQ0ODkxMjczNF0sIFsxMjcuMzI3MTc0NzY5NTM1MDIsIDM2LjcyOTUxMTIyNjkwODY1Nl0sIFsxMjcuMzEwNDU0OTYxMTY0OTQsIDM2LjcxODExMjY4OTI1MTg3XSwgWzEyNy4zMTAyMzU2MTMyNDQ0NiwgMzYuNzAyMDM4ODkyMTE5MDA2XSwgWzEyNy4yODc3NDU1NTkyNDMxNSwgMzYuNjg4MDM0OTIzNzU1MjddLCBbMTI3LjI1MDIzOTE2MDA4NDE2LCAzNi42OTIxNzI1NTU4MjYxNl0sIFsxMjcuMjA2Mjk0NTY1MjkwNDIsIDM2LjcyMTk0OTAwNjQzMjc0XSwgWzEyNy4xNjU0NjY4MTAzNjMsIDM2LjczMDc0NzY4MDc1MDQzXSwgWzEyNy4xMzYxODA2NjI3NjY1NiwgMzYuNzAzNjgxMjc1MTcwNF0sIFsxMjcuMTQ1MzM0MzYyMTMyNzcsIDM2LjY4ODU4NjQ0MTI1MjQ0XSwgWzEyNy4xNjI5NzQ3MTExMjk4MiwgMzYuNjg5MDkwNjg1MzU0OTNdLCBbMTI3LjE2NjUwOTk0NTEzMjQsIDM2LjY3NTQ0MTA0MTc1MDldLCBbMTI3LjE1Njg3NjA2ODExMTUyLCAzNi42NjE5NjM2MzM0ODU3N10sIFsxMjcuMTU5OTQ3MDMyMzgzNywgMzYuNjMyNjYzNzAxMDEwMzRdLCBbMTI3LjE1NzcwMjA0OTEzMTEyLCAzNi42MDMyMzI4NTEwNjAwMTRdLCBbMTI3LjE4MzkwMDIyMjc0MTg1LCAzNi41OTI1MDM1OTQzMTQwN10sIFsxMjcuMTk1MTMzNzQzNTE0NTUsIDM2LjU3Nzg0MzY3MzM0MDEyNl0sIFsxMjcuMTk1ODk3OTIwMTg5NjUsIDM2LjU2MTg5OTQ2MzU4MDMzXSwgWzEyNy4xNzQ3NzY3MDAzNTUxNSwgMzYuNTMzMjI3MzgyOTIxOTZdLCBbMTI3LjE4MzgzNzc4OTg4ODMyLCAzNi41MTkzMjM0ODAwMDI1NF0sIFsxMjcuMTcyODk4MzEyOTIzNSwgMzYuNTA4OTQ2MTc3MjU4ODNdLCBbMTI3LjIwNjg0Mzg3MDMxODgyLCAzNi40NTYzNjUwMDMyOTk1XSwgWzEyNy4yMDM0OTk0NTgyNDYzNiwgMzYuNDM5MDQ4MTYxOTg3NTddLCBbMTI3LjIyNzc1NTA5MDE4Njk1LCAzNi40MTkzNjUyOTUxODYzN10sIFsxMjcuMjYwMDIyNjg5MjM5MDQsIDM2LjQwNTMwMDk5NDU5MDUyXSwgWzEyNy4yODQ0MzE2MTYwMDkyNiwgMzYuNDExNjA2NjIzOTU0NzddLCBbMTI3LjI4MzEwNDk3MzUwMjkyLCAzNi4zNzE4ODM1NjczMzM2MjZdLCBbMTI3LjI3MzExMzg0MTY1OTYyLCAzNi4zNTgzMzU5NjgwNTA3XSwgWzEyNy4yODAwMDQ0NDA2ODk0OCwgMzYuMzQ1OTk1ODM1NjkzMDNdLCBbMTI3LjI2MTg0MDI1NDI2NDMzLCAzNi4zMjQyNzEwMzIyOTE2NzZdLCBbMTI3LjI2MTMyMzk2NzgxNDUsIDM2LjI5MzI4NzU0MDAzOTIyXSwgWzEyNy4yNTE1NzIyMjk1OTUxOCwgMzYuMjgwNDg0MzU3NjU3MjE1XSwgWzEyNy4yODMxMjE4OTk5NTAzOSwgMzYuMjYyNDYwNDE5NjU1NjhdLCBbMTI3LjI4NDk5OTI0NTk3ODYzLCAzNi4yMzI4MDQ0NDM4NDU0OF0sIFsxMjcuMzE3MzQ4OTQ2MTAyNiwgMzYuMjE4NDExMDA2NTcwOF0sIFsxMjcuMzI1NzQ0OTgzNzQ0OTgsIDM2LjIwMDE2MTY3Mzg1MDkzNl0sIFsxMjcuMzQyNzc4MjIxMzc1OCwgMzYuMTg2MTU5MzYyNTgzNTc0XSwgWzEyNy4zNTUxNDY0NjU0NDgxNiwgMzYuMjA4ODY1ODA2Mzk2NzJdLCBbMTI3LjM2Njg0MDg1NzczMTE5LCAzNi4yMTcwMTUzOTIxMjM3MDZdLCBbMTI3LjM2MjQzNjQ4MTE0NTU0LCAzNi4yNjExMDE2OTk2NTg1Nl0sIFsxMjcuMzc0OTM2MTcyNjYzNTUsIDM2LjI2OTMzMjc1Mzc0MTUxNl0sIFsxMjcuMzkxNTA1MjczNTQzLCAzNi4yNjE5MTU3MzQ3MTU0NjVdLCBbMTI3LjM4ODUxODU2NjYzOTg3LCAzNi4yNDc4MTI0MDQwMTcxXSwgWzEyNy40MDI4MTExMTE5MzA4MywgMzYuMjMwMTU5MTE5OTAwNTA2XSwgWzEyNy40MTA0MDAwMjc2NjI3LCAzNi4yMDk5MjU0NzY3NTE5M10sIFsxMjcuNDQ0OTM4MTc5MDE0MjMsIDM2LjE5MTEwMjc4Nzc3MzYyXSwgWzEyNy40NzA2Nzg5ODMxMjQ2NCwgMzYuMjExODQzNjM1NTc3NjY1XSwgWzEyNy40Njk2NTIxMDUxMDE2NCwgMzYuMjIwMjk3NzgyOTAzMjddLCBbMTI3LjQ5NDg5ODg5MDYyNTk2LCAzNi4yMzUxNDAyMzQ0MTk3OF0sIFsxMjcuNTIwMzMxODQzMTIxOTEsIDM2LjIzNzc0MDQ1NTUwOTM3NV0sIFsxMjcuNTMzMjY2Nzc2MDIxNjUsIDM2LjI0NTkyNTc1MTgyNDU2XSwgWzEyNy41NTEzNzA2NDYxNTkxNywgMzYuMjM2Mzg1NDU5NzMxMjFdLCBbMTI3LjU4MTI4MDAzOTQ0NzUsIDM2LjIzMDEwNDM1MzQ1NTEwNF0sIFsxMjcuNTk5OTQwMTMxODM0NzMsIDM2LjIxNDQ1Nzk4OTk5NzQ1Nl0sIFsxMjcuNTk0OTgxMzU0OTg1NzYsIDM2LjE5MjE5Njk2NDY2MDc1XSwgWzEyNy42MDM4ODExNzE3Mzk4MywgMzYuMTU4NjI1ODIzOTkzOTE2XSwgWzEyNy41OTIzNDQ0MDYwOTc0LCAzNi4xMzA4NjUzMjA0NzU2M10sIFsxMjcuNjIwMDQwOTQ1MDA1NTcsIDM2LjEwMjE1MDUxNTEyNzczXSwgWzEyNy42MjAzMDAxMzMxOTEzMiwgMzYuMDkwNzE3MDQ4NTg3NzhdLCBbMTI3LjYzOTkwMDg0MzExNzc5LCAzNi4wNjUzODcwNTU0NDI4NTVdLCBbMTI3LjYyNjQ4Nzc0NDI5NjU3LCAzNi4wNjM3MzM1NjA3OTMxMV0sIFsxMjcuNjIxMDE3MzUwOTU5MDYsIDM2LjAzODY4ODQxODI3OTg3NV0sIFsxMjcuNjMyODg0NzIwODE3MiwgMzYuMDM3Nzk1NzYwNDU0MDQ2XSwgWzEyNy42MjAyMzYxODUxNDkzNywgMzYuMDA0NTk1NjAyNjMxOTFdLCBbMTI3LjYwMjk2MzgxNzYxNDQ0LCAzNi4wMDk0OTM3MzE3NDU5N10sIFsxMjcuNTkzNTQ4Nzc2NTI1MzcsIDM2LjAyMTY4NjIxMTY1NzQ1XSwgWzEyNy41NDAwNTY0MzY0NjM2MywgMzYuMDI5OTk4ODU4ODQ3MzldLCBbMTI3LjU0MjMxNjA3NDg4NjM3LCAzNi4wMDg3NTYyODczMzcxNl0sIFsxMjcuNTM1ODAzNDE1Njk1MDYsIDM1Ljk4OTEyNjgxOTM4MTQ5XSwgWzEyNy41MDc5NDkxNTk2OTg0MSwgMzUuOTc3Mzc0MDk3ODIxNjVdLCBbMTI3LjQ4OTczNzk2NTE2ODA4LCAzNS45NzUwMzM4MjUzNDc1Nl0sIFsxMjcuNDcwMzUyNzgyMTgzNzQsIDM1Ljk4NDc2MzgwMDg0ODU1NV0sIFsxMjcuNDU4MTAzODA3NDQ1NzIsIDM1Ljk4MDgwMzM5MTU5OTM0XSwgWzEyNy40NDY3MDgyNTg4NDYxLCAzNi4wMDM4NjgxMDgxMzg1OV0sIFsxMjcuNDI4MzkyMTk1ODg5NzcsIDM2LjAyMzQ5MTE0NTAyMDY2NF0sIFsxMjcuNDAzMjY4OTgzNDA4MDgsIDM2LjAwNDkyMjg0OTYwNjUxXSwgWzEyNy4zNzY1MDA2NTExMjE2NSwgMzYuMDMxMjkwNTk5OTUyNjRdLCBbMTI3LjM2MzI2MzE5Njg0MjA4LCAzNi4wNTAzMzM5OTExMjU5NDZdLCBbMTI3LjM2MjEyMjIyNzg5MjI0LCAzNi4wODY1MzkyNDY3Mjg0OV0sIFsxMjcuMzU3MDkyODg1ODUxOSwgMzYuMTA1MzQ0MjczMTM1MTddLCBbMTI3LjM0MDYwMDc5MTgyMTk2LCAzNi4xMjc1Mjk5NjgwNTU4NDZdLCBbMTI3LjMwODI5NDMxNzgzNDIyLCAzNi4xMjI4MzQ0MTMwMTMyOV0sIFsxMjcuMjk2NTg1OTIwNzMwMzUsIDM2LjExMDAwMTQ1NTU2NjRdLCBbMTI3LjI3NTQ0MzY2MTM1NTQ4LCAzNi4xMDQ2MTg3NjgxNDY1OTRdLCBbMTI3LjI1MzYzNjUxMzc0NzUxLCAzNi4xMDk4ODMwMDU0MDQzMDZdLCBbMTI3LjI0ODM2ODA2OTMyNjU5LCAzNi4wOTE4MjY4MzgyNTcwNTZdLCBbMTI3LjIwNjgzODU4NjI3MzksIDM2LjA5NzQxOTM0MjQ2NjY2NV0sIFsxMjcuMjAxNjc0MDk1MDc0MzEsIDM2LjA4MzEyODk1MTU2NzgxXSwgWzEyNy4xODE0NDkzODczNDk3MiwgMzYuMDkxMTk2MDE0MjI3OTI2XSwgWzEyNy4xNzA3ODgxMzY3MDYyMSwgMzYuMDgwOTY5OTQ2NjM0MDZdLCBbMTI3LjEzOTI2NDQ1MTg5MDcxLCAzNi4wODM4ODEyMTc1OTQxMV0sIFsxMjcuMTM1ODAyMTYxODkxMTYsIDM2LjA2NjcxMzYwMTI2NTU1NV0sIFsxMjcuMDgzNjk3MDAxMTM3NywgMzYuMDc0OTU0NzI2NjcwMjNdLCBbMTI3LjA2MzQ5MjE3NTE5MTQ0LCAzNi4wOTA1MjExMjI3NjY0N10sIFsxMjcuMDUxODU1ODc5NDI1MTksIDM2LjEzOTQwODI2MjYwODAyXSwgWzEyNy4wMjU3NTEyMzIyODk4NCwgMzYuMTMzNTk0NzYwMTk5MTZdLCBbMTI3LjAwNTUzNjg2MjI4ODIsIDM2LjE0NjE3ODYxNjI3MDkyXSwgWzEyNi45OTIyNjk0MjA3ODc4OSwgMzYuMTQyMDM1MjU2OTgwNzddLCBbMTI2Ljk1OTA2MTgyMDMzODE5LCAzNi4xNTM0NjEzNTQ3NDMxMl0sIFsxMjYuOTI1NDc1MjM4OTI1NzcsIDM2LjEzNjM3MjE3OTY5NTAyXSwgWzEyNi44OTQzOTg2NjI1ODQ1NCwgMzYuMTM3NzY4NDY5MjYxNDRdLCBbMTI2Ljg3NTM1NjEzNTU0NDQ1LCAzNi4xMDk5NjkwNzE5Mjg4OV0sIFsxMjYuODc2OTc2ODI0NTE4NiwgMzYuMDg4NTM4NjY2NTg3NzRdLCBbMTI2Ljg2NTY1ODg2NTk2MzU0LCAzNi4wNTc2MDA5MDEzMzYwMl0sIFsxMjYuODMxNzc2NzY4MzY5MTEsIDM2LjA0MzkzMzU4NDEyODY0NV0sIFsxMjYuODEyMTY1Njk4NjU2NzMsIDM2LjAzMDk5Mzk1ODg1ODc0NF0sIFsxMjYuNzc3MzM3Mzc5ODUwMSwgMzYuMDI4NjY1ODM2MTQzNThdLCBbMTI2Ljc1MDc0NzYwMDE3MzExLCAzNi4wMjA1NzExMDM4MjIwMTRdLCBbMTI2LjczNjg2NTM0MjM0MzQ0LCAzNS45OTc4NzYxNjc0ODUxXSwgWzEyNi42NjI2Njg0MzMwMjc0LCAzNi4wMDc5NTA1NDMwNDUyM10sIFsxMjYuNjY5NTAzNjk0NjU1NTIsIDM2LjAyODY4NDA4ODQ3N10sIFsxMjYuNjQ2MTYwMDM3MTk0OTIsIDM2LjA1MjY2OTE1NDY1NTI1Nl0sIFsxMjYuNjM0NDEwMzA4MjY1OSwgMzYuMDUyNzcxMDY4MTM1NzFdLCBbMTI2LjYzNTQ0ODYwNzg2NTc1LCAzNi4wODk5OTk2MTIxMzcwOV0sIFsxMjYuNjA4MTczNDc3OTQyNCwgMzYuMTA2Mjk4MDk5MDg1NTldLCBbMTI2LjU3ODYwNTAzMDcyNzA4LCAzNi4xMzU0NTI3OTk5OTkxMl0sIFsxMjYuNTYxNjEwODMwMTI2MjcsIDM2LjEyNjgyNjIxNDQzMjc2XSwgWzEyNi41Mzk2Mzc1MDIxMDAzOCwgMzYuMTQ1MTQ3ODAxMTkxM10sIFsxMjYuNTE0NDY5NDIzOTc3NjIsIDM2LjE0ODU0NzkzNzgwNzgyXSwgWzEyNi41MjYwOTg5NTE2MDM4MywgMzYuMTgyNDI4MDEzMDMyNF0sIFsxMjYuNTQ0NzU1NDc2MjMwNiwgMzYuMTk0MDk3MTE2NTg2XSwgWzEyNi41MzE2MDMyMDE5NjM5OSwgMzYuMjE4NjIyMjQxMTQxODE2XSwgWzEyNi41MzIzOTIyMzU0Mzk0LCAzNi4yMzYzODA2ODIyMDU4NzZdLCBbMTI2LjU0ODg2MDQ3Mzc3ODcyLCAzNi4yNjA1NTExMTEyNTg4XSwgWzEyNi41Mjk1Mjc1MTY2NDQ1NSwgMzYuMjkzOTQwMzU1NDQ0Nl0sIFsxMjYuNTE5NTI4Mzc5MDg4NiwgMzYuMjk3NDgzMjAzNzkxMzZdLCBbMTI2LjUwNDg0MjIwMTM4MjczLCAzNi4zMjE3OTUwMzQ3NjY1OV0sIFsxMjYuNTUzNzE1NTcxNDM2ODUsIDM2LjM0NTA4NzQxMDIzODA0XSwgWzEyNi41MTExNTE0ODM3MjM0MiwgMzYuMzc3Mjk0NzAzNzA3MzhdLCBbMTI2LjQ4MjM0NjIwOTk2NTkxLCAzNi4zODAwNjMxNzQ2NTg4M10sIFsxMjYuNDg5ODk5NjczNzM3ODcsIDM2LjQwOTYxMDEyMjkxODA3NV0sIFsxMjYuNDk5MDEyMzMzODY4NzMsIDM2LjQyNDA4MTQxNTMwODU0XSwgWzEyNi40ODQ1NDIxNTI4NzA5NiwgMzYuNDQ5ODA0NTk5MDQ4Mjg1XSwgWzEyNi40NzU0NjY1ODIwMDY3NiwgMzYuNTAwMzM3NDYwNjc0MTZdLCBbMTI2LjQ4NjU1MTk1NzIzNDMxLCAzNi41MTI5MDM2NDYzOTE0Ml0sIFsxMjYuNDY0MTg0MDU3ODAxNjIsIDM2LjUzNTcyMDcwMDk5NDEzXSwgWzEyNi40NDg4NjcwMzY1NzI3MSwgMzYuNTgyNTc2MDQyMDk4MjFdLCBbMTI2LjQ1MzM3NzU0NTQxMTU4LCAzNi41OTM2MDQ1ODY1NjEyXSwgWzEyNi40NzgyOTk5MTcwMDAyNiwgMzYuNjAyNzMwNTc2MDE1Nzk0XSwgWzEyNi40NzU4NzU2OTg0MDg5NCwgMzYuNjE0MzEzMDM2NDA1MDRdLCBbMTI2LjQ1ODgxMTk4OTI2OTM1LCAzNi42MjMzODYwMjk4NDYyN10sIFsxMjYuNDY5OTM5MDE4NDM4NTIsIDM2LjY1MTA1Mzk5MjgxMjkzXSwgWzEyNi40NjMzMjQ2MjE3NzcxNSwgMzYuNjYxNjcyOTYzMDIyNzldLCBbMTI2LjQ0MzkwMTYxNTQ3Mzc5LCAzNi42NjQxNDkzMjQyNjg3NF0sIFsxMjYuNDQ2MTkwNTUxMjA5NTEsIDM2LjY0MTMyMzcyMjQ4NTA0XSwgWzEyNi40MjU5MjU5NDk2ODA5LCAzNi41OTczNzA0MTI1NzI5ODVdLCBbMTI2LjQxMjc1NzY4MzgxODg0LCAzNi41OTk2NjU0NTg3MTA5NjZdLCBbMTI2LjM5Njc2MzI5ODU4MzUxLCAzNi42MTU0ODkyNDQ0MjMxNDVdLCBbMTI2LjM2NjUwMjA0NzE1MTU4LCAzNi42MjM5NTAyMzU0NDM2NjVdLCBbMTI2LjM2Mjk0NTk2NzAxMjgsIDM2LjY2NjIwMjE2NDIwMTM0XSwgWzEyNi4zNDI1OTE0NzQ4NDI2NiwgMzYuNjY1MjkyMzU1MjA4M10sIFsxMjYuMzQ5MTUxNDg1OTY5MTksIDM2LjYzNjM2NzQ1NDA3NjcyXSwgWzEyNi4zNTc2MTE0MDg3NjIwNSwgMzYuNjIzNTQ5NTM0MDgzNTddLCBbMTI2LjMyMjM1NDM5NTkxMDcsIDM2LjU5Mzc4ODAzMTUzNjYzXSwgWzEyNi4yOTQ1MjA1NDUzNjE3MywgMzYuNTgwODM3ODA5ODUxNjk0XSwgWzEyNi4yODM5MTAyMzg5MTg3OSwgMzYuNTkyOTE0ODUwNDMzMDA0XSwgWzEyNi4yODY5MDI4MTE3ODkxMiwgMzYuNjE1NDQ1MjkxMjIxNDA1XSwgWzEyNi4yOTgzNjU5NTg4NTA3MSwgMzYuNjI2NjYyNzg4NTA5NTFdLCBbMTI2LjI4NzM4NDQ0MDkzODIsIDM2LjY2MDU4MDM2ODQ5MDM3XSwgWzEyNi4yNjUyNjMyMTYwOTEyNCwgMzYuNjcwOTYxMTA3MDI5MzNdLCBbMTI2LjI2MzUxMTcxODQzNzMzLCAzNi42OTQwMDY0NDkzODM4Ml0sIFsxMjYuMjc0MzM5Mjg3ODcxODcsIDM2LjcwMjQzMjQyMDYzMTc2Nl0sIFsxMjYuMjcyNTg3MjQ5MzcwOTQsIDM2LjcyMjkwMjA0MzA1NzYzXSwgWzEyNi4yNTU0MjY2MDc0MDQxMywgMzYuNzE0NjcxMjA0MDUwMTRdLCBbMTI2LjIzMTEwMzg1MTQyMTIyLCAzNi42ODk3ODI4MzIwNDUxNTRdLCBbMTI2LjIxMzgzMjIwODkzNTY0LCAzNi42ODk1MTM4ODYxNjcwMV0sIFsxMjYuMTk5MzgyMDUyNzQ3MjcsIDM2LjY3MTYxMDA3MTIxMzc1XSwgWzEyNi4xNzQ4NzM0NDkxNzk3MSwgMzYuNjc1Mjc3MDc1NjkxMTldLCBbMTI2LjEzMjQzMzA0Njc5NTU0LCAzNi42NjUzNzA3MzQ4OTE2Nl0sIFsxMjYuMTMxODE1NTA5MTI1ODksIDM2LjY4NTA3ODc5MjMyNjI0XSwgWzEyNi4xNDg3NTUzNDI3Mjc3NSwgMzYuNjg0MDAyOTIwNjM1MzY1XSwgWzEyNi4xNDgxMDczNDQ4MDc0LCAzNi43MDA4Mzg1MzAxMzUxNl0sIFsxMjYuMTczMjI5MzQ5MzUzMzgsIDM2LjcxNTU4MTI2NDg4NDk5XSwgWzEyNi4yMDk3MjA2MTc0NTgsIDM2LjcwMzI3Mzc5NjA1MjUxXSwgWzEyNi4yMjMxNTQ2NDIyNzA3NCwgMzYuNzE5MDUwMTUyNDE5NjVdLCBbMTI2LjIwNDgwODgwODQ0OTgxLCAzNi43MjM1MzI4MjQzNDI1NV0sIFsxMjYuMTg2NjcxMDQwNTAxMDgsIDM2Ljc1MDA0OTYzMDU3MDU0XSwgWzEyNi4xNjY4MjgxMTU3NDA3LCAzNi43NTQ2MjczMzM1ODUyMDVdLCBbMTI2LjE0OTMyNTQyMzAwMDM2LCAzNi43NDc3MTc0MDExOTQwNF0sIFsxMjYuMTU0MTkwMzc1NzE2ODUsIDM2LjcyNzU4Njk0NzEwNjYxXSwgWzEyNi4xMzc3ODc5MzQ5NTIwNiwgMzYuNzE1NTQxMzA1NTE3NDJdLCBbMTI2LjEyNDA2MDI2NjQ3NTk1LCAzNi43MjM5NDkxMDk3NjcwNTVdLCBbMTI2LjEzNTUzOTQ0ODA0MDI5LCAzNi43Mzc4Njg1NDkxODE2MV0sIFsxMjYuMTAzNTQ3MDgxODExNjMsIDM2Ljc3MDM5MDUyNTgxMjIzXSwgWzEyNi4xMzExOTk4ODE3MDYsIDM2Ljc3MTgxNDA4MzE1OTA0XSwgWzEyNi4xNDQxNzIwMDY4MTE5MywgMzYuNzg2MTgzNDUwNDczMDhdLCBbMTI2LjE2MDM3MTEyODM1NjEsIDM2LjgyMzEzNzI5Nzg4MTRdLCBbMTI2LjE0NzU0MjEwNDIzOTU5LCAzNi44MzY0NzQwNjY5OTIyMl0sIFsxMjYuMTY1MTk3MDQ0NTQ4MzUsIDM2Ljg0NDMzMTg2Mjk5ODIyNF0sIFsxMjYuMTc3MjkxMTUwMTM0NiwgMzYuODMyOTcxNTI5NzUxMjM0XSwgWzEyNi4xOTU0MTUxMTI2MzkxMSwgMzYuODQ2NDQ5NDgzNjM3MDVdLCBbMTI2LjE5MDMwNDAwMTU2NjQsIDM2Ljg2NTAxMjA4NzgyOTg1NF0sIFsxMjYuMjEwNjk2ODUwMTA0MDEsIDM2Ljg5NzUyNjYyOTEwMjA2XSwgWzEyNi4yNTA3Nzk5ODIzMzI1NSwgMzYuOTA4NTIwOTE3MDg1MDU2XSwgWzEyNi4yNDM4NzMyMDY2Mzc2NCwgMzYuODg1NjU3MzQ2OTU3NDQ0XSwgWzEyNi4yMjI5MzMwNjAxNjI5MiwgMzYuODc3ODIyMDY4Nzk4MzVdLCBbMTI2LjI0NDI0MzgzMjc4MjU5LCAzNi44NjEwMTg3NTk4OTQ4NV0sIFsxMjYuMjU0NzIwNTAyODIzMzcsIDM2Ljg3NjU2OTYzNzk2Njk0NV0sIFsxMjYuMjcxNzA0MzYwOTEzODMsIDM2Ljg4MDU0ODE1Mjc1MjQyXSwgWzEyNi4yODYwMDU4OTI1MTk0LCAzNi45MDAzMTUyNjczMDA4Ml0sIFsxMjYuMjk1MTA4MjMxMDExODUsIDM2LjkyNjgwMjkxNTAzNjc5NV0sIFsxMjYuMjg2MjA1NjQ4MzA1ODEsIDM2Ljk2MTQzODI4MDAwOTg3XSwgWzEyNi4zMTA0NTg4MTMwMDgzMSwgMzYuOTcxMTIwMTc4NDYyNTNdLCBbMTI2LjMxNTc3NDcyNzA5MDQ0LCAzNi45NTE5NDgwNTMyMjAxN10sIFsxMjYuMzA0ODA0OTk4NDczOTQsIDM2Ljk0MTI5NDIyMzk2ODk0Nl0sIFsxMjYuMzA0MTU1OTAxNTY5NzMsIDM2LjkxODk4ODk3Mzg4NDM2XSwgWzEyNi4zMjE5NTQzODAwNzczLCAzNi45MDI2OTgwMDI1NDkyODZdLCBbMTI2LjMyMjU2NDEyMzQwODM0LCAzNi44ODkyMTUxMDc2MDc3NTRdLCBbMTI2LjI5NjUwMjAzOTYyNDc0LCAzNi44NDAwOTEyMzYyMzExMjVdLCBbMTI2LjMxOTA4MDQyNjE5MDExLCAzNi44MzYwMDg1MTg4MzMwMjZdLCBbMTI2LjI4Mjk5NDg4OTE3NjksIDM2LjgxNTA2MDA3NDAwNDc1XSwgWzEyNi4yOTkxNTU1OTk2MjcyMywgMzYuODA1ODk2MjU5MTU1MDg0XSwgWzEyNi4zMzk4MzAwMDg3MDUsIDM2LjgxNDkwNDIwMzA3OTk3XSwgWzEyNi4zMjMyNTYyNjEwODQxOCwgMzYuODM0NTU3MzM1MTU1NDI0XSwgWzEyNi4zMjY0NDQwNjkzNTcsIDM2Ljg1MzYzODk0NTIzNjIzNF0sIFsxMjYuMzQ0MDA1NDM5ODE1NTksIDM2Ljg0NTY1NTA4NTY4MjEwNF0sIFsxMjYuMzY1MzMzNjYwOTk3OSwgMzYuODQ3ODg2MDczNDkxNjNdLCBbMTI2LjM3MzQwNzc4MjMxODc4LCAzNi44NjE2NDczOTQxNzcxM10sIFsxMjYuMzY1NzY1MTk5MzY1NjcsIDM2Ljg3Mzg5MTQ4NjAwMzExXSwgWzEyNi4zOTc0MTg1NDYwNDQyNCwgMzYuODkwMTQ1NjAwNDg1NjQ2XSwgWzEyNi40MTE1ODE5MTk2MzM2OSwgMzYuOTA0NTgzNDMzODc3MzU2XSwgWzEyNi4zODI3MjE4MTEwNTkzMywgMzYuOTQxMTMyMTU4ODE3NTI0XSwgWzEyNi4zMzYwNDQwMzAyODA4LCAzNi45NTY4NzUyODA3MDI1N10sIFsxMjYuMzQwNTIzOTUwNzIxNzUsIDM2Ljk3MjE3MTQ3NTg5NDQwNl0sIFsxMjYuMzI3NTI1MDM1MzEwNTYsIDM2Ljk5MDczODgyMTc1MTJdLCBbMTI2LjM3NzM5NzU1OTI2NTksIDM3LjAwOTEzMjc5OTg1MDc1XSwgWzEyNi40Mjc3NTIxOTY1NjQ2NSwgMzcuMDEyMDEzMjYyODYwMzVdLCBbMTI2LjQ1MjYzNzIyNTY4Mjc0LCAzNy4wMDMxNjI5NTY4MzY1Nl0sIFsxMjYuNDgwMDI5MTk4NDgwMjgsIDM2Ljk2NTg3Mzg0NjI0MjAwNV0sIFsxMjYuNDg4NjUxOTc2NTM2OTYsIDM2Ljk3OTk0ODY3MzkzODY4XSwgWzEyNi40NTU2MDUwMjcxNzA2OSwgMzcuMDIyNzQ0NjM2MzIyODhdLCBbMTI2LjUwMDM1NDAwMTgwNzkyLCAzNy4wNjI0MjEzNzYyMDIxXSwgWzEyNi41MjE1ODc5NzU2MTAxNywgMzcuMDU2NTQxNzc0MTk0NDJdLCBbMTI2LjUzMTEwODEyODY3NTIxLCAzNy4wNDA4NTM1OTk5OTA2MDVdLCBbMTI2LjYwMDEzNTIxMjA1OTgzLCAzNy4wMTM5NjAyOTU1OTQ1MTVdLCBbMTI2LjY0MTYzOTkyMjY4NTE0LCAzNi45OTUyMzAzNjY2MTgxNV0sIFsxMjYuNzA2NjkxNjU2NzE4NDksIDM2Ljk5NjY4ODQ5MTQ5Nzc4NV0sIFsxMjYuNzIwNjUyMzMwMDg1MzksIDM2Ljk5MDE5NzQyNDg2NDQ4XSwgWzEyNi43ODI3MjQzOTUwMzMzNiwgMzYuOTczNjM2MTEzNjI2MTU2XSwgWzEyNi43ODI0MTM4ODMxNzIzMiwgMzYuOTY0NjQ5MzUwMTUxMDFdLCBbMTI2LjgwNDI2NDM0NDQ2NzE3LCAzNi45MjE2MzQ2MDkyODk1N10sIFsxMjYuODE0NDI4OTY1NzcwNTIsIDM2LjkyMjI4OTg4Nzc2ODQ4Nl0sIFsxMjYuODE4NjgwODAwNjg5OSwgMzYuODkzODE4MzUwODg5NTVdLCBbMTI2LjgyODU1NDQ4MDMwNTUsIDM2Ljg4Mzc3MTY5NDI0NTc0XSwgWzEyNi44MzM4NzYyNjc3NjU4OSwgMzYuODU5MDgwNjcxMDM3MjFdLCBbMTI2Ljg0OTk3OTA5NzIzNzI0LCAzNi44NzQ1NzA0MTE1ODc1M10sIFsxMjYuODgyNzI4NzE5OTA3NTUsIDM2Ljg4NTE4NTU0Mzk1MjYxXSwgWzEyNi45MTM5OTA5OTM5NzEzNywgMzYuODg3NTM5MjUzNjQyNDldLCBbMTI2LjkxMDgzNjY3OTI3MiwgMzYuOTAyMDgxNTYzNTkzMjZdXV1dLCAidHlwZSI6ICJNdWx0aVBvbHlnb24ifSwgInByb3BlcnRpZXMiOiB7ImJhc2VfeWVhciI6ICIyMDEzIiwgImNvZGUiOiAiMzQiLCAibmFtZSI6ICJcdWNkYTlcdWNjYWRcdWIwYThcdWIzYzQiLCAibmFtZV9lbmciOiAiQ2h1bmdjaGVvbmduYW0tZG8ifSwgInR5cGUiOiAiRmVhdHVyZSJ9LCB7Imdlb21ldHJ5IjogeyJjb29yZGluYXRlcyI6IFtbWzEyOC42NTQ0NzI5OTkyNzQyNSwgMzcuMDYyNTkxMzQzNjMzMzY1XSwgWzEyOC42MzI3NTE1Njg5MTU3LCAzNy4wMzYwODgxMTA1NzE2OF0sIFsxMjguNTg2MDk3NDMwOTY3NTgsIDM3LjA0MTAyNDI3MDU2ODcwNV0sIFsxMjguNTY3NDkzNTQ2MDQ4MzMsIDM3LjAyODYyMzA0MTExMzcyNV0sIFsxMjguNTczNTQ0ODIyNTYxNywgMzcuMDEzMTExNzgwNTY3MDZdLCBbMTI4LjU0Njc5NTYzOTAyMjIsIDM2Ljk4OTcyMzcwMDAyMTI4XSwgWzEyOC41MTY3ODk5ODcxMjkwMiwgMzYuOTgzOTY3MDM0OTM0NDk0XSwgWzEyOC41MTU3ODU3NTM1MzAyLCAzNi45NzM4MTEyNzI5ODc1NzVdLCBbMTI4LjQ2NTQ2OTg2NzE3Mjg2LCAzNi45NDQ1NzM0MzM4NTAwNDZdLCBbMTI4LjQ2MjE1MjYwNzI0NzUzLCAzNi45MzE1MDY1MzM3MjY0OV0sIFsxMjguNDQ0MDkzMzIxMTI4ODYsIDM2LjkyNTAyMDU2NDMwNjg4XSwgWzEyOC40NDI2MDQ0NDQwMDQ0NCwgMzYuODk4OTk3ODk0OTgxMDldLCBbMTI4LjQyNjU0NTk1MDc5OTcyLCAzNi44NzM1NzgyOTI1NjExMzVdLCBbMTI4LjQ1MDM0OTQ5NTUxODE0LCAzNi44NjE2MDQzNTEwMTUzNl0sIFsxMjguNDUxMzM5NTE5ODI1NCwgMzYuODQ2MDgwOTI5NTM0MDddLCBbMTI4LjQyMjg2NzgzODc0OTgsIDM2LjgwODUyMzY4Mjg3NDI1XSwgWzEyOC4zODQwNDE1OTI0MTIsIDM2LjgxMTA4Njg0NzUyODY4NV0sIFsxMjguMzY5MjA3MjMyMTk2ODMsIDM2Ljc5NzYxNjQ1NTA4MzIxNV0sIFsxMjguMzM2NDQyOTU3MDgxNiwgMzYuODE0MDc1Mzk1NTI4ODZdLCBbMTI4LjMyMzMzMjg0MDg3NjA1LCAzNi44MTIzMjk4ODM0Nzk3NF0sIFsxMjguMjk4ODM4MjQ3MDcwMjgsIDM2LjgzMTU0ODk0NDk5NjM2XSwgWzEyOC4yODQ5MTE0Nzg4ODg3MiwgMzYuODUzODk2OTU5NDE1OTVdLCBbMTI4LjI0NDEyNjQ3NTIwNzMsIDM2Ljg2OTkxMDMxMTU4MTgyNl0sIFsxMjguMjM1ODI5ODY4MjUzOCwgMzYuODQ0NzY0MTYzNjQ0NjhdLCBbMTI4LjIxNTk0NzE2NDU2NzMyLCAzNi44NDU2OTE5MDE1ODc1Nl0sIFsxMjguMjIwNTkyNTMxMTYyNTcsIDM2LjgxMTg2OTQyMzU3OTQ2Nl0sIFsxMjguMTY3NDA1MzYxNTk2MDIsIDM2LjgxNzEyODQ3NTM4NDAxXSwgWzEyOC4xNDE3ODUwNDg2Njg2OCwgMzYuODMxMzU0NjcyNDE2MV0sIFsxMjguMTE0NDI3NTgwNDk4MjQsIDM2LjgxNjAwMTkwMDUwNDQ5XSwgWzEyOC4xMDg5NzgxODIwODMzOCwgMzYuODAyODk5NzI4NjcwNzQ1XSwgWzEyOC4wODY0MTYxMDEzNzAzMywgMzYuODAxMTUwNTA3NjA1ODI2XSwgWzEyOC4wNjA4ODAwODE5Nzg4LCAzNi44MTMyMTQ5NjQyNjA3M10sIFsxMjguMDU3MzEwNTE3Mjg3MiwgMzYuNzkwMjkwMDUxNDIxNjFdLCBbMTI4LjAzNDY2MzkzMDAwNzc1LCAzNi43NDQ2MjYzMzEwOTY3OF0sIFsxMjguMDcxMTQwNTEwNDcwODUsIDM2LjcxODc2NTQ1OTc3NDI1NF0sIFsxMjguMDczNTE0Mjk1NTczNTcsIDM2LjcwNDM5MDkxNTg2OTgzXSwgWzEyOC4wNTAzMDgzNjg2MjQ0OCwgMzYuNzA1NDg2NzEyNzk2OTc2XSwgWzEyOC4wMjQ0MDc2MzgxMzkyOCwgMzYuNzIyOTcyNDk4MDg1MjJdLCBbMTI4LjAwNDgwMDg3ODMzMDg1LCAzNi43MTM3MzA1NDQ0NTk4MzVdLCBbMTI3Ljk4ODk4MjIzODcyNDIzLCAzNi43MTQ1OTgyMzIzNTQ5Ml0sIFsxMjcuOTYzNDc4MzExNjUwMDEsIDM2LjczNDEwMjI1NjgwNzAwNl0sIFsxMjcuOTUwNTI1Mjk1OTU1NywgMzYuNzE1MzM0NzI5NjQzNTJdLCBbMTI3LjkzMzg0NDE0NDI3MjQxLCAzNi43MDM0MjMzODk0OTQ1OF0sIFsxMjcuOTMzNzQyNzQ4Njk2NzksIDM2LjY5MDQ2MDg0MjUzMTY3XSwgWzEyNy44ODk1MjUxNDUyMDA0NSwgMzYuNjg4NDA3MzUyMTA1MDc0XSwgWzEyNy45MzQ0OTYzMTE0NzcyMiwgMzYuNjYyMjQ1OTEyNDk0NjNdLCBbMTI3Ljk0MDU3NzI1ODk1OTQ0LCAzNi42NDgxNzI0ODU3NzI2OF0sIFsxMjcuOTMzODE1NzM0OTEzMzQsIDM2LjYxNTAyNTAzODc3NDMyXSwgWzEyNy44OTE1ODYxNDEzMDc5LCAzNi42MjY1NTAwMTc0NTI5OV0sIFsxMjcuODc2MjQyODcwNDQxMzksIDM2LjY1MjQ3ODcxMjg3NTY1Nl0sIFsxMjcuODY0ODY4ODIwNDc1NzgsIDM2LjYzMTk0ODc5ODQwMDczNV0sIFsxMjcuODUwMTc0MjM1MzI2MDIsIDM2LjYzMDQ1Mjg4MTM1MjA1Nl0sIFsxMjcuODUxNzgwNzQ0NjMwNSwgMzYuNjA5ODU1NjE2ODc2MzJdLCBbMTI3LjgyNTk1MzczNTI5MzUsIDM2LjYwOTYzOTcwNzMzMDJdLCBbMTI3Ljc5OTc1NzM1NzUzNTU1LCAzNi41ODg0ODIwOTA0OTc0Ml0sIFsxMjcuODI2MjEyOTUxNTcxNzYsIDM2LjU2ODA4MzIzNTQ5OTYzXSwgWzEyNy44NjM2MjYzMjk1ODEwNSwgMzYuNTY1Mzk1NTYwMjA3ODA0XSwgWzEyNy44NzU1MzE4MzQ2MTU4NCwgMzYuNTUyMzM5OTY2NTAxMDNdLCBbMTI3Ljg3NTU2NDYzMDMyNTE2LCAzNi41MzUzODQ0NTYwMTQ2NTRdLCBbMTI3LjkwMjgxMTAyMjQ2NDY1LCAzNi41MjE3OTgwNDExMDldLCBbMTI3LjkwODg5NDA0ODQ3MTg0LCAzNi41MDQ5MjI4NDk1MDk3N10sIFsxMjcuODgyODQ3NjAwMDA3MzgsIDM2LjQ3Nzc5MDczNDc1ODcyXSwgWzEyNy44ODQ1NzI5NzU4ODUzNiwgMzYuNDU4MDcwMTI0MjYyNjI2XSwgWzEyNy44NzUzNTE3NTQ5OTM2MywgMzYuNDM0NDg5NTc2Mjg1MjE2XSwgWzEyNy44ODQ4MDc3NDE5Mjk3NiwgMzYuNDE4ODA3NjMzNTEyODA2XSwgWzEyNy44NzUyOTIyNDEzMjAzMSwgMzYuNDAyOTM4ODg1NjMxNjhdLCBbMTI3Ljg5MzIyMjM0NDY5ODA5LCAzNi4zNTQ0NDI5MjAzMDgxNF0sIFsxMjcuODgzNjE0ODQ0MTQ3MjUsIDM2LjM0MTkyMjYwMTQ2OTMxNF0sIFsxMjcuODU0MjUyMzY3NTQ0NDIsIDM2LjMyNzQ1MzQ4MTM5MDVdLCBbMTI3Ljg0MzIzOTkzMjg4NDg3LCAzNi4zMDY2NzU4Njc1MjEwN10sIFsxMjcuODUzNDc3OTM3OTYyNzcsIDM2LjI3Mjc4OTQ2NDMyMjY1XSwgWzEyNy44ODE5MzYzNDkwOTg1LCAzNi4yNzIwMzMwNTcwMTUwMTVdLCBbMTI3Ljg5NDIxMDgzNjA0ODA3LCAzNi4yODkyMjE1MDQxNTcyMjZdLCBbMTI3LjkzMzA4Njk5MzY1MjU4LCAzNi4yNzUyNjUyMzE3MDMwMl0sIFsxMjcuOTUxMzYyNTI4MTkzMTksIDM2LjI1MzY0NTM5ODg0MjA5XSwgWzEyNy45Njk5ODYyNjIyOTIxOCwgMzYuMjQ3Njk2OTkyNzAzMjVdLCBbMTI3Ljk4NDM0Nzc5NDMzMzIyLCAzNi4yNjEyNDUyNDM3ODEwMDVdLCBbMTI4LjAxMjQ2Mzg5Nzc5OTMsIDM2LjI2OTE5NjUxNjI0ODA3XSwgWzEyOC4wNDg5ODQyMTc4Mjg5NywgMzYuMjUzNjgzNDMyMTg2NDU2XSwgWzEyOC4wMzIyMjk3NTQwNTY4MywgMzYuMjM3MzUzMTIxNzUwNzJdLCBbMTI4LjA1MjU1ODM1ODE1NzQsIDM2LjIxMjM0NDIzODA4Mzg5XSwgWzEyOC4wNTQ3MDM3NjA3MDc3OCwgMzYuMTk3OTI5MDE5NTMzNDldLCBbMTI4LjA0MDUzNjE3MjIzNjM2LCAzNi4xOTEwMzg2NzA0NTk2NzZdLCBbMTI4LjAxNTY5NzI1MDg3NDcsIDM2LjIwNjE3NDI2NTc0MjQ3XSwgWzEyNy45ODgxOTQyMjAxNDgzOSwgMzYuMTk3NDQyMjU1MTM5NzVdLCBbMTI3Ljk3NzgxODkwODgzNzEyLCAzNi4xODUxODc4Mjk5NDE0Nl0sIFsxMjcuOTk3ODcxNTc5MzYxOTEsIDM2LjE1MDAzODM0NTA0OTY4XSwgWzEyNy45ODkyMDkwMzU4NTI2NCwgMzYuMTI1NzMxMjc3MzIwMTFdLCBbMTI3Ljk2OTA0NzIzNjU1MDUyLCAzNi4xMTUyODM2ODQ5OTExODRdLCBbMTI3Ljk2MDAwOTk1OTMxNjY4LCAzNi4wOTE5MTcxNTk5MjAxMV0sIFsxMjcuOTYzNTU5OTIxMDY2MDksIDM2LjA2NTQxNDgyMDgxNzgyXSwgWzEyNy45MzgwMzMwMDMyMDQxMSwgMzYuMDQ3Njg3NjI1NTA0NjldLCBbMTI3LjkxODYxNzg0OTY1NTc2LCAzNi4wNTEwNjYwNzI2NTE2Nl0sIFsxMjcuOTA1NzIyNzg0NDMwMzQsIDM2LjAzNTk4OTU2NDA3ODE1XSwgWzEyNy44NzkwOTIwMzU5MzQwNCwgMzYuMDE5NDYzMDgwNjI3NDldLCBbMTI3Ljg1NTU4NDQ0MTU5MzI1LCAzNi4wMzYwNzY2NDMxMjczNl0sIFsxMjcuODAyOTY5ODI5MDA5NiwgMzYuMDIzNTE3MTkyNjUxNDVdLCBbMTI3Ljc5MDAxMDQ5OTQwNTg3LCAzNi4wMTEyNjk3ODI4NTMxN10sIFsxMjcuNzMzMjI3NTc3MTE5NjQsIDM2LjAyOTI3Mjg1NDQ2MzMxNV0sIFsxMjcuNzA3OTgwMDk1MDk2MjIsIDM2LjAzMDA4NDQ1MjA5NTIyNF0sIFsxMjcuNjk4ODc3OTQ0OTE4NTEsIDM2LjA1MzI0MTExMTE2NTIzXSwgWzEyNy42ODcwMTA0NjI3NTQyLCAzNi4wNTg2MjQ4NDQ2NzA3NV0sIFsxMjcuNjYxNjY4NzcyOTQ5MTgsIDM2LjAzNjQ1OTUxNTcxNDIzXSwgWzEyNy42NTY1OTM1NDcwODc2NSwgMzYuMDUzMjM4ODgzNTI1Mzk1XSwgWzEyNy42Mzk5MDA4NDMxMTc3OSwgMzYuMDY1Mzg3MDU1NDQyODU1XSwgWzEyNy42MjAzMDAxMzMxOTEzMiwgMzYuMDkwNzE3MDQ4NTg3NzhdLCBbMTI3LjYyMDA0MDk0NTAwNTU3LCAzNi4xMDIxNTA1MTUxMjc3M10sIFsxMjcuNTkyMzQ0NDA2MDk3NCwgMzYuMTMwODY1MzIwNDc1NjNdLCBbMTI3LjYwMzg4MTE3MTczOTgzLCAzNi4xNTg2MjU4MjM5OTM5MTZdLCBbMTI3LjU5NDk4MTM1NDk4NTc2LCAzNi4xOTIxOTY5NjQ2NjA3NV0sIFsxMjcuNTk5OTQwMTMxODM0NzMsIDM2LjIxNDQ1Nzk4OTk5NzQ1Nl0sIFsxMjcuNTgxMjgwMDM5NDQ3NSwgMzYuMjMwMTA0MzUzNDU1MTA0XSwgWzEyNy41NTEzNzA2NDYxNTkxNywgMzYuMjM2Mzg1NDU5NzMxMjFdLCBbMTI3LjUzMzI2Njc3NjAyMTY1LCAzNi4yNDU5MjU3NTE4MjQ1Nl0sIFsxMjcuNTIwMzMxODQzMTIxOTEsIDM2LjIzNzc0MDQ1NTUwOTM3NV0sIFsxMjcuNDk0ODk4ODkwNjI1OTYsIDM2LjIzNTE0MDIzNDQxOTc4XSwgWzEyNy40ODgzMTg1MjkwNDUyNCwgMzYuMjU2MjkwMDgzMDA5ODk0XSwgWzEyNy40OTk0MzAxMTkxOTMxLCAzNi4yODM3MzM0NzUwODQ2NF0sIFsxMjcuNTAzMzUxNjczNjgxNiwgMzYuMzMwMzU5OTc3MzM3Njg2XSwgWzEyNy41Mjg5OTQ4OTk1MTQxNSwgMzYuMzY2MzU2NTMwNzk0N10sIFsxMjcuNTI2Nzk3MDQ2ODg1NSwgMzYuMzg0MTMzNzIwODg3NjI1XSwgWzEyNy41NTcyODgyNzI4NzM1MiwgMzYuMzk2MDMxNTU3MjAzNjRdLCBbMTI3LjU0NDUzOTE3MjYyMjkyLCAzNi40MTc4MTUxMTk5NjAzMl0sIFsxMjcuNTE3ODM0MTc3MTc0NjIsIDM2LjQxOTM0MDYzNTQwMjE0XSwgWzEyNy41MDQ2OTkyMTg4OTI1LCAzNi40MDUyNjgyMjM3OTI4MjRdLCBbMTI3LjQ5MTM0NjgxNTUzNjQ3LCAzNi40Mjk3NzM1NTY0ODk2NV0sIFsxMjcuNTA0NzgzMDg2NjY1MTcsIDM2LjQ0NjM3NjkzNjM1MzQyXSwgWzEyNy40ODE0NzUxODAzMzc4MiwgMzYuNDU0OTEzNzI5Nzk3NzRdLCBbMTI3LjQ1NTM0MjgwOTYzOTgzLCAzNi40NDcxNzE2NDM3NjUxN10sIFsxMjcuNDM4Mzg2MzE1ODgyNjIsIDM2LjQ1MzcyMzE3MzkyODQ5XSwgWzEyNy40MDQ3NDg1NjgwODg0OCwgMzYuNDUyNzY2NDEyNjA4MjA2XSwgWzEyNy40MDYzMzY0NzQ5Nzc5NiwgMzYuNDgwNDAwNzg2NjU5MTA0XSwgWzEyNy4zOTc3OTY0Njc5ODI5NywgMzYuNDg4Njg5MDMxMjg2OTRdLCBbMTI3LjQwOTAwMzAzNTc1MjMyLCAzNi40OTE5MTkwMDY5MTE3MV0sIFsxMjcuNDExMDIyNzM1MzMwMiwgMzYuNTIwOTQ1NzczNTAxMzVdLCBbMTI3LjQwMzk1MzI0MTE5MzgsIDM2LjUzODMyMzQ3NDM5OTk3XSwgWzEyNy4zODU2MTUzOTkwMDAzMiwgMzYuNTM5MDg4MzkyNzQ0ODhdLCBbMTI3LjM3NDY5MjQwNzUxNDMzLCAzNi41NTcxOTkzMTUwMzMxOV0sIFsxMjcuMzM5MTkyNDUyNzk5MjEsIDM2LjU2MDIzMTIyNDAzOTgxXSwgWzEyNy4zMjY3Nzg2NTY3MjY3MywgMzYuNTc4MDcyNjc4NTk1MTldLCBbMTI3LjMxMDIyMDM0Mzc0ODU3LCAzNi41ODA1NzMyMzY1MzE4N10sIFsxMjcuMzAyOTg1NTc1OTgxNSwgMzYuNjEyNjMxMTc0MzcwMTY1XSwgWzEyNy4yODEzMjcwNDA0MTg3NCwgMzYuNjMyMjExNDg5MjcxODJdLCBbMTI3LjI4OTA3NTY0MTk0NzE1LCAzNi42NTEyNjU2ODE4NzI1NF0sIFsxMjcuMzAyNTAyNTM0MTQ1ODMsIDM2LjY1NTUzMzQ5MzgzMTYyXSwgWzEyNy4zMDk3MzEzMTAxMzUzNSwgMzYuNjc4NzI2OTkzNzA2MzhdLCBbMTI3LjI4Nzc0NTU1OTI0MzE1LCAzNi42ODgwMzQ5MjM3NTUyN10sIFsxMjcuMzEwMjM1NjEzMjQ0NDYsIDM2LjcwMjAzODg5MjExOTAwNl0sIFsxMjcuMzEwNDU0OTYxMTY0OTQsIDM2LjcxODExMjY4OTI1MTg3XSwgWzEyNy4zMjcxNzQ3Njk1MzUwMiwgMzYuNzI5NTExMjI2OTA4NjU2XSwgWzEyNy4zNDMwMjg5MTEzOTcwMywgMzYuNzI5NDkzNDQ4OTEyNzM0XSwgWzEyNy4zMzg1MzEyNTcyOTQyLCAzNi43NDk3NjUyMTc5NzAyMV0sIFsxMjcuMzg5NTM3MDg4Njg1OTcsIDM2Ljc1NjQ0NDEyOTU4MjM1Nl0sIFsxMjcuMzk4ODE0MjY4MDkxMTcsIDM2Ljc0NDE0NDIwODAxNjc3XSwgWzEyNy40MTQxMDM2NjYzMTMzOCwgMzYuNzU0Mzc0MzE5NzgxMDRdLCBbMTI3LjQxNDA3MDY5NTAyMTMyLCAzNi43Njk0NDE3ODY3ODAzNF0sIFsxMjcuMzk3MTE0MjA0NjYwODEsIDM2Ljc4MTM0NDQxNDMzMDMzNF0sIFsxMjcuNDAzODM0MjU2NTg3MSwgMzYuNzkyMzgwODYxODEwMDk1XSwgWzEyNy4zODM1OTkzNzEzNTc0MiwgMzYuODEwOTY2NTA2NDE1Njk2XSwgWzEyNy4zNTc5NjUyMTk4MjU4NiwgMzYuODI1NTg4OTQwMzM1MDJdLCBbMTI3LjMzNTUzNDQ3NDgxNzM2LCAzNi44Mjc3Nzg2Njg4NjMxNF0sIFsxMjcuMzM4Mzk3MTkxMTMyNjMsIDM2Ljg1MTc2MjIxOTc5NTgxNl0sIFsxMjcuMzA4MTMxNTQwMTYwMjMsIDM2Ljg2MDE3OTI5NDEzMzQ5XSwgWzEyNy4zMTAyMDExODIzOTQyLCAzNi44ODIzODA4MDA0MDQ1N10sIFsxMjcuMjkxOTIzNzY5ODgyODQsIDM2Ljg5MDk0MjkyODc4NzQ1XSwgWzEyNy4zMTEyNzEzNzIwMDM1OSwgMzYuOTI2MjIyMDIwODE1NjldLCBbMTI3LjM0NTU1NzA3NjI0NDk3LCAzNi45NDE0MjU2NjQ1MjUwN10sIFsxMjcuMzUxODYzMjQzNjEzNzUsIDM2Ljk0OTY5NzYxNTU0ODc3XSwgWzEyNy4zODA2NTgyMjUzOTE1NiwgMzYuOTQ4NTk2NTI3MjM3NzI2XSwgWzEyNy40MDM5ODk2NzcwNjQ4MSwgMzYuOTY0ODgwOTIzODc4OTQ0XSwgWzEyNy4zODcwNzE4NDA5MDg4NywgMzYuOTgxNTM0MjkzODM0N10sIFsxMjcuMzk2MTcwMjk5ODU5NTUsIDM2Ljk5NTA3OTg1MDQwMzk5XSwgWzEyNy40MzE4OTkxMzEzMDM5NSwgMzYuOTk5MDI3NzA4MTM0ODddLCBbMTI3LjQ2MDE0NTUzNzg5NTY0LCAzNy4wMTc3MjE0OTYxMzMwNTZdLCBbMTI3LjQ1OTg1NzA2MjY5NjEyLCAzNy4wNDA3Mzk3OTk5OTM2M10sIFsxMjcuNDg4NjUyNTkzMDY3MTksIDM3LjA1MTQxNDAxMDE1ODY3XSwgWzEyNy41MDE0MzM1NzkzMzkwMiwgMzcuMDQ0OTE1MTQ4NjIwMV0sIFsxMjcuNTE3OTg2MDQ2NDg2NTQsIDM3LjA1NTI5OTAzNDIwNzg4XSwgWzEyNy41NTQ4OTA5NDg0MjI2MiwgMzcuMDQxNDcwNjI4OTMwNzVdLCBbMTI3LjU2ODgzMzY0MDI1MzI5LCAzNy4wNDQyNDgxMDIyNTE2NjVdLCBbMTI3LjU2ODM0MzUxOTc4ODM0LCAzNy4wNjAxNTU2MDYxOTA3OF0sIFsxMjcuNjAzMDM5OTI2ODkwNSwgMzcuMDgyNjc4MTc3NTgwNDU1XSwgWzEyNy42MzMyNjU5OTQ2OTc0NywgMzcuMDkzNDMzMTc1OTE3OThdLCBbMTI3LjYzOTk4OTc0ODQxNjY1LCAzNy4xMzgxODUwMzE3OTQzMTVdLCBbMTI3LjY4ODYyMDc4NjQ3MjA3LCAzNy4xMzIxNzM5NzMzNzM4NDVdLCBbMTI3LjcyMDIxOTE1NjM0MTY2LCAzNy4xODA5NTY5MzIyNTg2XSwgWzEyNy43Mjg3NjQyMDMxMDY4MywgMzcuMTc5OTc1MDM1NzE1MDhdLCBbMTI3LjczODkzOTExNDY3MTIxLCAzNy4yMDcxNTgxODEwMDA4NF0sIFsxMjcuNzUwMDg1MjgxODUwMTksIDM3LjIxMzgzNjQyMTg5NTc4NV0sIFsxMjcuNzQ2MDMzNDEwNTcwNTYsIDM3LjIwNzUyNzg0MTIzNTAyXSwgWzEyNy43NTYxMDI4MTU4NTQwOCwgMzcuMTczMzE1NDEyNzYxMTg0XSwgWzEyNy43NzAwMTAxNzIyNTA4LCAzNy4xNTQ0OTcwMTYyMDExMDVdLCBbMTI3Ljc5MTQwODMzODA1MDg5LCAzNy4xNDE2Nzg3NjU5Njk4XSwgWzEyNy44MTY5MTk1NDgxNjA3MywgMzcuMTQzNzAzMDk2MDYwMDE1XSwgWzEyNy44NjM5MzY1NzYyNzAwNSwgMzcuMTUzODAzMTA3Nzk4NjRdLCBbMTI3Ljg3NDcwMjIxOTkyOTc2LCAzNy4xNjE0OTI5NTQ5NzA4MjVdLCBbMTI3LjkwNDA2NDA1MDYxOTA2LCAzNy4xNDkwNzMyMDcwNjUxNjVdLCBbMTI3LjkyMzg0MzcwODU0NzUyLCAzNy4xNjIyMDg3ODIyODc2N10sIFsxMjcuOTM5MDc1ODIxMDYxMjIsIDM3LjE4NTY0NTgxMzE4MjczXSwgWzEyNy45MjM0NzIzNTc5Nzc0NiwgMzcuMjIyOTAzOTE4MDQxMDldLCBbMTI3Ljk1MDA5OTUxMDcyMjAxLCAzNy4yNDM5NTMxMDM4NTk2NV0sIFsxMjcuOTg3MjQxNTgwMDc4MDksIDM3LjI1NTMyNDI1MzI1MzM1Nl0sIFsxMjguMDIxMjI5MTQzMzIwNiwgMzcuMjQxNTU4Mjc1MDkxMDddLCBbMTI4LjAyMTc2NzU4MDMyNjMzLCAzNy4yMzA2OTA4MzE5NDQyOV0sIFsxMjguMDQxNDM2ODY0MzM1MDUsIDM3LjIxMjU0ODI3NTQ5NTQ2XSwgWzEyOC4wMzE5OTcwMTkwNTA3MiwgMzcuMTk5MzQ4NjIzNzU1NzNdLCBbMTI4LjA0MTY5Mjc5NTk2OTQ4LCAzNy4xODU5NTk5NjI2MTMxMV0sIFsxMjguMDgxMDA2MzQzNjk2NjYsIDM3LjE5MTE2MzQ4MzkxOTM0XSwgWzEyOC4xMTM3NTA3OTc5NjczOCwgMzcuMjA0OTczMDcxNDYzOTRdLCBbMTI4LjEyNzQ2NzEzMDI3OTE0LCAzNy4yMTg0MzMzNDQ3OTA5NDVdLCBbMTI4LjE1NzEyMDEwODY2NDk0LCAzNy4yMTI3NDc5NjEwMjA3NzRdLCBbMTI4LjE3NTMwNDU3NjU4MzA3LCAzNy4yMTU5Mzc0NzQzNTg4M10sIFsxMjguMTc2Mzg2ODg3NTE4NDgsIDM3LjIyOTY4MzYzODM1MTg1XSwgWzEyOC4yMDI3NDA1NjE3NTIyMiwgMzcuMjQ1NzcxNzgwMjg0Nzg0XSwgWzEyOC4yMjI4ODc5NjYxODc3MywgMzcuMjM3NDYyNTkwNTUzNDg0XSwgWzEyOC4yMzA3MDI5OTg0NDI0NywgMzcuMjI1MTE2MDM5NDg1MzM2XSwgWzEyOC4yNTQ5ODI3NzMwODk1OCwgMzcuMjI1MDAwMzU3MjU5NThdLCBbMTI4LjI3MTIzNjIzODE3NjIsIDM3LjIwNTIwNTM5NjkxMjUxXSwgWzEyOC4zMTc2MzMyODg5NDMwNiwgMzcuMjIwNTkyMzAxOTgyNjldLCBbMTI4LjMzNTYwMDQ1NDY5NTU0LCAzNy4yMTI2Nzg3ODk5MjYxMTZdLCBbMTI4LjMyODAwOTIxODc2MTQ1LCAzNy4xOTQxMTA0Mzk3NDE1MTVdLCBbMTI4LjI3ODQ5ODg5MjkxMjcyLCAzNy4xNjkxOTY3NDI0MTc3NzVdLCBbMTI4LjI2Njg4NzA1MzMwNjgsIDM3LjE1NzU0MTYzNTY2NDI2Nl0sIFsxMjguMjc1NjA2MzczNjUzNTIsIDM3LjE0NDQ3MTQxNDE4NjQwNV0sIFsxMjguMjk1NTAwMDIyMjcxODIsIDM3LjEzNTI1ODExMjU3MzEyNl0sIFsxMjguMzMyODI4ODUyOTM1MzYsIDM3LjE0NzQ4NjU4NTIyNTQyXSwgWzEyOC4zMzkyMDE5MTAwOTQxLCAzNy4xNTUwMjAwODE2MDk2Nl0sIFsxMjguNDAzMjIzOTE1MTE0MDQsIDM3LjE0Mzk5NjkyMjgyODc3XSwgWzEyOC4zOTg4Njc1MTQyMTUyNSwgMzcuMTI1NTY5MzE5Nzg5MDY1XSwgWzEyOC40MjU4MjA3NDUwMzI5NSwgMzcuMTA5NTU2OTkzNDM4NzddLCBbMTI4LjQ3MzY3NDc5OTAxNjcsIDM3LjEwNzA0OTEzNjExNDIzNF0sIFsxMjguNDg4OTQ2NDgyNTgzMzcsIDM3LjExNzMwNjEyNTI4NjM1XSwgWzEyOC41MTQ2MjU2NTg4MzE0NSwgMzcuMTEwODQyODM4MjY0Nl0sIFsxMjguNTE3MDA3MTg2MTc3MzUsIDM3LjEwMDQ2NzgwODY0MjU1XSwgWzEyOC41NDAyMDczOTYzNDcyOCwgMzcuMDg3MTgzMDU3NjM4ODZdLCBbMTI4LjU2NDM2MjczNjkwOTEsIDM3LjA4NzQ5OTg1MjUxNjhdLCBbMTI4LjU5MzkwMzQyOTM0NjEsIDM3LjA3NTM0NTM1NDM1NjI0NF0sIFsxMjguNjMwMzczMDg0MDIxMDQsIDM3LjA3MjI3OTAxMTMxMDYwNl0sIFsxMjguNjU0NDcyOTk5Mjc0MjUsIDM3LjA2MjU5MTM0MzYzMzM2NV1dXSwgInR5cGUiOiAiUG9seWdvbiJ9LCAicHJvcGVydGllcyI6IHsiYmFzZV95ZWFyIjogIjIwMTMiLCAiY29kZSI6ICIzMyIsICJuYW1lIjogIlx1Y2RhOVx1Y2NhZFx1YmQ4MVx1YjNjNCIsICJuYW1lX2VuZyI6ICJDaHVuZ2NoZW9uZ2J1ay1kbyJ9LCAidHlwZSI6ICJGZWF0dXJlIn0sIHsiZ2VvbWV0cnkiOiB7ImNvb3JkaW5hdGVzIjogW1tbMTI5LjM2NjQwNTMyNzkwOCwgMzcuMTQzNTAwMDEyMjI4Nl0sIFsxMjkuMzQyMTkyMjA5MTQ2NDUsIDM3LjE0MjQ1MjM3MjAyODA0Nl0sIFsxMjkuMzA2MjYwMjUyODkzNjIsIDM3LjEyNTU0NjA2NjUwNzU3NF0sIFsxMjkuMjk2NzYzODY2NzQyMjIsIDM3LjExMTU0MDk3MTA1NTAxNF0sIFsxMjkuMjc0MjYwMzMwMzAyNzUsIDM3LjExNDEyOTE0MTUwNzExXSwgWzEyOS4yNjgyOTgxODE2NjE1LCAzNy4wOTk0MzQ0MzIyMDAxODRdLCBbMTI5LjI1MjAzODk1MTgxMzcyLCAzNy4wOTMwNzIxMDM0MzYxOV0sIFsxMjkuMjI3ODgwMjQxNDc4NTIsIDM3LjA3MDUzNDIyNTQ2NDE2XSwgWzEyOS4yMzQ5OTA5MTc3MDY3LCAzNy4wNDE3Mjc2ODI4ODU5M10sIFsxMjkuMTk3MjUxMDU0NzExNjEsIDM3LjAzNzg2MzQyNDc4NzkyXSwgWzEyOS4xNDMwMTMxNzcyMDA5NywgMzcuMDc4ODA3MjUzNDg2MTddLCBbMTI5LjA5ODA4MDc5ODY3ODQ0LCAzNy4wOTc1OTY2MTczNDAyMTZdLCBbMTI5LjA3ODY4MTc1MDE4NDMsIDM3LjA5MDE3MTU3MjA1Njc3NV0sIFsxMjkuMDY3MTE2NzA2NjM3MywgMzcuMDY0ODcxMzk5MDY2NDZdLCBbMTI4Ljk4NTMzMTcwMzMwNzYyLCAzNy4wODE0NjM0OTAyNTJdLCBbMTI4Ljk2MjU4MTgwNjg0MTM3LCAzNy4wNzQ1NzMyODYwNzU5NDZdLCBbMTI4Ljk0Njg1ODY1OTA0MzMzLCAzNy4wOTIyMTg3NjU3NTU0MV0sIFsxMjguOTI0NTkzMzM4MzEyMDQsIDM3LjA4OTIwNDYzMDQwODg2XSwgWzEyOC44OTg0MzIxMzk5NDAyNCwgMzcuMDQyMDI3OTIyOTEwOTA0XSwgWzEyOC44Nzc4OTc0MjYwMjY0NCwgMzcuMDQxOTgzNzY5NDU3NDJdLCBbMTI4Ljg0ODg5MTY1Mzc0NTIsIDM3LjA0OTI5MjU4NzM5MjQ5XSwgWzEyOC44MjkyMzY4MzMwOTI3MiwgMzcuMDc1MjM2MDUwOTA1NTZdLCBbMTI4LjgxMDg0OTE2NDgwNDc4LCAzNy4wNzQ2Njk0NTc3MjYyNDVdLCBbMTI4Ljc4NzMxOTI1MTYzMywgMzcuMDg0ODU2MzA3ODY1OTldLCBbMTI4Ljc2NzI2ODI3NDI1NzIsIDM3LjA2MTEyNzkyNjYxMTcxXSwgWzEyOC43NTQyNzM5MDkzNjc5OCwgMzcuMDU0NjcxMDQ4ODMzOTQ2XSwgWzEyOC43NjM5NzI3NjY0OTYzLCAzNy4wMzIzNjEyMTE0NTUzNDZdLCBbMTI4Ljc1NDE1MjI2ODgwMjI0LCAzNy4wMjU2MDM2NTI4Njg0NV0sIFsxMjguNzM2OTk0OTQ5OTQ1MDYsIDM3LjAzNzI3MTI2NDk1Mzk2XSwgWzEyOC43MDI0NTc2NzE2NDI3NSwgMzcuMDM4MzE5MDkxNzA1MzldLCBbMTI4LjY5MTE2MTk3MzgxMjExLCAzNy4wNTAyNTYxNzA1ODE2Nl0sIFsxMjguNjU0NDcyOTk5Mjc0MjUsIDM3LjA2MjU5MTM0MzYzMzM2NV0sIFsxMjguNjMwMzczMDg0MDIxMDQsIDM3LjA3MjI3OTAxMTMxMDYwNl0sIFsxMjguNTkzOTAzNDI5MzQ2MSwgMzcuMDc1MzQ1MzU0MzU2MjQ0XSwgWzEyOC41NjQzNjI3MzY5MDkxLCAzNy4wODc0OTk4NTI1MTY4XSwgWzEyOC41NDAyMDczOTYzNDcyOCwgMzcuMDg3MTgzMDU3NjM4ODZdLCBbMTI4LjUxNzAwNzE4NjE3NzM1LCAzNy4xMDA0Njc4MDg2NDI1NV0sIFsxMjguNTE0NjI1NjU4ODMxNDUsIDM3LjExMDg0MjgzODI2NDZdLCBbMTI4LjQ4ODk0NjQ4MjU4MzM3LCAzNy4xMTczMDYxMjUyODYzNV0sIFsxMjguNDczNjc0Nzk5MDE2NywgMzcuMTA3MDQ5MTM2MTE0MjM0XSwgWzEyOC40MjU4MjA3NDUwMzI5NSwgMzcuMTA5NTU2OTkzNDM4NzddLCBbMTI4LjM5ODg2NzUxNDIxNTI1LCAzNy4xMjU1NjkzMTk3ODkwNjVdLCBbMTI4LjQwMzIyMzkxNTExNDA0LCAzNy4xNDM5OTY5MjI4Mjg3N10sIFsxMjguMzM5MjAxOTEwMDk0MSwgMzcuMTU1MDIwMDgxNjA5NjZdLCBbMTI4LjMzMjgyODg1MjkzNTM2LCAzNy4xNDc0ODY1ODUyMjU0Ml0sIFsxMjguMjk1NTAwMDIyMjcxODIsIDM3LjEzNTI1ODExMjU3MzEyNl0sIFsxMjguMjc1NjA2MzczNjUzNTIsIDM3LjE0NDQ3MTQxNDE4NjQwNV0sIFsxMjguMjY2ODg3MDUzMzA2OCwgMzcuMTU3NTQxNjM1NjY0MjY2XSwgWzEyOC4yNzg0OTg4OTI5MTI3MiwgMzcuMTY5MTk2NzQyNDE3Nzc1XSwgWzEyOC4zMjgwMDkyMTg3NjE0NSwgMzcuMTk0MTEwNDM5NzQxNTE1XSwgWzEyOC4zMzU2MDA0NTQ2OTU1NCwgMzcuMjEyNjc4Nzg5OTI2MTE2XSwgWzEyOC4zMTc2MzMyODg5NDMwNiwgMzcuMjIwNTkyMzAxOTgyNjldLCBbMTI4LjI3MTIzNjIzODE3NjIsIDM3LjIwNTIwNTM5NjkxMjUxXSwgWzEyOC4yNTQ5ODI3NzMwODk1OCwgMzcuMjI1MDAwMzU3MjU5NThdLCBbMTI4LjIzMDcwMjk5ODQ0MjQ3LCAzNy4yMjUxMTYwMzk0ODUzMzZdLCBbMTI4LjIyMjg4Nzk2NjE4NzczLCAzNy4yMzc0NjI1OTA1NTM0ODRdLCBbMTI4LjIwMjc0MDU2MTc1MjIyLCAzNy4yNDU3NzE3ODAyODQ3ODRdLCBbMTI4LjE3NjM4Njg4NzUxODQ4LCAzNy4yMjk2ODM2MzgzNTE4NV0sIFsxMjguMTc1MzA0NTc2NTgzMDcsIDM3LjIxNTkzNzQ3NDM1ODgzXSwgWzEyOC4xNTcxMjAxMDg2NjQ5NCwgMzcuMjEyNzQ3OTYxMDIwNzc0XSwgWzEyOC4xMjc0NjcxMzAyNzkxNCwgMzcuMjE4NDMzMzQ0NzkwOTQ1XSwgWzEyOC4xMTM3NTA3OTc5NjczOCwgMzcuMjA0OTczMDcxNDYzOTRdLCBbMTI4LjA4MTAwNjM0MzY5NjY2LCAzNy4xOTExNjM0ODM5MTkzNF0sIFsxMjguMDQxNjkyNzk1OTY5NDgsIDM3LjE4NTk1OTk2MjYxMzExXSwgWzEyOC4wMzE5OTcwMTkwNTA3MiwgMzcuMTk5MzQ4NjIzNzU1NzNdLCBbMTI4LjA0MTQzNjg2NDMzNTA1LCAzNy4yMTI1NDgyNzU0OTU0Nl0sIFsxMjguMDIxNzY3NTgwMzI2MzMsIDM3LjIzMDY5MDgzMTk0NDI5XSwgWzEyOC4wMjEyMjkxNDMzMjA2LCAzNy4yNDE1NTgyNzUwOTEwN10sIFsxMjcuOTg3MjQxNTgwMDc4MDksIDM3LjI1NTMyNDI1MzI1MzM1Nl0sIFsxMjcuOTUwMDk5NTEwNzIyMDEsIDM3LjI0Mzk1MzEwMzg1OTY1XSwgWzEyNy45MjM0NzIzNTc5Nzc0NiwgMzcuMjIyOTAzOTE4MDQxMDldLCBbMTI3LjkzOTA3NTgyMTA2MTIyLCAzNy4xODU2NDU4MTMxODI3M10sIFsxMjcuOTIzODQzNzA4NTQ3NTIsIDM3LjE2MjIwODc4MjI4NzY3XSwgWzEyNy45MDQwNjQwNTA2MTkwNiwgMzcuMTQ5MDczMjA3MDY1MTY1XSwgWzEyNy44NzQ3MDIyMTk5Mjk3NiwgMzcuMTYxNDkyOTU0OTcwODI1XSwgWzEyNy44NjM5MzY1NzYyNzAwNSwgMzcuMTUzODAzMTA3Nzk4NjRdLCBbMTI3LjgxNjkxOTU0ODE2MDczLCAzNy4xNDM3MDMwOTYwNjAwMTVdLCBbMTI3Ljc5MTQwODMzODA1MDg5LCAzNy4xNDE2Nzg3NjU5Njk4XSwgWzEyNy43NzAwMTAxNzIyNTA4LCAzNy4xNTQ0OTcwMTYyMDExMDVdLCBbMTI3Ljc1NjEwMjgxNTg1NDA4LCAzNy4xNzMzMTU0MTI3NjExODRdLCBbMTI3Ljc0NjAzMzQxMDU3MDU2LCAzNy4yMDc1Mjc4NDEyMzUwMl0sIFsxMjcuNzUwMDg1MjgxODUwMTksIDM3LjIxMzgzNjQyMTg5NTc4NV0sIFsxMjcuNzUxMDI1MTE1MTQ4NSwgMzcuMjQ0NjQxMjkyMDI5ODhdLCBbMTI3Ljc2MDQ3NTM3NzUyMTMyLCAzNy4yNTUxODkzNTQwNTIyM10sIFsxMjcuNzU2OTc1MDMzMDMyMzksIDM3LjI5NDk2OTIwOTg3NzM4XSwgWzEyNy43NzA3MzkwMjM3MzgyNywgMzcuMzA0OTk5MDY3MzQ3NjhdLCBbMTI3Ljc2MTkzNTI3MzAyMTkzLCAzNy4zMjcyNDcwODg1ODU2XSwgWzEyNy43NjE2NTM4MTEyMjg5NCwgMzcuMzY0MjE5MjU5NjQ2NThdLCBbMTI3Ljc3OTUyNDAyMTU1ODA3LCAzNy4zNjg0NDE3ODk0NTM2XSwgWzEyNy43ODAyODU0Njk3MTkxNSwgMzcuMzg2MTkwMTMxMDE4ODNdLCBbMTI3Ljc5Njc4MTAyMjg3ODUsIDM3LjQyMTQzMDQ2ODEzMDU0XSwgWzEyNy44MDYxMzM5MzM3MzU3MSwgMzcuNDI2MzAwMTk0OTUzNDJdLCBbMTI3Ljc5ODMzNDkyMTY0NjU3LCAzNy40NjA1MDAyMzc5MjcyMzVdLCBbMTI3Ljc3NjY0Nzk4MjUzMzk5LCAzNy40ODg4MzYzNTkzODc1MDZdLCBbMTI3Ljc3NjExNTI3NjUzMjU0LCAzNy41MDMyODYxNTcyMzk5OV0sIFsxMjcuODA4NTU5NzE5Njg1OCwgMzcuNTMyMjA0NTA5MjIxNjFdLCBbMTI3Ljg0NDU3NjkyOTk2ODg4LCAzNy41MzYyMTc4OTcwNTU3M10sIFsxMjcuODUxNjI2NDI5MjQ1MzQsIDM3LjU1MDQwNzQ0NjU5MTY4XSwgWzEyNy44MTUwNzk2NDA0NDE5OCwgMzcuNTYxODM4OTAxODI5MDJdLCBbMTI3Ljc5NDkyNTY0ODI4NTQ0LCAzNy41ODI1Mjk3ODMzOTI0OTVdLCBbMTI3Ljc2ODM4Nzc2NzA4NzM4LCAzNy41ODAxNzgyMTYxOTEzNV0sIFsxMjcuNzU2MTQ5MTQxNDI1NjcsIDM3LjU4OTQ3NzQyNDMyODA0NV0sIFsxMjcuNzEwMjgxMDU1MTI3NDUsIDM3LjU4MzYwMTI4NjQzNjA3XSwgWzEyNy42OTg2OTM4Mzg2OTQ5OCwgMzcuNTk3NTcwMzE0MTU0MzRdLCBbMTI3LjY1NTUzMDcwOTkzMDA2LCAzNy42MTk1NDU2NTA5NjA3MV0sIFsxMjcuNjI5NzIwMzI3MjM0MSwgMzcuNjM5ODMxMjI5MzQzNjJdLCBbMTI3LjYwNDUwNTY5MDkyODA1LCAzNy42NDg1NDg1NTIwMzM1NV0sIFsxMjcuNTgxNjY3MDE0NzE1ODUsIDM3LjYzMDMzMzkzMzQ5NjUzXSwgWzEyNy41NjExMzUzNTg1NDAyMywgMzcuNjI1NjU2MDUzNTM0NzI2XSwgWzEyNy41MzkxNzAzMTg2MjQ1MSwgMzcuNjQwMjEwNTYxNTMwMTldLCBbMTI3LjU1NDk2MDUyMTc4MTg4LCAzNy42NTg3NTc3NTc5OTg1OF0sIFsxMjcuNTUyMzAxMzM1NzMxMTcsIDM3LjY4MjY3Njg2MDM0Mjg5XSwgWzEyNy41NjQ1NTQzNzE4ODI2NCwgMzcuNzE4MjU2MTAxMzYzMDldLCBbMTI3LjU0Mjk1NTkxNTE2OTQ2LCAzNy43MTYzMDgyMzU3OTk2M10sIFsxMjcuNTA5Nzk4MDc3MDgyNTksIDM3LjcyNzkxNTUzMjE0MjA2XSwgWzEyNy41NDY2ODkyNzY3MTIzLCAzNy43NTc1NDc4OTkyNDkxNF0sIFsxMjcuNTIzNzQ0ODcyNDMxNjgsIDM3Ljc4ODU2NDA3NjM2MDczXSwgWzEyNy41Mzc5MDgxMTU0Mzk4NiwgMzcuODA2Mjk3MTQyMDM1NzZdLCBbMTI3LjUyNzgwNTY0NTY4Njg1LCAzNy44MjA1OTM0NjUxMjU3M10sIFsxMjcuNTM0Njc4NjYyMzYzMDYsIDM3LjgzOTExMzQxMDc3NjU1NV0sIFsxMjcuNTY0NTgwODY4NDU1ODgsIDM3Ljg1MjcxMDA4NDk2MTYyXSwgWzEyNy41ODY1MTM1NDI2NjkxNywgMzcuODcyOTY2NTQ1MzI3MjNdLCBbMTI3LjYwMzI2MDQ4Nzg4OTgsIDM3Ljg3MTg1Nzk3NTM0NTk5XSwgWzEyNy42MTk4ODM2NTM3ODU2NSwgMzcuOTAzNzY2MjE0MzQ3NTVdLCBbMTI3LjYxNTkyMjc0NTkzOTg3LCAzNy45MzY2Mjg3MzEwMTcyXSwgWzEyNy42MDUxNTQ3MjMyMDEzMiwgMzcuOTUyMzM5NjAxNDY1NTFdLCBbMTI3LjU0NjQ4MTkxNzc4MzM4LCAzNy45NjUzNjY5MDA0MzI0Ml0sIFsxMjcuNTQ5OTUwNDY3MzM2NTIsIDM3Ljk3NTc2MDk4ODI1NDU2XSwgWzEyNy41NDE3ODk2NTUxOTE0NywgMzcuOTk3ODM1MzE2MDc3OTQ2XSwgWzEyNy41MDM1NjQyNjY5ODA3NywgMzcuOTk2ODA4MTU3ODU1NzNdLCBbMTI3LjQ3NDMwODEwODA2MDY0LCAzOC4wMDMzMTUzMTcxNjA1OF0sIFsxMjcuNDYwMTM3OTM3Mzg0MjIsIDM4LjAxMzQ4NjAzNDkyOTNdLCBbMTI3LjQ0NTg1NzAxMzM1MDI1LCAzOC4wNTYyNzA0NTM5MjcyMDVdLCBbMTI3LjQ0OTEwNzMzNDc5MjY5LCAzOC4wNjgyNjA3Mzk5MzM2ODVdLCBbMTI3LjQ0MzE1MzEzMzA0ODcsIDM4LjEwNTQzMzk0MDIzNzMxXSwgWzEyNy40MzMwMTcyOTc4ODUwMiwgMzguMTEyNDQ1MjQ2Njk0NDU2XSwgWzEyNy40MTQ5OTE3MzY4OTQ2OCwgMzguMDk5MzM2NjA2NjU3NzhdLCBbMTI3LjQwNTU5MjMwMzE4NjU3LCAzOC4xMDk5MzUxNjQ4MjE4OF0sIFsxMjcuMzg1NzU5MjQ4NDcyNTIsIDM4LjExMTY1MDAyMTQ3MTczXSwgWzEyNy4zMjMzMjg5Nzg5NzU1LCAzOC4wOTI0ODc0NjEzNjg4Nl0sIFsxMjcuMzEzNDI3OTQ5MzcxNzQsIDM4LjExMzIzOTE3ODE4NjQ0XSwgWzEyNy4yODUzMzc5NzIxMzYxMywgMzguMTEzNzQ1MzYwNzMwNzVdLCBbMTI3LjI3NzkwNjQxOTg0NDM3LCAzOC4xMzQ0OTAzMjA5OTkwOF0sIFsxMjcuMjg5MzcwNjc2ODY0LCAzOC4xNDk1OTc0OTg0MjY2OV0sIFsxMjcuMjkxNDY3Mjc3MjIyMzQsIDM4LjE3NDE3MDc2MjgzNzEzNl0sIFsxMjcuMjczMTk5ODA5NjYyMTMsIDM4LjE3OTA4NjY1MzA2MzddLCBbMTI3LjI1ODAyOTM1NjU3NzE3LCAzOC4xNjA0ODg3OTk2NjczMzRdLCBbMTI3LjIyNTM5NTUyMDc3ODA4LCAzOC4xNDQxMjgyMTc0NzgyNTRdLCBbMTI3LjE5MjExNzQ0NDU2ODQ0LCAzOC4xNTc5NjMxMzk4MjQyNl0sIFsxMjcuMTgxNTAxODI0MDAxMTcsIDM4LjE4MTkyNzE5MTU4MjM0Nl0sIFsxMjcuMTY4NTcwODYwMzc4MDUsIDM4LjE5NjgxMDg5NjMzMzY0XSwgWzEyNy4xNzE2ODQ2MDc4MjE2NSwgMzguMjExMTI3MTk2OTQ0NjY2XSwgWzEyNy4xNjQ2MTYyODM0NTk4LCAzOC4yMjk0OTc2NjQ2Njc4Nl0sIFsxMjcuMTUwNjM2MTU3NDQ2NDcsIDM4LjIzOTc5MTMxNTQ1OTg2XSwgWzEyNy4xMzI0Mzc0ODAxNDMwMywgMzguMjI5ODY0NzYxNTg0NzJdLCBbMTI3LjExMjI0NjYzODgxMjI4LCAzOC4yMzk0NDMxMjA4NjY1XSwgWzEyNy4xMTYxMDY4MjY3NDczNiwgMzguMjYyNTU3NjY3Mjg2NjddLCBbMTI3LjExMTQwMjk3OTc5NDgsIDM4LjI4OTMyNDY5ODQwOTc2XSwgWzEyNy4xMzk0NzU1ODUzMDQ4MiwgMzguMzA3MDYzMjYwNTA2OTJdLCBbMTI3LjE0NTQwMjI3NTI3ODA5LCAzOC4zMjY0MzYyMjM0OTY2XSwgWzEyNy4xNjE0MTQ2NTI2MTQ1OCwgMzguMzMxNTk2Mjc5OTI2MzFdLCBbMTI3LjE4NDE4MDA0NTc3MTc4LCAzOC4zMTQ0NTM3NzM5NTc2OTVdLCBbMTI3LjE5ODkyNTIzNjg2Nzc3LCAzOC4zMTYxNjg5NDI2NjQzNTVdLCBbMTI3LjI0NTcxODYzOTUzMDQyLCAzOC4zMzYwMTA5NTQ5NzgwN10sIFsxMjcuMjYxMTU5NTQ2MjM1NCwgMzguMzI5MDU4NDk0NzU1NDFdLCBbMTI3LjI5NjE1MzQ0MjkyODIyLCAzOC4zMjQ2Nzg1NzI0MjQ5NF0sIFsxMjcuMzEyNzcyODQxNjIzMSwgMzguMzE0MTg0NTQxMTM2Ml0sIFsxMjcuMzQwNDU5OTcxNDg5MzgsIDM4LjMyOTMxNjU1NTQ1NTA2NV0sIFsxMjcuMzUwMjI0ODkyMzU1NTcsIDM4LjMyNjI2OTc4Njk2MzYzNl0sIFsxMjcuMzkwMDg1OTY0NzQwNCwgMzguMzM3Mjg5OTcyNDM5Mjk0XSwgWzEyNy40MjY2OTI3MTUyMTMwNSwgMzguMzMxNjIyNDM4NDg2MDRdLCBbMTI3LjQ1MTI1OTcxNTQ4OTk1LCAzOC4zMTQ1MTE3NjQyNDMyNjRdLCBbMTI3LjQ3NzUxMDAzNDQ3NTQyLCAzOC4zMTUzNzI1MjI5MTkyMjZdLCBbMTI3LjQ4ODkyOTcwNTUwNTY1LCAzOC4zMDA5NzMyODYxMTUwOTVdLCBbMTI3LjUxMDYzMTAzMzUxNTksIDM4LjMwMTA2MTU1OTQ4OTgzXSwgWzEyNy41NDM4MTAzMTk0MzcyOCwgMzguMzIyNTI3NTA0NDQyNjc1XSwgWzEyNy41OTAyNDk0MzE4NjMzNCwgMzguMzM3Mzk1MjkzNTIzNzA2XSwgWzEyNy42MDkxMDYxMTczNzgyNywgMzguMzM3OTkzMDc1NDAyMTldLCBbMTI3LjY0MDUzMTEwOTkwMDg1LCAzOC4zMjY0MTEyMjgzNTE3MV0sIFsxMjcuNjkyMzY5MTk2ODUyMDYsIDM4LjMzMDQ0MjU1MDE3MDQyNF0sIFsxMjcuNzAyMTA5NjY2Njc2MjYsIDM4LjM0MDY2NDgyNDA5MDg5XSwgWzEyNy43MzIyNTM2MDcwOTY2LCAzOC4zMzUwMjE0MTI4NjM1M10sIFsxMjcuNzQ4OTEyNDIxOTIxMzYsIDM4LjM0NTQ1NzgwOTczMjM2XSwgWzEyNy43Nzk3MjM3NDQ3MTM0MSwgMzguMzUxMDUwODcxNzQ3MzVdLCBbMTI3LjgwNDQ1NDQ4ODEyODc4LCAzOC4zMjI1NTg0Mjg2MjQ4N10sIFsxMjcuODQ1ODUwODU5MDgzMDMsIDM4LjMyNzExNTMzMzA1NzE0NF0sIFsxMjcuODg2NTc1MDM0NDQwNjgsIDM4LjM0MDg4ODM4NzcxMjM5XSwgWzEyNy45Mjc2MTg3MTM4MDU0NiwgMzguMzM0NDkwNTEzNTE5OTc0XSwgWzEyNy45Nzk2MzMyNTA4NTUsIDM4LjMxNzczNDY3MjkyMDQ3XSwgWzEyOC4wNjU2ODkwNzQ4NDIwMywgMzguMzEwNzk2OTU2NjM0NjVdLCBbMTI4LjE1Mjg4MTM0NzcxMTgsIDM4LjM0ODY0MjUxOTQ4Mzc4XSwgWzEyOC4yMTc4MzA3Mzk5MTQ0NiwgMzguMzc5NTQ2ODQ5NzU1MzRdLCBbMTI4LjI0NTI4MDA3MTEwMzI1LCAzOC4zOTk4MTgwNjczNzU1MDZdLCBbMTI4LjI1MTIzNTU5NjQyNzYyLCAzOC40MDk5MzUxMTk4MjYyMl0sIFsxMjguMjg0NDUxMjM0MTUwNDgsIDM4LjQzMjU1ODc5MjgwMTIyXSwgWzEyOC4zMDM2NjY0OTk1NDksIDM4LjQ2OTM0NzE2MDkwM10sIFsxMjguMzE3NTE2NTg5MjQyMzYsIDM4LjU2MTc3NzMzMDk5Mzc4XSwgWzEyOC4zMTMxMDYwMDA0ODUwOCwgMzguNTg5MzIxNzkxMzcxMjU1XSwgWzEyOC4zMjM0OTQ2OTQ2OTA2MiwgMzguNjA2ODk4MzEwOTIwNjU2XSwgWzEyOC4zNTMyODUyMjI5MjI5MiwgMzguNjExMDA4NjA4NzA3OTNdLCBbMTI4LjM5OTQyNDMwODUxMzA2LCAzOC41NjQ0NTkyNDQ3MDExMl0sIFsxMjguNDA4MzkyNDIyODYxMjMsIDM4LjUzODg3NDk5NzgxODU3XSwgWzEyOC40MjU1NDM5NzAyMDU1OCwgMzguNTE5ODMwMzcxNDA5OV0sIFsxMjguNDI1NDkxMjAwNzc1NCwgMzguNTAzMzg1OTI3MzU1NzFdLCBbMTI4LjQ0MjI5NDQ2MTIyNzAyLCAzOC40NzQ4MTU2MDkwMTk0NjZdLCBbMTI4LjQ3MDM5MjcxNTg3MjA0LCAzOC40NDg2NTgxNzI1NzI5N10sIFsxMjguNDU4MzM4NzY2ODkyLCAzOC40NDM5MTIyMTA4MjE4MTRdLCBbMTI4LjQ2MDQ0Mjg2NjYzMDkzLCAzOC40MjczMDE3NDgzNDM4N10sIFsxMjguNDc0MTE0OTc5NjY0NDIsIDM4LjQwNzczMTgxMTQ3ODY1NV0sIFsxMjguNTE4MDQ5ODE3NTYzMywgMzguMzY4OTYyMjU5MjQ0ODRdLCBbMTI4LjUyODU5NDA2MjY5NjE2LCAzOC4zMzU2NzM1NzU1MDY3NDZdLCBbMTI4LjU1MzMxMjUyODExMTg2LCAzOC4zMTE0OTEyNTIxODQ5Ml0sIFsxMjguNTcxMDY0MTc0OTM3MDUsIDM4LjI2NjEzMzUwNzM4NDM4XSwgWzEyOC41OTIxNzMwOTI2MTAwNCwgMzguMjM5NTQ1MjQ5NDgzNDJdLCBbMTI4LjU4ODc2NTMxODU3Mzk2LCAzOC4yMjc1NzQ5MjE4MTI4NzRdLCBbMTI4LjU5OTMxOTMzNTE3MDQzLCAzOC4xOTU2OTM4NjI2NDg1OF0sIFsxMjguNjExNTM2MzczNjc1NTMsIDM4LjE4MDk0MzI2NTkxODIzXSwgWzEyOC42MTE4NTQzODQxMTUyNSwgMzguMTQ4MzgyMzM0NjI4MjldLCBbMTI4LjYzODE2Mjk2ODc2MTEsIDM4LjExMzY1OTU5MzQ4NTFdLCBbMTI4LjY2OTQ0NTUyNDQ3OSwgMzguMDg5MjE3MTkzNTAwNTQ1XSwgWzEyOC42ODAxNjk4OTEyMjYwMywgMzguMDYzMDYwODk1MjAzMDVdLCBbMTI4LjcwNDgxNzIwMjU5ODMsIDM4LjAzODM5MjMxNjM5MDI2NV0sIFsxMjguNzI4NjQyNjE3MzQ5OTIsIDM4LjAyMTI4MjY4NTk1Njk3XSwgWzEyOC43MzgyNjE3NDkwMzkwOCwgMzguMDAyNDYzODA0NzMyMThdLCBbMTI4Ljc3NTM5ODk1MjYxMDAzLCAzNy45NTIyNDM1MzA4OTc0XSwgWzEyOC43OTI4MDA4NzgwNzEzLCAzNy45NDIzNzE2MjI1MjYyNl0sIFsxMjguNzkyNzE2NjA4NzYzMywgMzcuOTMxODA1MDI2MDMzMjVdLCBbMTI4LjgzNzA3MjY0NjEzMjI0LCAzNy44OTUyNDMzMDE1NDA3OV0sIFsxMjguODMyNjU0NDIxMzkyNDIsIDM3Ljg4MTg4NjU1MDI2NDkzXSwgWzEyOC44Nzk5NTg3ODU2ODE1LCAzNy44MzY2MTU0OTc0MTI1NF0sIFsxMjguODgxNTU0MzU2MDAyNDUsIDM3LjgyNjg4MzM2MjY2MjU4XSwgWzEyOC45ODk5MjYxODU3MDUzNCwgMzcuNzM3MDA4OTYxODY2NzU2XSwgWzEyOS4wMTYxMTIyODQxMzgxLCAzNy43MDU3OTEwMzIyNjQzNl0sIFsxMjkuMDU4ODE4MjQyNjA5MTYsIDM3LjY3Mjk3NTUyNTMxODgzXSwgWzEyOS4wNTk1MTIxNTAyNDk3MywgMzcuNjU4MDU0MTc1MTg0Njk1XSwgWzEyOS4wNDY1NTIxNDQ3MjE3MiwgMzcuNjQwMzg0MTY2MDU4NzJdLCBbMTI5LjA1NjU5MDg5NzQ0NjQ1LCAzNy42MTg2MzYzNDQ3MDkzMTZdLCBbMTI5LjExOTU4MTU0ODE2NzU2LCAzNy41NzM1MjM5Mzc4NjQ5N10sIFsxMjkuMTI0MTYzNjE5NzUyNTUsIDM3LjU1NDQ3OTU1MzAyNzg1XSwgWzEyOS4xMTUxODM0NTE0NTY0NiwgMzcuNTM2NjYyNDI4NzU2MDJdLCBbMTI5LjEyNDU3MjUzMTAzOTIsIDM3LjUxNzk4NjI0OTEzMjY3XSwgWzEyOS4xNjIyOTU4NjI3MjIxLCAzNy40NzM5MTkxMjE2OTE1OF0sIFsxMjkuMTkwMDAwMzI4NDQ5MSwgMzcuNDUzMDQzOTYwODMwMjVdLCBbMTI5LjIwMDIyMDQ4NjQwNzEyLCAzNy40MTMwNzc4NzM0MTI5MV0sIFsxMjkuMjIzNTUxNzU4MDE5MjUsIDM3LjM5NDE2ODU2MDI2MjZdLCBbMTI5LjI1Mjg4NTgxNTQzMzY0LCAzNy4zNzgxNTIzMDEyMDkyMV0sIFsxMjkuMjUzNTE5NTU3Mzg2NzQsIDM3LjM2MDYxNjk5NjA2ODYzXSwgWzEyOS4yNjk2MDAwNjMxMDg1MywgMzcuMzQwNDYzODE4MDE5MDk2XSwgWzEyOS4yNzIxMzIzMzk5NTgxMiwgMzcuMzE5ODMzODQzMDA5NDldLCBbMTI5LjMwNDYwMTUyNDk2ODc1LCAzNy4zMDEwNTY0Njc2Mjk4OV0sIFsxMjkuMzAzMTY2MzAzNjY1NzMsIDM3LjI5MDMzMDU1MjUxMTQ1Nl0sIFsxMjkuMzMxNTMxODk0Njk0NCwgMzcuMjc3NTAxNzY4NjAyMjY0XSwgWzEyOS4zMjkzNzk5NzM2NDIxNSwgMzcuMjYyODY4Mzg4OTU3OTU1XSwgWzEyOS4zNTkxNTMxNjgxOTczNywgMzcuMjMyNjQyNzI0MjgxMjddLCBbMTI5LjM0MzYxNzkzMTQ2MzcsIDM3LjIyMjc4NjY2MDYxNzI3XSwgWzEyOS4zNTAyNTE2NzE5MzY0LCAzNy4yMDkyNTE4MzM3MDYwNl0sIFsxMjkuMzQyMzk2MjU0NTExNTgsIDM3LjE5MTY1MjI0MjY3MjM3XSwgWzEyOS4zNDM5NTcxNTc0MTMyLCAzNy4xNzQ5MTY3MjI5NjEyNV0sIFsxMjkuMzY2NDA1MzI3OTA4LCAzNy4xNDM1MDAwMTIyMjg2XV1dLCAidHlwZSI6ICJQb2x5Z29uIn0sICJwcm9wZXJ0aWVzIjogeyJiYXNlX3llYXIiOiAiMjAxMyIsICJjb2RlIjogIjMyIiwgIm5hbWUiOiAiXHVhYzE1XHVjNmQwXHViM2M0IiwgIm5hbWVfZW5nIjogIkdhbmd3b24tZG8ifSwgInR5cGUiOiAiRmVhdHVyZSJ9LCB7Imdlb21ldHJ5IjogeyJjb29yZGluYXRlcyI6IFtbW1sxMjYuNjEwMDg1NzM0NDI2MDIsIDM3LjMwNjE2NzM5MzgxNjQ2Nl0sIFsxMjYuNTg1NzQ5MDMyNzUzNDMsIDM3LjI5MjE3NTUwNjY2NzA5XSwgWzEyNi41NzIyODExNTE1MjczOCwgMzcuMjc3MDIwNzAwNzU0MTg2XSwgWzEyNi41OTg5MjI3OTc2NDY3MSwgMzcuMjU5NTk3MTczNjU4MDY1XSwgWzEyNi42MTA4NTc0MTQ5ODAyOSwgMzcuMjYwMjA5MjMwNDUwNzJdLCBbMTI2LjYyNDY1NzUxOTgwMTY0LCAzNy4yMzM4MTExMzUxNzQzMTRdLCBbMTI2LjY1MjM1MzQ5MDYwNzY0LCAzNy4yMjI2NDM5MzYxMDM0Ml0sIFsxMjYuNjQ4ODk5MTg2MzA1NzMsIDM3LjIwNzkzMDY5ODgyODU4NF0sIFsxMjYuNjEzNjgxMTI2MTE2OTcsIDM3LjIxNjE4ODcyMDYxMjk1NV0sIFsxMjYuNjA1MDA1NTUwMjQwMTEsIDM3LjIwNDc3OTMzMzczMTUyXSwgWzEyNi41ODcyMTMwODM5MTY0OCwgMzcuMjE3NzU0MzU0NjU2OTZdLCBbMTI2LjU3MDU4MTU1NTM5MTY2LCAzNy4yMDE0NjU1NzM1NTUxMjZdLCBbMTI2LjU0NjQ2Mzg1MTY3NDQzLCAzNy4yMDM1MDcxNDg2OTMzMDVdLCBbMTI2LjU0Mzc1NjI2MTUyNTg0LCAzNy4yMjIyOTEwNTM3NTY1NV0sIFsxMjYuNTYyNTUwNjM4Mjk0MjQsIDM3LjIzOTQxNjQyMzM3MzY3XSwgWzEyNi41NjUwNzU2ODc3ODYzNiwgMzcuMjUzMzY3NzM3MTE4NTddLCBbMTI2LjU1MDY3MjQ2MzUwMTk4LCAzNy4yNzcxMjQwMTMzNTYwOF0sIFsxMjYuNTY5ODA0NjgwNjg2NDIsIDM3LjI3ODUyNDcxOTc2ODgyXSwgWzEyNi41ODEwNTc1OTUxODkzNSwgMzcuMjkzMTMyOTQxOTU4NDRdLCBbMTI2LjYxMDA4NTczNDQyNjAyLCAzNy4zMDYxNjczOTM4MTY0NjZdXV0sIFtbWzEyNy43NTAwODUyODE4NTAxOSwgMzcuMjEzODM2NDIxODk1Nzg1XSwgWzEyNy43Mzg5MzkxMTQ2NzEyMSwgMzcuMjA3MTU4MTgxMDAwODRdLCBbMTI3LjcyODc2NDIwMzEwNjgzLCAzNy4xNzk5NzUwMzU3MTUwOF0sIFsxMjcuNzIwMjE5MTU2MzQxNjYsIDM3LjE4MDk1NjkzMjI1ODZdLCBbMTI3LjY4ODYyMDc4NjQ3MjA3LCAzNy4xMzIxNzM5NzMzNzM4NDVdLCBbMTI3LjYzOTk4OTc0ODQxNjY1LCAzNy4xMzgxODUwMzE3OTQzMTVdLCBbMTI3LjYzMzI2NTk5NDY5NzQ3LCAzNy4wOTM0MzMxNzU5MTc5OF0sIFsxMjcuNjAzMDM5OTI2ODkwNSwgMzcuMDgyNjc4MTc3NTgwNDU1XSwgWzEyNy41NjgzNDM1MTk3ODgzNCwgMzcuMDYwMTU1NjA2MTkwNzhdLCBbMTI3LjU2ODgzMzY0MDI1MzI5LCAzNy4wNDQyNDgxMDIyNTE2NjVdLCBbMTI3LjU1NDg5MDk0ODQyMjYyLCAzNy4wNDE0NzA2Mjg5MzA3NV0sIFsxMjcuNTE3OTg2MDQ2NDg2NTQsIDM3LjA1NTI5OTAzNDIwNzg4XSwgWzEyNy41MDE0MzM1NzkzMzkwMiwgMzcuMDQ0OTE1MTQ4NjIwMV0sIFsxMjcuNDg4NjUyNTkzMDY3MTksIDM3LjA1MTQxNDAxMDE1ODY3XSwgWzEyNy40NTk4NTcwNjI2OTYxMiwgMzcuMDQwNzM5Nzk5OTkzNjNdLCBbMTI3LjQ2MDE0NTUzNzg5NTY0LCAzNy4wMTc3MjE0OTYxMzMwNTZdLCBbMTI3LjQzMTg5OTEzMTMwMzk1LCAzNi45OTkwMjc3MDgxMzQ4N10sIFsxMjcuMzk2MTcwMjk5ODU5NTUsIDM2Ljk5NTA3OTg1MDQwMzk5XSwgWzEyNy4zODcwNzE4NDA5MDg4NywgMzYuOTgxNTM0MjkzODM0N10sIFsxMjcuNDAzOTg5Njc3MDY0ODEsIDM2Ljk2NDg4MDkyMzg3ODk0NF0sIFsxMjcuMzgwNjU4MjI1MzkxNTYsIDM2Ljk0ODU5NjUyNzIzNzcyNl0sIFsxMjcuMzUxODYzMjQzNjEzNzUsIDM2Ljk0OTY5NzYxNTU0ODc3XSwgWzEyNy4zNDU1NTcwNzYyNDQ5NywgMzYuOTQxNDI1NjY0NTI1MDddLCBbMTI3LjMxMTI3MTM3MjAwMzU5LCAzNi45MjYyMjIwMjA4MTU2OV0sIFsxMjcuMjkxOTIzNzY5ODgyODQsIDM2Ljg5MDk0MjkyODc4NzQ1XSwgWzEyNy4yNzIyNzc4NDQzNjkwMSwgMzYuOTEwMzcyMjk4MTc3OTA0XSwgWzEyNy4yNDYxMzY1MjQ3NzEzMywgMzYuOTE0NTMxNjQzMzIzMjQ0XSwgWzEyNy4yMjIzMjM4OTc3NjQ2MSwgMzYuOTI3NDI5ODA5ODY1XSwgWzEyNy4yMDQwMDU0ODExNjA0NCwgMzYuOTQ5MjQ1ODgzMDk1MDRdLCBbMTI3LjE5MjIyNTYyNTI3Njg2LCAzNi45NDk5ODk1NzQ4Nzc2OV0sIFsxMjcuMTQ2NDEwMjU4NjcxODksIDM2Ljk2ODY0NTc2ODUyMjA0NV0sIFsxMjcuMTMyMzI0ODU1NjQzOCwgMzYuOTYyMzg3NzUyNDU1NzRdLCBbMTI3LjExNTUzNjc2NDIxMDc3LCAzNi45Njk3NDcyNTU3MDg3NV0sIFsxMjcuMDc2MDM3Njg0ODgxNCwgMzYuOTM1NTIzNTMxOTY0MjldLCBbMTI3LjA2Mjc0MDU5OTg5MDE4LCAzNi45MzY2NDg3MzEwMDU4M10sIFsxMjcuMDMzODMyODg1NDMwMjcsIDM2LjkyNTQ2OTI2NDk4OTg4XSwgWzEyNi45OTc1MDE2NTUzMjk2MSwgMzYuOTMyNjQ3NzY2NTg0OF0sIFsxMjYuOTEwODM2Njc5MjcyLCAzNi45MDIwODE1NjM1OTMyNl0sIFsxMjYuOTA2NTg3MTIwNjE2NjUsIDM2LjkyMzExMzY5NDU1MDI5NV0sIFsxMjYuODg5MDcwNTk4OTIwNDQsIDM2LjkzMzIyMTA5MDEwNTQzNF0sIFsxMjYuODY2MzA4MjEzMzY0MzYsIDM2LjkyOTgyMjE0NzA3NzY5XSwgWzEyNi44NjQ0ODk5MzI0NTgzMSwgMzYuOTQ1OTc5NDU2ODkzMjg0XSwgWzEyNi44NDgzNjgzMjg5NDA4NiwgMzYuOTU2NTUxMzE2NDUxNzZdLCBbMTI2LjgyNzQzODM1Njc4ODE1LCAzNi45ODQyNjI1ODc2NTkwMl0sIFsxMjYuODI2Mjk4OTU4OTk2NjUsIDM2Ljk5MzEwMzQzNzI5NF0sIFsxMjYuNzk5NjgxOTc5NTY1NTMsIDM3LjAwNTE3NDkzMTYzMzg1XSwgWzEyNi43OTExMzgxNDQxODkzLCAzNy4wMjYzMTQ1MDUwMjYwMl0sIFsxMjYuNzUzMDgwNTIwNTk5NzUsIDM3LjAyNjM5MzY5MjE1Njc0NV0sIFsxMjYuNzUwNDQyMTk0OTE3NjIsIDM3LjA0NjE4MDA2OTczNDA1Nl0sIFsxMjYuNzYzNDE0NjMxMDY4MTQsIDM3LjA2NTIyNjExMjUwM10sIFsxMjYuNzcyMzE0MzI0NTY0NjgsIDM3LjA5OTk4MzYxOTI3NzA3XSwgWzEyNi43NjEwMzM2OTYxNDI1OCwgMzcuMTA3Njc1OTI3ODczMV0sIFsxMjYuNzcwODE3MTA5MTA3OTEsIDM3LjEyNTA1MDExMDMwMzU3XSwgWzEyNi43OTcwMDYyNjEwMzExNCwgMzcuMTI2MTY4NjA4NTI0MTA0XSwgWzEyNi44MDY1OTI1OTY0NjExMywgMzcuMTQ4NjI0MjIzNzQwNzRdLCBbMTI2Ljc5MjQzNDM5NjMxNjcsIDM3LjE3MjQ4MTAzNjM2OTIxXSwgWzEyNi43ODAwNTQ2NTY5Nzk3MSwgMzcuMTYxODM0OTU1MjUwMTNdLCBbMTI2Ljc0ODU5MjMyODc0MjcsIDM3LjE2MjY0MjM1ODgzMDE4XSwgWzEyNi43MzAxNDA3Njk5MTI5OCwgMzcuMTM1OTE0NTI0NDY1MzU2XSwgWzEyNi42OTA1NDg2ODg5NzU2MSwgMzcuMTEzMjY5MzI5NTA3ODddLCBbMTI2LjY3NTE0NDYzNDk4ODE5LCAzNy4xMzUwNzA2MzgwNTU5OV0sIFsxMjYuNjg0NjI5MDY3MDUwMjUsIDM3LjE0NjAwODYwNDIyMjY4XSwgWzEyNi42NjI3MTkzNTAwOTI5OCwgMzcuMTU5MjY5ODYxMzAyMjhdLCBbMTI2LjY2ODMwMTk0MTQzNTIyLCAzNy4yMDU4MDgyOTU5NDE1OF0sIFsxMjYuNjc5NDU0NjkyMTY3LCAzNy4yMjA3NjA3ODA0MDcxXSwgWzEyNi42NjY1OTc4MTAwOTM1NSwgMzcuMjMzOTUzMTQ0MzQ4ODFdLCBbMTI2LjY4ODgwNDA0Njk0Nzc1LCAzNy4yNTk4NzY0ODE1NjM5OV0sIFsxMjYuNzM2MTA2MjEwNjMzMTgsIDM3LjI0NzUxNzk1NTgwNjgyXSwgWzEyNi43NTkwODUyNjQ0NTg1MiwgMzcuMjUyMjE2NTI3Mjc4ODhdLCBbMTI2Ljc5MTQ0MjYwMTgzNzIzLCAzNy4yNDE1NDE5MzQ4ODMwOV0sIFsxMjYuNzkyMTkwOTU3NTkwNjIsIDM3LjI2NDQ5MTYwNjM1Mzg4Nl0sIFsxMjYuODI3ODE5OTk4NTk4NzYsIDM3LjI4NTk4MjU5OTc0ODczNV0sIFsxMjYuODA2MjYwMTY3NDA0OSwgMzcuMjkzNDI2MTgzMDE5MV0sIFsxMjYuNzc0NjYzNDAyMDQ2MTQsIDM3LjI4NjU3Nzc1MTY1OTUyXSwgWzEyNi43Mjc2NTAyOTIwMTE4NiwgMzcuMjk5NDk3NzEwMzA5MjFdLCBbMTI2LjcyNDg3NTI2Nzc5MzYyLCAzNy4zMTA1ODQ0MDg0NjA5OV0sIFsxMjYuNjk0NTM0MDYxMjk5MjgsIDM3LjMzMTA2NDc3Nzk3NTM4NV0sIFsxMjYuNjkwNTE5MzM2NzkwNjksIDM3LjM0NjAzOTkzMTk4NjI0XSwgWzEyNi43MDI5ODg0MzA5MDczMSwgMzcuMzUyMTE5NTczMjUxMzE1XSwgWzEyNi43Mzg2MTg2MjAzNDQ0NSwgMzcuMzkyNjExODU4MjYxMTRdLCBbMTI2Ljc1NTI5Mjg3MjM1MTM2LCAzNy40MTk4NDIxNzgwNzc5XSwgWzEyNi43NzExMDU5OTk0MDY4MSwgMzcuNDI0NTI5NjEwOTYzNzldLCBbMTI2Ljc4MDQzMzcxMDYyMzY1LCAzNy40NDgwMDM0MzcxNDM2NTVdLCBbMTI2Ljc3MDE5NjYxOTM1Mjg5LCAzNy40Njg4MzA1NTI2MTI4OV0sIFsxMjYuNzQ0NDc2Njc4MzgzLCAzNy40ODM4ODUyMzcxMjk0XSwgWzEyNi43NDcxNzk0OTIzNTM2NSwgMzcuNTExMjgzNDQ4NTg1NTE2XSwgWzEyNi43NjIyNzczNzkwMTQ1MywgMzcuNTEzNjIyNTQzMzg5MjQ2XSwgWzEyNi43Njk3OTE4MDU4MDk0MiwgMzcuNTUxMzkxODI5Njk0NDJdLCBbMTI2Ljc3MzI0NDE3NzQ3NDQ1LCAzNy41NDU5MTIzNDUxMTI4MV0sIFsxMjYuODI0MjMzMTQyMTIyMDEsIDM3LjUzNzg4MDc4NzEzNzk0NF0sIFsxMjYuODMwNTQ3MTE0NTQ0MDIsIDM3LjUyMzkwMjYxNDYyOTZdLCBbMTI2LjgxNjQ5NzQ1NTA2ODgsIDM3LjQ5MDQ1NTgwOTc0Nzc4Nl0sIFsxMjYuODI0MTkzNjU3Mjg2OCwgMzcuNDcyOTUxMDgwOTU5NTJdLCBbMTI2Ljg0MTU0MjY0NDY3Mjc3LCAzNy40NzI4OTgwNDE1MDYzMDVdLCBbMTI2Ljg2OTg1MDg4MTE2NzU4LCAzNy40OTA5NzI4NTY1MzMzN10sIFsxMjYuOTA0ODc2MjgwNTI0LCAzNy40MzEyOTk5NjM3ODI0XSwgWzEyNi45MjgwOTU1OTY4NTUxLCAzNy40NDU2NzAyMzcwMzM5MV0sIFsxMjYuOTQxNTI5MjE4MzYzODgsIDM3LjQzMzE1MTM5NjMxNzg2XSwgWzEyNi45NjUyMDQzOTA1ODM3NSwgMzcuNDM4MjQ5NzgzNjEyNDRdLCBbMTI3LjAwNTUyMzYyNjY0NTgzLCAzNy40NjQ0NTEwMjg1NDE5OV0sIFsxMjcuMDEzMTYyNTY1MzA0NTUsIDM3LjQ1MjU3OTA2NTI2ODY2NV0sIFsxMjcuMDM4ODE3ODI2Mjc2MjcsIDM3LjQ1MzgyMDM5ODEyMzM0XSwgWzEyNy4wMzc1MTgwNTU5ODM2NCwgMzcuNDM4MzYyNzk0ODUxNTZdLCBbMTI3LjA1NDI0NTU2MDY1NzQ1LCAzNy40MjU3NDkyOTgyOTg1OF0sIFsxMjcuMDY3NzgxMDc1Nzg2MTQsIDM3LjQyNjE5NzQyMzY2Mzc0XSwgWzEyNy4xMDAzMjQ2NjgxODM3NSwgMzcuNDU1OTg0NDAxNTYzMzJdLCBbMTI3LjExOTU3MjQ4NjY1NzMzLCAzNy40NTkzNjIxNzM4MzM5NDVdLCBbMTI3LjE0ODU3NTgwMzI2NDc1LCAzNy40NzM4MTM4NjM0MzIzMDVdLCBbMTI3LjE2MzQ5NDQyMTAyNTc3LCAzNy40OTc0NDU0MDYxNTUwN10sIFsxMjcuMTQyMDg2NDQ3NTU0MDgsIDM3LjUwNTc4OTczNzg4NDk1XSwgWzEyNy4xNjUzMDk4NDI1MjM0NCwgMzcuNTQyMjE4NTEyNjQ0NTJdLCBbMTI3LjE4MTE2NDY1OTEyNDU5LCAzNy41NDM4NDEyNjU4Nzg1MDVdLCBbMTI3LjE4NDA4NzkyMzAzMzM2LCAzNy41NTgxNDI4MDM3NTMwMV0sIFsxMjcuMTc2MDcxMTg0MDE5ODYsIDM3LjU3Njc4NTczOTIxNzI1XSwgWzEyNy4xMDMyNTc0Mjc2NjM1OCwgMzcuNTU3MjI1MTcwMzU2NjNdLCBbMTI3LjEwMzU1NDE5NzUyNjQ4LCAzNy41ODEwMTU3MDg3NjUxXSwgWzEyNy4xMjAxMjQ2MDIzMDkzMywgMzcuNjAxNzg0NTc2MDM4NDFdLCBbMTI3LjExMDE0MDg0OTQyODksIDM3LjY0MTg1MDYxMzk1MDQ4XSwgWzEyNy4wOTQ0MDc2NjI0MzQ3MywgMzcuNjQ3MTM0OTA0MzM3MTY1XSwgWzEyNy4wOTcwNjM5MTMzOTQ2MiwgMzcuNjg2MzgzNzE4OTc4MzU1XSwgWzEyNy4wODM4NzUyNzAzMzM3OCwgMzcuNjkzNTk1MzQxNjI2NjNdLCBbMTI3LjA1MjI1MDA3MzE2NzI5LCAzNy42ODUxMDE2MTY0MzU0NzVdLCBbMTI3LjAxODAyNDUzMzk4MTU2LCAzNy42OTgyNzU5Mzc1MTI5MV0sIFsxMjcuMDA5OTk5NjU4ODE1MTUsIDM3LjY4MTkwNDE4ODE3OTY5XSwgWzEyNi45OTUwNjAyNjgwNDQ5NCwgMzcuNjc0ODI3ODg1MzQyNTldLCBbMTI2Ljk4MTc0NTI2NzM4NjQzLCAzNy42NTIwOTc2OTM5MzQ1NF0sIFsxMjYuOTg3MDExNDE0NTAwNzMsIDM3LjYzNDQ1MDI5MTk5MjVdLCBbMTI2Ljk3NzMzOTg2ODE3OTIxLCAzNy42Mjg1ODY3NzA1NjU4MV0sIFsxMjYuOTQ5NDAzNzMwMzQwNDksIDM3LjY1NjE0NTk3OTE5MjMzXSwgWzEyNi45MTQ1NTQ4MTM3NDUwNiwgMzcuNjQxNTAwNTA5NTc1MjRdLCBbMTI2LjkwMzAzMDY2MTUwODE0LCAzNy42MDk5Nzc5MTE0NTc5NV0sIFsxMjYuOTAzOTY2ODA5NDg0MzQsIDM3LjU5MjI3NDAzNDI1NThdLCBbMTI2Ljg3Nzk2NjE1NjkyOTQzLCAzNy41NzY4MDEzMzMyOTUzMzZdLCBbMTI2Ljg1MzAyODIzMzgxNDE5LCAzNy41NzI4MjQ2ODg0Mjg1NzVdLCBbMTI2LjgyMjUxNDM4NDUwMzYsIDM3LjU4ODA0MzA4MDYxNDA4XSwgWzEyNi44MDc1OTAwNjk4MDY1NSwgMzcuNjAwODk3NTUwODU0MDddLCBbMTI2Ljc5NTc1NzY4NTUwNzM0LCAzNy41Nzg4MTA4NzYwMDM2XSwgWzEyNi43NDU3MDMzOTA3NDA1NCwgMzcuNTkwNTU3NzkyMjM0MDQ0XSwgWzEyNi43MjczMTI4Njk3NjU1MSwgMzcuNTg5MzE4OTcwMjgxMTNdLCBbMTI2LjcwMDcwODYxNDU0MzUzLCAzNy42MTQ2NzM0MzI2MDk0NjRdLCBbMTI2LjY1OTE4MDA4OTY1OTc2LCAzNy42MzUyMTc4NzM1MjE4OV0sIFsxMjYuNjM4MzU4MjI3NjcyOTEsIDM3LjYyNTAwOTgwNDI1MDk4Nl0sIFsxMjYuNjI5ODE4Njc5MTg0NDgsIDM3LjYwNDEwOTg3MzIwNTUxNl0sIFsxMjYuNjEwNjcyNjU4Njk3MTQsIDM3LjYwMTAwMDczNTAxOTAyXSwgWzEyNi41NzQ2NDI3Mzk2NDAzMiwgMzcuNTg0OTkyNTIzMjU1MDZdLCBbMTI2LjU1NjIzMTA2OTY3ODI5LCAzNy42MDY1MTIyMTcxMzQyOTVdLCBbMTI2LjU1MTYxNzY1NjQzNDAyLCAzNy42MjQyOTg1NTQzODcxNF0sIFsxMjYuNTMxMDE2ODk2OTQ5MTMsIDM3LjY1MDE5MDU3Njk4MDQxNF0sIFsxMjYuNTM3MzY0MDUwOTkxODcsIDM3LjY2MzU1MTM2MzI1NjE1XSwgWzEyNi41MjUwNDI2MjA0MzMxNywgMzcuNjczNzM2MjYyNTUwODI1XSwgWzEyNi41MjkzNDIwNjUxNDE2MiwgMzcuNzAwMzYzNzc2MjA5MzhdLCBbMTI2LjUyMDU3NDk3NDIyODQsIDM3LjcwOTk1MTMxMzkzMDc2Nl0sIFsxMjYuNTI4MDc4MTY5MTc5NzQsIDM3LjczNTMxODQ2OTIwNzY5XSwgWzEyNi41Mjk5MDYyOTkxNDM1OSwgMzcuNzQ1NjI0OTEyMzUxODE1XSwgWzEyNi41MTY2MjQwOTU5ODc5NSwgMzcuNzY0MTc4MjIyOTM4Ml0sIFsxMjYuNTM4MzkwNzI2NDk1MTEsIDM3Ljc2OTEyODYyMjU1OTA0XSwgWzEyNi41NTcyMTg5NDIyNTk2MSwgMzcuNzY2MjExODAxMzU0MjZdLCBbMTI2LjU2ODgyNjAyODM5NzM0LCAzNy43NTMyNTY1NDI3ODQwNV0sIFsxMjYuNjExNTM2NTU3ODEzMjEsIDM3Ljc1MDEzNjY2NDUyNjgwNl0sIFsxMjYuNjQxMDE0MzkwMTAwMiwgMzcuNzc1NjYzNDk1OTcxODA2XSwgWzEyNi42NjQyMzMzMDgyNTA1NiwgMzcuNzg3Mzg0NTY5MTE4NjldLCBbMTI2LjY3NjAzODc0NzI0NzI1LCAzNy44MjgyODQyNzIwODkwOV0sIFsxMjYuNjYyMjcwNjQyMDE0OTIsIDM3LjgzNjA2NDEwMzI4NTk0XSwgWzEyNi42OTM0ODg5NjAzNjQ3MywgMzcuODY0NDI5NTc0NDA0MV0sIFsxMjYuNjczODIzNDYxNjIyMywgMzcuODg0MDE3NTU3OTU1NDFdLCBbMTI2LjY3OTQ1MDY3MTU1NDc4LCAzNy44OTQ5NzQwMjQ2NTcwNF0sIFsxMjYuNjY3NjM1NDE1Njc3NTIsIDM3LjkxODM4MzQwNjMwNTg1XSwgWzEyNi42NzUwMTc3MTUyMjc2NywgMzcuOTUyNzE0OTUzNTU5NTM2XSwgWzEyNi42OTI1NzM2NDg3MzAzNiwgMzcuOTQxMTQ3MTUxMTI3OTddLCBbMTI2LjcxNjQ2ODU4NDU5MzUxLCAzNy45MzcyMjIzNjEyODY2OV0sIFsxMjYuNzQ2Njg0NDE2NTIyOTQsIDM3Ljk0OTEzMzU2ODU4NDYxXSwgWzEyNi43NDIwNDYyOTUxNzEzNSwgMzcuOTY5OTUyNjU4NDYzNDZdLCBbMTI2Ljc2NTIwNTI5NzgyMDEyLCAzNy45ODIzMDc3OTk2NTI3OV0sIFsxMjYuNzgyMzg1NDI3MjYzNzgsIDM3Ljk4MDA0MzY0MDc0MjE5Nl0sIFsxMjYuNzk4NDg5NDM1NTQ1MzMsIDM3Ljk5MDk0ODQwNDExNTc3XSwgWzEyNi44MzE2NDI1NjUyMDc5MywgMzcuOTkwMzU0Mjk2ODMzOTVdLCBbMTI2LjgyNTIzMjA2NTA0NTE0LCAzOC4wMDkxMzM5NzgyMTk1MTZdLCBbMTI2LjgzMzkyOTg1MTM4MTU4LCAzOC4wMzEwMDcwMDAyMTc1OV0sIFsxMjYuODU1Njg3NjQxNzM5ODgsIDM4LjAyODczNjM5NzY0NjExNF0sIFsxMjYuODc0NjM1MjQ5MTMwOTgsIDM4LjAxNTgxOTYzMjYyNTEyXSwgWzEyNi44ODI1MTIzNzE3MDY1LCAzOC4wMzY0MTA2NzM2MjY1NV0sIFsxMjYuODk0OTIyMDU2MjU4OTksIDM4LjA0ODU5OTk5OTU5Nzc3Nl0sIFsxMjYuODk1MzgxNjczODYyNjQsIDM4LjA3MTY0ODE0MjA3NzI4XSwgWzEyNi44NjkwNDQ2ODU4MDU1LCAzOC4wNzc1ODI0MzYwODU3XSwgWzEyNi44NTIzNDU4OTI5OTkwOCwgMzguMDkyMjEwNzIzODc1NTddLCBbMTI2LjgyOTYzNTAwMzUxODEzLCAzOC4wNzU4MzQ3OTA3ODg3NzVdLCBbMTI2LjgyMzYxMjM4NDU3ODAzLCAzOC4wODU0NTczMDMzNzU4Ml0sIFsxMjYuNzk4MjMzNjgxMTU5NzksIDM4LjA3OTM5NjI0MjQyOTIwNV0sIFsxMjYuNzg3MDkzNzk1ODgyMTcsIDM4LjA5NjI2Njg5NjM4ODkyNl0sIFsxMjYuNzUwMTQ4MjMwNjg5NjcsIDM4LjEyNTA3Mjc3MTg0NzZdLCBbMTI2Ljc3MTg3NjY0MDc4NTMyLCAzOC4xNTIwMjI1ODczMjc0OF0sIFsxMjYuODI3ODc5MDg3Nzk2NTcsIDM4LjE5NTQ4Njk3NDUwODI1XSwgWzEyNi44NzUwNjY4MjkyMzgwNCwgMzguMjIwMzU3MjUzMzg2ODNdLCBbMTI2Ljg5NzQzMzMwMDIxMDQ3LCAzOC4yMDE4MDUyMTU1OTMxNTRdLCBbMTI2LjkyNzgxNDgwOTgzMTQsIDM4LjIwMDg1NDY1NDY4NTgyXSwgWzEyNi45NTQ1OTAxMTg2Mzg5MywgMzguMjA3ODY1MjI3OTMyNjY1XSwgWzEyNi45NjcxMTEwNTU2NjkyMiwgMzguMTk1MDYwNjU3MDU5Mzg2XSwgWzEyNi45ODYwNjE3MzIyOTE0NywgMzguMjA5NDAxNDI0NDM0Njk1XSwgWzEyNi45Nzc0MDAwODQwNzQ2NSwgMzguMjMxMzYwNDI1MzI1NzA0XSwgWzEyNi45OTI4NjMxMjQ3NTA0LCAzOC4yMzQxMzE2MjEwNzQ0OV0sIFsxMjcuMDI4MDEwMDc0NDQ2OTMsIDM4LjI1NDU0OTcwNjMzMDUzNl0sIFsxMjcuMDcyNDk5MTk2NTg5NTIsIDM4LjI2ODAxMjE4OTY3Njg3XSwgWzEyNy4xMTE0MDI5Nzk3OTQ4LCAzOC4yODkzMjQ2OTg0MDk3Nl0sIFsxMjcuMTE2MTA2ODI2NzQ3MzYsIDM4LjI2MjU1NzY2NzI4NjY3XSwgWzEyNy4xMTIyNDY2Mzg4MTIyOCwgMzguMjM5NDQzMTIwODY2NV0sIFsxMjcuMTMyNDM3NDgwMTQzMDMsIDM4LjIyOTg2NDc2MTU4NDcyXSwgWzEyNy4xNTA2MzYxNTc0NDY0NywgMzguMjM5NzkxMzE1NDU5ODZdLCBbMTI3LjE2NDYxNjI4MzQ1OTgsIDM4LjIyOTQ5NzY2NDY2Nzg2XSwgWzEyNy4xNzE2ODQ2MDc4MjE2NSwgMzguMjExMTI3MTk2OTQ0NjY2XSwgWzEyNy4xNjg1NzA4NjAzNzgwNSwgMzguMTk2ODEwODk2MzMzNjRdLCBbMTI3LjE4MTUwMTgyNDAwMTE3LCAzOC4xODE5MjcxOTE1ODIzNDZdLCBbMTI3LjE5MjExNzQ0NDU2ODQ0LCAzOC4xNTc5NjMxMzk4MjQyNl0sIFsxMjcuMjI1Mzk1NTIwNzc4MDgsIDM4LjE0NDEyODIxNzQ3ODI1NF0sIFsxMjcuMjU4MDI5MzU2NTc3MTcsIDM4LjE2MDQ4ODc5OTY2NzMzNF0sIFsxMjcuMjczMTk5ODA5NjYyMTMsIDM4LjE3OTA4NjY1MzA2MzddLCBbMTI3LjI5MTQ2NzI3NzIyMjM0LCAzOC4xNzQxNzA3NjI4MzcxMzZdLCBbMTI3LjI4OTM3MDY3Njg2NCwgMzguMTQ5NTk3NDk4NDI2NjldLCBbMTI3LjI3NzkwNjQxOTg0NDM3LCAzOC4xMzQ0OTAzMjA5OTkwOF0sIFsxMjcuMjg1MzM3OTcyMTM2MTMsIDM4LjExMzc0NTM2MDczMDc1XSwgWzEyNy4zMTM0Mjc5NDkzNzE3NCwgMzguMTEzMjM5MTc4MTg2NDRdLCBbMTI3LjMyMzMyODk3ODk3NTUsIDM4LjA5MjQ4NzQ2MTM2ODg2XSwgWzEyNy4zODU3NTkyNDg0NzI1MiwgMzguMTExNjUwMDIxNDcxNzNdLCBbMTI3LjQwNTU5MjMwMzE4NjU3LCAzOC4xMDk5MzUxNjQ4MjE4OF0sIFsxMjcuNDE0OTkxNzM2ODk0NjgsIDM4LjA5OTMzNjYwNjY1Nzc4XSwgWzEyNy40MzMwMTcyOTc4ODUwMiwgMzguMTEyNDQ1MjQ2Njk0NDU2XSwgWzEyNy40NDMxNTMxMzMwNDg3LCAzOC4xMDU0MzM5NDAyMzczMV0sIFsxMjcuNDQ5MTA3MzM0NzkyNjksIDM4LjA2ODI2MDczOTkzMzY4NV0sIFsxMjcuNDQ1ODU3MDEzMzUwMjUsIDM4LjA1NjI3MDQ1MzkyNzIwNV0sIFsxMjcuNDYwMTM3OTM3Mzg0MjIsIDM4LjAxMzQ4NjAzNDkyOTNdLCBbMTI3LjQ3NDMwODEwODA2MDY0LCAzOC4wMDMzMTUzMTcxNjA1OF0sIFsxMjcuNTAzNTY0MjY2OTgwNzcsIDM3Ljk5NjgwODE1Nzg1NTczXSwgWzEyNy41NDE3ODk2NTUxOTE0NywgMzcuOTk3ODM1MzE2MDc3OTQ2XSwgWzEyNy41NDk5NTA0NjczMzY1MiwgMzcuOTc1NzYwOTg4MjU0NTZdLCBbMTI3LjU0NjQ4MTkxNzc4MzM4LCAzNy45NjUzNjY5MDA0MzI0Ml0sIFsxMjcuNjA1MTU0NzIzMjAxMzIsIDM3Ljk1MjMzOTYwMTQ2NTUxXSwgWzEyNy42MTU5MjI3NDU5Mzk4NywgMzcuOTM2NjI4NzMxMDE3Ml0sIFsxMjcuNjE5ODgzNjUzNzg1NjUsIDM3LjkwMzc2NjIxNDM0NzU1XSwgWzEyNy42MDMyNjA0ODc4ODk4LCAzNy44NzE4NTc5NzUzNDU5OV0sIFsxMjcuNTg2NTEzNTQyNjY5MTcsIDM3Ljg3Mjk2NjU0NTMyNzIzXSwgWzEyNy41NjQ1ODA4Njg0NTU4OCwgMzcuODUyNzEwMDg0OTYxNjJdLCBbMTI3LjUzNDY3ODY2MjM2MzA2LCAzNy44MzkxMTM0MTA3NzY1NTVdLCBbMTI3LjUyNzgwNTY0NTY4Njg1LCAzNy44MjA1OTM0NjUxMjU3M10sIFsxMjcuNTM3OTA4MTE1NDM5ODYsIDM3LjgwNjI5NzE0MjAzNTc2XSwgWzEyNy41MjM3NDQ4NzI0MzE2OCwgMzcuNzg4NTY0MDc2MzYwNzNdLCBbMTI3LjU0NjY4OTI3NjcxMjMsIDM3Ljc1NzU0Nzg5OTI0OTE0XSwgWzEyNy41MDk3OTgwNzcwODI1OSwgMzcuNzI3OTE1NTMyMTQyMDZdLCBbMTI3LjU0Mjk1NTkxNTE2OTQ2LCAzNy43MTYzMDgyMzU3OTk2M10sIFsxMjcuNTY0NTU0MzcxODgyNjQsIDM3LjcxODI1NjEwMTM2MzA5XSwgWzEyNy41NTIzMDEzMzU3MzExNywgMzcuNjgyNjc2ODYwMzQyODldLCBbMTI3LjU1NDk2MDUyMTc4MTg4LCAzNy42NTg3NTc3NTc5OTg1OF0sIFsxMjcuNTM5MTcwMzE4NjI0NTEsIDM3LjY0MDIxMDU2MTUzMDE5XSwgWzEyNy41NjExMzUzNTg1NDAyMywgMzcuNjI1NjU2MDUzNTM0NzI2XSwgWzEyNy41ODE2NjcwMTQ3MTU4NSwgMzcuNjMwMzMzOTMzNDk2NTNdLCBbMTI3LjYwNDUwNTY5MDkyODA1LCAzNy42NDg1NDg1NTIwMzM1NV0sIFsxMjcuNjI5NzIwMzI3MjM0MSwgMzcuNjM5ODMxMjI5MzQzNjJdLCBbMTI3LjY1NTUzMDcwOTkzMDA2LCAzNy42MTk1NDU2NTA5NjA3MV0sIFsxMjcuNjk4NjkzODM4Njk0OTgsIDM3LjU5NzU3MDMxNDE1NDM0XSwgWzEyNy43MTAyODEwNTUxMjc0NSwgMzcuNTgzNjAxMjg2NDM2MDddLCBbMTI3Ljc1NjE0OTE0MTQyNTY3LCAzNy41ODk0Nzc0MjQzMjgwNDVdLCBbMTI3Ljc2ODM4Nzc2NzA4NzM4LCAzNy41ODAxNzgyMTYxOTEzNV0sIFsxMjcuNzk0OTI1NjQ4Mjg1NDQsIDM3LjU4MjUyOTc4MzM5MjQ5NV0sIFsxMjcuODE1MDc5NjQwNDQxOTgsIDM3LjU2MTgzODkwMTgyOTAyXSwgWzEyNy44NTE2MjY0MjkyNDUzNCwgMzcuNTUwNDA3NDQ2NTkxNjhdLCBbMTI3Ljg0NDU3NjkyOTk2ODg4LCAzNy41MzYyMTc4OTcwNTU3M10sIFsxMjcuODA4NTU5NzE5Njg1OCwgMzcuNTMyMjA0NTA5MjIxNjFdLCBbMTI3Ljc3NjExNTI3NjUzMjU0LCAzNy41MDMyODYxNTcyMzk5OV0sIFsxMjcuNzc2NjQ3OTgyNTMzOTksIDM3LjQ4ODgzNjM1OTM4NzUwNl0sIFsxMjcuNzk4MzM0OTIxNjQ2NTcsIDM3LjQ2MDUwMDIzNzkyNzIzNV0sIFsxMjcuODA2MTMzOTMzNzM1NzEsIDM3LjQyNjMwMDE5NDk1MzQyXSwgWzEyNy43OTY3ODEwMjI4Nzg1LCAzNy40MjE0MzA0NjgxMzA1NF0sIFsxMjcuNzgwMjg1NDY5NzE5MTUsIDM3LjM4NjE5MDEzMTAxODgzXSwgWzEyNy43Nzk1MjQwMjE1NTgwNywgMzcuMzY4NDQxNzg5NDUzNl0sIFsxMjcuNzYxNjUzODExMjI4OTQsIDM3LjM2NDIxOTI1OTY0NjU4XSwgWzEyNy43NjE5MzUyNzMwMjE5MywgMzcuMzI3MjQ3MDg4NTg1Nl0sIFsxMjcuNzcwNzM5MDIzNzM4MjcsIDM3LjMwNDk5OTA2NzM0NzY4XSwgWzEyNy43NTY5NzUwMzMwMzIzOSwgMzcuMjk0OTY5MjA5ODc3MzhdLCBbMTI3Ljc2MDQ3NTM3NzUyMTMyLCAzNy4yNTUxODkzNTQwNTIyM10sIFsxMjcuNzUxMDI1MTE1MTQ4NSwgMzcuMjQ0NjQxMjkyMDI5ODhdLCBbMTI3Ljc1MDA4NTI4MTg1MDE5LCAzNy4yMTM4MzY0MjE4OTU3ODVdXV1dLCAidHlwZSI6ICJNdWx0aVBvbHlnb24ifSwgInByb3BlcnRpZXMiOiB7ImJhc2VfeWVhciI6ICIyMDEzIiwgImNvZGUiOiAiMzEiLCAibmFtZSI6ICJcdWFjYmRcdWFlMzBcdWIzYzQiLCAibmFtZV9lbmciOiAiR3llb25nZ2ktZG8ifSwgInR5cGUiOiAiRmVhdHVyZSJ9LCB7Imdlb21ldHJ5IjogeyJjb29yZGluYXRlcyI6IFtbWzEyNy4yODc3NDU1NTkyNDMxNSwgMzYuNjg4MDM0OTIzNzU1MjddLCBbMTI3LjMwOTczMTMxMDEzNTM1LCAzNi42Nzg3MjY5OTM3MDYzOF0sIFsxMjcuMzAyNTAyNTM0MTQ1ODMsIDM2LjY1NTUzMzQ5MzgzMTYyXSwgWzEyNy4yODkwNzU2NDE5NDcxNSwgMzYuNjUxMjY1NjgxODcyNTRdLCBbMTI3LjI4MTMyNzA0MDQxODc0LCAzNi42MzIyMTE0ODkyNzE4Ml0sIFsxMjcuMzAyOTg1NTc1OTgxNSwgMzYuNjEyNjMxMTc0MzcwMTY1XSwgWzEyNy4zMTAyMjAzNDM3NDg1NywgMzYuNTgwNTczMjM2NTMxODddLCBbMTI3LjMyNjc3ODY1NjcyNjczLCAzNi41NzgwNzI2Nzg1OTUxOV0sIFsxMjcuMzM5MTkyNDUyNzk5MjEsIDM2LjU2MDIzMTIyNDAzOTgxXSwgWzEyNy4zNzQ2OTI0MDc1MTQzMywgMzYuNTU3MTk5MzE1MDMzMTldLCBbMTI3LjM4NTYxNTM5OTAwMDMyLCAzNi41MzkwODgzOTI3NDQ4OF0sIFsxMjcuNDAzOTUzMjQxMTkzOCwgMzYuNTM4MzIzNDc0Mzk5OTddLCBbMTI3LjQxMTAyMjczNTMzMDIsIDM2LjUyMDk0NTc3MzUwMTM1XSwgWzEyNy40MDkwMDMwMzU3NTIzMiwgMzYuNDkxOTE5MDA2OTExNzFdLCBbMTI3LjM5Nzc5NjQ2Nzk4Mjk3LCAzNi40ODg2ODkwMzEyODY5NF0sIFsxMjcuMzgzMjkzNjk1ODkzMjYsIDM2LjQ5NzEwMDMwNjU2Mjg3XSwgWzEyNy4zNjEyNzcxNTE5MzU1MSwgMzYuNDgyNDY3NjY1NTMxMjddLCBbMTI3LjM2MzExOTQ5MDA5Mzk2LCAzNi40Njc2NTQ1MzQ4MTU1MTZdLCBbMTI3LjM1NTIxMTkxNjg1MDE3LCAzNi40NDQ5Nzg4ODY0MzUzOF0sIFsxMjcuMzI4ODU4OTk3OTM3MzYsIDM2LjQxODk4MjgzMTA3MjE2NF0sIFsxMjcuMjk2MzUyMjI2MjY4NzEsIDM2LjQxOTI2OTA4MjkwNzYyNl0sIFsxMjcuMjg0NDMxNjE2MDA5MjYsIDM2LjQxMTYwNjYyMzk1NDc3XSwgWzEyNy4yNjAwMjI2ODkyMzkwNCwgMzYuNDA1MzAwOTk0NTkwNTJdLCBbMTI3LjIyNzc1NTA5MDE4Njk1LCAzNi40MTkzNjUyOTUxODYzN10sIFsxMjcuMjAzNDk5NDU4MjQ2MzYsIDM2LjQzOTA0ODE2MTk4NzU3XSwgWzEyNy4yMDY4NDM4NzAzMTg4MiwgMzYuNDU2MzY1MDAzMjk5NV0sIFsxMjcuMTcyODk4MzEyOTIzNSwgMzYuNTA4OTQ2MTc3MjU4ODNdLCBbMTI3LjE4MzgzNzc4OTg4ODMyLCAzNi41MTkzMjM0ODAwMDI1NF0sIFsxMjcuMTc0Nzc2NzAwMzU1MTUsIDM2LjUzMzIyNzM4MjkyMTk2XSwgWzEyNy4xOTU4OTc5MjAxODk2NSwgMzYuNTYxODk5NDYzNTgwMzNdLCBbMTI3LjE5NTEzMzc0MzUxNDU1LCAzNi41Nzc4NDM2NzMzNDAxMjZdLCBbMTI3LjE4MzkwMDIyMjc0MTg1LCAzNi41OTI1MDM1OTQzMTQwN10sIFsxMjcuMTU3NzAyMDQ5MTMxMTIsIDM2LjYwMzIzMjg1MTA2MDAxNF0sIFsxMjcuMTU5OTQ3MDMyMzgzNywgMzYuNjMyNjYzNzAxMDEwMzRdLCBbMTI3LjE1Njg3NjA2ODExMTUyLCAzNi42NjE5NjM2MzM0ODU3N10sIFsxMjcuMTY2NTA5OTQ1MTMyNCwgMzYuNjc1NDQxMDQxNzUwOV0sIFsxMjcuMTYyOTc0NzExMTI5ODIsIDM2LjY4OTA5MDY4NTM1NDkzXSwgWzEyNy4xNDUzMzQzNjIxMzI3NywgMzYuNjg4NTg2NDQxMjUyNDRdLCBbMTI3LjEzNjE4MDY2Mjc2NjU2LCAzNi43MDM2ODEyNzUxNzA0XSwgWzEyNy4xNjU0NjY4MTAzNjMsIDM2LjczMDc0NzY4MDc1MDQzXSwgWzEyNy4yMDYyOTQ1NjUyOTA0MiwgMzYuNzIxOTQ5MDA2NDMyNzRdLCBbMTI3LjI1MDIzOTE2MDA4NDE2LCAzNi42OTIxNzI1NTU4MjYxNl0sIFsxMjcuMjg3NzQ1NTU5MjQzMTUsIDM2LjY4ODAzNDkyMzc1NTI3XV1dLCAidHlwZSI6ICJQb2x5Z29uIn0sICJwcm9wZXJ0aWVzIjogeyJiYXNlX3llYXIiOiAiMjAxMyIsICJjb2RlIjogIjI5IiwgIm5hbWUiOiAiXHVjMTM4XHVjODg1XHVkMmI5XHViY2M0XHVjNzkwXHVjZTU4XHVjMmRjIiwgIm5hbWVfZW5nIjogIlNlam9uZ3NpIn0sICJ0eXBlIjogIkZlYXR1cmUifSwgeyJnZW9tZXRyeSI6IHsiY29vcmRpbmF0ZXMiOiBbW1sxMjkuNDUyMzA4MjIzNzE3MiwgMzUuNjQ3OTE3MjE4Mjc0ODA2XSwgWzEyOS40NDM1ODExNDc0MDg4LCAzNS42Mjc1MTI1MDEzMjcyNV0sIFsxMjkuNDY1MjAyMTUxNjYxMjMsIDM1LjYwMDk0OTQ0NTMzODA1XSwgWzEyOS40NjczNjE1OTA3NTI5MiwgMzUuNTgyODQ4ODEyMDU2ODc0XSwgWzEyOS40NTUxNjI0MjUxMjczOCwgMzUuNTY4ODQxOTgyMTg5OTNdLCBbMTI5LjQ2MDc5MDIxOTI4MTUsIDM1LjU1NTY3MTI3NjQwNjA0NV0sIFsxMjkuNDQ4MTQwNjc1OTY5NCwgMzUuNTE5NDA5NzUyMDEwMThdLCBbMTI5LjQ0MTYxOTEwMjMyMTM0LCAzNS40ODI1Mjg2NjU0ODg0NjZdLCBbMTI5LjM4Njc1ODEyNTgxOTg1LCAzNS40NzIyNDkyOTIyNjUwOF0sIFsxMjkuMzUyMjU1NDkyNjg4NjcsIDM1LjQ0NTIxODYxMTI5MjA4XSwgWzEyOS4zNjY5Mjk4ODM1MDYwMywgMzUuNDM4NTU0MzM2MTE1MTddLCBbMTI5LjM2NTI0MDM3Njg3MTI3LCAzNS40MDc4Nzc0OTQ4MzE4Ml0sIFsxMjkuMzQ3ODQzMTYwNjQwNDIsIDM1LjM3MzM2MTY3MDUzNTc4Nl0sIFsxMjkuMzYxMjc4OTI3Njk4NDYsIDM1LjM1MjUwODg2MDg5MDY0NF0sIFsxMjkuMzI0OTkxMjI1NzQ2OTcsIDM1LjM0MjkxMTIxMDA3MTVdLCBbMTI5LjMwNjgxNDY4NTc1MzksIDM1LjMyNjQ0NzcxMDU4MjddLCBbMTI5LjI4MjEzODA1OTYyODMyLCAzNS4zMzg0NDk2MzkzMTg3NF0sIFsxMjkuMjg1NzkwOTg3NTg2MDcsIDM1LjM1OTY1MTgyMzEyMTc1XSwgWzEyOS4yNjc1NTE5ODc5OTM1NiwgMzUuMzgzNDEyMjY2MjI3MTZdLCBbMTI5LjIxOTk5ODE2NTAzMDI2LCAzNS4zNzU2MTMwNDIyMTU4NF0sIFsxMjkuMjA1MjQ5NTA3OTc1MzQsIDM1LjM4NDgxMDgyOTY5Njg5XSwgWzEyOS4yMjIxMzcwOTM2NDc5NCwgMzUuNDA2MTA5ODA5MzE0NTFdLCBbMTI5LjE5ODYzMzk2OTk1ODIsIDM1LjQzNjM2NjIxNDEzMjY0XSwgWzEyOS4xODAwODA0NDcyNDExMiwgMzUuNDI5MTMxODQxMTg4NzM1XSwgWzEyOS4xNjMwNDgyNDQ1NjUxOCwgMzUuNDMyMTEzNDUxMzU2NDM2XSwgWzEyOS4xNDIwNjQxNzQyNzEwNCwgMzUuNDQ1OTQ4MjQ1NDAyMDg2XSwgWzEyOS4xMTE5MDI0NDY5NTE2MywgMzUuNDc2NjUxNDYxODI4NTNdLCBbMTI5LjEwODk3MzYwNjY4ODcsIDM1LjQ5MTczNDA1MDkzNDE4NF0sIFsxMjkuMDI1Mzg0NzgyOTA3OSwgMzUuNTIxOTc3MzIyNTY4OTg2XSwgWzEyOC45OTY3NTgyMTY4Mjg5LCAzNS41MjU5NDc3NDA4Njc4MTRdLCBbMTI4Ljk3MzE2MDQ4ODkwMjEyLCAzNS41NTc2MDEwOTM3Mzg2NzZdLCBbMTI4Ljk5NzcwOTkwODA0NjEyLCAzNS41NjU5MTI2MTAzMTk0NDRdLCBbMTI5LjAyMjM2MDg3MDE2MzY1LCAzNS41ODEzNjMzNjI4MjM3XSwgWzEyOS4wMjgyOTAxMjIzOTMzMiwgMzUuNTk3NjU2Mzg3ODE3OTZdLCBbMTI5LjAyMzIyOTA2NDE3ODcsIDM1LjYxMTk2NzIwMjg2MTQ3XSwgWzEyOS4wMDU2MDY5MDkwNzE4NywgMzUuNjE3MTEwMTQ0NDkxNTU1XSwgWzEyOS4wNDk1NzYzNzgyNzg1MiwgMzUuNjQ3MTE4MTgwNDgxNTNdLCBbMTI5LjA3NjM5ODczMTY1MTk1LCAzNS42MzcwNTUzMjg0MzMwNl0sIFsxMjkuMDcwMDk2NjcwOTg5MDcsIDM1LjY1NjMzOTM4MDQ5NzY2XSwgWzEyOS4wNzE3NTI2MTQ1NzY3OCwgMzUuNjc3NzAzNDg5NTI4MTZdLCBbMTI5LjA5MTA3MDQ1NDE3MzgsIDM1LjY5OTEyMDYzMDA0Mjc0XSwgWzEyOS4xMzc1MTgwNzgyNjAyOSwgMzUuNzA4OTA3NTczNjQzODA2XSwgWzEyOS4xNDc5OTQzNjMxMDAxNCwgMzUuNzIxNjc2NjY3NjI4NTE1XSwgWzEyOS4xNjI5MTUxMDI1MTUzNywgMzUuNzExODU3NTczNzgxNjZdLCBbMTI5LjIwOTUxMzkxOTEwNjQ4LCAzNS43MTg0ODU4MTgwMjM3XSwgWzEyOS4yMzYzNDQzNjk3ODMxNSwgMzUuNzAwNTU4ODA5NDI0MjJdLCBbMTI5LjI1NjI4MDA2NDM3MDMyLCAzNS42OTg0NjQzMjQxNTM3NzVdLCBbMTI5LjI2NDk3ODMwMzE1MjYyLCAzNS42ODg0MTk5OTI5MjIyODVdLCBbMTI5LjI1NjUyOTcwMjQ3NzAyLCAzNS42NjMyMzAzNTAxMTU5XSwgWzEyOS4yNjI3NTM0Mzk4MDkxNiwgMzUuNjUxMzIzNjAwMTgyNV0sIFsxMjkuMzA1MDc1MTQ0NjIyOSwgMzUuNjQ1MzE2NjgzNjYyNTRdLCBbMTI5LjM1NjMzOTU5MTQwNjgyLCAzNS42NzY3MDM0NjMzMDIxMDRdLCBbMTI5LjQxNDkzMDk0NzAxMTg3LCAzNS42NjA5ODkwNzY2ODQ0NV0sIFsxMjkuNDUyMzA4MjIzNzE3MiwgMzUuNjQ3OTE3MjE4Mjc0ODA2XV1dLCAidHlwZSI6ICJQb2x5Z29uIn0sICJwcm9wZXJ0aWVzIjogeyJiYXNlX3llYXIiOiAiMjAxMyIsICJjb2RlIjogIjI2IiwgIm5hbWUiOiAiXHVjNmI4XHVjMGIwXHVhZDExXHVjNWVkXHVjMmRjIiwgIm5hbWVfZW5nIjogIlVsc2FuIn0sICJ0eXBlIjogIkZlYXR1cmUifSwgeyJnZW9tZXRyeSI6IHsiY29vcmRpbmF0ZXMiOiBbW1sxMjcuNDk0ODk4ODkwNjI1OTYsIDM2LjIzNTE0MDIzNDQxOTc4XSwgWzEyNy40Njk2NTIxMDUxMDE2NCwgMzYuMjIwMjk3NzgyOTAzMjddLCBbMTI3LjQ3MDY3ODk4MzEyNDY0LCAzNi4yMTE4NDM2MzU1Nzc2NjVdLCBbMTI3LjQ0NDkzODE3OTAxNDIzLCAzNi4xOTExMDI3ODc3NzM2Ml0sIFsxMjcuNDEwNDAwMDI3NjYyNywgMzYuMjA5OTI1NDc2NzUxOTNdLCBbMTI3LjQwMjgxMTExMTkzMDgzLCAzNi4yMzAxNTkxMTk5MDA1MDZdLCBbMTI3LjM4ODUxODU2NjYzOTg3LCAzNi4yNDc4MTI0MDQwMTcxXSwgWzEyNy4zOTE1MDUyNzM1NDMsIDM2LjI2MTkxNTczNDcxNTQ2NV0sIFsxMjcuMzc0OTM2MTcyNjYzNTUsIDM2LjI2OTMzMjc1Mzc0MTUxNl0sIFsxMjcuMzYyNDM2NDgxMTQ1NTQsIDM2LjI2MTEwMTY5OTY1ODU2XSwgWzEyNy4zNjY4NDA4NTc3MzExOSwgMzYuMjE3MDE1MzkyMTIzNzA2XSwgWzEyNy4zNTUxNDY0NjU0NDgxNiwgMzYuMjA4ODY1ODA2Mzk2NzJdLCBbMTI3LjM0Mjc3ODIyMTM3NTgsIDM2LjE4NjE1OTM2MjU4MzU3NF0sIFsxMjcuMzI1NzQ0OTgzNzQ0OTgsIDM2LjIwMDE2MTY3Mzg1MDkzNl0sIFsxMjcuMzE3MzQ4OTQ2MTAyNiwgMzYuMjE4NDExMDA2NTcwOF0sIFsxMjcuMjg0OTk5MjQ1OTc4NjMsIDM2LjIzMjgwNDQ0Mzg0NTQ4XSwgWzEyNy4yODMxMjE4OTk5NTAzOSwgMzYuMjYyNDYwNDE5NjU1NjhdLCBbMTI3LjI1MTU3MjIyOTU5NTE4LCAzNi4yODA0ODQzNTc2NTcyMTVdLCBbMTI3LjI2MTMyMzk2NzgxNDUsIDM2LjI5MzI4NzU0MDAzOTIyXSwgWzEyNy4yNjE4NDAyNTQyNjQzMywgMzYuMzI0MjcxMDMyMjkxNjc2XSwgWzEyNy4yODAwMDQ0NDA2ODk0OCwgMzYuMzQ1OTk1ODM1NjkzMDNdLCBbMTI3LjI3MzExMzg0MTY1OTYyLCAzNi4zNTgzMzU5NjgwNTA3XSwgWzEyNy4yODMxMDQ5NzM1MDI5MiwgMzYuMzcxODgzNTY3MzMzNjI2XSwgWzEyNy4yODQ0MzE2MTYwMDkyNiwgMzYuNDExNjA2NjIzOTU0NzddLCBbMTI3LjI5NjM1MjIyNjI2ODcxLCAzNi40MTkyNjkwODI5MDc2MjZdLCBbMTI3LjMyODg1ODk5NzkzNzM2LCAzNi40MTg5ODI4MzEwNzIxNjRdLCBbMTI3LjM1NTIxMTkxNjg1MDE3LCAzNi40NDQ5Nzg4ODY0MzUzOF0sIFsxMjcuMzYzMTE5NDkwMDkzOTYsIDM2LjQ2NzY1NDUzNDgxNTUxNl0sIFsxMjcuMzYxMjc3MTUxOTM1NTEsIDM2LjQ4MjQ2NzY2NTUzMTI3XSwgWzEyNy4zODMyOTM2OTU4OTMyNiwgMzYuNDk3MTAwMzA2NTYyODddLCBbMTI3LjM5Nzc5NjQ2Nzk4Mjk3LCAzNi40ODg2ODkwMzEyODY5NF0sIFsxMjcuNDA2MzM2NDc0OTc3OTYsIDM2LjQ4MDQwMDc4NjY1OTEwNF0sIFsxMjcuNDA0NzQ4NTY4MDg4NDgsIDM2LjQ1Mjc2NjQxMjYwODIwNl0sIFsxMjcuNDM4Mzg2MzE1ODgyNjIsIDM2LjQ1MzcyMzE3MzkyODQ5XSwgWzEyNy40NTUzNDI4MDk2Mzk4MywgMzYuNDQ3MTcxNjQzNzY1MTddLCBbMTI3LjQ4MTQ3NTE4MDMzNzgyLCAzNi40NTQ5MTM3Mjk3OTc3NF0sIFsxMjcuNTA0NzgzMDg2NjY1MTcsIDM2LjQ0NjM3NjkzNjM1MzQyXSwgWzEyNy40OTEzNDY4MTU1MzY0NywgMzYuNDI5NzczNTU2NDg5NjVdLCBbMTI3LjUwNDY5OTIxODg5MjUsIDM2LjQwNTI2ODIyMzc5MjgyNF0sIFsxMjcuNTE3ODM0MTc3MTc0NjIsIDM2LjQxOTM0MDYzNTQwMjE0XSwgWzEyNy41NDQ1MzkxNzI2MjI5MiwgMzYuNDE3ODE1MTE5OTYwMzJdLCBbMTI3LjU1NzI4ODI3Mjg3MzUyLCAzNi4zOTYwMzE1NTcyMDM2NF0sIFsxMjcuNTI2Nzk3MDQ2ODg1NSwgMzYuMzg0MTMzNzIwODg3NjI1XSwgWzEyNy41Mjg5OTQ4OTk1MTQxNSwgMzYuMzY2MzU2NTMwNzk0N10sIFsxMjcuNTAzMzUxNjczNjgxNiwgMzYuMzMwMzU5OTc3MzM3Njg2XSwgWzEyNy40OTk0MzAxMTkxOTMxLCAzNi4yODM3MzM0NzUwODQ2NF0sIFsxMjcuNDg4MzE4NTI5MDQ1MjQsIDM2LjI1NjI5MDA4MzAwOTg5NF0sIFsxMjcuNDk0ODk4ODkwNjI1OTYsIDM2LjIzNTE0MDIzNDQxOTc4XV1dLCAidHlwZSI6ICJQb2x5Z29uIn0sICJwcm9wZXJ0aWVzIjogeyJiYXNlX3llYXIiOiAiMjAxMyIsICJjb2RlIjogIjI1IiwgIm5hbWUiOiAiXHViMzAwXHVjODA0XHVhZDExXHVjNWVkXHVjMmRjIiwgIm5hbWVfZW5nIjogIkRhZWplb24ifSwgInR5cGUiOiAiRmVhdHVyZSJ9LCB7Imdlb21ldHJ5IjogeyJjb29yZGluYXRlcyI6IFtbWzEyNi45MDkyNjcyNjQ5Mjg1NCwgMzUuMjU1ODYwNjcwNjIzNjNdLCBbMTI2LjkzMjk1MjkzODk1NTE3LCAzNS4yNDgzMzQwMTAyNjMxNV0sIFsxMjYuOTM0NTA3OTM1MjU1MjQsIDM1LjIzNzQyMDI2MTAxMzEzNV0sIFsxMjYuOTc3NTI2NTMyNjcwOTEsIDM1LjE4MzUwNzQwMDAyOTkxXSwgWzEyNy4wMDM4NjAxNTMyMzMxNSwgMzUuMTg0Nzk1MTgzNTYzNDJdLCBbMTI3LjAyMjkyODg2OTAzNDgsIDM1LjE2NDIyMjc5ODE0NDM1XSwgWzEyNy4wMTAwNDE0NDcyMDQ1OSwgMzUuMTUxODM4ODExNDQyNzldLCBbMTI3LjAxMTE1OTI4MDEwNzI2LCAzNS4xMjEzMzE1NTMxNDQzNDRdLCBbMTI2Ljk4OTQ4NjQyMjMyODI0LCAzNS4wOTExMzQxOTQ5MTY4NTRdLCBbMTI2Ljk2ODc2MzQ4OTUwOTAzLCAzNS4wODY0OTk0MTc1NzQwNF0sIFsxMjYuOTUzODk4MTEzODU5NSwgMzUuMDY5OTUyNjg0Mjk4MDZdLCBbMTI2LjkzNDQ3NjEwMjE4NDk1LCAzNS4wNzEzNTUzNDk0MTgyMl0sIFsxMjYuOTI0MTkyNTMyNTcxOTUsIDM1LjA4NzIwNDIyMjc1NTk4Nl0sIFsxMjYuODczODU4NzIwMDYxNjYsIDM1LjA3MTIyOTY2Nzc3NzAzXSwgWzEyNi44NTc3NTQ3ODMwMzE1NCwgMzUuMDc1MDYxNzE2MDc1NzZdLCBbMTI2LjgyMTAzMzg5ODE1NjczLCAzNS4wNDk0Mzc5OTAwNzM0MzZdLCBbMTI2Ljc5NzI2NjcxNTgwNjI3LCAzNS4wNTgwODU5NzA2Njc1Ml0sIFsxMjYuNzgwNDYxODk1MDkzODEsIDM1LjA1MDA4MjEyODU4OTFdLCBbMTI2Ljc2NDA5NjkzMDQ2MjA3LCAzNS4wODc5MDA0NzU2OTQzMjZdLCBbMTI2Ljc0MjI2NzE2ODk2NjQ1LCAzNS4xMDM3MjQ0ODQwMTIyN10sIFsxMjYuNjg4OTc3OTM1MzA2NTcsIDM1LjEwODc4MjczMjQwMTIyXSwgWzEyNi42ODAzMTI3NzM5MTY4NCwgMzUuMTAyNzcyODkzOTkzNThdLCBbMTI2LjY1MzU1NzY4MTIzNjExLCAzNS4xMTc0MjEzNzU5MDQ3OF0sIFsxMjYuNjU2MDI0NzY0Mzk2NzYsIDM1LjE2MTUwMDA0OTk2ODg1XSwgWzEyNi42NzMxMDE4ODIyOTI5MywgMzUuMTY2MzcwOTE1MTE4MDFdLCBbMTI2LjY2MTcxNjkxOTg4MTY2LCAzNS4xODg3Njk3ODQxOTEzODZdLCBbMTI2LjY3OTkyMzE2OTczNDM1LCAzNS4xOTA1ODgzNjc1NjI2MV0sIFsxMjYuNjg4OTQxMjU3ODYwNDksIDM1LjIxMjExNzAyMTAyMDldLCBbMTI2LjcwNDY4NjY3NjEzNDU5LCAzNS4yMDQ3MzkzNTA4OTUzMV0sIFsxMjYuNzE5ODgzMTA5NTc3MjgsIDM1LjIwOTAyMjg5MTg2MTkxXSwgWzEyNi43MjE4NjQ2OTM1NTE2OCwgMzUuMjIzODQwNDY5MTM2NF0sIFsxMjYuNzM4NTE2OTM0NTczNDEsIDM1LjI0ODcxMzkzMjk3ODY3NF0sIFsxMjYuNzY1OTMyMjk3MTc0ODEsIDM1LjI1MTI1MjQ5MDY4OTkyXSwgWzEyNi43NTc1ODc3MzYwNDgsIDM1LjIzMTMyNDQ1ODkwNTg2XSwgWzEyNi44MDc3NTg1NTQ3NTAxLCAzNS4yMTU3ODcwOTAwMDc3NDRdLCBbMTI2Ljg0MTE1OTkyMTcyMzUsIDM1LjIyNzIwOTU4OTY3ODYzXSwgWzEyNi44NzYyNjkxMDkyMjgyNiwgMzUuMjQ3MTM1NjgzMzY1NzVdLCBbMTI2Ljg5MTczNzI1NjA5ODE4LCAzNS4yNDM5MjQ5ODQ5OTg0OF0sIFsxMjYuOTA5MjY3MjY0OTI4NTQsIDM1LjI1NTg2MDY3MDYyMzYzXV1dLCAidHlwZSI6ICJQb2x5Z29uIn0sICJwcm9wZXJ0aWVzIjogeyJiYXNlX3llYXIiOiAiMjAxMyIsICJjb2RlIjogIjI0IiwgIm5hbWUiOiAiXHVhZDExXHVjOGZjXHVhZDExXHVjNWVkXHVjMmRjIiwgIm5hbWVfZW5nIjogIkd3YW5nanUifSwgInR5cGUiOiAiRmVhdHVyZSJ9LCB7Imdlb21ldHJ5IjogeyJjb29yZGluYXRlcyI6IFtbW1sxMjYuMDgxNzE3NzI2ODIxNSwgMzcuMTA1NjUwNjk4MTkwMTNdLCBbMTI2LjA5MDg5NjIzMzU2ODQ5LCAzNy4wOTIwODI0NTM1MTExNF0sIFsxMjYuMDc2NjM0MTcyNTk0MDEsIDM3LjA4MDU5Mjg1MTk4Nzg0XSwgWzEyNi4wNjIxODE3OTI5NjEzMSwgMzcuMDkzMjIzNjM1ODc0NjRdLCBbMTI2LjA4MTcxNzcyNjgyMTUsIDM3LjEwNTY1MDY5ODE5MDEzXV1dLCBbW1sxMjYuMDk5MTg1NzQxMjgyMzcsIDM3LjE4NDE4ODk5MzI0ODM5XSwgWzEyNi4xMTQ1NTE1Njc2NzUzOSwgMzcuMTY3NzI1MTEzNTgyOTRdLCBbMTI2LjA5NjAyNTMwMTg1NDY3LCAzNy4xNjQxMjY3MjAzOTk0OF0sIFsxMjYuMDk5MTg1NzQxMjgyMzcsIDM3LjE4NDE4ODk5MzI0ODM5XV1dLCBbW1sxMjYuMjg5NDI2NjQ4OTQ0NjYsIDM3LjI2OTUzMTYxNzA1MjczXSwgWzEyNi4zMTg5ODI0NTU4NTg0MiwgMzcuMjYwMDQzNDk4MjUxNjI2XSwgWzEyNi4zMDYwNDA3NDU4OTUxMywgMzcuMjUwNTEwMTk2NDI1MDRdLCBbMTI2LjI4NDIxMzUyNDkwNDY3LCAzNy4yNjExMzAwOTQ2NDY0N10sIFsxMjYuMjg5NDI2NjQ4OTQ0NjYsIDM3LjI2OTUzMTYxNzA1MjczXV1dLCBbW1sxMjYuMTA5NTM1NTk1NzA3ODgsIDM3LjI3MDI0OTg1NDU3MjAyXSwgWzEyNi4xMjA5NDQ2MDQ2NTc4MSwgMzcuMjU1MTg0MDg0MTM3NjZdLCBbMTI2LjE0NjgxNDQ3MTkxNzIxLCAzNy4yMzU5MDgyMDg5MDg0ODRdLCBbMTI2LjE2MjU4MTcyMTEwMjExLCAzNy4yMzI1MjU2NTU0ODYyMTRdLCBbMTI2LjE0NDEzNTA3MjIwODQsIDM3LjIxMTQ0NzEzMDYwMzE4XSwgWzEyNi4xMTkzODM0NzAwMjcyNCwgMzcuMjA2NDUzOTY4NTU2MDI2XSwgWzEyNi4xMTQ2MzczMzE2MTE0OCwgMzcuMjE5NDk0MjQyNTA0MjRdLCBbMTI2LjA5MzI3MjQxNjAxMTI1LCAzNy4yMjcwNzAzOTk0NTgyNV0sIFsxMjYuMDkxNTAwODExNjg1MzksIDM3LjI0NDQ2ODIzMjgxNzk4XSwgWzEyNi4xMDk1MzU1OTU3MDc4OCwgMzcuMjcwMjQ5ODU0NTcyMDJdXV0sIFtbWzEyNi40NzI5NzY0Mjg5MTI2MiwgMzcuMjg0ODMzMjczMzA0NjFdLCBbMTI2LjQ5MTM1NTcyNzI1NDIyLCAzNy4yODA0MzI0MzI5NTgxXSwgWzEyNi41MDM2ODA2ODY3OTksIDM3LjI1NTQzMTQyMTI4NjI3XSwgWzEyNi40ODM3NTczMDc3Nzc1NywgMzcuMjQ3Mjc2MTIxMzA5MDVdLCBbMTI2LjQ2MDI5NjEzODk5NTczLCAzNy4yMjI3NzYxNzE0MzYwNDVdLCBbMTI2LjQzMzI5NzEwNTAzNzA2LCAzNy4yMzE2ODEyODM0ODQ3Nl0sIFsxMjYuNDM5ODQyODI2NDQ5NiwgMzcuMjcwMDc1NjA2ODM3MTRdLCBbMTI2LjQ3Mjk3NjQyODkxMjYyLCAzNy4yODQ4MzMyNzMzMDQ2MV1dXSwgW1tbMTI2LjQxMzcyNzE1NjY0MjU4LCAzNy40MDg1NjQ5NjM1MDU0MDVdLCBbMTI2LjQ0MzA5MDMyMzc0Mzg2LCAzNy4zODI4MzAzNzk1MDQ5XSwgWzEyNi40MzcwMTU4NDM5OTczNiwgMzcuMzY3NjMyMTI4NDAwNTRdLCBbMTI2LjQxNTI2NTk1NTg3MjY4LCAzNy4zNjM0MzQ3NDcxMDY4ODZdLCBbMTI2LjQwMTQ5OTIyNjMyODMsIDM3LjM5ODM3Njk1ODU2NTQ0XSwgWzEyNi40MTM3MjcxNTY2NDI1OCwgMzcuNDA4NTY0OTYzNTA1NDA1XV1dLCBbW1sxMjYuNTgwNjM0MjU3ODkxOTIsIDM3LjQ5ODQ1NzY3Mjk4ODU5XSwgWzEyNi41ODcxODcxMzM5MTI1NCwgMzcuNDg2ODkwNTQ3NzIwODFdLCBbMTI2LjU2OTE1MDY0MDA1NTE3LCAzNy40NzczMjM5MDcwNTYzOTVdLCBbMTI2LjU0NDQ0Njg3NDI4OTA1LCAzNy40NzUxMjI5MTM0OTU2XSwgWzEyNi41MDk0MDI0ODg1ODQ5MywgMzcuNDYzMDA0MTc4NDcxMTVdLCBbMTI2LjQ5ODIxOTM0NTM3NjkxLCAzNy40NDUzOTkyODkzMjE4ODRdLCBbMTI2LjQ0Mzg2MjY5NDU5ODE1LCAzNy40MTgwNzgyNzM1NTk5NF0sIFsxMjYuNDIxNjU1MDY4NjA0MDgsIDM3LjQxODY5MDA4NjIzNTYzNV0sIFsxMjYuNDE3NjMxODU5NTI3NjcsIDM3LjQyOTY1NjM1NjU4ODgzNl0sIFsxMjYuMzk3MzM0NzM0ODAwMTMsIDM3LjQ0MzI3ODQyMTAzNTg1XSwgWzEyNi4zNzQwMjMxNDcyMDgxLCAzNy40NDQ3MjQ1OTM3OTEyN10sIFsxMjYuMzU3NzQzNjUzODAyMjYsIDM3LjQ2NDM1MzkyNTY2MzM0XSwgWzEyNi4zNzU0NjM5NzY3MTQ3LCAzNy40NjkzMjg3NjI4ODM4NV0sIFsxMjYuNDM0MjIzNjI2Njc2MiwgMzcuNTAxMTE5MDc5ODg2NDRdLCBbMTI2LjQ2NjU5NTU5OTk1NDA4LCAzNy40OTY2NzI2NTY5NTEzNV0sIFsxMjYuNDg1MDQxOTM2MzE4OTksIDM3LjUwMTM5ODQwMjcxMzZdLCBbMTI2LjUwMDQ0OTM5MTc1MjUsIDM3LjUyOTA1MDcyMDIwNjU4NF0sIFsxMjYuNTI4NDAwNzg1MTE4NCwgMzcuNTI0NTY4Nzk2NTcxOTg0XSwgWzEyNi41Njc1NjQ4NjU4NDgwNywgMzcuNTExODQ2MTI0MTU3NzddLCBbMTI2LjU4MDYzNDI1Nzg5MTkyLCAzNy40OTg0NTc2NzI5ODg1OV1dXSwgW1tbMTI2LjQ2MzQ0ODYzMzM2NTgsIDM3LjU0MTY2MTUzOTgzOTY2XSwgWzEyNi40NzU4NzIyNTEwNzc3NSwgMzcuNTM0NjkzMTA1NDEyOTg0XSwgWzEyNi40NjkwODUyNjE2NzI1MiwgMzcuNTA4MjczMTAxODUxNjM2XSwgWzEyNi40MzM1MzU2NzAzOTczNSwgMzcuNTIyNzc3MTA0MDUwNzA0XSwgWzEyNi40NjM0NDg2MzMzNjU4LCAzNy41NDE2NjE1Mzk4Mzk2Nl1dXSwgW1tbMTI2LjMxMDQxNDY2NjI2MTExLCAzNy41NTc3NDAxODYxNjg1Ml0sIFsxMjYuMzYyNzE4NTY0ODk5MTQsIDM3LjUyNzg3MTY3MjIzMDY2XSwgWzEyNi4zMzAwMjAyNjU1OTg1NiwgMzcuNTI0NDkzNTkxMTYxODJdLCBbMTI2LjMzMDg0Nzg3NTc0MzgsIDM3LjUzODI3MzMwNzYxNDkxNV0sIFsxMjYuMzEwNDE0NjY2MjYxMTEsIDM3LjU1Nzc0MDE4NjE2ODUyXV1dLCBbW1sxMjYuNzk1NzU3Njg1NTA3MzQsIDM3LjU3ODgxMDg3NjAwMzZdLCBbMTI2Ljc2OTc5MTgwNTgwOTQyLCAzNy41NTEzOTE4Mjk2OTQ0Ml0sIFsxMjYuNzYyMjc3Mzc5MDE0NTMsIDM3LjUxMzYyMjU0MzM4OTI0Nl0sIFsxMjYuNzQ3MTc5NDkyMzUzNjUsIDM3LjUxMTI4MzQ0ODU4NTUxNl0sIFsxMjYuNzQ0NDc2Njc4MzgzLCAzNy40ODM4ODUyMzcxMjk0XSwgWzEyNi43NzAxOTY2MTkzNTI4OSwgMzcuNDY4ODMwNTUyNjEyODldLCBbMTI2Ljc4MDQzMzcxMDYyMzY1LCAzNy40NDgwMDM0MzcxNDM2NTVdLCBbMTI2Ljc3MTEwNTk5OTQwNjgxLCAzNy40MjQ1Mjk2MTA5NjM3OV0sIFsxMjYuNzU1MjkyODcyMzUxMzYsIDM3LjQxOTg0MjE3ODA3NzldLCBbMTI2LjczODYxODYyMDM0NDQ1LCAzNy4zOTI2MTE4NTgyNjExNF0sIFsxMjYuNzMxMzY2Nzg3OTMzMTUsIDM3LjM4NDg2NTI1NTQ0OTEzXSwgWzEyNi42NjMxMzgzOTc5NDU4NiwgMzcuMzQwNDI5MDQwNjg1MzNdLCBbMTI2LjYxOTM3MjM5NDU0ODIxLCAzNy4zNDAwMzE0MDIxMjcxOV0sIFsxMjYuNjEzODM3MjQxMDQ1ODEsIDM3LjM3MDg4NDU0MTQ2NTE0XSwgWzEyNi42MDAwNTQ2MzYxOTg2NiwgMzcuMzgxOTQwOTg4ODEyNF0sIFsxMjYuNjAwMDc3MTA3Mjk3MzUsIDM3LjQyNTU0ODM3NzA1NjUzNl0sIFsxMjYuNTk1MjMyMzQ2NDQ1NzMsIDM3LjQ2MDkxODczMzUwMTI5NV0sIFsxMjYuNjA2NDUyNzE2MjIsIDM3LjQ5NDAxMDExMDk2MjkzXSwgWzEyNi42MDQ3NjUyMDc5MjYyMiwgMzcuNTI1MDEzNjY0MjYwMjRdLCBbMTI2LjYwODE0NjIyODc4NzIzLCAzNy41NTEyOTUxOTk2MzQ3OTRdLCBbMTI2LjU5NTQwNjkzMDc4MTM1LCAzNy41NTY1NTk2MTUzMTMxXSwgWzEyNi41NzQ2NDI3Mzk2NDAzMiwgMzcuNTg0OTkyNTIzMjU1MDZdLCBbMTI2LjYxMDY3MjY1ODY5NzE0LCAzNy42MDEwMDA3MzUwMTkwMl0sIFsxMjYuNjI5ODE4Njc5MTg0NDgsIDM3LjYwNDEwOTg3MzIwNTUxNl0sIFsxMjYuNjM4MzU4MjI3NjcyOTEsIDM3LjYyNTAwOTgwNDI1MDk4Nl0sIFsxMjYuNjU5MTgwMDg5NjU5NzYsIDM3LjYzNTIxNzg3MzUyMTg5XSwgWzEyNi43MDA3MDg2MTQ1NDM1MywgMzcuNjE0NjczNDMyNjA5NDY0XSwgWzEyNi43MjczMTI4Njk3NjU1MSwgMzcuNTg5MzE4OTcwMjgxMTNdLCBbMTI2Ljc0NTcwMzM5MDc0MDU0LCAzNy41OTA1NTc3OTIyMzQwNDRdLCBbMTI2Ljc5NTc1NzY4NTUwNzM0LCAzNy41Nzg4MTA4NzYwMDM2XV1dLCBbW1sxMjYuMjM0OTY4ODg1NDI3NDgsIDM3LjY1MzcwMjIzNjg4NDk0XSwgWzEyNi4yNTU4MDEyNzk2Njg3NiwgMzcuNjUxNDYyMDAzODg0NjFdLCBbMTI2LjI0NzkxNDMwMTQ2MzQ3LCAzNy42MjgyMDMyNzEzOTc1NzRdLCBbMTI2LjIyNzQ0NDUyMTQ3NjQ3LCAzNy42NDYwOTk2MDg2MDUxNl0sIFsxMjYuMjM0OTY4ODg1NDI3NDgsIDM3LjY1MzcwMjIzNjg4NDk0XV1dLCBbW1sxMjUuNzE3Nzg1NjIxMTE2MjYsIDM3LjY3NzMzMTg5MjgxNDM0XSwgWzEyNS43MTI0MDcxMjE1Nzk5MywgMzcuNjYzNDY4NDMyMjY5ODE2XSwgWzEyNS42ODQ5MDM1NzMzMjk1NSwgMzcuNjUwOTA0NTI3MzQ0NjE1XSwgWzEyNS42ODU0NzA0MDYxNTY3LCAzNy42Nzg0NTM1MjY2MTYzN10sIFsxMjUuNzE3Nzg1NjIxMTE2MjYsIDM3LjY3NzMzMTg5MjgxNDM0XV1dLCBbW1sxMjYuMTk3MzAxMzgzNDg5NjMsIDM3LjY4NjI2NTQxOTE3NzU2Nl0sIFsxMjYuMjEzMjY4MTAwMTgwMDMsIDM3LjY2NDIzMTcwMDc1MjI4XSwgWzEyNi4yMDY3OTY1NTQ1OTU4OCwgMzcuNjUzNDcwNDE5NDA4OTJdLCBbMTI2LjE3OTMwNjAxMzI0ODEyLCAzNy42NjY2OTc4MjM1NDczMV0sIFsxMjYuMTk3MzAxMzgzNDg5NjMsIDM3LjY4NjI2NTQxOTE3NzU2Nl1dXSwgW1tbMTI2LjMzMDczNDIwNDkyNTI4LCAzNy43NDcyMDYyMjkyMjQ4NV0sIFsxMjYuMzIyNjQzNjgyMzQwNTUsIDM3LjcxMzMzNjMxODU3OTMyXSwgWzEyNi4zNDg0MzczOTQyNDYwOSwgMzcuNjk2MzgyMjQwOTUzNDc2XSwgWzEyNi4zNzM5NzQ1ODI1MjU3NiwgMzcuNjkyNDQ5NTQ4MjQ0NTddLCBbMTI2LjM3ODY1NjE1OTE1NjcyLCAzNy42NjUxNTIyNjUwNjgxNV0sIFsxMjYuMzQ0ODUzMjg1NTM1NjUsIDM3LjY0MDc5NjYzOTY1NDU0Nl0sIFsxMjYuMzI3MDczNjE3NzI4NzQsIDM3LjYzODY2MDI4NjYyODU4XSwgWzEyNi4zMjg4NjM2NDI0NzMzNCwgMzcuNjU5MjQ0NjI5OTg2MTU1XSwgWzEyNi4zMTkzNDU3MTAzNTk3NiwgMzcuNjc4OTYyNTAxOTk0Mjg1XSwgWzEyNi4yODcxNzU0NTc5MTU3NCwgMzcuNjkzNDU0OTMyNzA4NTFdLCBbMTI2LjI3MTk3MjUwNDAwODAyLCAzNy43MDU1MDk4NTAyNTE5Ml0sIFsxMjYuMjg2ODE4NDk1MjE3NTUsIDM3LjcxNDg4ODgyNzg0MjYyXSwgWzEyNi4yOTA5NjQwNzYwNjI0OCwgMzcuNzQxMjU0NDQzNzk5MTg1XSwgWzEyNi4zMzA3MzQyMDQ5MjUyOCwgMzcuNzQ3MjA2MjI5MjI0ODVdXV0sIFtbWzEyNi4yNjc3Mzk4MzgzMTk3NCwgMzcuODEzMDYyNTg1MTY2MjJdLCBbMTI2LjI5NDk0NjM0MTgzNDIzLCAzNy44MDE2MDU4NDM2MzddLCBbMTI2LjMyOTY4NzMyMDU1MjYyLCAzNy44MDE5NDMyNDAzNDMwMV0sIFsxMjYuMzM3MjkzOTMyNDE4NDUsIDM3Ljc5NjE0NTQ2MDI4NDk1XSwgWzEyNi4zMTg4NjM1MTgzNjg3MywgMzcuNzcxNzAxNTk1MTY1NzVdLCBbMTI2LjI5NDIzMjUxODI5NTgxLCAzNy43NjE1ODcxMTIwOTI2MV0sIFsxMjYuMjczNTcwMTkxNTM1NzUsIDM3Ljc2NzI3NjcyNjA3MDYzXSwgWzEyNi4yNDk3MTA1ODM5Mjg1MiwgMzcuNzYyNjc2NjIwNzEzNjU1XSwgWzEyNi4yMjg4Mzg0NjEzNzIxMiwgMzcuNzUwMjEyODU4NTIyNTNdLCBbMTI2LjIwOTEzMjU3MjkwMjg1LCAzNy43NjU3MDg5NDQ5NzE4OF0sIFsxMjYuMjI0MTkxMTk3MDYxNzcsIDM3Ljc4ODE1MzIxNjg0NzE2XSwgWzEyNi4yMjUyMTA4MzQ2MzQ0LCAzNy44MDI2NDc3NzU0MzEyN10sIFsxMjYuMjM5MDEzODMzMzkzMTMsIDM3LjgxMzY0NzY1MzgzODg0XSwgWzEyNi4yNjc3Mzk4MzgzMTk3NCwgMzcuODEzMDYyNTg1MTY2MjJdXV0sIFtbWzEyNi41MjgwNzgxNjkxNzk3NCwgMzcuNzM1MzE4NDY5MjA3NjldLCBbMTI2LjUyMDU3NDk3NDIyODQsIDM3LjcwOTk1MTMxMzkzMDc2Nl0sIFsxMjYuNTI5MzQyMDY1MTQxNjIsIDM3LjcwMDM2Mzc3NjIwOTM4XSwgWzEyNi41MjUwNDI2MjA0MzMxNywgMzcuNjczNzM2MjYyNTUwODI1XSwgWzEyNi41MzczNjQwNTA5OTE4NywgMzcuNjYzNTUxMzYzMjU2MTVdLCBbMTI2LjUzMTAxNjg5Njk0OTEzLCAzNy42NTAxOTA1NzY5ODA0MTRdLCBbMTI2LjUzMjU4ODM4NjYzMzcyLCAzNy42MzU3NjcwMTM1MTEwNjRdLCBbMTI2LjU0OTQ5NTAzMzcxNjg3LCAzNy42MDIwMzA2OTM0MzE5ODVdLCBbMTI2LjUyNjAwNTY3NzU1MjIzLCAzNy41OTM2Nzk0NDE5MjE0OF0sIFsxMjYuNTE4MzY2MzExNTQ2MDksIDM3LjU3NjcwMzQ5NjM5ODYzNl0sIFsxMjYuNTAyNTIyNjE0MDMxOTIsIDM3LjU4NzQyMDUyODgyMTMxXSwgWzEyNi40ODIzNTI2MDk1OTQxNCwgMzcuNTgwNzg4MzY0MzAxMjFdLCBbMTI2LjQ3NTM5ODkxNjMwMjM1LCAzNy41OTQ2OTgwMzY3MDE0Nl0sIFsxMjYuNDM3NzYwODA3NzIwMTgsIDM3LjU4OTg0MDQ3NDY5NjA3XSwgWzEyNi40MDU3NzEzNDgyNzc3MSwgMzcuNTkxMzA4NTc1NTY4MTU2XSwgWzEyNi4zNzk3NzAzNzgxNzgxNCwgMzcuNjA2NzI1NTc4Mzg0NzldLCBbMTI2LjM3NDA0MTQ4MDIyMDg1LCAzNy42MzAyNTI4MzM1NzEyNF0sIFsxMjYuNDA3MDUwNTc4MTg1MDYsIDM3LjY0Nzk5OTQ5MjY3ODQxNl0sIFsxMjYuMzg4ODE5MDc5NjQ3OTcsIDM3LjY4NzQ5NjIwNzA4NTk2NF0sIFsxMjYuMzU0NDE3NDE4NTQwMjIsIDM3LjcwMzAzMzU0NTI2MTZdLCBbMTI2LjM0NTIyNjkzMTQzNTYyLCAzNy43MTc4MjMwMjM3OTM1OF0sIFsxMjYuMzQzNTI3MzQzNjAwMjksIDM3Ljc0NTU5NjkwNzQ4NV0sIFsxMjYuMzU2ODA3NDQ0NzA0ODQsIDM3Ljc1NTc2MTY0NTAyNTFdLCBbMTI2LjM1MDk3OTY4MzA0ODgsIDM3Ljc4OTIwMTQ1MDU2MzI4XSwgWzEyNi4zNzQwMDk1ODUwNzE1OSwgMzcuODAyNzA3OTY5NTQ0MTZdLCBbMTI2LjM5NTkyMjk0MTE3Njc5LCAzNy44MjI3Mjk0NjUxMDYyXSwgWzEyNi40Mzg2ODUyOTIzMjU5NywgMzcuODI4NDY4NTQ1OTM3MDldLCBbMTI2LjQ2Njc4NTc1MDAxNTUsIDM3LjgwMjE5NjY2NTY2Mjc0XSwgWzEyNi41MTAwOTc1MDQ0MTQ4LCAzNy43ODA1Mjk5OTUzMTcwM10sIFsxMjYuNTE0NDQ3OTQxMzAwNjIsIDM3Ljc2MDc2NjMzNjUyMTcyNl0sIFsxMjYuNTI4MDc4MTY5MTc5NzQsIDM3LjczNTMxODQ2OTIwNzY5XV1dLCBbW1sxMjQuNzA4NjIwOTk3Nzk4MjMsIDM3Ljg0NDE0MzAwNzQxNjA3XSwgWzEyNC43MjMzMDg0Mzc3ODI0MiwgMzcuODQzNzQ1NjgyMDQ5Nl0sIFsxMjQuNzIyNDQyODcyOTc0NTcsIDM3LjgxMzY4ODcxMTM2NTEzXSwgWzEyNC43MTM1NTUwMjI4MzQ1NCwgMzcuODA0MjM4MDU3OTkyOTA0XSwgWzEyNC42ODU1Mjc5NjI2NTM2MSwgMzcuODAyNTgyNTY1ODkxNjJdLCBbMTI0LjY4MTIxNjUwNDkxMTEyLCAzNy44MTk0MTAwNTQwOTUxN10sIFsxMjQuNzA4NjIwOTk3Nzk4MjMsIDM3Ljg0NDE0MzAwNzQxNjA3XV1dLCBbW1sxMjQuNjg3NDc5MTk0MzMzNzYsIDM3Ljk3ODgyMTA5OTU5NjcxXSwgWzEyNC43MDc1Mzk4ODE3Mzk3OSwgMzcuOTgxNDg0MDU4MzQ0NDRdLCBbMTI0LjczMTQxNjUwNDk0NDYsIDM3Ljk3NTUyNDcwMTQ0MzldLCBbMTI0LjczMjgxNTY4MDg3MDIzLCAzNy45NTA5OTI2NDE0Njg1MjRdLCBbMTI0LjcwOTg5MTQwMzM5OTcyLCAzNy45NDEzNjQ0ODU5NTE4N10sIFsxMjQuNjk3NTgyMDA3NDkwMDEsIDM3LjkxMzMxNjkwNDgyMzddLCBbMTI0LjYzODgxMTc0NjkzNzIyLCAzNy45MjA3NTc1MTk5ODczOF0sIFsxMjQuNjEzMzA3MjE4NzM1NzYsIDM3Ljk1Nzg0MTg5OTU1NjE2NV0sIFsxMjQuNjE2NzExNTc5Nzk0OTIsIDM3Ljk3NDE3Mjg4MDU3ODNdLCBbMTI0LjY0MDEwNTIxNzg5NjM2LCAzNy45NjYzOTExMDM5NTgyNF0sIFsxMjQuNjg3NDc5MTk0MzMzNzYsIDM3Ljk3ODgyMTA5OTU5NjcxXV1dXSwgInR5cGUiOiAiTXVsdGlQb2x5Z29uIn0sICJwcm9wZXJ0aWVzIjogeyJiYXNlX3llYXIiOiAiMjAxMyIsICJjb2RlIjogIjIzIiwgIm5hbWUiOiAiXHVjNzc4XHVjYzljXHVhZDExXHVjNWVkXHVjMmRjIiwgIm5hbWVfZW5nIjogIkluY2hlb24ifSwgInR5cGUiOiAiRmVhdHVyZSJ9LCB7Imdlb21ldHJ5IjogeyJjb29yZGluYXRlcyI6IFtbWzEyOC41Mjg2MzQyMjAzNTY4LCAzNS42NzkzNTgzMzY2NTMyNF0sIFsxMjguNTExMzQ1NDM1ODA2MzMsIDM1LjY3MTU2MjYwODEzNzg3Nl0sIFsxMjguNTA3MzA0ODI5NDUyNywgMzUuNjM1OTc2OTQzMTIyODVdLCBbMTI4LjQ4NzAzMDc5NDQyMTYsIDM1LjYzMjQyMjEwMjk1MTU5XSwgWzEyOC40NDg2NDc0MjYwMTM3NCwgMzUuNjM1MzI4MDg1NDkzMThdLCBbMTI4LjQzMzc4NjM4OTk5NDY1LCAzNS42MTk4MTUyOTcwMDY2M10sIFsxMjguMzgzODc0OTIzMDU3NCwgMzUuNjAzNzM2ODI2MjYzNjZdLCBbMTI4LjM3Mjk3MDUzMzM4MDksIDM1LjYwODEzNDQ4ODAzOTUyXSwgWzEyOC4zODc2MjM5OTIwMTU4LCAzNS42MDkwNTEwNTY5Mzg4OV0sIFsxMjguNDA1MTUzMTIzMTEyMiwgMzUuNjM4ODk4ODYyMjg5MDU0XSwgWzEyOC4zODM4MTkxOTMxNjI5NiwgMzUuNjUyMjYzOTAxOTMxMTNdLCBbMTI4LjM1NzczOTk3NDk3NjU3LCAzNS42Nzc4ODQ1MjE4MDAwN10sIFsxMjguMzUzMjUwMzY4NjY0NzMsIDM1LjY5OTkwODU1MTczNDZdLCBbMTI4LjM2MTg1OTM2ODg4Njg4LCAzNS43MDQ0ODY5NjQwNzMwN10sIFsxMjguNDIwMDQ3NTgyOTA4NCwgMzUuNjkwMTAyMTc5MDM0MzhdLCBbMTI4LjQzNTM4MDg4MzczMDEsIDM1LjcwMDAwMDU0ODUwNzQ0XSwgWzEyOC40MzQ3MDgzNjU1NDY3MywgMzUuNzIyMzYyMDQ0NTQyMjY1XSwgWzEyOC4zOTQ4NDg4ODA5MDczLCAzNS43NDI1MjA4NzU5MjIyNl0sIFsxMjguMzg4NjQ0MDAyNTIyNywgMzUuNzYwMzMzNjk4MTQ2OThdLCBbMTI4LjQwOTYyNjI3MDQ1MDg3LCAzNS43OTM1MjY3NDU4MDE1M10sIFsxMjguNDIyNDk2NzEzNDE1ODgsIDM1LjgwNjM0OTk2MTAyNzQ4Nl0sIFsxMjguNDcxMzQyODY1MTEwNDIsIDM1LjgwNTQyODQwOTQ0MzM2XSwgWzEyOC40Nzk2OTg5OTU5NTU2NiwgMzUuODI0MjEyNTQ2NTEyNzldLCBbMTI4LjQ2MjMzNDc0ODYzMjg4LCAzNS44MzgyNTg3NzAwMjE4OTVdLCBbMTI4LjQyNTAwMDAxNzcwODgsIDM1Ljg0ODI1NDkyODY0MTE3NV0sIFsxMjguMzkyMjk2NDY3MDMyNDIsIDM1Ljg0NzM2ODkwNzM2Njc4Nl0sIFsxMjguMzg3Njg2MDk4Mjc1NCwgMzUuODYyMjQyNTAwODY4OV0sIFsxMjguNDA1NTQ2Nzk5MDA1MTIsIDM1Ljg4NjEwMDk3MTc1ODI5Nl0sIFsxMjguNDIwMzE0MTE3NTE0MTIsIDM1LjkxODI1MjMwNDI1OTM4XSwgWzEyOC40NDM0Mjg5MzEzNjEwNywgMzUuOTMyMDU0MTM4MTY2MDNdLCBbMTI4LjQ3Nzg5Njk0MzgxMzQ4LCAzNS45MzMwMDI1ODk1MDk4MDVdLCBbMTI4LjQ2OTUxMDYxMjA4MzYsIDM1LjkwMzUzMTk5OTk3MzA4XSwgWzEyOC40Nzc2MDc3MDY4MTIxLCAzNS44OTIyMjcxNzM3NTE1MzZdLCBbMTI4LjQ5NDk2ODI5MzcxMTA1LCAzNS44OTMxNjQwNTgwMDY2Nl0sIFsxMjguNTI1NTE3NzA2NjM0NzMsIDM1LjkxNDc1NzY3OTc4NzI4XSwgWzEyOC41MzcwMDMzNzgyMTEwNywgMzUuOTM2NjgyMjM2MjEwNTldLCBbMTI4LjUyOTIzMTg0NDExNDUsIDM1Ljk3MjgzODkzNTg4ODUzXSwgWzEyOC41NTg0Njc1OTIyNjc4NSwgMzUuOTY3NjAzMjQ3Nzg5MzZdLCBbMTI4LjU5MjA3NDgzNDMwODEsIDM1Ljk3NTczMjMyMDg5MjY5Nl0sIFsxMjguNjE5NzE0MDExNjI4MDUsIDM2LjAwMzQ2MzU2NzM1MDMzXSwgWzEyOC42OTMwNDkyMTExNzg0NSwgMzYuMDExNzAxNjIzNzA2MTY2XSwgWzEyOC43Mjc3OTYzOTA1NzM1NiwgMzYuMDAxODIyMjE1MDM1MzZdLCBbMTI4LjczMzY0MzQ4NzUzNjU3LCAzNS45ODIwMzM0NjA0NDIxNzVdLCBbMTI4Ljc0ODMwNDY4MjA4OTIsIDM1Ljk2NzgyMTM5NjUwMTM4XSwgWzEyOC43NDA2MTEzMzYwMDc5MywgMzUuOTUzMjE5NDg5MzQzNzddLCBbMTI4Ljc0NzI5MTg3MjQwMywgMzUuOTQxMTAyNzA5OTE0ODldLCBbMTI4Ljc0MDYyNzI0MzQ4ODUsIDM1LjkyNTM5ODEwNTExMzI3NF0sIFsxMjguNzU4ODU2OTg0MTc0OTcsIDM1LjkxMTg1MzE5NTcyOTg4XSwgWzEyOC43NjU0MjcyMDQ2OTQ5NiwgMzUuODgwOTAzOTU5NDQxMjJdLCBbMTI4Ljc1Mzg4NzA5NTU4MTksIDM1Ljg1NDA4MTA3MzE1NDcxXSwgWzEyOC43MTEwMjc0MDg2NzAzMywgMzUuODIzNTk4MjU4NDQ1NTVdLCBbMTI4LjcxODYyMjQ2Mzg0NTc1LCAzNS44MDI4ODIxODU3NDg0NDRdLCBbMTI4LjY4NDYzMzQ4Njg0OTgzLCAzNS43ODY3ODA3OTM2Mzg5XSwgWzEyOC42OTc3ODEzMjg1ODc1LCAzNS43NTQ4ODY3OTI4MDYxMl0sIFsxMjguNjk0MDIwNjAyNzU2NDcsIDM1LjcyOTMwODgyMjk0NjE1XSwgWzEyOC42ODU2Mjc5MTk1NDY5MywgMzUuNzE4NzM3NDUyNDk5ODk0XSwgWzEyOC42NjYzMTkzMDE4NzksIDM1LjcxNzM5MDQ3MDkyMjI4XSwgWzEyOC42NDAwNjQxNjY2MDYsIDM1LjcwMjgyNTk2MTc1MTM5NF0sIFsxMjguNjI1MzAyNTEwNTY0MDcsIDM1LjcwMDM3OTcxMDg3NDI0XSwgWzEyOC42MTI0Mzk5MzI5MDM2LCAzNS43MjI0ODMxNTE3MzE0OTVdLCBbMTI4LjYxODg5MDE1NzA2MjQsIDM1LjczNDEwMDg5Mzc4Mjc0NV0sIFsxMjguNTgyMjU2MDg5NzAxMTMsIDM1LjczNjA3MzExODYyMTk3NF0sIFsxMjguNTQ1OTg4MTUwNDIxMjcsIDM1LjcxNjA3MDMwOTQ4MzgyXSwgWzEyOC41Mjg2MzQyMjAzNTY4LCAzNS42NzkzNTgzMzY2NTMyNF1dXSwgInR5cGUiOiAiUG9seWdvbiJ9LCAicHJvcGVydGllcyI6IHsiYmFzZV95ZWFyIjogIjIwMTMiLCAiY29kZSI6ICIyMiIsICJuYW1lIjogIlx1YjMwMFx1YWQ2Y1x1YWQxMVx1YzVlZFx1YzJkYyIsICJuYW1lX2VuZyI6ICJEYWVndSJ9LCAidHlwZSI6ICJGZWF0dXJlIn0sIHsiZ2VvbWV0cnkiOiB7ImNvb3JkaW5hdGVzIjogW1tbMTI5LjMwNjgxNDY4NTc1MzksIDM1LjMyNjQ0NzcxMDU4MjddLCBbMTI5LjI2NzU1Njk2NTk4Njg3LCAzNS4zMTYwNDE0Mzg4MzU5OTVdLCBbMTI5LjI2Mjc1MjY2NTI2NjY1LCAzNS4yNzgzMTk0MTU3MzU0XSwgWzEyOS4yNDU0NjA2NTA4NDU0NywgMzUuMjYxMjA0MjcxNDc0NDc2XSwgWzEyOS4yNTU2NTQzMTc1NDg0OCwgMzUuMjQzNTkzMjMwMjgzMjhdLCBbMTI5LjIzNTUwOTc0NDc0MjgsIDM1LjIxMTM5NjExNDM4NjU2XSwgWzEyOS4yMjczMTMzNjAyODYyNSwgMzUuMTgzMjE5NjAxODk4MDI0XSwgWzEyOS4yMDExNDI4Mzc0Mjc5NywgMzUuMTc1MzMzODMwOTIxOTZdLCBbMTI5LjE5NjQ4NTQyMDg2NjQ1LCAzNS4xNTgxMzgwNjUxNDc0NF0sIFsxMjkuMTM4NzY4OTM1MTk2OTYsIDM1LjE1MDY3MTIwMTMwMTIzNl0sIFsxMjkuMTIyODc2NDQ2MDM1OCwgMzUuMTMwODYzMDE3NDk0MDNdLCBbMTI5LjEzMDE5MjA5NjA2NzczLCAzNS4xMDcxNTI0NTg3NjU3XSwgWzEyOS4xMjQ1MjA0OTEwMjE4LCAzNS4wOTY3NDM4NDgxNDAwM10sIFsxMjkuMDk2ODU5MDg0OTM0MTIsIDM1LjA5NjAzNTEyNDM0MjM2NF0sIFsxMjkuMDY5NDU4OTU1NjA1ODIsIDM1LjEwNDYwNDY4NzMxNTI2XSwgWzEyOS4wNjc2MDAwODAxNjA3NiwgMzUuMTE5ODA1NjA1MDA3MDE2XSwgWzEyOS4wNTIyNjkwNTg3NDA5MywgMzUuMTIwNDQyODY4MjI2MTddLCBbMTI5LjA0MzEzODgyODE5MjkyLCAzNS4xMDUwMjIzNTM2NTQ1OV0sIFsxMjkuMDcwNjk0ODQ4OTg0NzIsIDM1LjA5Mjg5ODAxNzY4MTgyXSwgWzEyOS4wODIyNDE1NjkzNTc2MiwgMzUuMDY4MjkxMTU0NDM2OTJdLCBbMTI5LjA5ODM2NDIyNjMxNzMsIDM1LjA1Njk2NTc3NTM2NzAyXSwgWzEyOS4wODU0MzA3NzY2NjI4MywgMzUuMDQ3MTgzNDAzNzgwNzNdLCBbMTI5LjAzNzA2NDgzOTk2MzUzLCAzNS4wODE5Njc5OTczMjVdLCBbMTI5LjAyNDUzNDM2OTU5MTcsIDM1LjA1OTI0Njg5OTQ0Mzc3XSwgWzEyOS4wMDM1NTA3MTY2MzIwNSwgMzUuMDQ1MTE5NjI5MDIwNl0sIFsxMjguOTg0MzkzMDMzMjIzMDYsIDM1LjA0NDY2NTY1NzAwNjM5XSwgWzEyOC45NjkyMTg4MjYzMzM4LCAzNS4wMzAxNzgyMDg5NjYwM10sIFsxMjguOTUzMTU1MjIyMTM5NTEsIDM1LjA3NDkyNTQzODc0Mjg0XSwgWzEyOC45MjMzOTQ0ODg5MDI2LCAzNS4wODMzNTg5NTAyMDEzNDRdLCBbMTI4LjkxNDQyMjcwMzc5OTU0LCAzNS4wNzYzNzE2NDc1MDU0MjVdLCBbMTI4LjgzNzAwMzA5MjEwNDQyLCAzNS4wNzcxNTQyNTQ5MjA5XSwgWzEyOC44NTI0NzI0MzYzNzc5NSwgMzUuMDQ4Njk0NjMwMTAxMDhdLCBbMTI4Ljg1MTc5MDM4MzI5NjQ1LCAzNS4wMzA0MzcyNzMyMjgzXSwgWzEyOC44MzgwNjQ3MTAwMDA2OCwgMzUuMDA5Nzg0NzE4MTEwNTZdLCBbMTI4LjgwODA0NjI5ODk5NTksIDM1LjAxNzQ5ODM5NTY4Njc2XSwgWzEyOC44MTQyNDUwMzE5NjE0MywgMzUuMDM3MDY1MDY2MzM0NjldLCBbMTI4Ljc5ODg1MjkwMjkxODY3LCAzNS4wNTA4MzQ0Mzk5OTAwNTVdLCBbMTI4LjgyMjc1ODcxMzY5NDA0LCAzNS4wNTc1ODc2MjE5MzM1NV0sIFsxMjguODMzMDE5OTQ0MzMxMjgsIDM1LjA2OTgwMDYwNTE3OTU3XSwgWzEyOC44MjUwMDI5MTM2NTczOSwgMzUuMDk1NzI3NDE3MDE3MTNdLCBbMTI4Ljg0NDMyMjU2ODY3NDUzLCAzNS4xMDM5NDQxOTYyMTA2XSwgWzEyOC44MzQyNzI1OTYyMzU4MiwgMzUuMTI2NDQ1MTY3MDcwNTVdLCBbMTI4LjgwNDM3MzQ4NzYwMDU0LCAzNS4xMzg4MzQwMjgxNTQ5OTZdLCBbMTI4Ljc5NjI2MDU4NDg3NzI1LCAzNS4xNTQ4NTY4MzAwNjU3NF0sIFsxMjguODQ1NTk3MzkxNzc1MiwgMzUuMTU0OTA0MzY2MjEyNTFdLCBbMTI4Ljg2ODM1NjQzODczMTk4LCAzNS4xNjM3NTc4OTY3Njc2MV0sIFsxMjguODgzODgwNTg0OTUyMzgsIDM1LjE3ODg2NjAxNzc0Nzg5XSwgWzEyOC44NzI2MzM4NDk5NzQ5NiwgMzUuMTk4NjM0Nzc4MDMwMzddLCBbMTI4Ljg4NjM4ODg2NzYyNDg3LCAzNS4yMTA2MDMwOTgzMDExMl0sIFsxMjguOTI1NzM4NDQwNzQxMiwgMzUuMjEyOTc3NzI3NDQyNThdLCBbMTI4Ljk5OTg2Mjg0Mjg0NjQsIDM1LjIzMTMxMjY0NjYwNzZdLCBbMTI5LjAxNDg1MTYxMDc0MTU3LCAzNS4yNzAxNzU0MTIwNjM1NDRdLCBbMTI5LjA1MjAxODM5NTk1Nzk2LCAzNS4yNzY5Mzk2MzQ5NDQwODVdLCBbMTI5LjA2MjI2MzMwNzcxNTgyLCAzNS4yOTI0MTUzNzU5OTU2Ml0sIFsxMjkuMDc1OTAzOTY0NTYzNzYsIDM1LjI4NzA4MjI0NzQyNzczXSwgWzEyOS4wOTEyMTQ1NDY3NDE2LCAzNS4zMDAwMDA2MDcxMjQ2M10sIFsxMjkuMTEzOTEzMDAzNDE2OCwgMzUuMzA1NzAyNDkyMjUxOTldLCBbMTI5LjEyOTUzOTQxMzQ2NTE1LCAzNS4zNDE5ODA4MDE1MTI4M10sIFsxMjkuMTUwNjMzNjY2MjU3NCwgMzUuMzYxMTA0MzY2NzgxNDRdLCBbMTI5LjE3NjgwNjIxNjYwNjE0LCAzNS4zNDg0MDI3MDE2MDkxNl0sIFsxMjkuMTk1NzY3ODU4MjUwNTIsIDM1LjM1Nzg0ODQwMDIxMzg0XSwgWzEyOS4yMDUyNDk1MDc5NzUzNCwgMzUuMzg0ODEwODI5Njk2ODldLCBbMTI5LjIxOTk5ODE2NTAzMDI2LCAzNS4zNzU2MTMwNDIyMTU4NF0sIFsxMjkuMjY3NTUxOTg3OTkzNTYsIDM1LjM4MzQxMjI2NjIyNzE2XSwgWzEyOS4yODU3OTA5ODc1ODYwNywgMzUuMzU5NjUxODIzMTIxNzVdLCBbMTI5LjI4MjEzODA1OTYyODMyLCAzNS4zMzg0NDk2MzkzMTg3NF0sIFsxMjkuMzA2ODE0Njg1NzUzOSwgMzUuMzI2NDQ3NzEwNTgyN11dXSwgInR5cGUiOiAiUG9seWdvbiJ9LCAicHJvcGVydGllcyI6IHsiYmFzZV95ZWFyIjogIjIwMTMiLCAiY29kZSI6ICIyMSIsICJuYW1lIjogIlx1YmQ4MFx1YzBiMFx1YWQxMVx1YzVlZFx1YzJkYyIsICJuYW1lX2VuZyI6ICJCdXNhbiJ9LCAidHlwZSI6ICJGZWF0dXJlIn0sIHsiZ2VvbWV0cnkiOiB7ImNvb3JkaW5hdGVzIjogW1tbMTI2Ljc2OTc5MTgwNTgwOTQyLCAzNy41NTEzOTE4Mjk2OTQ0Ml0sIFsxMjYuNzk1NzU3Njg1NTA3MzQsIDM3LjU3ODgxMDg3NjAwMzZdLCBbMTI2LjgwNzU5MDA2OTgwNjU1LCAzNy42MDA4OTc1NTA4NTQwN10sIFsxMjYuODIyNTE0Mzg0NTAzNiwgMzcuNTg4MDQzMDgwNjE0MDhdLCBbMTI2Ljg1MzAyODIzMzgxNDE5LCAzNy41NzI4MjQ2ODg0Mjg1NzVdLCBbMTI2Ljg3Nzk2NjE1NjkyOTQzLCAzNy41NzY4MDEzMzMyOTUzMzZdLCBbMTI2LjkwMzk2NjgwOTQ4NDM0LCAzNy41OTIyNzQwMzQyNTU4XSwgWzEyNi45MDMwMzA2NjE1MDgxNCwgMzcuNjA5OTc3OTExNDU3OTVdLCBbMTI2LjkxNDU1NDgxMzc0NTA2LCAzNy42NDE1MDA1MDk1NzUyNF0sIFsxMjYuOTQ5NDAzNzMwMzQwNDksIDM3LjY1NjE0NTk3OTE5MjMzXSwgWzEyNi45NzczMzk4NjgxNzkyMSwgMzcuNjI4NTg2NzcwNTY1ODFdLCBbMTI2Ljk4NzAxMTQxNDUwMDczLCAzNy42MzQ0NTAyOTE5OTI1XSwgWzEyNi45ODE3NDUyNjczODY0MywgMzcuNjUyMDk3NjkzOTM0NTRdLCBbMTI2Ljk5NTA2MDI2ODA0NDk0LCAzNy42NzQ4Mjc4ODUzNDI1OV0sIFsxMjcuMDA5OTk5NjU4ODE1MTUsIDM3LjY4MTkwNDE4ODE3OTY5XSwgWzEyNy4wMTgwMjQ1MzM5ODE1NiwgMzcuNjk4Mjc1OTM3NTEyOTFdLCBbMTI3LjA1MjI1MDA3MzE2NzI5LCAzNy42ODUxMDE2MTY0MzU0NzVdLCBbMTI3LjA4Mzg3NTI3MDMzMzc4LCAzNy42OTM1OTUzNDE2MjY2M10sIFsxMjcuMDk3MDYzOTEzMzk0NjIsIDM3LjY4NjM4MzcxODk3ODM1NV0sIFsxMjcuMDk0NDA3NjYyNDM0NzMsIDM3LjY0NzEzNDkwNDMzNzE2NV0sIFsxMjcuMTEwMTQwODQ5NDI4OSwgMzcuNjQxODUwNjEzOTUwNDhdLCBbMTI3LjEyMDEyNDYwMjMwOTMzLCAzNy42MDE3ODQ1NzYwMzg0MV0sIFsxMjcuMTAzNTU0MTk3NTI2NDgsIDM3LjU4MTAxNTcwODc2NTFdLCBbMTI3LjEwMzI1NzQyNzY2MzU4LCAzNy41NTcyMjUxNzAzNTY2M10sIFsxMjcuMTc2MDcxMTg0MDE5ODYsIDM3LjU3Njc4NTczOTIxNzI1XSwgWzEyNy4xODQwODc5MjMwMzMzNiwgMzcuNTU4MTQyODAzNzUzMDFdLCBbMTI3LjE4MTE2NDY1OTEyNDU5LCAzNy41NDM4NDEyNjU4Nzg1MDVdLCBbMTI3LjE2NTMwOTg0MjUyMzQ0LCAzNy41NDIyMTg1MTI2NDQ1Ml0sIFsxMjcuMTQyMDg2NDQ3NTU0MDgsIDM3LjUwNTc4OTczNzg4NDk1XSwgWzEyNy4xNjM0OTQ0MjEwMjU3NywgMzcuNDk3NDQ1NDA2MTU1MDddLCBbMTI3LjE0ODU3NTgwMzI2NDc1LCAzNy40NzM4MTM4NjM0MzIzMDVdLCBbMTI3LjExOTU3MjQ4NjY1NzMzLCAzNy40NTkzNjIxNzM4MzM5NDVdLCBbMTI3LjEwMDMyNDY2ODE4Mzc1LCAzNy40NTU5ODQ0MDE1NjMzMl0sIFsxMjcuMDY3NzgxMDc1Nzg2MTQsIDM3LjQyNjE5NzQyMzY2Mzc0XSwgWzEyNy4wNTQyNDU1NjA2NTc0NSwgMzcuNDI1NzQ5Mjk4Mjk4NThdLCBbMTI3LjAzNzUxODA1NTk4MzY0LCAzNy40MzgzNjI3OTQ4NTE1Nl0sIFsxMjcuMDM4ODE3ODI2Mjc2MjcsIDM3LjQ1MzgyMDM5ODEyMzM0XSwgWzEyNy4wMTMxNjI1NjUzMDQ1NSwgMzcuNDUyNTc5MDY1MjY4NjY1XSwgWzEyNy4wMDU1MjM2MjY2NDU4MywgMzcuNDY0NDUxMDI4NTQxOTldLCBbMTI2Ljk2NTIwNDM5MDU4Mzc1LCAzNy40MzgyNDk3ODM2MTI0NF0sIFsxMjYuOTQxNTI5MjE4MzYzODgsIDM3LjQzMzE1MTM5NjMxNzg2XSwgWzEyNi45MjgwOTU1OTY4NTUxLCAzNy40NDU2NzAyMzcwMzM5MV0sIFsxMjYuOTA0ODc2MjgwNTI0LCAzNy40MzEyOTk5NjM3ODI0XSwgWzEyNi44Njk4NTA4ODExNjc1OCwgMzcuNDkwOTcyODU2NTMzMzddLCBbMTI2Ljg0MTU0MjY0NDY3Mjc3LCAzNy40NzI4OTgwNDE1MDYzMDVdLCBbMTI2LjgyNDE5MzY1NzI4NjgsIDM3LjQ3Mjk1MTA4MDk1OTUyXSwgWzEyNi44MTY0OTc0NTUwNjg4LCAzNy40OTA0NTU4MDk3NDc3ODZdLCBbMTI2LjgzMDU0NzExNDU0NDAyLCAzNy41MjM5MDI2MTQ2Mjk2XSwgWzEyNi44MjQyMzMxNDIxMjIwMSwgMzcuNTM3ODgwNzg3MTM3OTQ0XSwgWzEyNi43NzMyNDQxNzc0NzQ0NSwgMzcuNTQ1OTEyMzQ1MTEyODFdLCBbMTI2Ljc2OTc5MTgwNTgwOTQyLCAzNy41NTEzOTE4Mjk2OTQ0Ml1dXSwgInR5cGUiOiAiUG9seWdvbiJ9LCAicHJvcGVydGllcyI6IHsiYmFzZV95ZWFyIjogIjIwMTMiLCAiY29kZSI6ICIxMSIsICJuYW1lIjogIlx1YzExY1x1YzZiOFx1ZDJiOVx1YmNjNFx1YzJkYyIsICJuYW1lX2VuZyI6ICJTZW91bCJ9LCAidHlwZSI6ICJGZWF0dXJlIn1dLCAidHlwZSI6ICJGZWF0dXJlQ29sbGVjdGlvbiJ9KTsKICAgICAgICAKPC9zY3JpcHQ+ onload=\"this.contentDocument.open();this.contentDocument.write(atob(this.getAttribute('data-html')));this.contentDocument.close();\" allowfullscreen webkitallowfullscreen mozallowfullscreen></iframe></div></div>"
      ],
      "text/plain": [
       "<folium.folium.Map at 0x29acc880ee0>"
      ]
     },
     "execution_count": 112,
     "metadata": {},
     "output_type": "execute_result"
    }
   ],
   "source": [
    "import folium\n",
    "import json\n",
    "\n",
    "map_osm = folium.Map(location=[37.566345, 126.977893])\n",
    "\n",
    "rfile = open('skorea_provinces_geo_simple.json', 'r', encoding='utf-8').read()\n",
    "jsonData = json.loads(rfile)\n",
    "folium.GeoJson(jsonData, name='json_data').add_to(map_osm)\n",
    "# GeoJson(제이슨변수): 지도의 영역 경계선 표시\n",
    "\n",
    "map_osm"
   ]
  },
  {
   "cell_type": "markdown",
   "metadata": {},
   "source": [
    "# 실습 14주차: 자연언어 처리 기번을 이용한 워드 클라우드"
   ]
  },
  {
   "cell_type": "code",
   "execution_count": null,
   "metadata": {},
   "outputs": [],
   "source": [
    "# 코엔엘파이(KoNLPy): 한글 자연어 처리 라이브러리, 한나눔, 꼬꼬마, 옥트, 코모란 등이 있음\n",
    "# 모든 형태소 분석기마다 제공하는 함수가 다름\n",
    "# 공통 함수: pos()-품사, morphs()-형태소, nouns()-명사"
   ]
  },
  {
   "cell_type": "code",
   "execution_count": 140,
   "metadata": {},
   "outputs": [
    {
     "data": {
      "image/png": "[encoded data removed]",
      "text/plain": [
       "<Figure size 864x864 with 1 Axes>"
      ]
     },
     "metadata": {
      "needs_background": "light"
     },
     "output_type": "display_data"
    }
   ],
   "source": [
    "from konlpy.tag import Hannanum\n",
    "from collections import Counter\n",
    "import matplotlib.pyplot as plt\n",
    "from wordcloud import WordCloud\n",
    "\n",
    "text = open('2018_president_message.txt', 'r').read()\n",
    "\n",
    "engin = Hannanum()\n",
    "nouns = engin.nouns(text) # 명사\n",
    "nouns = [n for n in nouns if len(n) > 1]\n",
    "count = Counter(nouns)\n",
    "tags = count.most_common(50)\n",
    "\n",
    "wordcloud = WordCloud(font_path='c:/Windows/Fonts/malgun.ttf',\n",
    "                     background_color='white',\n",
    "                     width=1200, height=800).generate_from_frequencies(dict(tags))\n",
    "fig = plt.figure(figsize=(12,12))\n",
    "plt.axis('off')\n",
    "plt.imshow(wordcloud)\n",
    "plt.show()"
   ]
  },
  {
   "cell_type": "code",
   "execution_count": 128,
   "metadata": {},
   "outputs": [
    {
     "data": {
      "image/png": "[encoded data removed]",
      "text/plain": [
       "<Figure size 864x864 with 1 Axes>"
      ]
     },
     "metadata": {
      "needs_background": "light"
     },
     "output_type": "display_data"
    }
   ],
   "source": [
    "from konlpy.tag import Hannanum\n",
    "from collections import Counter\n",
    "import matplotlib.pyplot as plt\n",
    "from wordcloud import WordCloud, ImageColorGenerator\n",
    "from PIL import Image\n",
    "import numpy as np\n",
    "\n",
    "mask = np.array(Image.open('09. heart.jpg'))\n",
    "image_colors = ImageColorGenerator(mask)\n",
    "\n",
    "text = open('2018_president_message.txt', 'r').read()\n",
    "\n",
    "engin = Hannanum()\n",
    "nouns = engin.nouns(text)\n",
    "nouns = [n for n in nouns if len(n) > 1]\n",
    "count = Counter(nouns)\n",
    "tags = count.most_common(50)\n",
    "\n",
    "wordcloud = WordCloud(font_path='c:/Windows/Fonts/malgun.ttf',\n",
    "                      relative_scaling = 0.1, mask = mask,\n",
    "                      background_color='white',\n",
    "                      min_font_size = 1,\n",
    "                     max_font_size = 100).generate_from_frequencies(dict(tags))\n",
    "fig = plt.figure(figsize=(12,12))\n",
    "plt.axis('off')\n",
    "plt.imshow(wordcloud.recolor(color_func=image_colors), interpolation='bilinear')\n",
    "plt.show()"
   ]
  },
  {
   "cell_type": "code",
   "execution_count": 165,
   "metadata": {},
   "outputs": [
    {
     "name": "stderr",
     "output_type": "stream",
     "text": [
      "C:\\Users\\82106\\anaconda3\\lib\\site-packages\\pandas\\plotting\\_matplotlib\\core.py:1235: UserWarning: FixedFormatter should only be used together with FixedLocator\n",
      "  ax.set_xticklabels(xticklabels)\n"
     ]
    },
    {
     "data": {
      "text/plain": [
       "array([<AxesSubplot:>, <AxesSubplot:>], dtype=object)"
      ]
     },
     "execution_count": 165,
     "metadata": {},
     "output_type": "execute_result"
    },
    {
     "data": {
      "image/png": "[encoded data removed]",
      "text/plain": [
       "<Figure size 432x288 with 2 Axes>"
      ]
     },
     "metadata": {
      "needs_background": "light"
     },
     "output_type": "display_data"
    }
   ],
   "source": [
    "from pandas import *\n",
    "from matplotlib.pyplot import*\n",
    "\n",
    "data = {'이름': ['도산','철산','용산'],\n",
    "       '1차':[96,83,73],\n",
    "       '2차':[88,92,84]}\n",
    "df1 = DataFrame(data, index=['A','B','C'])\n",
    "df1.plot(subplots=True)"
   ]
  },
  {
   "cell_type": "code",
   "execution_count": null,
   "metadata": {},
   "outputs": [],
   "source": []
  }
 ],
 "metadata": {
  "kernelspec": {
   "display_name": "Python 3",
   "language": "python",
   "name": "python3"
  },
  "language_info": {
   "codemirror_mode": {
    "name": "ipython",
    "version": 3
   },
   "file_extension": ".py",
   "mimetype": "text/x-python",
   "name": "python",
   "nbconvert_exporter": "python",
   "pygments_lexer": "ipython3",
   "version": "3.8.5"
  }
 },
 "nbformat": 4,
 "nbformat_minor": 4
}
