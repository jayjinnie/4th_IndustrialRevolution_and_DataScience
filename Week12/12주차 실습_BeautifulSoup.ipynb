{
 "cells": [
  {
   "cell_type": "code",
   "execution_count": 1,
   "metadata": {},
   "outputs": [],
   "source": [
    "# BeautifulSoup을 이용한 웹 데이터 분석 및 시각화"
   ]
  },
  {
   "cell_type": "code",
   "execution_count": 2,
   "metadata": {},
   "outputs": [
    {
     "name": "stdout",
     "output_type": "stream",
     "text": [
      "<html>\n",
      " <head>\n",
      "  <title>\n",
      "   The Dormouse's story\n",
      "  </title>\n",
      " </head>\n",
      " <body>\n",
      "  <p class=\"title\">\n",
      "   <b>\n",
      "    The Dormouse's story\n",
      "   </b>\n",
      "  </p>\n",
      "  <p class=\"story\">\n",
      "   Once upon a time there were three little sisters; and their names were\n",
      "   <a class=\"sister\" href=\"http://example.com/elsie\" id=\"link1\">\n",
      "    Elsie\n",
      "   </a>\n",
      "   ,\n",
      "   <a class=\"sister\" href=\"http://example.com/lacie\" id=\"link2\">\n",
      "    Lacie\n",
      "   </a>\n",
      "   and\n",
      "   <a class=\"tillie\" href=\"http://example.com/elsie\" id=\"link3\">\n",
      "    Tillie\n",
      "   </a>\n",
      "   ;\n",
      "and they lived at the bottom of a well.\n",
      "  </p>\n",
      "  <p class=\"story\">\n",
      "   ...\n",
      "  </p>\n",
      " </body>\n",
      "</html>\n"
     ]
    }
   ],
   "source": [
    "from bs4 import BeautifulSoup\n",
    "page = open(\"ex1.html\", 'r').read()\n",
    "soup = BeautifulSoup(page, 'html.parser')\n",
    "print(soup.prettify())"
   ]
  },
  {
   "cell_type": "code",
   "execution_count": 3,
   "metadata": {},
   "outputs": [
    {
     "data": {
      "text/plain": [
       "<title>The Dormouse's story</title>"
      ]
     },
     "execution_count": 3,
     "metadata": {},
     "output_type": "execute_result"
    }
   ],
   "source": [
    "soup.title"
   ]
  },
  {
   "cell_type": "code",
   "execution_count": 4,
   "metadata": {},
   "outputs": [
    {
     "data": {
      "text/plain": [
       "\"The Dormouse's story\""
      ]
     },
     "execution_count": 4,
     "metadata": {},
     "output_type": "execute_result"
    }
   ],
   "source": [
    "soup.title.string"
   ]
  },
  {
   "cell_type": "code",
   "execution_count": 5,
   "metadata": {},
   "outputs": [
    {
     "data": {
      "text/plain": [
       "\"The Dormouse's story\""
      ]
     },
     "execution_count": 5,
     "metadata": {},
     "output_type": "execute_result"
    }
   ],
   "source": [
    "soup.title.get_text()"
   ]
  },
  {
   "cell_type": "code",
   "execution_count": 6,
   "metadata": {},
   "outputs": [
    {
     "data": {
      "text/plain": [
       "[<a class=\"sister\" href=\"http://example.com/elsie\" id=\"link1\">Elsie</a>,\n",
       " <a class=\"sister\" href=\"http://example.com/lacie\" id=\"link2\">Lacie</a>,\n",
       " <a class=\"tillie\" href=\"http://example.com/elsie\" id=\"link3\">Tillie</a>]"
      ]
     },
     "execution_count": 6,
     "metadata": {},
     "output_type": "execute_result"
    }
   ],
   "source": [
    "soup.find_all('a')"
   ]
  },
  {
   "cell_type": "code",
   "execution_count": 7,
   "metadata": {},
   "outputs": [
    {
     "data": {
      "text/plain": [
       "'Elsie'"
      ]
     },
     "execution_count": 7,
     "metadata": {},
     "output_type": "execute_result"
    }
   ],
   "source": [
    "soup.find_all('a')[0].get_text()"
   ]
  },
  {
   "cell_type": "code",
   "execution_count": 8,
   "metadata": {},
   "outputs": [
    {
     "name": "stdout",
     "output_type": "stream",
     "text": [
      "http://example.com/elsie\n",
      "http://example.com/lacie\n",
      "http://example.com/elsie\n"
     ]
    }
   ],
   "source": [
    "for link in soup.find_all('a'):\n",
    "    print(link.get('href'))"
   ]
  },
  {
   "cell_type": "code",
   "execution_count": 9,
   "metadata": {
    "scrolled": true
   },
   "outputs": [
    {
     "name": "stdout",
     "output_type": "stream",
     "text": [
      "도시: 서울\n",
      "날씨: 구름많음\n",
      "최저기온: -3\n",
      "최고기온: 8\n",
      "\n",
      "도시: 인천\n",
      "날씨: 구름많음\n",
      "최저기온: -3\n",
      "최고기온: 5\n",
      "\n",
      "도시: 수원\n",
      "날씨: 구름많음\n",
      "최저기온: -4\n",
      "최고기온: 8\n",
      "\n",
      "도시: 파주\n",
      "날씨: 구름많음\n",
      "최저기온: -7\n",
      "최고기온: 8\n",
      "\n",
      "도시: 이천\n",
      "날씨: 구름많음\n",
      "최저기온: -5\n",
      "최고기온: 9\n",
      "\n",
      "도시: 평택\n",
      "날씨: 구름많음\n",
      "최저기온: -5\n",
      "최고기온: 9\n",
      "\n",
      "도시: 춘천\n",
      "날씨: 구름많음\n",
      "최저기온: -6\n",
      "최고기온: 9\n",
      "\n",
      "도시: 원주\n",
      "날씨: 구름많음\n",
      "최저기온: -3\n",
      "최고기온: 9\n",
      "\n",
      "도시: 강릉\n",
      "날씨: 구름많음\n",
      "최저기온: 0\n",
      "최고기온: 8\n",
      "\n",
      "도시: 대전\n",
      "날씨: 구름많음\n",
      "최저기온: -3\n",
      "최고기온: 11\n",
      "\n",
      "도시: 세종\n",
      "날씨: 구름많음\n",
      "최저기온: -4\n",
      "최고기온: 11\n",
      "\n",
      "도시: 홍성\n",
      "날씨: 구름많음\n",
      "최저기온: -4\n",
      "최고기온: 10\n",
      "\n",
      "도시: 청주\n",
      "날씨: 구름많음\n",
      "최저기온: -2\n",
      "최고기온: 9\n",
      "\n",
      "도시: 충주\n",
      "날씨: 구름많음\n",
      "최저기온: -5\n",
      "최고기온: 9\n",
      "\n",
      "도시: 영동\n",
      "날씨: 구름많음\n",
      "최저기온: -5\n",
      "최고기온: 12\n",
      "\n",
      "도시: 광주\n",
      "날씨: 맑음\n",
      "최저기온: -1\n",
      "최고기온: 14\n",
      "\n",
      "도시: 목포\n",
      "날씨: 맑음\n",
      "최저기온: 0\n",
      "최고기온: 8\n",
      "\n",
      "도시: 여수\n",
      "날씨: 맑음\n",
      "최저기온: 2\n",
      "최고기온: 10\n",
      "\n",
      "도시: 순천\n",
      "날씨: 맑음\n",
      "최저기온: 0\n",
      "최고기온: 13\n",
      "\n",
      "도시: 광양\n",
      "날씨: 맑음\n",
      "최저기온: 1\n",
      "최고기온: 13\n",
      "\n",
      "도시: 나주\n",
      "날씨: 맑음\n",
      "최저기온: -3\n",
      "최고기온: 13\n",
      "\n",
      "도시: 전주\n",
      "날씨: 구름많음\n",
      "최저기온: -2\n",
      "최고기온: 11\n",
      "\n",
      "도시: 군산\n",
      "날씨: 구름많음\n",
      "최저기온: -2\n",
      "최고기온: 9\n",
      "\n",
      "도시: 정읍\n",
      "날씨: 구름많음\n",
      "최저기온: -3\n",
      "최고기온: 10\n",
      "\n",
      "도시: 남원\n",
      "날씨: 구름많음\n",
      "최저기온: -3\n",
      "최고기온: 13\n",
      "\n",
      "도시: 고창\n",
      "날씨: 구름많음\n",
      "최저기온: -3\n",
      "최고기온: 10\n",
      "\n",
      "도시: 무주\n",
      "날씨: 구름많음\n",
      "최저기온: -5\n",
      "최고기온: 12\n",
      "\n",
      "도시: 부산\n",
      "날씨: 맑음\n",
      "최저기온: 3\n",
      "최고기온: 12\n",
      "\n",
      "도시: 울산\n",
      "날씨: 맑음\n",
      "최저기온: 1\n",
      "최고기온: 11\n",
      "\n",
      "도시: 창원\n",
      "날씨: 맑음\n",
      "최저기온: 1\n",
      "최고기온: 11\n",
      "\n",
      "도시: 진주\n",
      "날씨: 맑음\n",
      "최저기온: -2\n",
      "최고기온: 13\n",
      "\n",
      "도시: 거창\n",
      "날씨: 맑음\n",
      "최저기온: -3\n",
      "최고기온: 12\n",
      "\n",
      "도시: 통영\n",
      "날씨: 맑음\n",
      "최저기온: 2\n",
      "최고기온: 11\n",
      "\n",
      "도시: 대구\n",
      "날씨: 구름많음\n",
      "최저기온: -1\n",
      "최고기온: 12\n",
      "\n",
      "도시: 안동\n",
      "날씨: 구름많음\n",
      "최저기온: -4\n",
      "최고기온: 11\n",
      "\n",
      "도시: 포항\n",
      "날씨: 구름많음\n",
      "최저기온: 1\n",
      "최고기온: 10\n",
      "\n",
      "도시: 경주\n",
      "날씨: 구름많음\n",
      "최저기온: -2\n",
      "최고기온: 11\n",
      "\n",
      "도시: 울진\n",
      "날씨: 구름많음\n",
      "최저기온: -1\n",
      "최고기온: 8\n",
      "\n",
      "도시: 울릉도\n",
      "날씨: 구름많음\n",
      "최저기온: 1\n",
      "최고기온: 5\n",
      "\n",
      "도시: 제주\n",
      "날씨: 맑음\n",
      "최저기온: 5\n",
      "최고기온: 14\n",
      "\n",
      "도시: 서귀포\n",
      "날씨: 맑음\n",
      "최저기온: 6\n",
      "최고기온: 15\n",
      "\n"
     ]
    }
   ],
   "source": [
    "from urllib import request\n",
    "from bs4 import BeautifulSoup\n",
    "\n",
    "target = request.urlopen(\"http://www.kma.go.kr/weather/forecast/mid-term-rss3.jsp?stnld=108\")\n",
    "\n",
    "soup = BeautifulSoup(target, \"html.parser\")\n",
    "\n",
    "for location in soup.select(\"location\"):\n",
    "    print(\"도시:\", location.select_one(\"city\").string)\n",
    "    print(\"날씨:\", location.select_one(\"wf\").string)\n",
    "    print(\"최저기온:\", location.select_one(\"tmn\").string)\n",
    "    print(\"최고기온:\", location.select_one(\"tmx\").string)\n",
    "    print()"
   ]
  },
  {
   "cell_type": "code",
   "execution_count": 10,
   "metadata": {},
   "outputs": [
    {
     "name": "stdout",
     "output_type": "stream",
     "text": [
      "카오스 워킹\n",
      "극장판 귀멸의 칼날-무한열차편\n",
      "소울\n"
     ]
    }
   ],
   "source": [
    "import requests\n",
    "from bs4 import BeautifulSoup\n",
    "\n",
    "r = requests.get(\"http://www.cgv.co.kr/movies/?ft=0\")\n",
    "c = r.content\n",
    "\n",
    "html = BeautifulSoup(c, \"html.parser\")\n",
    "\n",
    "ol = html.find(\"ol\")\n",
    "li = ol.find_all(\"li\")\n",
    "\n",
    "for l in li:\n",
    "    div = l.find(\"div\", {\"class\" : \"box-contents\"})\n",
    "    strong = div.find(\"strong\").text\n",
    "    print(strong)"
   ]
  }
 ],
 "metadata": {
  "kernelspec": {
   "display_name": "Python 3",
   "language": "python",
   "name": "python3"
  },
  "language_info": {
   "codemirror_mode": {
    "name": "ipython",
    "version": 3
   },
   "file_extension": ".py",
   "mimetype": "text/x-python",
   "name": "python",
   "nbconvert_exporter": "python",
   "pygments_lexer": "ipython3",
   "version": "3.8.5"
  }
 },
 "nbformat": 4,
 "nbformat_minor": 4
}
